{
 "cells": [
  {
   "cell_type": "code",
   "execution_count": 145,
   "metadata": {
    "vscode": {
     "languageId": "r"
    }
   },
   "outputs": [
    {
     "name": "stderr",
     "output_type": "stream",
     "text": [
      "Warning message:\n",
      "\"package 'readr' is in use and will not be installed\"\n"
     ]
    }
   ],
   "source": [
    "install.packages(\"readr\")"
   ]
  },
  {
   "cell_type": "code",
   "execution_count": 146,
   "metadata": {
    "vscode": {
     "languageId": "r"
    }
   },
   "outputs": [],
   "source": [
    "library(tidyverse)\n",
    "library(lubridate)\n",
    "library(hms)\n",
    "library(readr)\n",
    "library(tidyr)\n",
    "library(dplyr)"
   ]
  },
  {
   "attachments": {},
   "cell_type": "markdown",
   "metadata": {},
   "source": [
    "## TASK 1"
   ]
  },
  {
   "attachments": {},
   "cell_type": "markdown",
   "metadata": {},
   "source": [
    "### Political Seats"
   ]
  },
  {
   "cell_type": "code",
   "execution_count": 147,
   "metadata": {
    "vscode": {
     "languageId": "r"
    }
   },
   "outputs": [
    {
     "name": "stderr",
     "output_type": "stream",
     "text": [
      "\u001b[1mRows: \u001b[22m\u001b[34m2619\u001b[39m \u001b[1mColumns: \u001b[22m\u001b[34m17\u001b[39m\n",
      "\u001b[36m──\u001b[39m \u001b[1mColumn specification\u001b[22m \u001b[36m────────────────────────────────────────────────────────\u001b[39m\n",
      "\u001b[1mDelimiter:\u001b[22m \",\"\n",
      "\u001b[31mchr\u001b[39m (15): region, party, 1973, 1976, 1979, 1982, 1985, 1988, 1991, 1994, 199...\n",
      "\u001b[32mdbl\u001b[39m  (2): 2018, 2022\n",
      "\n",
      "\u001b[36mℹ\u001b[39m Use `spec()` to retrieve the full column specification for this data.\n",
      "\u001b[36mℹ\u001b[39m Specify the column types or set `show_col_types = FALSE` to quiet this message.\n"
     ]
    },
    {
     "data": {
      "text/html": [
       "<table class=\"dataframe\">\n",
       "<caption>A tibble: 6 × 17</caption>\n",
       "<thead>\n",
       "\t<tr><th scope=col>region</th><th scope=col>party</th><th scope=col>1973</th><th scope=col>1976</th><th scope=col>1979</th><th scope=col>1982</th><th scope=col>1985</th><th scope=col>1988</th><th scope=col>1991</th><th scope=col>1994</th><th scope=col>1998</th><th scope=col>2002</th><th scope=col>2006</th><th scope=col>2010</th><th scope=col>2014</th><th scope=col>2018</th><th scope=col>2022</th></tr>\n",
       "\t<tr><th scope=col>&lt;chr&gt;</th><th scope=col>&lt;chr&gt;</th><th scope=col>&lt;chr&gt;</th><th scope=col>&lt;chr&gt;</th><th scope=col>&lt;chr&gt;</th><th scope=col>&lt;chr&gt;</th><th scope=col>&lt;chr&gt;</th><th scope=col>&lt;chr&gt;</th><th scope=col>&lt;chr&gt;</th><th scope=col>&lt;chr&gt;</th><th scope=col>&lt;chr&gt;</th><th scope=col>&lt;chr&gt;</th><th scope=col>&lt;chr&gt;</th><th scope=col>&lt;chr&gt;</th><th scope=col>&lt;chr&gt;</th><th scope=col>&lt;dbl&gt;</th><th scope=col>&lt;dbl&gt;</th></tr>\n",
       "</thead>\n",
       "<tbody>\n",
       "\t<tr><td>0114 Upplands Väsby</td><td>The Moderate Party            </td><td>6 </td><td>7 </td><td>10</td><td>13</td><td>13</td><td>12</td><td>15</td><td>14</td><td>16</td><td>11</td><td>17</td><td>17</td><td>13</td><td>12</td><td>11</td></tr>\n",
       "\t<tr><td>0114 Upplands Väsby</td><td>The Centre Party              </td><td>9 </td><td>7 </td><td>6 </td><td>4 </td><td>2 </td><td>2 </td><td>2 </td><td>2 </td><td>2 </td><td>2 </td><td>2 </td><td>2 </td><td>2 </td><td> 2</td><td> 2</td></tr>\n",
       "\t<tr><td>0114 Upplands Väsby</td><td>The Liberal Party             </td><td>4 </td><td>5 </td><td>5 </td><td>3 </td><td>6 </td><td>7 </td><td>6 </td><td>4 </td><td>4 </td><td>8 </td><td>6 </td><td>6 </td><td>4 </td><td> 3</td><td> 2</td></tr>\n",
       "\t<tr><td>0114 Upplands Väsby</td><td>The Christian Democratic Party</td><td>0 </td><td>0 </td><td>0 </td><td>1 </td><td>0 </td><td>0 </td><td>2 </td><td>1 </td><td>3 </td><td>3 </td><td>3 </td><td>2 </td><td>2 </td><td> 3</td><td> 2</td></tr>\n",
       "\t<tr><td>0114 Upplands Väsby</td><td>The Green Party               </td><td>..</td><td>..</td><td>..</td><td>1 </td><td>2 </td><td>4 </td><td>2 </td><td>3 </td><td>2 </td><td>2 </td><td>3 </td><td>5 </td><td>5 </td><td> 2</td><td> 2</td></tr>\n",
       "\t<tr><td>0114 Upplands Väsby</td><td>The Social Democratic Party   </td><td>19</td><td>19</td><td>23</td><td>24</td><td>23</td><td>23</td><td>18</td><td>24</td><td>18</td><td>20</td><td>16</td><td>15</td><td>16</td><td>13</td><td>14</td></tr>\n",
       "</tbody>\n",
       "</table>\n"
      ],
      "text/latex": [
       "A tibble: 6 × 17\n",
       "\\begin{tabular}{lllllllllllllllll}\n",
       " region & party & 1973 & 1976 & 1979 & 1982 & 1985 & 1988 & 1991 & 1994 & 1998 & 2002 & 2006 & 2010 & 2014 & 2018 & 2022\\\\\n",
       " <chr> & <chr> & <chr> & <chr> & <chr> & <chr> & <chr> & <chr> & <chr> & <chr> & <chr> & <chr> & <chr> & <chr> & <chr> & <dbl> & <dbl>\\\\\n",
       "\\hline\n",
       "\t 0114 Upplands Väsby & The Moderate Party             & 6  & 7  & 10 & 13 & 13 & 12 & 15 & 14 & 16 & 11 & 17 & 17 & 13 & 12 & 11\\\\\n",
       "\t 0114 Upplands Väsby & The Centre Party               & 9  & 7  & 6  & 4  & 2  & 2  & 2  & 2  & 2  & 2  & 2  & 2  & 2  &  2 &  2\\\\\n",
       "\t 0114 Upplands Väsby & The Liberal Party              & 4  & 5  & 5  & 3  & 6  & 7  & 6  & 4  & 4  & 8  & 6  & 6  & 4  &  3 &  2\\\\\n",
       "\t 0114 Upplands Väsby & The Christian Democratic Party & 0  & 0  & 0  & 1  & 0  & 0  & 2  & 1  & 3  & 3  & 3  & 2  & 2  &  3 &  2\\\\\n",
       "\t 0114 Upplands Väsby & The Green Party                & .. & .. & .. & 1  & 2  & 4  & 2  & 3  & 2  & 2  & 3  & 5  & 5  &  2 &  2\\\\\n",
       "\t 0114 Upplands Väsby & The Social Democratic Party    & 19 & 19 & 23 & 24 & 23 & 23 & 18 & 24 & 18 & 20 & 16 & 15 & 16 & 13 & 14\\\\\n",
       "\\end{tabular}\n"
      ],
      "text/markdown": [
       "\n",
       "A tibble: 6 × 17\n",
       "\n",
       "| region &lt;chr&gt; | party &lt;chr&gt; | 1973 &lt;chr&gt; | 1976 &lt;chr&gt; | 1979 &lt;chr&gt; | 1982 &lt;chr&gt; | 1985 &lt;chr&gt; | 1988 &lt;chr&gt; | 1991 &lt;chr&gt; | 1994 &lt;chr&gt; | 1998 &lt;chr&gt; | 2002 &lt;chr&gt; | 2006 &lt;chr&gt; | 2010 &lt;chr&gt; | 2014 &lt;chr&gt; | 2018 &lt;dbl&gt; | 2022 &lt;dbl&gt; |\n",
       "|---|---|---|---|---|---|---|---|---|---|---|---|---|---|---|---|---|\n",
       "| 0114 Upplands Väsby | The Moderate Party             | 6  | 7  | 10 | 13 | 13 | 12 | 15 | 14 | 16 | 11 | 17 | 17 | 13 | 12 | 11 |\n",
       "| 0114 Upplands Väsby | The Centre Party               | 9  | 7  | 6  | 4  | 2  | 2  | 2  | 2  | 2  | 2  | 2  | 2  | 2  |  2 |  2 |\n",
       "| 0114 Upplands Väsby | The Liberal Party              | 4  | 5  | 5  | 3  | 6  | 7  | 6  | 4  | 4  | 8  | 6  | 6  | 4  |  3 |  2 |\n",
       "| 0114 Upplands Väsby | The Christian Democratic Party | 0  | 0  | 0  | 1  | 0  | 0  | 2  | 1  | 3  | 3  | 3  | 2  | 2  |  3 |  2 |\n",
       "| 0114 Upplands Väsby | The Green Party                | .. | .. | .. | 1  | 2  | 4  | 2  | 3  | 2  | 2  | 3  | 5  | 5  |  2 |  2 |\n",
       "| 0114 Upplands Väsby | The Social Democratic Party    | 19 | 19 | 23 | 24 | 23 | 23 | 18 | 24 | 18 | 20 | 16 | 15 | 16 | 13 | 14 |\n",
       "\n"
      ],
      "text/plain": [
       "  region              party                          1973 1976 1979 1982 1985\n",
       "1 0114 Upplands Väsby The Moderate Party             6    7    10   13   13  \n",
       "2 0114 Upplands Väsby The Centre Party               9    7    6    4    2   \n",
       "3 0114 Upplands Väsby The Liberal Party              4    5    5    3    6   \n",
       "4 0114 Upplands Väsby The Christian Democratic Party 0    0    0    1    0   \n",
       "5 0114 Upplands Väsby The Green Party                ..   ..   ..   1    2   \n",
       "6 0114 Upplands Väsby The Social Democratic Party    19   19   23   24   23  \n",
       "  1988 1991 1994 1998 2002 2006 2010 2014 2018 2022\n",
       "1 12   15   14   16   11   17   17   13   12   11  \n",
       "2 2    2    2    2    2    2    2    2     2    2  \n",
       "3 7    6    4    4    8    6    6    4     3    2  \n",
       "4 0    2    1    3    3    3    2    2     3    2  \n",
       "5 4    2    3    2    2    3    5    5     2    2  \n",
       "6 23   18   24   18   20   16   15   16   13   14  "
      ]
     },
     "metadata": {},
     "output_type": "display_data"
    }
   ],
   "source": [
    "political_seats <- read_delim(\"../datasets/political_seats.csv\", delim = \",\", locale = locale(encoding = \"ISO-8859-1\"), skip = 2)\n",
    "head(political_seats)"
   ]
  },
  {
   "cell_type": "code",
   "execution_count": 148,
   "metadata": {
    "vscode": {
     "languageId": "r"
    }
   },
   "outputs": [
    {
     "name": "stdout",
     "output_type": "stream",
     "text": [
      "region  party   1973   1976   1979   1982   1985   1988   1991   1994   1998 \n",
      "     0      0    673    680    666    347    347     63     45     27     18 \n",
      "  2002   2006   2010   2014   2018   2022 \n",
      "     9      9      9      9      0      0 \n",
      "region  party   1973   1976   1979   1982   1985   1988   1991   1994   1998 \n",
      "     0      0      0      0      0      0      0      0      0      0      0 \n",
      "  2002   2006   2010   2014   2018   2022 \n",
      "     0      0      0      0      0      0 \n"
     ]
    },
    {
     "data": {
      "text/html": [
       "<table class=\"dataframe\">\n",
       "<caption>A tibble: 6 × 17</caption>\n",
       "<thead>\n",
       "\t<tr><th scope=col>region</th><th scope=col>party</th><th scope=col>1973</th><th scope=col>1976</th><th scope=col>1979</th><th scope=col>1982</th><th scope=col>1985</th><th scope=col>1988</th><th scope=col>1991</th><th scope=col>1994</th><th scope=col>1998</th><th scope=col>2002</th><th scope=col>2006</th><th scope=col>2010</th><th scope=col>2014</th><th scope=col>2018</th><th scope=col>2022</th></tr>\n",
       "\t<tr><th scope=col>&lt;chr&gt;</th><th scope=col>&lt;chr&gt;</th><th scope=col>&lt;chr&gt;</th><th scope=col>&lt;chr&gt;</th><th scope=col>&lt;chr&gt;</th><th scope=col>&lt;chr&gt;</th><th scope=col>&lt;chr&gt;</th><th scope=col>&lt;chr&gt;</th><th scope=col>&lt;chr&gt;</th><th scope=col>&lt;chr&gt;</th><th scope=col>&lt;chr&gt;</th><th scope=col>&lt;chr&gt;</th><th scope=col>&lt;chr&gt;</th><th scope=col>&lt;chr&gt;</th><th scope=col>&lt;chr&gt;</th><th scope=col>&lt;dbl&gt;</th><th scope=col>&lt;dbl&gt;</th></tr>\n",
       "</thead>\n",
       "<tbody>\n",
       "\t<tr><td>0114 Upplands Väsby</td><td>The Moderate Party            </td><td>6 </td><td>7 </td><td>10</td><td>13</td><td>13</td><td>12</td><td>15</td><td>14</td><td>16</td><td>11</td><td>17</td><td>17</td><td>13</td><td>12</td><td>11</td></tr>\n",
       "\t<tr><td>0114 Upplands Väsby</td><td>The Centre Party              </td><td>9 </td><td>7 </td><td>6 </td><td>4 </td><td>2 </td><td>2 </td><td>2 </td><td>2 </td><td>2 </td><td>2 </td><td>2 </td><td>2 </td><td>2 </td><td> 2</td><td> 2</td></tr>\n",
       "\t<tr><td>0114 Upplands Väsby</td><td>The Liberal Party             </td><td>4 </td><td>5 </td><td>5 </td><td>3 </td><td>6 </td><td>7 </td><td>6 </td><td>4 </td><td>4 </td><td>8 </td><td>6 </td><td>6 </td><td>4 </td><td> 3</td><td> 2</td></tr>\n",
       "\t<tr><td>0114 Upplands Väsby</td><td>The Christian Democratic Party</td><td>0 </td><td>0 </td><td>0 </td><td>1 </td><td>0 </td><td>0 </td><td>2 </td><td>1 </td><td>3 </td><td>3 </td><td>3 </td><td>2 </td><td>2 </td><td> 3</td><td> 2</td></tr>\n",
       "\t<tr><td>0114 Upplands Väsby</td><td>The Green Party               </td><td>0 </td><td>0 </td><td>0 </td><td>1 </td><td>2 </td><td>4 </td><td>2 </td><td>3 </td><td>2 </td><td>2 </td><td>3 </td><td>5 </td><td>5 </td><td> 2</td><td> 2</td></tr>\n",
       "\t<tr><td>0114 Upplands Väsby</td><td>The Social Democratic Party   </td><td>19</td><td>19</td><td>23</td><td>24</td><td>23</td><td>23</td><td>18</td><td>24</td><td>18</td><td>20</td><td>16</td><td>15</td><td>16</td><td>13</td><td>14</td></tr>\n",
       "</tbody>\n",
       "</table>\n"
      ],
      "text/latex": [
       "A tibble: 6 × 17\n",
       "\\begin{tabular}{lllllllllllllllll}\n",
       " region & party & 1973 & 1976 & 1979 & 1982 & 1985 & 1988 & 1991 & 1994 & 1998 & 2002 & 2006 & 2010 & 2014 & 2018 & 2022\\\\\n",
       " <chr> & <chr> & <chr> & <chr> & <chr> & <chr> & <chr> & <chr> & <chr> & <chr> & <chr> & <chr> & <chr> & <chr> & <chr> & <dbl> & <dbl>\\\\\n",
       "\\hline\n",
       "\t 0114 Upplands Väsby & The Moderate Party             & 6  & 7  & 10 & 13 & 13 & 12 & 15 & 14 & 16 & 11 & 17 & 17 & 13 & 12 & 11\\\\\n",
       "\t 0114 Upplands Väsby & The Centre Party               & 9  & 7  & 6  & 4  & 2  & 2  & 2  & 2  & 2  & 2  & 2  & 2  & 2  &  2 &  2\\\\\n",
       "\t 0114 Upplands Väsby & The Liberal Party              & 4  & 5  & 5  & 3  & 6  & 7  & 6  & 4  & 4  & 8  & 6  & 6  & 4  &  3 &  2\\\\\n",
       "\t 0114 Upplands Väsby & The Christian Democratic Party & 0  & 0  & 0  & 1  & 0  & 0  & 2  & 1  & 3  & 3  & 3  & 2  & 2  &  3 &  2\\\\\n",
       "\t 0114 Upplands Väsby & The Green Party                & 0  & 0  & 0  & 1  & 2  & 4  & 2  & 3  & 2  & 2  & 3  & 5  & 5  &  2 &  2\\\\\n",
       "\t 0114 Upplands Väsby & The Social Democratic Party    & 19 & 19 & 23 & 24 & 23 & 23 & 18 & 24 & 18 & 20 & 16 & 15 & 16 & 13 & 14\\\\\n",
       "\\end{tabular}\n"
      ],
      "text/markdown": [
       "\n",
       "A tibble: 6 × 17\n",
       "\n",
       "| region &lt;chr&gt; | party &lt;chr&gt; | 1973 &lt;chr&gt; | 1976 &lt;chr&gt; | 1979 &lt;chr&gt; | 1982 &lt;chr&gt; | 1985 &lt;chr&gt; | 1988 &lt;chr&gt; | 1991 &lt;chr&gt; | 1994 &lt;chr&gt; | 1998 &lt;chr&gt; | 2002 &lt;chr&gt; | 2006 &lt;chr&gt; | 2010 &lt;chr&gt; | 2014 &lt;chr&gt; | 2018 &lt;dbl&gt; | 2022 &lt;dbl&gt; |\n",
       "|---|---|---|---|---|---|---|---|---|---|---|---|---|---|---|---|---|\n",
       "| 0114 Upplands Väsby | The Moderate Party             | 6  | 7  | 10 | 13 | 13 | 12 | 15 | 14 | 16 | 11 | 17 | 17 | 13 | 12 | 11 |\n",
       "| 0114 Upplands Väsby | The Centre Party               | 9  | 7  | 6  | 4  | 2  | 2  | 2  | 2  | 2  | 2  | 2  | 2  | 2  |  2 |  2 |\n",
       "| 0114 Upplands Väsby | The Liberal Party              | 4  | 5  | 5  | 3  | 6  | 7  | 6  | 4  | 4  | 8  | 6  | 6  | 4  |  3 |  2 |\n",
       "| 0114 Upplands Väsby | The Christian Democratic Party | 0  | 0  | 0  | 1  | 0  | 0  | 2  | 1  | 3  | 3  | 3  | 2  | 2  |  3 |  2 |\n",
       "| 0114 Upplands Väsby | The Green Party                | 0  | 0  | 0  | 1  | 2  | 4  | 2  | 3  | 2  | 2  | 3  | 5  | 5  |  2 |  2 |\n",
       "| 0114 Upplands Väsby | The Social Democratic Party    | 19 | 19 | 23 | 24 | 23 | 23 | 18 | 24 | 18 | 20 | 16 | 15 | 16 | 13 | 14 |\n",
       "\n"
      ],
      "text/plain": [
       "  region              party                          1973 1976 1979 1982 1985\n",
       "1 0114 Upplands Väsby The Moderate Party             6    7    10   13   13  \n",
       "2 0114 Upplands Väsby The Centre Party               9    7    6    4    2   \n",
       "3 0114 Upplands Väsby The Liberal Party              4    5    5    3    6   \n",
       "4 0114 Upplands Väsby The Christian Democratic Party 0    0    0    1    0   \n",
       "5 0114 Upplands Väsby The Green Party                0    0    0    1    2   \n",
       "6 0114 Upplands Väsby The Social Democratic Party    19   19   23   24   23  \n",
       "  1988 1991 1994 1998 2002 2006 2010 2014 2018 2022\n",
       "1 12   15   14   16   11   17   17   13   12   11  \n",
       "2 2    2    2    2    2    2    2    2     2    2  \n",
       "3 7    6    4    4    8    6    6    4     3    2  \n",
       "4 0    2    1    3    3    3    2    2     3    2  \n",
       "5 4    2    3    2    2    3    5    5     2    2  \n",
       "6 23   18   24   18   20   16   15   16   13   14  "
      ]
     },
     "metadata": {},
     "output_type": "display_data"
    }
   ],
   "source": [
    "print(colSums(political_seats == \"..\"))\n",
    "\n",
    "political_seats[political_seats==\"..\"] <- \"0\"\n",
    "\n",
    "print(colSums(political_seats == \"..\"))\n",
    "head(political_seats)"
   ]
  },
  {
   "cell_type": "code",
   "execution_count": 149,
   "metadata": {
    "vscode": {
     "languageId": "r"
    }
   },
   "outputs": [],
   "source": [
    "political_seats <- type.convert(political_seats, as.is = T)"
   ]
  },
  {
   "cell_type": "code",
   "execution_count": 150,
   "metadata": {
    "vscode": {
     "languageId": "r"
    }
   },
   "outputs": [
    {
     "data": {
      "text/html": [
       "<table class=\"dataframe\">\n",
       "<caption>A tibble: 6 × 4</caption>\n",
       "<thead>\n",
       "\t<tr><th scope=col>region</th><th scope=col>party</th><th scope=col>year</th><th scope=col>value</th></tr>\n",
       "\t<tr><th scope=col>&lt;chr&gt;</th><th scope=col>&lt;chr&gt;</th><th scope=col>&lt;chr&gt;</th><th scope=col>&lt;int&gt;</th></tr>\n",
       "</thead>\n",
       "<tbody>\n",
       "\t<tr><td>0114 Upplands Väsby</td><td>The Moderate Party</td><td>1973</td><td> 6</td></tr>\n",
       "\t<tr><td>0114 Upplands Väsby</td><td>The Moderate Party</td><td>1976</td><td> 7</td></tr>\n",
       "\t<tr><td>0114 Upplands Väsby</td><td>The Moderate Party</td><td>1979</td><td>10</td></tr>\n",
       "\t<tr><td>0114 Upplands Väsby</td><td>The Moderate Party</td><td>1982</td><td>13</td></tr>\n",
       "\t<tr><td>0114 Upplands Väsby</td><td>The Moderate Party</td><td>1985</td><td>13</td></tr>\n",
       "\t<tr><td>0114 Upplands Väsby</td><td>The Moderate Party</td><td>1988</td><td>12</td></tr>\n",
       "</tbody>\n",
       "</table>\n"
      ],
      "text/latex": [
       "A tibble: 6 × 4\n",
       "\\begin{tabular}{llll}\n",
       " region & party & year & value\\\\\n",
       " <chr> & <chr> & <chr> & <int>\\\\\n",
       "\\hline\n",
       "\t 0114 Upplands Väsby & The Moderate Party & 1973 &  6\\\\\n",
       "\t 0114 Upplands Väsby & The Moderate Party & 1976 &  7\\\\\n",
       "\t 0114 Upplands Väsby & The Moderate Party & 1979 & 10\\\\\n",
       "\t 0114 Upplands Väsby & The Moderate Party & 1982 & 13\\\\\n",
       "\t 0114 Upplands Väsby & The Moderate Party & 1985 & 13\\\\\n",
       "\t 0114 Upplands Väsby & The Moderate Party & 1988 & 12\\\\\n",
       "\\end{tabular}\n"
      ],
      "text/markdown": [
       "\n",
       "A tibble: 6 × 4\n",
       "\n",
       "| region &lt;chr&gt; | party &lt;chr&gt; | year &lt;chr&gt; | value &lt;int&gt; |\n",
       "|---|---|---|---|\n",
       "| 0114 Upplands Väsby | The Moderate Party | 1973 |  6 |\n",
       "| 0114 Upplands Väsby | The Moderate Party | 1976 |  7 |\n",
       "| 0114 Upplands Väsby | The Moderate Party | 1979 | 10 |\n",
       "| 0114 Upplands Väsby | The Moderate Party | 1982 | 13 |\n",
       "| 0114 Upplands Väsby | The Moderate Party | 1985 | 13 |\n",
       "| 0114 Upplands Väsby | The Moderate Party | 1988 | 12 |\n",
       "\n"
      ],
      "text/plain": [
       "  region              party              year value\n",
       "1 0114 Upplands Väsby The Moderate Party 1973  6   \n",
       "2 0114 Upplands Väsby The Moderate Party 1976  7   \n",
       "3 0114 Upplands Väsby The Moderate Party 1979 10   \n",
       "4 0114 Upplands Väsby The Moderate Party 1982 13   \n",
       "5 0114 Upplands Väsby The Moderate Party 1985 13   \n",
       "6 0114 Upplands Väsby The Moderate Party 1988 12   "
      ]
     },
     "metadata": {},
     "output_type": "display_data"
    }
   ],
   "source": [
    "political_seats <- political_seats %>%\n",
    "    pivot_longer(\n",
    "        cols = -c(region, party),\n",
    "        names_to = \"year\",\n",
    "        values_to = \"value\"\n",
    "    )\n",
    "head(political_seats)"
   ]
  },
  {
   "cell_type": "code",
   "execution_count": 151,
   "metadata": {
    "vscode": {
     "languageId": "r"
    }
   },
   "outputs": [
    {
     "data": {
      "text/html": [
       "<table class=\"dataframe\">\n",
       "<caption>A tibble: 6 × 11</caption>\n",
       "<thead>\n",
       "\t<tr><th scope=col>region</th><th scope=col>year</th><th scope=col>The Moderate Party</th><th scope=col>The Centre Party</th><th scope=col>The Liberal Party</th><th scope=col>The Christian Democratic Party</th><th scope=col>The Green Party</th><th scope=col>The Social Democratic Party</th><th scope=col>The Left Party</th><th scope=col>The Sweden Democrats</th><th scope=col>Other Parties</th></tr>\n",
       "\t<tr><th scope=col>&lt;chr&gt;</th><th scope=col>&lt;chr&gt;</th><th scope=col>&lt;int&gt;</th><th scope=col>&lt;int&gt;</th><th scope=col>&lt;int&gt;</th><th scope=col>&lt;int&gt;</th><th scope=col>&lt;int&gt;</th><th scope=col>&lt;int&gt;</th><th scope=col>&lt;int&gt;</th><th scope=col>&lt;int&gt;</th><th scope=col>&lt;int&gt;</th></tr>\n",
       "</thead>\n",
       "<tbody>\n",
       "\t<tr><td>0114 Upplands Väsby</td><td>1973</td><td> 6</td><td>9</td><td>4</td><td>0</td><td>0</td><td>19</td><td>3</td><td>0</td><td>0</td></tr>\n",
       "\t<tr><td>0114 Upplands Väsby</td><td>1976</td><td> 7</td><td>7</td><td>5</td><td>0</td><td>0</td><td>19</td><td>3</td><td>0</td><td>0</td></tr>\n",
       "\t<tr><td>0114 Upplands Väsby</td><td>1979</td><td>10</td><td>6</td><td>5</td><td>0</td><td>0</td><td>23</td><td>4</td><td>0</td><td>1</td></tr>\n",
       "\t<tr><td>0114 Upplands Väsby</td><td>1982</td><td>13</td><td>4</td><td>3</td><td>1</td><td>1</td><td>24</td><td>3</td><td>0</td><td>0</td></tr>\n",
       "\t<tr><td>0114 Upplands Väsby</td><td>1985</td><td>13</td><td>2</td><td>6</td><td>0</td><td>2</td><td>23</td><td>3</td><td>0</td><td>0</td></tr>\n",
       "\t<tr><td>0114 Upplands Väsby</td><td>1988</td><td>12</td><td>2</td><td>7</td><td>0</td><td>4</td><td>23</td><td>3</td><td>0</td><td>0</td></tr>\n",
       "</tbody>\n",
       "</table>\n"
      ],
      "text/latex": [
       "A tibble: 6 × 11\n",
       "\\begin{tabular}{lllllllllll}\n",
       " region & year & The Moderate Party & The Centre Party & The Liberal Party & The Christian Democratic Party & The Green Party & The Social Democratic Party & The Left Party & The Sweden Democrats & Other Parties\\\\\n",
       " <chr> & <chr> & <int> & <int> & <int> & <int> & <int> & <int> & <int> & <int> & <int>\\\\\n",
       "\\hline\n",
       "\t 0114 Upplands Väsby & 1973 &  6 & 9 & 4 & 0 & 0 & 19 & 3 & 0 & 0\\\\\n",
       "\t 0114 Upplands Väsby & 1976 &  7 & 7 & 5 & 0 & 0 & 19 & 3 & 0 & 0\\\\\n",
       "\t 0114 Upplands Väsby & 1979 & 10 & 6 & 5 & 0 & 0 & 23 & 4 & 0 & 1\\\\\n",
       "\t 0114 Upplands Väsby & 1982 & 13 & 4 & 3 & 1 & 1 & 24 & 3 & 0 & 0\\\\\n",
       "\t 0114 Upplands Väsby & 1985 & 13 & 2 & 6 & 0 & 2 & 23 & 3 & 0 & 0\\\\\n",
       "\t 0114 Upplands Väsby & 1988 & 12 & 2 & 7 & 0 & 4 & 23 & 3 & 0 & 0\\\\\n",
       "\\end{tabular}\n"
      ],
      "text/markdown": [
       "\n",
       "A tibble: 6 × 11\n",
       "\n",
       "| region &lt;chr&gt; | year &lt;chr&gt; | The Moderate Party &lt;int&gt; | The Centre Party &lt;int&gt; | The Liberal Party &lt;int&gt; | The Christian Democratic Party &lt;int&gt; | The Green Party &lt;int&gt; | The Social Democratic Party &lt;int&gt; | The Left Party &lt;int&gt; | The Sweden Democrats &lt;int&gt; | Other Parties &lt;int&gt; |\n",
       "|---|---|---|---|---|---|---|---|---|---|---|\n",
       "| 0114 Upplands Väsby | 1973 |  6 | 9 | 4 | 0 | 0 | 19 | 3 | 0 | 0 |\n",
       "| 0114 Upplands Väsby | 1976 |  7 | 7 | 5 | 0 | 0 | 19 | 3 | 0 | 0 |\n",
       "| 0114 Upplands Väsby | 1979 | 10 | 6 | 5 | 0 | 0 | 23 | 4 | 0 | 1 |\n",
       "| 0114 Upplands Väsby | 1982 | 13 | 4 | 3 | 1 | 1 | 24 | 3 | 0 | 0 |\n",
       "| 0114 Upplands Väsby | 1985 | 13 | 2 | 6 | 0 | 2 | 23 | 3 | 0 | 0 |\n",
       "| 0114 Upplands Väsby | 1988 | 12 | 2 | 7 | 0 | 4 | 23 | 3 | 0 | 0 |\n",
       "\n"
      ],
      "text/plain": [
       "  region              year The Moderate Party The Centre Party\n",
       "1 0114 Upplands Väsby 1973  6                 9               \n",
       "2 0114 Upplands Väsby 1976  7                 7               \n",
       "3 0114 Upplands Väsby 1979 10                 6               \n",
       "4 0114 Upplands Väsby 1982 13                 4               \n",
       "5 0114 Upplands Väsby 1985 13                 2               \n",
       "6 0114 Upplands Väsby 1988 12                 2               \n",
       "  The Liberal Party The Christian Democratic Party The Green Party\n",
       "1 4                 0                              0              \n",
       "2 5                 0                              0              \n",
       "3 5                 0                              0              \n",
       "4 3                 1                              1              \n",
       "5 6                 0                              2              \n",
       "6 7                 0                              4              \n",
       "  The Social Democratic Party The Left Party The Sweden Democrats Other Parties\n",
       "1 19                          3              0                    0            \n",
       "2 19                          3              0                    0            \n",
       "3 23                          4              0                    1            \n",
       "4 24                          3              0                    0            \n",
       "5 23                          3              0                    0            \n",
       "6 23                          3              0                    0            "
      ]
     },
     "metadata": {},
     "output_type": "display_data"
    }
   ],
   "source": [
    "political_seats <- political_seats %>% \n",
    "    pivot_wider(\n",
    "        names_from = party,\n",
    "        values_from = value\n",
    "    )\n",
    "head(political_seats)"
   ]
  },
  {
   "attachments": {},
   "cell_type": "markdown",
   "metadata": {},
   "source": [
    "### Income Statements"
   ]
  }
 ],
 "metadata": {
  "kernelspec": {
   "display_name": "R",
   "language": "R",
   "name": "ir"
  },
  "language_info": {
   "codemirror_mode": "r",
   "file_extension": ".r",
   "mimetype": "text/x-r-source",
   "name": "R",
   "pygments_lexer": "r",
   "version": "4.2.2"
  },
  "orig_nbformat": 4
 },
 "nbformat": 4,
 "nbformat_minor": 2
}
