{
 "cells": [
  {
   "cell_type": "code",
   "execution_count": 230,
   "metadata": {
    "vscode": {
     "languageId": "r"
    }
   },
   "outputs": [
    {
     "name": "stderr",
     "output_type": "stream",
     "text": [
      "Warning message:\n",
      "\"package 'readr' is in use and will not be installed\"\n"
     ]
    }
   ],
   "source": [
    "install.packages(\"readr\")"
   ]
  },
  {
   "cell_type": "code",
   "execution_count": 231,
   "metadata": {
    "vscode": {
     "languageId": "r"
    }
   },
   "outputs": [],
   "source": [
    "library(tidyverse)\n",
    "library(lubridate)\n",
    "library(hms)\n",
    "library(readr)\n",
    "library(tidyr)\n",
    "library(dplyr)"
   ]
  },
  {
   "attachments": {},
   "cell_type": "markdown",
   "metadata": {},
   "source": [
    "## TASK 1"
   ]
  },
  {
   "attachments": {},
   "cell_type": "markdown",
   "metadata": {},
   "source": [
    "### Political Seats"
   ]
  },
  {
   "cell_type": "code",
   "execution_count": 232,
   "metadata": {
    "vscode": {
     "languageId": "r"
    }
   },
   "outputs": [
    {
     "name": "stderr",
     "output_type": "stream",
     "text": [
      "\u001b[1mRows: \u001b[22m\u001b[34m2619\u001b[39m \u001b[1mColumns: \u001b[22m\u001b[34m17\u001b[39m\n",
      "\u001b[36m──\u001b[39m \u001b[1mColumn specification\u001b[22m \u001b[36m────────────────────────────────────────────────────────\u001b[39m\n",
      "\u001b[1mDelimiter:\u001b[22m \",\"\n",
      "\u001b[31mchr\u001b[39m (15): region, party, 1973, 1976, 1979, 1982, 1985, 1988, 1991, 1994, 199...\n",
      "\u001b[32mdbl\u001b[39m  (2): 2018, 2022\n",
      "\n",
      "\u001b[36mℹ\u001b[39m Use `spec()` to retrieve the full column specification for this data.\n",
      "\u001b[36mℹ\u001b[39m Specify the column types or set `show_col_types = FALSE` to quiet this message.\n"
     ]
    },
    {
     "data": {
      "text/html": [
       "<table class=\"dataframe\">\n",
       "<caption>A tibble: 6 × 17</caption>\n",
       "<thead>\n",
       "\t<tr><th scope=col>region</th><th scope=col>party</th><th scope=col>1973</th><th scope=col>1976</th><th scope=col>1979</th><th scope=col>1982</th><th scope=col>1985</th><th scope=col>1988</th><th scope=col>1991</th><th scope=col>1994</th><th scope=col>1998</th><th scope=col>2002</th><th scope=col>2006</th><th scope=col>2010</th><th scope=col>2014</th><th scope=col>2018</th><th scope=col>2022</th></tr>\n",
       "\t<tr><th scope=col>&lt;chr&gt;</th><th scope=col>&lt;chr&gt;</th><th scope=col>&lt;chr&gt;</th><th scope=col>&lt;chr&gt;</th><th scope=col>&lt;chr&gt;</th><th scope=col>&lt;chr&gt;</th><th scope=col>&lt;chr&gt;</th><th scope=col>&lt;chr&gt;</th><th scope=col>&lt;chr&gt;</th><th scope=col>&lt;chr&gt;</th><th scope=col>&lt;chr&gt;</th><th scope=col>&lt;chr&gt;</th><th scope=col>&lt;chr&gt;</th><th scope=col>&lt;chr&gt;</th><th scope=col>&lt;chr&gt;</th><th scope=col>&lt;dbl&gt;</th><th scope=col>&lt;dbl&gt;</th></tr>\n",
       "</thead>\n",
       "<tbody>\n",
       "\t<tr><td>0114 Upplands Väsby</td><td>The Moderate Party            </td><td>6 </td><td>7 </td><td>10</td><td>13</td><td>13</td><td>12</td><td>15</td><td>14</td><td>16</td><td>11</td><td>17</td><td>17</td><td>13</td><td>12</td><td>11</td></tr>\n",
       "\t<tr><td>0114 Upplands Väsby</td><td>The Centre Party              </td><td>9 </td><td>7 </td><td>6 </td><td>4 </td><td>2 </td><td>2 </td><td>2 </td><td>2 </td><td>2 </td><td>2 </td><td>2 </td><td>2 </td><td>2 </td><td> 2</td><td> 2</td></tr>\n",
       "\t<tr><td>0114 Upplands Väsby</td><td>The Liberal Party             </td><td>4 </td><td>5 </td><td>5 </td><td>3 </td><td>6 </td><td>7 </td><td>6 </td><td>4 </td><td>4 </td><td>8 </td><td>6 </td><td>6 </td><td>4 </td><td> 3</td><td> 2</td></tr>\n",
       "\t<tr><td>0114 Upplands Väsby</td><td>The Christian Democratic Party</td><td>0 </td><td>0 </td><td>0 </td><td>1 </td><td>0 </td><td>0 </td><td>2 </td><td>1 </td><td>3 </td><td>3 </td><td>3 </td><td>2 </td><td>2 </td><td> 3</td><td> 2</td></tr>\n",
       "\t<tr><td>0114 Upplands Väsby</td><td>The Green Party               </td><td>..</td><td>..</td><td>..</td><td>1 </td><td>2 </td><td>4 </td><td>2 </td><td>3 </td><td>2 </td><td>2 </td><td>3 </td><td>5 </td><td>5 </td><td> 2</td><td> 2</td></tr>\n",
       "\t<tr><td>0114 Upplands Väsby</td><td>The Social Democratic Party   </td><td>19</td><td>19</td><td>23</td><td>24</td><td>23</td><td>23</td><td>18</td><td>24</td><td>18</td><td>20</td><td>16</td><td>15</td><td>16</td><td>13</td><td>14</td></tr>\n",
       "</tbody>\n",
       "</table>\n"
      ],
      "text/latex": [
       "A tibble: 6 × 17\n",
       "\\begin{tabular}{lllllllllllllllll}\n",
       " region & party & 1973 & 1976 & 1979 & 1982 & 1985 & 1988 & 1991 & 1994 & 1998 & 2002 & 2006 & 2010 & 2014 & 2018 & 2022\\\\\n",
       " <chr> & <chr> & <chr> & <chr> & <chr> & <chr> & <chr> & <chr> & <chr> & <chr> & <chr> & <chr> & <chr> & <chr> & <chr> & <dbl> & <dbl>\\\\\n",
       "\\hline\n",
       "\t 0114 Upplands Väsby & The Moderate Party             & 6  & 7  & 10 & 13 & 13 & 12 & 15 & 14 & 16 & 11 & 17 & 17 & 13 & 12 & 11\\\\\n",
       "\t 0114 Upplands Väsby & The Centre Party               & 9  & 7  & 6  & 4  & 2  & 2  & 2  & 2  & 2  & 2  & 2  & 2  & 2  &  2 &  2\\\\\n",
       "\t 0114 Upplands Väsby & The Liberal Party              & 4  & 5  & 5  & 3  & 6  & 7  & 6  & 4  & 4  & 8  & 6  & 6  & 4  &  3 &  2\\\\\n",
       "\t 0114 Upplands Väsby & The Christian Democratic Party & 0  & 0  & 0  & 1  & 0  & 0  & 2  & 1  & 3  & 3  & 3  & 2  & 2  &  3 &  2\\\\\n",
       "\t 0114 Upplands Väsby & The Green Party                & .. & .. & .. & 1  & 2  & 4  & 2  & 3  & 2  & 2  & 3  & 5  & 5  &  2 &  2\\\\\n",
       "\t 0114 Upplands Väsby & The Social Democratic Party    & 19 & 19 & 23 & 24 & 23 & 23 & 18 & 24 & 18 & 20 & 16 & 15 & 16 & 13 & 14\\\\\n",
       "\\end{tabular}\n"
      ],
      "text/markdown": [
       "\n",
       "A tibble: 6 × 17\n",
       "\n",
       "| region &lt;chr&gt; | party &lt;chr&gt; | 1973 &lt;chr&gt; | 1976 &lt;chr&gt; | 1979 &lt;chr&gt; | 1982 &lt;chr&gt; | 1985 &lt;chr&gt; | 1988 &lt;chr&gt; | 1991 &lt;chr&gt; | 1994 &lt;chr&gt; | 1998 &lt;chr&gt; | 2002 &lt;chr&gt; | 2006 &lt;chr&gt; | 2010 &lt;chr&gt; | 2014 &lt;chr&gt; | 2018 &lt;dbl&gt; | 2022 &lt;dbl&gt; |\n",
       "|---|---|---|---|---|---|---|---|---|---|---|---|---|---|---|---|---|\n",
       "| 0114 Upplands Väsby | The Moderate Party             | 6  | 7  | 10 | 13 | 13 | 12 | 15 | 14 | 16 | 11 | 17 | 17 | 13 | 12 | 11 |\n",
       "| 0114 Upplands Väsby | The Centre Party               | 9  | 7  | 6  | 4  | 2  | 2  | 2  | 2  | 2  | 2  | 2  | 2  | 2  |  2 |  2 |\n",
       "| 0114 Upplands Väsby | The Liberal Party              | 4  | 5  | 5  | 3  | 6  | 7  | 6  | 4  | 4  | 8  | 6  | 6  | 4  |  3 |  2 |\n",
       "| 0114 Upplands Väsby | The Christian Democratic Party | 0  | 0  | 0  | 1  | 0  | 0  | 2  | 1  | 3  | 3  | 3  | 2  | 2  |  3 |  2 |\n",
       "| 0114 Upplands Väsby | The Green Party                | .. | .. | .. | 1  | 2  | 4  | 2  | 3  | 2  | 2  | 3  | 5  | 5  |  2 |  2 |\n",
       "| 0114 Upplands Väsby | The Social Democratic Party    | 19 | 19 | 23 | 24 | 23 | 23 | 18 | 24 | 18 | 20 | 16 | 15 | 16 | 13 | 14 |\n",
       "\n"
      ],
      "text/plain": [
       "  region              party                          1973 1976 1979 1982 1985\n",
       "1 0114 Upplands Väsby The Moderate Party             6    7    10   13   13  \n",
       "2 0114 Upplands Väsby The Centre Party               9    7    6    4    2   \n",
       "3 0114 Upplands Väsby The Liberal Party              4    5    5    3    6   \n",
       "4 0114 Upplands Väsby The Christian Democratic Party 0    0    0    1    0   \n",
       "5 0114 Upplands Väsby The Green Party                ..   ..   ..   1    2   \n",
       "6 0114 Upplands Väsby The Social Democratic Party    19   19   23   24   23  \n",
       "  1988 1991 1994 1998 2002 2006 2010 2014 2018 2022\n",
       "1 12   15   14   16   11   17   17   13   12   11  \n",
       "2 2    2    2    2    2    2    2    2     2    2  \n",
       "3 7    6    4    4    8    6    6    4     3    2  \n",
       "4 0    2    1    3    3    3    2    2     3    2  \n",
       "5 4    2    3    2    2    3    5    5     2    2  \n",
       "6 23   18   24   18   20   16   15   16   13   14  "
      ]
     },
     "metadata": {},
     "output_type": "display_data"
    }
   ],
   "source": [
    "political_seats <- read_delim(\"../datasets/political_seats.csv\", delim = \",\", locale = locale(encoding = \"ISO-8859-1\"), skip = 2)\n",
    "head(political_seats)"
   ]
  },
  {
   "cell_type": "code",
   "execution_count": 233,
   "metadata": {
    "vscode": {
     "languageId": "r"
    }
   },
   "outputs": [
    {
     "name": "stdout",
     "output_type": "stream",
     "text": [
      "region  party   1973   1976   1979   1982   1985   1988   1991   1994   1998 \n",
      "     0      0    673    680    666    347    347     63     45     27     18 \n",
      "  2002   2006   2010   2014   2018   2022 \n",
      "     9      9      9      9      0      0 \n",
      "region  party   1973   1976   1979   1982   1985   1988   1991   1994   1998 \n",
      "     0      0      0      0      0      0      0      0      0      0      0 \n",
      "  2002   2006   2010   2014   2018   2022 \n",
      "     0      0      0      0      0      0 \n"
     ]
    },
    {
     "data": {
      "text/html": [
       "<table class=\"dataframe\">\n",
       "<caption>A tibble: 6 × 17</caption>\n",
       "<thead>\n",
       "\t<tr><th scope=col>region</th><th scope=col>party</th><th scope=col>1973</th><th scope=col>1976</th><th scope=col>1979</th><th scope=col>1982</th><th scope=col>1985</th><th scope=col>1988</th><th scope=col>1991</th><th scope=col>1994</th><th scope=col>1998</th><th scope=col>2002</th><th scope=col>2006</th><th scope=col>2010</th><th scope=col>2014</th><th scope=col>2018</th><th scope=col>2022</th></tr>\n",
       "\t<tr><th scope=col>&lt;chr&gt;</th><th scope=col>&lt;chr&gt;</th><th scope=col>&lt;chr&gt;</th><th scope=col>&lt;chr&gt;</th><th scope=col>&lt;chr&gt;</th><th scope=col>&lt;chr&gt;</th><th scope=col>&lt;chr&gt;</th><th scope=col>&lt;chr&gt;</th><th scope=col>&lt;chr&gt;</th><th scope=col>&lt;chr&gt;</th><th scope=col>&lt;chr&gt;</th><th scope=col>&lt;chr&gt;</th><th scope=col>&lt;chr&gt;</th><th scope=col>&lt;chr&gt;</th><th scope=col>&lt;chr&gt;</th><th scope=col>&lt;dbl&gt;</th><th scope=col>&lt;dbl&gt;</th></tr>\n",
       "</thead>\n",
       "<tbody>\n",
       "\t<tr><td>0114 Upplands Väsby</td><td>The Moderate Party            </td><td>6 </td><td>7 </td><td>10</td><td>13</td><td>13</td><td>12</td><td>15</td><td>14</td><td>16</td><td>11</td><td>17</td><td>17</td><td>13</td><td>12</td><td>11</td></tr>\n",
       "\t<tr><td>0114 Upplands Väsby</td><td>The Centre Party              </td><td>9 </td><td>7 </td><td>6 </td><td>4 </td><td>2 </td><td>2 </td><td>2 </td><td>2 </td><td>2 </td><td>2 </td><td>2 </td><td>2 </td><td>2 </td><td> 2</td><td> 2</td></tr>\n",
       "\t<tr><td>0114 Upplands Väsby</td><td>The Liberal Party             </td><td>4 </td><td>5 </td><td>5 </td><td>3 </td><td>6 </td><td>7 </td><td>6 </td><td>4 </td><td>4 </td><td>8 </td><td>6 </td><td>6 </td><td>4 </td><td> 3</td><td> 2</td></tr>\n",
       "\t<tr><td>0114 Upplands Väsby</td><td>The Christian Democratic Party</td><td>0 </td><td>0 </td><td>0 </td><td>1 </td><td>0 </td><td>0 </td><td>2 </td><td>1 </td><td>3 </td><td>3 </td><td>3 </td><td>2 </td><td>2 </td><td> 3</td><td> 2</td></tr>\n",
       "\t<tr><td>0114 Upplands Väsby</td><td>The Green Party               </td><td>0 </td><td>0 </td><td>0 </td><td>1 </td><td>2 </td><td>4 </td><td>2 </td><td>3 </td><td>2 </td><td>2 </td><td>3 </td><td>5 </td><td>5 </td><td> 2</td><td> 2</td></tr>\n",
       "\t<tr><td>0114 Upplands Väsby</td><td>The Social Democratic Party   </td><td>19</td><td>19</td><td>23</td><td>24</td><td>23</td><td>23</td><td>18</td><td>24</td><td>18</td><td>20</td><td>16</td><td>15</td><td>16</td><td>13</td><td>14</td></tr>\n",
       "</tbody>\n",
       "</table>\n"
      ],
      "text/latex": [
       "A tibble: 6 × 17\n",
       "\\begin{tabular}{lllllllllllllllll}\n",
       " region & party & 1973 & 1976 & 1979 & 1982 & 1985 & 1988 & 1991 & 1994 & 1998 & 2002 & 2006 & 2010 & 2014 & 2018 & 2022\\\\\n",
       " <chr> & <chr> & <chr> & <chr> & <chr> & <chr> & <chr> & <chr> & <chr> & <chr> & <chr> & <chr> & <chr> & <chr> & <chr> & <dbl> & <dbl>\\\\\n",
       "\\hline\n",
       "\t 0114 Upplands Väsby & The Moderate Party             & 6  & 7  & 10 & 13 & 13 & 12 & 15 & 14 & 16 & 11 & 17 & 17 & 13 & 12 & 11\\\\\n",
       "\t 0114 Upplands Väsby & The Centre Party               & 9  & 7  & 6  & 4  & 2  & 2  & 2  & 2  & 2  & 2  & 2  & 2  & 2  &  2 &  2\\\\\n",
       "\t 0114 Upplands Väsby & The Liberal Party              & 4  & 5  & 5  & 3  & 6  & 7  & 6  & 4  & 4  & 8  & 6  & 6  & 4  &  3 &  2\\\\\n",
       "\t 0114 Upplands Väsby & The Christian Democratic Party & 0  & 0  & 0  & 1  & 0  & 0  & 2  & 1  & 3  & 3  & 3  & 2  & 2  &  3 &  2\\\\\n",
       "\t 0114 Upplands Väsby & The Green Party                & 0  & 0  & 0  & 1  & 2  & 4  & 2  & 3  & 2  & 2  & 3  & 5  & 5  &  2 &  2\\\\\n",
       "\t 0114 Upplands Väsby & The Social Democratic Party    & 19 & 19 & 23 & 24 & 23 & 23 & 18 & 24 & 18 & 20 & 16 & 15 & 16 & 13 & 14\\\\\n",
       "\\end{tabular}\n"
      ],
      "text/markdown": [
       "\n",
       "A tibble: 6 × 17\n",
       "\n",
       "| region &lt;chr&gt; | party &lt;chr&gt; | 1973 &lt;chr&gt; | 1976 &lt;chr&gt; | 1979 &lt;chr&gt; | 1982 &lt;chr&gt; | 1985 &lt;chr&gt; | 1988 &lt;chr&gt; | 1991 &lt;chr&gt; | 1994 &lt;chr&gt; | 1998 &lt;chr&gt; | 2002 &lt;chr&gt; | 2006 &lt;chr&gt; | 2010 &lt;chr&gt; | 2014 &lt;chr&gt; | 2018 &lt;dbl&gt; | 2022 &lt;dbl&gt; |\n",
       "|---|---|---|---|---|---|---|---|---|---|---|---|---|---|---|---|---|\n",
       "| 0114 Upplands Väsby | The Moderate Party             | 6  | 7  | 10 | 13 | 13 | 12 | 15 | 14 | 16 | 11 | 17 | 17 | 13 | 12 | 11 |\n",
       "| 0114 Upplands Väsby | The Centre Party               | 9  | 7  | 6  | 4  | 2  | 2  | 2  | 2  | 2  | 2  | 2  | 2  | 2  |  2 |  2 |\n",
       "| 0114 Upplands Väsby | The Liberal Party              | 4  | 5  | 5  | 3  | 6  | 7  | 6  | 4  | 4  | 8  | 6  | 6  | 4  |  3 |  2 |\n",
       "| 0114 Upplands Väsby | The Christian Democratic Party | 0  | 0  | 0  | 1  | 0  | 0  | 2  | 1  | 3  | 3  | 3  | 2  | 2  |  3 |  2 |\n",
       "| 0114 Upplands Väsby | The Green Party                | 0  | 0  | 0  | 1  | 2  | 4  | 2  | 3  | 2  | 2  | 3  | 5  | 5  |  2 |  2 |\n",
       "| 0114 Upplands Väsby | The Social Democratic Party    | 19 | 19 | 23 | 24 | 23 | 23 | 18 | 24 | 18 | 20 | 16 | 15 | 16 | 13 | 14 |\n",
       "\n"
      ],
      "text/plain": [
       "  region              party                          1973 1976 1979 1982 1985\n",
       "1 0114 Upplands Väsby The Moderate Party             6    7    10   13   13  \n",
       "2 0114 Upplands Väsby The Centre Party               9    7    6    4    2   \n",
       "3 0114 Upplands Väsby The Liberal Party              4    5    5    3    6   \n",
       "4 0114 Upplands Väsby The Christian Democratic Party 0    0    0    1    0   \n",
       "5 0114 Upplands Väsby The Green Party                0    0    0    1    2   \n",
       "6 0114 Upplands Väsby The Social Democratic Party    19   19   23   24   23  \n",
       "  1988 1991 1994 1998 2002 2006 2010 2014 2018 2022\n",
       "1 12   15   14   16   11   17   17   13   12   11  \n",
       "2 2    2    2    2    2    2    2    2     2    2  \n",
       "3 7    6    4    4    8    6    6    4     3    2  \n",
       "4 0    2    1    3    3    3    2    2     3    2  \n",
       "5 4    2    3    2    2    3    5    5     2    2  \n",
       "6 23   18   24   18   20   16   15   16   13   14  "
      ]
     },
     "metadata": {},
     "output_type": "display_data"
    }
   ],
   "source": [
    "print(colSums(political_seats == \"..\"))\n",
    "\n",
    "political_seats[political_seats==\"..\"] <- \"0\"\n",
    "\n",
    "print(colSums(political_seats == \"..\"))\n",
    "head(political_seats)"
   ]
  },
  {
   "cell_type": "code",
   "execution_count": 234,
   "metadata": {
    "vscode": {
     "languageId": "r"
    }
   },
   "outputs": [],
   "source": [
    "political_seats <- type.convert(political_seats, as.is = T)"
   ]
  },
  {
   "cell_type": "code",
   "execution_count": 235,
   "metadata": {
    "vscode": {
     "languageId": "r"
    }
   },
   "outputs": [
    {
     "data": {
      "text/html": [
       "<table class=\"dataframe\">\n",
       "<caption>A tibble: 6 × 4</caption>\n",
       "<thead>\n",
       "\t<tr><th scope=col>region</th><th scope=col>party</th><th scope=col>year</th><th scope=col>value</th></tr>\n",
       "\t<tr><th scope=col>&lt;chr&gt;</th><th scope=col>&lt;chr&gt;</th><th scope=col>&lt;chr&gt;</th><th scope=col>&lt;int&gt;</th></tr>\n",
       "</thead>\n",
       "<tbody>\n",
       "\t<tr><td>0114 Upplands Väsby</td><td>The Moderate Party</td><td>1973</td><td> 6</td></tr>\n",
       "\t<tr><td>0114 Upplands Väsby</td><td>The Moderate Party</td><td>1976</td><td> 7</td></tr>\n",
       "\t<tr><td>0114 Upplands Väsby</td><td>The Moderate Party</td><td>1979</td><td>10</td></tr>\n",
       "\t<tr><td>0114 Upplands Väsby</td><td>The Moderate Party</td><td>1982</td><td>13</td></tr>\n",
       "\t<tr><td>0114 Upplands Väsby</td><td>The Moderate Party</td><td>1985</td><td>13</td></tr>\n",
       "\t<tr><td>0114 Upplands Väsby</td><td>The Moderate Party</td><td>1988</td><td>12</td></tr>\n",
       "</tbody>\n",
       "</table>\n"
      ],
      "text/latex": [
       "A tibble: 6 × 4\n",
       "\\begin{tabular}{llll}\n",
       " region & party & year & value\\\\\n",
       " <chr> & <chr> & <chr> & <int>\\\\\n",
       "\\hline\n",
       "\t 0114 Upplands Väsby & The Moderate Party & 1973 &  6\\\\\n",
       "\t 0114 Upplands Väsby & The Moderate Party & 1976 &  7\\\\\n",
       "\t 0114 Upplands Väsby & The Moderate Party & 1979 & 10\\\\\n",
       "\t 0114 Upplands Väsby & The Moderate Party & 1982 & 13\\\\\n",
       "\t 0114 Upplands Väsby & The Moderate Party & 1985 & 13\\\\\n",
       "\t 0114 Upplands Väsby & The Moderate Party & 1988 & 12\\\\\n",
       "\\end{tabular}\n"
      ],
      "text/markdown": [
       "\n",
       "A tibble: 6 × 4\n",
       "\n",
       "| region &lt;chr&gt; | party &lt;chr&gt; | year &lt;chr&gt; | value &lt;int&gt; |\n",
       "|---|---|---|---|\n",
       "| 0114 Upplands Väsby | The Moderate Party | 1973 |  6 |\n",
       "| 0114 Upplands Väsby | The Moderate Party | 1976 |  7 |\n",
       "| 0114 Upplands Väsby | The Moderate Party | 1979 | 10 |\n",
       "| 0114 Upplands Väsby | The Moderate Party | 1982 | 13 |\n",
       "| 0114 Upplands Väsby | The Moderate Party | 1985 | 13 |\n",
       "| 0114 Upplands Väsby | The Moderate Party | 1988 | 12 |\n",
       "\n"
      ],
      "text/plain": [
       "  region              party              year value\n",
       "1 0114 Upplands Väsby The Moderate Party 1973  6   \n",
       "2 0114 Upplands Väsby The Moderate Party 1976  7   \n",
       "3 0114 Upplands Väsby The Moderate Party 1979 10   \n",
       "4 0114 Upplands Väsby The Moderate Party 1982 13   \n",
       "5 0114 Upplands Väsby The Moderate Party 1985 13   \n",
       "6 0114 Upplands Väsby The Moderate Party 1988 12   "
      ]
     },
     "metadata": {},
     "output_type": "display_data"
    }
   ],
   "source": [
    "political_seats <- political_seats %>%\n",
    "    pivot_longer(\n",
    "        cols = -c(region, party),\n",
    "        names_to = \"year\",\n",
    "        values_to = \"value\"\n",
    "    )\n",
    "head(political_seats)"
   ]
  },
  {
   "cell_type": "code",
   "execution_count": 236,
   "metadata": {
    "vscode": {
     "languageId": "r"
    }
   },
   "outputs": [
    {
     "data": {
      "text/html": [
       "<table class=\"dataframe\">\n",
       "<caption>A tibble: 6 × 11</caption>\n",
       "<thead>\n",
       "\t<tr><th scope=col>region</th><th scope=col>year</th><th scope=col>The Moderate Party</th><th scope=col>The Centre Party</th><th scope=col>The Liberal Party</th><th scope=col>The Christian Democratic Party</th><th scope=col>The Green Party</th><th scope=col>The Social Democratic Party</th><th scope=col>The Left Party</th><th scope=col>The Sweden Democrats</th><th scope=col>Other Parties</th></tr>\n",
       "\t<tr><th scope=col>&lt;chr&gt;</th><th scope=col>&lt;chr&gt;</th><th scope=col>&lt;int&gt;</th><th scope=col>&lt;int&gt;</th><th scope=col>&lt;int&gt;</th><th scope=col>&lt;int&gt;</th><th scope=col>&lt;int&gt;</th><th scope=col>&lt;int&gt;</th><th scope=col>&lt;int&gt;</th><th scope=col>&lt;int&gt;</th><th scope=col>&lt;int&gt;</th></tr>\n",
       "</thead>\n",
       "<tbody>\n",
       "\t<tr><td>0114 Upplands Väsby</td><td>1973</td><td> 6</td><td>9</td><td>4</td><td>0</td><td>0</td><td>19</td><td>3</td><td>0</td><td>0</td></tr>\n",
       "\t<tr><td>0114 Upplands Väsby</td><td>1976</td><td> 7</td><td>7</td><td>5</td><td>0</td><td>0</td><td>19</td><td>3</td><td>0</td><td>0</td></tr>\n",
       "\t<tr><td>0114 Upplands Väsby</td><td>1979</td><td>10</td><td>6</td><td>5</td><td>0</td><td>0</td><td>23</td><td>4</td><td>0</td><td>1</td></tr>\n",
       "\t<tr><td>0114 Upplands Väsby</td><td>1982</td><td>13</td><td>4</td><td>3</td><td>1</td><td>1</td><td>24</td><td>3</td><td>0</td><td>0</td></tr>\n",
       "\t<tr><td>0114 Upplands Väsby</td><td>1985</td><td>13</td><td>2</td><td>6</td><td>0</td><td>2</td><td>23</td><td>3</td><td>0</td><td>0</td></tr>\n",
       "\t<tr><td>0114 Upplands Väsby</td><td>1988</td><td>12</td><td>2</td><td>7</td><td>0</td><td>4</td><td>23</td><td>3</td><td>0</td><td>0</td></tr>\n",
       "</tbody>\n",
       "</table>\n"
      ],
      "text/latex": [
       "A tibble: 6 × 11\n",
       "\\begin{tabular}{lllllllllll}\n",
       " region & year & The Moderate Party & The Centre Party & The Liberal Party & The Christian Democratic Party & The Green Party & The Social Democratic Party & The Left Party & The Sweden Democrats & Other Parties\\\\\n",
       " <chr> & <chr> & <int> & <int> & <int> & <int> & <int> & <int> & <int> & <int> & <int>\\\\\n",
       "\\hline\n",
       "\t 0114 Upplands Väsby & 1973 &  6 & 9 & 4 & 0 & 0 & 19 & 3 & 0 & 0\\\\\n",
       "\t 0114 Upplands Väsby & 1976 &  7 & 7 & 5 & 0 & 0 & 19 & 3 & 0 & 0\\\\\n",
       "\t 0114 Upplands Väsby & 1979 & 10 & 6 & 5 & 0 & 0 & 23 & 4 & 0 & 1\\\\\n",
       "\t 0114 Upplands Väsby & 1982 & 13 & 4 & 3 & 1 & 1 & 24 & 3 & 0 & 0\\\\\n",
       "\t 0114 Upplands Väsby & 1985 & 13 & 2 & 6 & 0 & 2 & 23 & 3 & 0 & 0\\\\\n",
       "\t 0114 Upplands Väsby & 1988 & 12 & 2 & 7 & 0 & 4 & 23 & 3 & 0 & 0\\\\\n",
       "\\end{tabular}\n"
      ],
      "text/markdown": [
       "\n",
       "A tibble: 6 × 11\n",
       "\n",
       "| region &lt;chr&gt; | year &lt;chr&gt; | The Moderate Party &lt;int&gt; | The Centre Party &lt;int&gt; | The Liberal Party &lt;int&gt; | The Christian Democratic Party &lt;int&gt; | The Green Party &lt;int&gt; | The Social Democratic Party &lt;int&gt; | The Left Party &lt;int&gt; | The Sweden Democrats &lt;int&gt; | Other Parties &lt;int&gt; |\n",
       "|---|---|---|---|---|---|---|---|---|---|---|\n",
       "| 0114 Upplands Väsby | 1973 |  6 | 9 | 4 | 0 | 0 | 19 | 3 | 0 | 0 |\n",
       "| 0114 Upplands Väsby | 1976 |  7 | 7 | 5 | 0 | 0 | 19 | 3 | 0 | 0 |\n",
       "| 0114 Upplands Väsby | 1979 | 10 | 6 | 5 | 0 | 0 | 23 | 4 | 0 | 1 |\n",
       "| 0114 Upplands Väsby | 1982 | 13 | 4 | 3 | 1 | 1 | 24 | 3 | 0 | 0 |\n",
       "| 0114 Upplands Väsby | 1985 | 13 | 2 | 6 | 0 | 2 | 23 | 3 | 0 | 0 |\n",
       "| 0114 Upplands Väsby | 1988 | 12 | 2 | 7 | 0 | 4 | 23 | 3 | 0 | 0 |\n",
       "\n"
      ],
      "text/plain": [
       "  region              year The Moderate Party The Centre Party\n",
       "1 0114 Upplands Väsby 1973  6                 9               \n",
       "2 0114 Upplands Väsby 1976  7                 7               \n",
       "3 0114 Upplands Väsby 1979 10                 6               \n",
       "4 0114 Upplands Väsby 1982 13                 4               \n",
       "5 0114 Upplands Väsby 1985 13                 2               \n",
       "6 0114 Upplands Väsby 1988 12                 2               \n",
       "  The Liberal Party The Christian Democratic Party The Green Party\n",
       "1 4                 0                              0              \n",
       "2 5                 0                              0              \n",
       "3 5                 0                              0              \n",
       "4 3                 1                              1              \n",
       "5 6                 0                              2              \n",
       "6 7                 0                              4              \n",
       "  The Social Democratic Party The Left Party The Sweden Democrats Other Parties\n",
       "1 19                          3              0                    0            \n",
       "2 19                          3              0                    0            \n",
       "3 23                          4              0                    1            \n",
       "4 24                          3              0                    0            \n",
       "5 23                          3              0                    0            \n",
       "6 23                          3              0                    0            "
      ]
     },
     "metadata": {},
     "output_type": "display_data"
    }
   ],
   "source": [
    "political_seats <- political_seats %>% \n",
    "    pivot_wider(\n",
    "        names_from = party,\n",
    "        values_from = value\n",
    "    )\n",
    "head(political_seats)"
   ]
  },
  {
   "attachments": {},
   "cell_type": "markdown",
   "metadata": {},
   "source": [
    "### Income Statements"
   ]
  },
  {
   "cell_type": "code",
   "execution_count": 237,
   "metadata": {
    "vscode": {
     "languageId": "r"
    }
   },
   "outputs": [
    {
     "name": "stderr",
     "output_type": "stream",
     "text": [
      "Warning message:\n",
      "\"\u001b[1m\u001b[22mOne or more parsing issues, call `problems()` on your data frame for details,\n",
      "e.g.:\n",
      "  dat <- vroom(...)\n",
      "  problems(dat)\"\n",
      "\u001b[1mRows: \u001b[22m\u001b[34m2900\u001b[39m \u001b[1mColumns: \u001b[22m\u001b[34m27\u001b[39m\n",
      "\u001b[36m──\u001b[39m \u001b[1mColumn specification\u001b[22m \u001b[36m────────────────────────────────────────────────────────\u001b[39m\n",
      "\u001b[1mDelimiter:\u001b[22m \",\"\n",
      "\u001b[31mchr\u001b[39m  (7): region, Income statement, 1998, 1999, 2000, 2001, 2002\n",
      "\u001b[32mdbl\u001b[39m (20): 2003, 2004, 2005, 2006, 2007, 2008, 2009, 2010, 2011, 2012, 2013, ...\n",
      "\n",
      "\u001b[36mℹ\u001b[39m Use `spec()` to retrieve the full column specification for this data.\n",
      "\u001b[36mℹ\u001b[39m Specify the column types or set `show_col_types = FALSE` to quiet this message.\n"
     ]
    },
    {
     "data": {
      "text/html": [
       "<table class=\"dataframe\">\n",
       "<caption>A tibble: 6 × 26</caption>\n",
       "<thead>\n",
       "\t<tr><th scope=col>region</th><th scope=col>Income statement</th><th scope=col>1998</th><th scope=col>1999</th><th scope=col>2000</th><th scope=col>2001</th><th scope=col>2002</th><th scope=col>2003</th><th scope=col>2004</th><th scope=col>2005</th><th scope=col>⋯</th><th scope=col>2012</th><th scope=col>2013</th><th scope=col>2014</th><th scope=col>2015</th><th scope=col>2016</th><th scope=col>2017</th><th scope=col>2018</th><th scope=col>2019</th><th scope=col>2020</th><th scope=col>2021</th></tr>\n",
       "\t<tr><th scope=col>&lt;chr&gt;</th><th scope=col>&lt;chr&gt;</th><th scope=col>&lt;int&gt;</th><th scope=col>&lt;int&gt;</th><th scope=col>&lt;int&gt;</th><th scope=col>&lt;int&gt;</th><th scope=col>&lt;int&gt;</th><th scope=col>&lt;int&gt;</th><th scope=col>&lt;int&gt;</th><th scope=col>&lt;int&gt;</th><th scope=col>⋯</th><th scope=col>&lt;int&gt;</th><th scope=col>&lt;int&gt;</th><th scope=col>&lt;int&gt;</th><th scope=col>&lt;int&gt;</th><th scope=col>&lt;int&gt;</th><th scope=col>&lt;int&gt;</th><th scope=col>&lt;int&gt;</th><th scope=col>&lt;int&gt;</th><th scope=col>&lt;int&gt;</th><th scope=col>&lt;int&gt;</th></tr>\n",
       "</thead>\n",
       "<tbody>\n",
       "\t<tr><td>0114 Upplands Väsby</td><td>Total income for operations           </td><td>  313859</td><td>  320220</td><td>  336174</td><td>  336141</td><td>  323270</td><td>  326945</td><td>  338661</td><td>  294027</td><td>⋯</td><td>  471479</td><td>  535209</td><td>  456069</td><td>  481597</td><td>  583319</td><td>  679812</td><td>  647216</td><td>  761770</td><td>  821974</td><td>  695537</td></tr>\n",
       "\t<tr><td>0114 Upplands Väsby</td><td>Total costs for operations            </td><td>-1141598</td><td>-1203938</td><td>-1252714</td><td>-1350430</td><td>-1394331</td><td>-1425350</td><td>-1436221</td><td>-1482268</td><td>⋯</td><td>-2118627</td><td>-2151509</td><td>-2243467</td><td>-2334378</td><td>-2569542</td><td>-2763185</td><td>-2855518</td><td>-2991574</td><td>-3141144</td><td>-3196316</td></tr>\n",
       "\t<tr><td>0114 Upplands Väsby</td><td>Total net current costs               </td><td> -889629</td><td> -952527</td><td> -985316</td><td>-1087250</td><td>-1141651</td><td>-1173078</td><td>-1173210</td><td>-1262964</td><td>⋯</td><td>-1707148</td><td>-1727400</td><td>-1860350</td><td>-2030832</td><td>-2075700</td><td>-2192740</td><td>-2325264</td><td>-2362143</td><td>-2445112</td><td>-2628115</td></tr>\n",
       "\t<tr><td>0114 Upplands Väsby</td><td>Tax revenues                          </td><td>  897383</td><td>  949536</td><td> 1030710</td><td> 1114591</td><td> 1187046</td><td> 1261155</td><td> 1261098</td><td> 1261400</td><td>⋯</td><td> 1527012</td><td> 1591627</td><td> 1647867</td><td> 1754223</td><td> 1853785</td><td> 1944788</td><td> 1994208</td><td> 2076660</td><td> 2084321</td><td> 2235203</td></tr>\n",
       "\t<tr><td>0114 Upplands Väsby</td><td>General grants and equalisation grants</td><td>   45111</td><td>   45305</td><td>   20248</td><td>  -15154</td><td>  -44613</td><td>  -85979</td><td>  -78680</td><td>   11879</td><td>⋯</td><td>  219247</td><td>  234573</td><td>  250406</td><td>  227687</td><td>  256824</td><td>  326711</td><td>  342292</td><td>  378413</td><td>  570439</td><td>  571510</td></tr>\n",
       "\t<tr><td>0114 Upplands Väsby</td><td>Net profit/loss for operations        </td><td>       0</td><td>       0</td><td>       0</td><td>       0</td><td>       0</td><td>       0</td><td>       0</td><td>       0</td><td>⋯</td><td>       0</td><td>       0</td><td>       0</td><td>       0</td><td>       0</td><td>       0</td><td>       0</td><td>   92930</td><td>  209648</td><td>  178598</td></tr>\n",
       "</tbody>\n",
       "</table>\n"
      ],
      "text/latex": [
       "A tibble: 6 × 26\n",
       "\\begin{tabular}{lllllllllllllllllllll}\n",
       " region & Income statement & 1998 & 1999 & 2000 & 2001 & 2002 & 2003 & 2004 & 2005 & ⋯ & 2012 & 2013 & 2014 & 2015 & 2016 & 2017 & 2018 & 2019 & 2020 & 2021\\\\\n",
       " <chr> & <chr> & <int> & <int> & <int> & <int> & <int> & <int> & <int> & <int> & ⋯ & <int> & <int> & <int> & <int> & <int> & <int> & <int> & <int> & <int> & <int>\\\\\n",
       "\\hline\n",
       "\t 0114 Upplands Väsby & Total income for operations            &   313859 &   320220 &   336174 &   336141 &   323270 &   326945 &   338661 &   294027 & ⋯ &   471479 &   535209 &   456069 &   481597 &   583319 &   679812 &   647216 &   761770 &   821974 &   695537\\\\\n",
       "\t 0114 Upplands Väsby & Total costs for operations             & -1141598 & -1203938 & -1252714 & -1350430 & -1394331 & -1425350 & -1436221 & -1482268 & ⋯ & -2118627 & -2151509 & -2243467 & -2334378 & -2569542 & -2763185 & -2855518 & -2991574 & -3141144 & -3196316\\\\\n",
       "\t 0114 Upplands Väsby & Total net current costs                &  -889629 &  -952527 &  -985316 & -1087250 & -1141651 & -1173078 & -1173210 & -1262964 & ⋯ & -1707148 & -1727400 & -1860350 & -2030832 & -2075700 & -2192740 & -2325264 & -2362143 & -2445112 & -2628115\\\\\n",
       "\t 0114 Upplands Väsby & Tax revenues                           &   897383 &   949536 &  1030710 &  1114591 &  1187046 &  1261155 &  1261098 &  1261400 & ⋯ &  1527012 &  1591627 &  1647867 &  1754223 &  1853785 &  1944788 &  1994208 &  2076660 &  2084321 &  2235203\\\\\n",
       "\t 0114 Upplands Väsby & General grants and equalisation grants &    45111 &    45305 &    20248 &   -15154 &   -44613 &   -85979 &   -78680 &    11879 & ⋯ &   219247 &   234573 &   250406 &   227687 &   256824 &   326711 &   342292 &   378413 &   570439 &   571510\\\\\n",
       "\t 0114 Upplands Väsby & Net profit/loss for operations         &        0 &        0 &        0 &        0 &        0 &        0 &        0 &        0 & ⋯ &        0 &        0 &        0 &        0 &        0 &        0 &        0 &    92930 &   209648 &   178598\\\\\n",
       "\\end{tabular}\n"
      ],
      "text/markdown": [
       "\n",
       "A tibble: 6 × 26\n",
       "\n",
       "| region &lt;chr&gt; | Income statement &lt;chr&gt; | 1998 &lt;int&gt; | 1999 &lt;int&gt; | 2000 &lt;int&gt; | 2001 &lt;int&gt; | 2002 &lt;int&gt; | 2003 &lt;int&gt; | 2004 &lt;int&gt; | 2005 &lt;int&gt; | ⋯ ⋯ | 2012 &lt;int&gt; | 2013 &lt;int&gt; | 2014 &lt;int&gt; | 2015 &lt;int&gt; | 2016 &lt;int&gt; | 2017 &lt;int&gt; | 2018 &lt;int&gt; | 2019 &lt;int&gt; | 2020 &lt;int&gt; | 2021 &lt;int&gt; |\n",
       "|---|---|---|---|---|---|---|---|---|---|---|---|---|---|---|---|---|---|---|---|---|\n",
       "| 0114 Upplands Väsby | Total income for operations            |   313859 |   320220 |   336174 |   336141 |   323270 |   326945 |   338661 |   294027 | ⋯ |   471479 |   535209 |   456069 |   481597 |   583319 |   679812 |   647216 |   761770 |   821974 |   695537 |\n",
       "| 0114 Upplands Väsby | Total costs for operations             | -1141598 | -1203938 | -1252714 | -1350430 | -1394331 | -1425350 | -1436221 | -1482268 | ⋯ | -2118627 | -2151509 | -2243467 | -2334378 | -2569542 | -2763185 | -2855518 | -2991574 | -3141144 | -3196316 |\n",
       "| 0114 Upplands Väsby | Total net current costs                |  -889629 |  -952527 |  -985316 | -1087250 | -1141651 | -1173078 | -1173210 | -1262964 | ⋯ | -1707148 | -1727400 | -1860350 | -2030832 | -2075700 | -2192740 | -2325264 | -2362143 | -2445112 | -2628115 |\n",
       "| 0114 Upplands Väsby | Tax revenues                           |   897383 |   949536 |  1030710 |  1114591 |  1187046 |  1261155 |  1261098 |  1261400 | ⋯ |  1527012 |  1591627 |  1647867 |  1754223 |  1853785 |  1944788 |  1994208 |  2076660 |  2084321 |  2235203 |\n",
       "| 0114 Upplands Väsby | General grants and equalisation grants |    45111 |    45305 |    20248 |   -15154 |   -44613 |   -85979 |   -78680 |    11879 | ⋯ |   219247 |   234573 |   250406 |   227687 |   256824 |   326711 |   342292 |   378413 |   570439 |   571510 |\n",
       "| 0114 Upplands Väsby | Net profit/loss for operations         |        0 |        0 |        0 |        0 |        0 |        0 |        0 |        0 | ⋯ |        0 |        0 |        0 |        0 |        0 |        0 |        0 |    92930 |   209648 |   178598 |\n",
       "\n"
      ],
      "text/plain": [
       "  region              Income statement                       1998     1999    \n",
       "1 0114 Upplands Väsby Total income for operations              313859   320220\n",
       "2 0114 Upplands Väsby Total costs for operations             -1141598 -1203938\n",
       "3 0114 Upplands Väsby Total net current costs                 -889629  -952527\n",
       "4 0114 Upplands Väsby Tax revenues                             897383   949536\n",
       "5 0114 Upplands Väsby General grants and equalisation grants    45111    45305\n",
       "6 0114 Upplands Väsby Net profit/loss for operations                0        0\n",
       "  2000     2001     2002     2003     2004     2005     ⋯ 2012     2013    \n",
       "1   336174   336141   323270   326945   338661   294027 ⋯   471479   535209\n",
       "2 -1252714 -1350430 -1394331 -1425350 -1436221 -1482268 ⋯ -2118627 -2151509\n",
       "3  -985316 -1087250 -1141651 -1173078 -1173210 -1262964 ⋯ -1707148 -1727400\n",
       "4  1030710  1114591  1187046  1261155  1261098  1261400 ⋯  1527012  1591627\n",
       "5    20248   -15154   -44613   -85979   -78680    11879 ⋯   219247   234573\n",
       "6        0        0        0        0        0        0 ⋯        0        0\n",
       "  2014     2015     2016     2017     2018     2019     2020     2021    \n",
       "1   456069   481597   583319   679812   647216   761770   821974   695537\n",
       "2 -2243467 -2334378 -2569542 -2763185 -2855518 -2991574 -3141144 -3196316\n",
       "3 -1860350 -2030832 -2075700 -2192740 -2325264 -2362143 -2445112 -2628115\n",
       "4  1647867  1754223  1853785  1944788  1994208  2076660  2084321  2235203\n",
       "5   250406   227687   256824   326711   342292   378413   570439   571510\n",
       "6        0        0        0        0        0    92930   209648   178598"
      ]
     },
     "metadata": {},
     "output_type": "display_data"
    }
   ],
   "source": [
    "income <- read_delim(\"../datasets/income_statements.csv\", delim = \",\", locale = locale(encoding = \"ISO-8859-1\"), skip = 2)\n",
    "income <- income[ , !(names(income) %in% \"2022\")]\n",
    "income[income == \"..\"] <- \"0\"\n",
    "income[is.na(income)] <- 0\n",
    "income <- type.convert(income, as.is = T)\n",
    "head(income, show_col_types = FALSE)"
   ]
  },
  {
   "cell_type": "code",
   "execution_count": 238,
   "metadata": {
    "vscode": {
     "languageId": "r"
    }
   },
   "outputs": [
    {
     "data": {
      "text/html": [
       "<table class=\"dataframe\">\n",
       "<caption>A tibble: 69600 × 4</caption>\n",
       "<thead>\n",
       "\t<tr><th scope=col>region</th><th scope=col>Income statement</th><th scope=col>year</th><th scope=col>values</th></tr>\n",
       "\t<tr><th scope=col>&lt;chr&gt;</th><th scope=col>&lt;chr&gt;</th><th scope=col>&lt;chr&gt;</th><th scope=col>&lt;int&gt;</th></tr>\n",
       "</thead>\n",
       "<tbody>\n",
       "\t<tr><td>0114 Upplands Väsby</td><td>Total income for operations</td><td>1998</td><td>  313859</td></tr>\n",
       "\t<tr><td>0114 Upplands Väsby</td><td>Total income for operations</td><td>1999</td><td>  320220</td></tr>\n",
       "\t<tr><td>0114 Upplands Väsby</td><td>Total income for operations</td><td>2000</td><td>  336174</td></tr>\n",
       "\t<tr><td>0114 Upplands Väsby</td><td>Total income for operations</td><td>2001</td><td>  336141</td></tr>\n",
       "\t<tr><td>0114 Upplands Väsby</td><td>Total income for operations</td><td>2002</td><td>  323270</td></tr>\n",
       "\t<tr><td>0114 Upplands Väsby</td><td>Total income for operations</td><td>2003</td><td>  326945</td></tr>\n",
       "\t<tr><td>0114 Upplands Väsby</td><td>Total income for operations</td><td>2004</td><td>  338661</td></tr>\n",
       "\t<tr><td>0114 Upplands Väsby</td><td>Total income for operations</td><td>2005</td><td>  294027</td></tr>\n",
       "\t<tr><td>0114 Upplands Väsby</td><td>Total income for operations</td><td>2006</td><td>  316172</td></tr>\n",
       "\t<tr><td>0114 Upplands Väsby</td><td>Total income for operations</td><td>2007</td><td>  306945</td></tr>\n",
       "\t<tr><td>0114 Upplands Väsby</td><td>Total income for operations</td><td>2008</td><td>  361300</td></tr>\n",
       "\t<tr><td>0114 Upplands Väsby</td><td>Total income for operations</td><td>2009</td><td>  389718</td></tr>\n",
       "\t<tr><td>0114 Upplands Väsby</td><td>Total income for operations</td><td>2010</td><td>  416746</td></tr>\n",
       "\t<tr><td>0114 Upplands Väsby</td><td>Total income for operations</td><td>2011</td><td>  417300</td></tr>\n",
       "\t<tr><td>0114 Upplands Väsby</td><td>Total income for operations</td><td>2012</td><td>  471479</td></tr>\n",
       "\t<tr><td>0114 Upplands Väsby</td><td>Total income for operations</td><td>2013</td><td>  535209</td></tr>\n",
       "\t<tr><td>0114 Upplands Väsby</td><td>Total income for operations</td><td>2014</td><td>  456069</td></tr>\n",
       "\t<tr><td>0114 Upplands Väsby</td><td>Total income for operations</td><td>2015</td><td>  481597</td></tr>\n",
       "\t<tr><td>0114 Upplands Väsby</td><td>Total income for operations</td><td>2016</td><td>  583319</td></tr>\n",
       "\t<tr><td>0114 Upplands Väsby</td><td>Total income for operations</td><td>2017</td><td>  679812</td></tr>\n",
       "\t<tr><td>0114 Upplands Väsby</td><td>Total income for operations</td><td>2018</td><td>  647216</td></tr>\n",
       "\t<tr><td>0114 Upplands Väsby</td><td>Total income for operations</td><td>2019</td><td>  761770</td></tr>\n",
       "\t<tr><td>0114 Upplands Väsby</td><td>Total income for operations</td><td>2020</td><td>  821974</td></tr>\n",
       "\t<tr><td>0114 Upplands Väsby</td><td>Total income for operations</td><td>2021</td><td>  695537</td></tr>\n",
       "\t<tr><td>0114 Upplands Väsby</td><td>Total costs for operations </td><td>1998</td><td>-1141598</td></tr>\n",
       "\t<tr><td>0114 Upplands Väsby</td><td>Total costs for operations </td><td>1999</td><td>-1203938</td></tr>\n",
       "\t<tr><td>0114 Upplands Väsby</td><td>Total costs for operations </td><td>2000</td><td>-1252714</td></tr>\n",
       "\t<tr><td>0114 Upplands Väsby</td><td>Total costs for operations </td><td>2001</td><td>-1350430</td></tr>\n",
       "\t<tr><td>0114 Upplands Väsby</td><td>Total costs for operations </td><td>2002</td><td>-1394331</td></tr>\n",
       "\t<tr><td>0114 Upplands Väsby</td><td>Total costs for operations </td><td>2003</td><td>-1425350</td></tr>\n",
       "\t<tr><td>⋮</td><td>⋮</td><td>⋮</td><td>⋮</td></tr>\n",
       "\t<tr><td>2584 Kiruna</td><td>Net profit/loss after financial items</td><td>2016</td><td>    795</td></tr>\n",
       "\t<tr><td>2584 Kiruna</td><td>Net profit/loss after financial items</td><td>2017</td><td>  65444</td></tr>\n",
       "\t<tr><td>2584 Kiruna</td><td>Net profit/loss after financial items</td><td>2018</td><td> 612491</td></tr>\n",
       "\t<tr><td>2584 Kiruna</td><td>Net profit/loss after financial items</td><td>2019</td><td> 127898</td></tr>\n",
       "\t<tr><td>2584 Kiruna</td><td>Net profit/loss after financial items</td><td>2020</td><td> 287593</td></tr>\n",
       "\t<tr><td>2584 Kiruna</td><td>Net profit/loss after financial items</td><td>2021</td><td> 799074</td></tr>\n",
       "\t<tr><td>2584 Kiruna</td><td>Net profit/loss for the year         </td><td>1998</td><td> -16441</td></tr>\n",
       "\t<tr><td>2584 Kiruna</td><td>Net profit/loss for the year         </td><td>1999</td><td> -50404</td></tr>\n",
       "\t<tr><td>2584 Kiruna</td><td>Net profit/loss for the year         </td><td>2000</td><td>   4540</td></tr>\n",
       "\t<tr><td>2584 Kiruna</td><td>Net profit/loss for the year         </td><td>2001</td><td>  -6432</td></tr>\n",
       "\t<tr><td>2584 Kiruna</td><td>Net profit/loss for the year         </td><td>2002</td><td> -27135</td></tr>\n",
       "\t<tr><td>2584 Kiruna</td><td>Net profit/loss for the year         </td><td>2003</td><td> -10105</td></tr>\n",
       "\t<tr><td>2584 Kiruna</td><td>Net profit/loss for the year         </td><td>2004</td><td>  16197</td></tr>\n",
       "\t<tr><td>2584 Kiruna</td><td>Net profit/loss for the year         </td><td>2005</td><td>  36350</td></tr>\n",
       "\t<tr><td>2584 Kiruna</td><td>Net profit/loss for the year         </td><td>2006</td><td>  29137</td></tr>\n",
       "\t<tr><td>2584 Kiruna</td><td>Net profit/loss for the year         </td><td>2007</td><td>  34295</td></tr>\n",
       "\t<tr><td>2584 Kiruna</td><td>Net profit/loss for the year         </td><td>2008</td><td>    394</td></tr>\n",
       "\t<tr><td>2584 Kiruna</td><td>Net profit/loss for the year         </td><td>2009</td><td>  15620</td></tr>\n",
       "\t<tr><td>2584 Kiruna</td><td>Net profit/loss for the year         </td><td>2010</td><td>  24450</td></tr>\n",
       "\t<tr><td>2584 Kiruna</td><td>Net profit/loss for the year         </td><td>2011</td><td>  86760</td></tr>\n",
       "\t<tr><td>2584 Kiruna</td><td>Net profit/loss for the year         </td><td>2012</td><td>  13105</td></tr>\n",
       "\t<tr><td>2584 Kiruna</td><td>Net profit/loss for the year         </td><td>2013</td><td> -57874</td></tr>\n",
       "\t<tr><td>2584 Kiruna</td><td>Net profit/loss for the year         </td><td>2014</td><td> 341559</td></tr>\n",
       "\t<tr><td>2584 Kiruna</td><td>Net profit/loss for the year         </td><td>2015</td><td>2259704</td></tr>\n",
       "\t<tr><td>2584 Kiruna</td><td>Net profit/loss for the year         </td><td>2016</td><td>    795</td></tr>\n",
       "\t<tr><td>2584 Kiruna</td><td>Net profit/loss for the year         </td><td>2017</td><td>  65444</td></tr>\n",
       "\t<tr><td>2584 Kiruna</td><td>Net profit/loss for the year         </td><td>2018</td><td> 612491</td></tr>\n",
       "\t<tr><td>2584 Kiruna</td><td>Net profit/loss for the year         </td><td>2019</td><td> 127898</td></tr>\n",
       "\t<tr><td>2584 Kiruna</td><td>Net profit/loss for the year         </td><td>2020</td><td> 287593</td></tr>\n",
       "\t<tr><td>2584 Kiruna</td><td>Net profit/loss for the year         </td><td>2021</td><td> 799074</td></tr>\n",
       "</tbody>\n",
       "</table>\n"
      ],
      "text/latex": [
       "A tibble: 69600 × 4\n",
       "\\begin{tabular}{llll}\n",
       " region & Income statement & year & values\\\\\n",
       " <chr> & <chr> & <chr> & <int>\\\\\n",
       "\\hline\n",
       "\t 0114 Upplands Väsby & Total income for operations & 1998 &   313859\\\\\n",
       "\t 0114 Upplands Väsby & Total income for operations & 1999 &   320220\\\\\n",
       "\t 0114 Upplands Väsby & Total income for operations & 2000 &   336174\\\\\n",
       "\t 0114 Upplands Väsby & Total income for operations & 2001 &   336141\\\\\n",
       "\t 0114 Upplands Väsby & Total income for operations & 2002 &   323270\\\\\n",
       "\t 0114 Upplands Väsby & Total income for operations & 2003 &   326945\\\\\n",
       "\t 0114 Upplands Väsby & Total income for operations & 2004 &   338661\\\\\n",
       "\t 0114 Upplands Väsby & Total income for operations & 2005 &   294027\\\\\n",
       "\t 0114 Upplands Väsby & Total income for operations & 2006 &   316172\\\\\n",
       "\t 0114 Upplands Väsby & Total income for operations & 2007 &   306945\\\\\n",
       "\t 0114 Upplands Väsby & Total income for operations & 2008 &   361300\\\\\n",
       "\t 0114 Upplands Väsby & Total income for operations & 2009 &   389718\\\\\n",
       "\t 0114 Upplands Väsby & Total income for operations & 2010 &   416746\\\\\n",
       "\t 0114 Upplands Väsby & Total income for operations & 2011 &   417300\\\\\n",
       "\t 0114 Upplands Väsby & Total income for operations & 2012 &   471479\\\\\n",
       "\t 0114 Upplands Väsby & Total income for operations & 2013 &   535209\\\\\n",
       "\t 0114 Upplands Väsby & Total income for operations & 2014 &   456069\\\\\n",
       "\t 0114 Upplands Väsby & Total income for operations & 2015 &   481597\\\\\n",
       "\t 0114 Upplands Väsby & Total income for operations & 2016 &   583319\\\\\n",
       "\t 0114 Upplands Väsby & Total income for operations & 2017 &   679812\\\\\n",
       "\t 0114 Upplands Väsby & Total income for operations & 2018 &   647216\\\\\n",
       "\t 0114 Upplands Väsby & Total income for operations & 2019 &   761770\\\\\n",
       "\t 0114 Upplands Väsby & Total income for operations & 2020 &   821974\\\\\n",
       "\t 0114 Upplands Väsby & Total income for operations & 2021 &   695537\\\\\n",
       "\t 0114 Upplands Väsby & Total costs for operations  & 1998 & -1141598\\\\\n",
       "\t 0114 Upplands Väsby & Total costs for operations  & 1999 & -1203938\\\\\n",
       "\t 0114 Upplands Väsby & Total costs for operations  & 2000 & -1252714\\\\\n",
       "\t 0114 Upplands Väsby & Total costs for operations  & 2001 & -1350430\\\\\n",
       "\t 0114 Upplands Väsby & Total costs for operations  & 2002 & -1394331\\\\\n",
       "\t 0114 Upplands Väsby & Total costs for operations  & 2003 & -1425350\\\\\n",
       "\t ⋮ & ⋮ & ⋮ & ⋮\\\\\n",
       "\t 2584 Kiruna & Net profit/loss after financial items & 2016 &     795\\\\\n",
       "\t 2584 Kiruna & Net profit/loss after financial items & 2017 &   65444\\\\\n",
       "\t 2584 Kiruna & Net profit/loss after financial items & 2018 &  612491\\\\\n",
       "\t 2584 Kiruna & Net profit/loss after financial items & 2019 &  127898\\\\\n",
       "\t 2584 Kiruna & Net profit/loss after financial items & 2020 &  287593\\\\\n",
       "\t 2584 Kiruna & Net profit/loss after financial items & 2021 &  799074\\\\\n",
       "\t 2584 Kiruna & Net profit/loss for the year          & 1998 &  -16441\\\\\n",
       "\t 2584 Kiruna & Net profit/loss for the year          & 1999 &  -50404\\\\\n",
       "\t 2584 Kiruna & Net profit/loss for the year          & 2000 &    4540\\\\\n",
       "\t 2584 Kiruna & Net profit/loss for the year          & 2001 &   -6432\\\\\n",
       "\t 2584 Kiruna & Net profit/loss for the year          & 2002 &  -27135\\\\\n",
       "\t 2584 Kiruna & Net profit/loss for the year          & 2003 &  -10105\\\\\n",
       "\t 2584 Kiruna & Net profit/loss for the year          & 2004 &   16197\\\\\n",
       "\t 2584 Kiruna & Net profit/loss for the year          & 2005 &   36350\\\\\n",
       "\t 2584 Kiruna & Net profit/loss for the year          & 2006 &   29137\\\\\n",
       "\t 2584 Kiruna & Net profit/loss for the year          & 2007 &   34295\\\\\n",
       "\t 2584 Kiruna & Net profit/loss for the year          & 2008 &     394\\\\\n",
       "\t 2584 Kiruna & Net profit/loss for the year          & 2009 &   15620\\\\\n",
       "\t 2584 Kiruna & Net profit/loss for the year          & 2010 &   24450\\\\\n",
       "\t 2584 Kiruna & Net profit/loss for the year          & 2011 &   86760\\\\\n",
       "\t 2584 Kiruna & Net profit/loss for the year          & 2012 &   13105\\\\\n",
       "\t 2584 Kiruna & Net profit/loss for the year          & 2013 &  -57874\\\\\n",
       "\t 2584 Kiruna & Net profit/loss for the year          & 2014 &  341559\\\\\n",
       "\t 2584 Kiruna & Net profit/loss for the year          & 2015 & 2259704\\\\\n",
       "\t 2584 Kiruna & Net profit/loss for the year          & 2016 &     795\\\\\n",
       "\t 2584 Kiruna & Net profit/loss for the year          & 2017 &   65444\\\\\n",
       "\t 2584 Kiruna & Net profit/loss for the year          & 2018 &  612491\\\\\n",
       "\t 2584 Kiruna & Net profit/loss for the year          & 2019 &  127898\\\\\n",
       "\t 2584 Kiruna & Net profit/loss for the year          & 2020 &  287593\\\\\n",
       "\t 2584 Kiruna & Net profit/loss for the year          & 2021 &  799074\\\\\n",
       "\\end{tabular}\n"
      ],
      "text/markdown": [
       "\n",
       "A tibble: 69600 × 4\n",
       "\n",
       "| region &lt;chr&gt; | Income statement &lt;chr&gt; | year &lt;chr&gt; | values &lt;int&gt; |\n",
       "|---|---|---|---|\n",
       "| 0114 Upplands Väsby | Total income for operations | 1998 |   313859 |\n",
       "| 0114 Upplands Väsby | Total income for operations | 1999 |   320220 |\n",
       "| 0114 Upplands Väsby | Total income for operations | 2000 |   336174 |\n",
       "| 0114 Upplands Väsby | Total income for operations | 2001 |   336141 |\n",
       "| 0114 Upplands Väsby | Total income for operations | 2002 |   323270 |\n",
       "| 0114 Upplands Väsby | Total income for operations | 2003 |   326945 |\n",
       "| 0114 Upplands Väsby | Total income for operations | 2004 |   338661 |\n",
       "| 0114 Upplands Väsby | Total income for operations | 2005 |   294027 |\n",
       "| 0114 Upplands Väsby | Total income for operations | 2006 |   316172 |\n",
       "| 0114 Upplands Väsby | Total income for operations | 2007 |   306945 |\n",
       "| 0114 Upplands Väsby | Total income for operations | 2008 |   361300 |\n",
       "| 0114 Upplands Väsby | Total income for operations | 2009 |   389718 |\n",
       "| 0114 Upplands Väsby | Total income for operations | 2010 |   416746 |\n",
       "| 0114 Upplands Väsby | Total income for operations | 2011 |   417300 |\n",
       "| 0114 Upplands Väsby | Total income for operations | 2012 |   471479 |\n",
       "| 0114 Upplands Väsby | Total income for operations | 2013 |   535209 |\n",
       "| 0114 Upplands Väsby | Total income for operations | 2014 |   456069 |\n",
       "| 0114 Upplands Väsby | Total income for operations | 2015 |   481597 |\n",
       "| 0114 Upplands Väsby | Total income for operations | 2016 |   583319 |\n",
       "| 0114 Upplands Väsby | Total income for operations | 2017 |   679812 |\n",
       "| 0114 Upplands Väsby | Total income for operations | 2018 |   647216 |\n",
       "| 0114 Upplands Väsby | Total income for operations | 2019 |   761770 |\n",
       "| 0114 Upplands Väsby | Total income for operations | 2020 |   821974 |\n",
       "| 0114 Upplands Väsby | Total income for operations | 2021 |   695537 |\n",
       "| 0114 Upplands Väsby | Total costs for operations  | 1998 | -1141598 |\n",
       "| 0114 Upplands Väsby | Total costs for operations  | 1999 | -1203938 |\n",
       "| 0114 Upplands Väsby | Total costs for operations  | 2000 | -1252714 |\n",
       "| 0114 Upplands Väsby | Total costs for operations  | 2001 | -1350430 |\n",
       "| 0114 Upplands Väsby | Total costs for operations  | 2002 | -1394331 |\n",
       "| 0114 Upplands Väsby | Total costs for operations  | 2003 | -1425350 |\n",
       "| ⋮ | ⋮ | ⋮ | ⋮ |\n",
       "| 2584 Kiruna | Net profit/loss after financial items | 2016 |     795 |\n",
       "| 2584 Kiruna | Net profit/loss after financial items | 2017 |   65444 |\n",
       "| 2584 Kiruna | Net profit/loss after financial items | 2018 |  612491 |\n",
       "| 2584 Kiruna | Net profit/loss after financial items | 2019 |  127898 |\n",
       "| 2584 Kiruna | Net profit/loss after financial items | 2020 |  287593 |\n",
       "| 2584 Kiruna | Net profit/loss after financial items | 2021 |  799074 |\n",
       "| 2584 Kiruna | Net profit/loss for the year          | 1998 |  -16441 |\n",
       "| 2584 Kiruna | Net profit/loss for the year          | 1999 |  -50404 |\n",
       "| 2584 Kiruna | Net profit/loss for the year          | 2000 |    4540 |\n",
       "| 2584 Kiruna | Net profit/loss for the year          | 2001 |   -6432 |\n",
       "| 2584 Kiruna | Net profit/loss for the year          | 2002 |  -27135 |\n",
       "| 2584 Kiruna | Net profit/loss for the year          | 2003 |  -10105 |\n",
       "| 2584 Kiruna | Net profit/loss for the year          | 2004 |   16197 |\n",
       "| 2584 Kiruna | Net profit/loss for the year          | 2005 |   36350 |\n",
       "| 2584 Kiruna | Net profit/loss for the year          | 2006 |   29137 |\n",
       "| 2584 Kiruna | Net profit/loss for the year          | 2007 |   34295 |\n",
       "| 2584 Kiruna | Net profit/loss for the year          | 2008 |     394 |\n",
       "| 2584 Kiruna | Net profit/loss for the year          | 2009 |   15620 |\n",
       "| 2584 Kiruna | Net profit/loss for the year          | 2010 |   24450 |\n",
       "| 2584 Kiruna | Net profit/loss for the year          | 2011 |   86760 |\n",
       "| 2584 Kiruna | Net profit/loss for the year          | 2012 |   13105 |\n",
       "| 2584 Kiruna | Net profit/loss for the year          | 2013 |  -57874 |\n",
       "| 2584 Kiruna | Net profit/loss for the year          | 2014 |  341559 |\n",
       "| 2584 Kiruna | Net profit/loss for the year          | 2015 | 2259704 |\n",
       "| 2584 Kiruna | Net profit/loss for the year          | 2016 |     795 |\n",
       "| 2584 Kiruna | Net profit/loss for the year          | 2017 |   65444 |\n",
       "| 2584 Kiruna | Net profit/loss for the year          | 2018 |  612491 |\n",
       "| 2584 Kiruna | Net profit/loss for the year          | 2019 |  127898 |\n",
       "| 2584 Kiruna | Net profit/loss for the year          | 2020 |  287593 |\n",
       "| 2584 Kiruna | Net profit/loss for the year          | 2021 |  799074 |\n",
       "\n"
      ],
      "text/plain": [
       "      region              Income statement                      year values  \n",
       "1     0114 Upplands Väsby Total income for operations           1998   313859\n",
       "2     0114 Upplands Väsby Total income for operations           1999   320220\n",
       "3     0114 Upplands Väsby Total income for operations           2000   336174\n",
       "4     0114 Upplands Väsby Total income for operations           2001   336141\n",
       "5     0114 Upplands Väsby Total income for operations           2002   323270\n",
       "6     0114 Upplands Väsby Total income for operations           2003   326945\n",
       "7     0114 Upplands Väsby Total income for operations           2004   338661\n",
       "8     0114 Upplands Väsby Total income for operations           2005   294027\n",
       "9     0114 Upplands Väsby Total income for operations           2006   316172\n",
       "10    0114 Upplands Väsby Total income for operations           2007   306945\n",
       "11    0114 Upplands Väsby Total income for operations           2008   361300\n",
       "12    0114 Upplands Väsby Total income for operations           2009   389718\n",
       "13    0114 Upplands Väsby Total income for operations           2010   416746\n",
       "14    0114 Upplands Väsby Total income for operations           2011   417300\n",
       "15    0114 Upplands Väsby Total income for operations           2012   471479\n",
       "16    0114 Upplands Väsby Total income for operations           2013   535209\n",
       "17    0114 Upplands Väsby Total income for operations           2014   456069\n",
       "18    0114 Upplands Väsby Total income for operations           2015   481597\n",
       "19    0114 Upplands Väsby Total income for operations           2016   583319\n",
       "20    0114 Upplands Väsby Total income for operations           2017   679812\n",
       "21    0114 Upplands Väsby Total income for operations           2018   647216\n",
       "22    0114 Upplands Väsby Total income for operations           2019   761770\n",
       "23    0114 Upplands Väsby Total income for operations           2020   821974\n",
       "24    0114 Upplands Väsby Total income for operations           2021   695537\n",
       "25    0114 Upplands Väsby Total costs for operations            1998 -1141598\n",
       "26    0114 Upplands Väsby Total costs for operations            1999 -1203938\n",
       "27    0114 Upplands Väsby Total costs for operations            2000 -1252714\n",
       "28    0114 Upplands Väsby Total costs for operations            2001 -1350430\n",
       "29    0114 Upplands Väsby Total costs for operations            2002 -1394331\n",
       "30    0114 Upplands Väsby Total costs for operations            2003 -1425350\n",
       "⋮     ⋮                   ⋮                                     ⋮    ⋮       \n",
       "69571 2584 Kiruna         Net profit/loss after financial items 2016     795 \n",
       "69572 2584 Kiruna         Net profit/loss after financial items 2017   65444 \n",
       "69573 2584 Kiruna         Net profit/loss after financial items 2018  612491 \n",
       "69574 2584 Kiruna         Net profit/loss after financial items 2019  127898 \n",
       "69575 2584 Kiruna         Net profit/loss after financial items 2020  287593 \n",
       "69576 2584 Kiruna         Net profit/loss after financial items 2021  799074 \n",
       "69577 2584 Kiruna         Net profit/loss for the year          1998  -16441 \n",
       "69578 2584 Kiruna         Net profit/loss for the year          1999  -50404 \n",
       "69579 2584 Kiruna         Net profit/loss for the year          2000    4540 \n",
       "69580 2584 Kiruna         Net profit/loss for the year          2001   -6432 \n",
       "69581 2584 Kiruna         Net profit/loss for the year          2002  -27135 \n",
       "69582 2584 Kiruna         Net profit/loss for the year          2003  -10105 \n",
       "69583 2584 Kiruna         Net profit/loss for the year          2004   16197 \n",
       "69584 2584 Kiruna         Net profit/loss for the year          2005   36350 \n",
       "69585 2584 Kiruna         Net profit/loss for the year          2006   29137 \n",
       "69586 2584 Kiruna         Net profit/loss for the year          2007   34295 \n",
       "69587 2584 Kiruna         Net profit/loss for the year          2008     394 \n",
       "69588 2584 Kiruna         Net profit/loss for the year          2009   15620 \n",
       "69589 2584 Kiruna         Net profit/loss for the year          2010   24450 \n",
       "69590 2584 Kiruna         Net profit/loss for the year          2011   86760 \n",
       "69591 2584 Kiruna         Net profit/loss for the year          2012   13105 \n",
       "69592 2584 Kiruna         Net profit/loss for the year          2013  -57874 \n",
       "69593 2584 Kiruna         Net profit/loss for the year          2014  341559 \n",
       "69594 2584 Kiruna         Net profit/loss for the year          2015 2259704 \n",
       "69595 2584 Kiruna         Net profit/loss for the year          2016     795 \n",
       "69596 2584 Kiruna         Net profit/loss for the year          2017   65444 \n",
       "69597 2584 Kiruna         Net profit/loss for the year          2018  612491 \n",
       "69598 2584 Kiruna         Net profit/loss for the year          2019  127898 \n",
       "69599 2584 Kiruna         Net profit/loss for the year          2020  287593 \n",
       "69600 2584 Kiruna         Net profit/loss for the year          2021  799074 "
      ]
     },
     "metadata": {},
     "output_type": "display_data"
    }
   ],
   "source": [
    "income <- pivot_longer(income, cols= -c(\"region\", \"Income statement\"), names_to =\"year\", values_to=\"values\")\n",
    "income"
   ]
  },
  {
   "cell_type": "code",
   "execution_count": 239,
   "metadata": {
    "vscode": {
     "languageId": "r"
    }
   },
   "outputs": [
    {
     "data": {
      "text/html": [
       "<table class=\"dataframe\">\n",
       "<caption>A tibble: 6 × 4</caption>\n",
       "<thead>\n",
       "\t<tr><th scope=col>region</th><th scope=col>Income statement</th><th scope=col>year</th><th scope=col>values</th></tr>\n",
       "\t<tr><th scope=col>&lt;chr&gt;</th><th scope=col>&lt;chr&gt;</th><th scope=col>&lt;int&gt;</th><th scope=col>&lt;int&gt;</th></tr>\n",
       "</thead>\n",
       "<tbody>\n",
       "\t<tr><td>0114 Upplands Väsby</td><td>Total income for operations</td><td>1998</td><td>313859</td></tr>\n",
       "\t<tr><td>0114 Upplands Väsby</td><td>Total income for operations</td><td>1999</td><td>320220</td></tr>\n",
       "\t<tr><td>0114 Upplands Väsby</td><td>Total income for operations</td><td>2000</td><td>336174</td></tr>\n",
       "\t<tr><td>0114 Upplands Väsby</td><td>Total income for operations</td><td>2001</td><td>336141</td></tr>\n",
       "\t<tr><td>0114 Upplands Väsby</td><td>Total income for operations</td><td>2002</td><td>323270</td></tr>\n",
       "\t<tr><td>0114 Upplands Väsby</td><td>Total income for operations</td><td>2003</td><td>326945</td></tr>\n",
       "</tbody>\n",
       "</table>\n"
      ],
      "text/latex": [
       "A tibble: 6 × 4\n",
       "\\begin{tabular}{llll}\n",
       " region & Income statement & year & values\\\\\n",
       " <chr> & <chr> & <int> & <int>\\\\\n",
       "\\hline\n",
       "\t 0114 Upplands Väsby & Total income for operations & 1998 & 313859\\\\\n",
       "\t 0114 Upplands Väsby & Total income for operations & 1999 & 320220\\\\\n",
       "\t 0114 Upplands Väsby & Total income for operations & 2000 & 336174\\\\\n",
       "\t 0114 Upplands Väsby & Total income for operations & 2001 & 336141\\\\\n",
       "\t 0114 Upplands Väsby & Total income for operations & 2002 & 323270\\\\\n",
       "\t 0114 Upplands Väsby & Total income for operations & 2003 & 326945\\\\\n",
       "\\end{tabular}\n"
      ],
      "text/markdown": [
       "\n",
       "A tibble: 6 × 4\n",
       "\n",
       "| region &lt;chr&gt; | Income statement &lt;chr&gt; | year &lt;int&gt; | values &lt;int&gt; |\n",
       "|---|---|---|---|\n",
       "| 0114 Upplands Väsby | Total income for operations | 1998 | 313859 |\n",
       "| 0114 Upplands Väsby | Total income for operations | 1999 | 320220 |\n",
       "| 0114 Upplands Väsby | Total income for operations | 2000 | 336174 |\n",
       "| 0114 Upplands Väsby | Total income for operations | 2001 | 336141 |\n",
       "| 0114 Upplands Väsby | Total income for operations | 2002 | 323270 |\n",
       "| 0114 Upplands Väsby | Total income for operations | 2003 | 326945 |\n",
       "\n"
      ],
      "text/plain": [
       "  region              Income statement            year values\n",
       "1 0114 Upplands Väsby Total income for operations 1998 313859\n",
       "2 0114 Upplands Väsby Total income for operations 1999 320220\n",
       "3 0114 Upplands Väsby Total income for operations 2000 336174\n",
       "4 0114 Upplands Väsby Total income for operations 2001 336141\n",
       "5 0114 Upplands Väsby Total income for operations 2002 323270\n",
       "6 0114 Upplands Väsby Total income for operations 2003 326945"
      ]
     },
     "metadata": {},
     "output_type": "display_data"
    }
   ],
   "source": [
    "income <- type.convert(income, as.is = T)\n",
    "head(income)"
   ]
  },
  {
   "cell_type": "code",
   "execution_count": 240,
   "metadata": {
    "vscode": {
     "languageId": "r"
    }
   },
   "outputs": [
    {
     "name": "stderr",
     "output_type": "stream",
     "text": [
      "\u001b[1m\u001b[22m`summarise()` has grouped output by 'region', 'Income statement'. You can\n",
      "override using the `.groups` argument.\n"
     ]
    }
   ],
   "source": [
    "grouped_data <- income %>%\n",
    "  group_by(region, `Income statement`)\n",
    "\n",
    "# Calculate the mean value for each four-year interval within each group\n",
    "reduced_data <- grouped_data %>%\n",
    "  mutate(interval = floor((year - first(year))/4) * 4 + first(year)) %>%\n",
    "  group_by(region, `Income statement`, interval) %>%\n",
    "  summarise(year = first(year), value = mean(values))\n",
    "\n",
    "# Keep only the first year in each four-year interval\n",
    "income <- reduced_data %>%\n",
    "  group_by(region, `Income statement`) %>%\n",
    "  filter(interval == year) %>%\n",
    "  select(region, `Income statement`, year, value)"
   ]
  },
  {
   "cell_type": "code",
   "execution_count": 241,
   "metadata": {
    "vscode": {
     "languageId": "r"
    }
   },
   "outputs": [
    {
     "data": {
      "text/html": [
       "<table class=\"dataframe\">\n",
       "<caption>A grouped_df: 6 × 4</caption>\n",
       "<thead>\n",
       "\t<tr><th scope=col>region</th><th scope=col>Income statement</th><th scope=col>year</th><th scope=col>value</th></tr>\n",
       "\t<tr><th scope=col>&lt;chr&gt;</th><th scope=col>&lt;chr&gt;</th><th scope=col>&lt;int&gt;</th><th scope=col>&lt;dbl&gt;</th></tr>\n",
       "</thead>\n",
       "<tbody>\n",
       "\t<tr><td>0114 Upplands Väsby</td><td>Financial costs</td><td>1998</td><td>-24523.00</td></tr>\n",
       "\t<tr><td>0114 Upplands Väsby</td><td>Financial costs</td><td>2002</td><td> -2055.75</td></tr>\n",
       "\t<tr><td>0114 Upplands Väsby</td><td>Financial costs</td><td>2006</td><td>  -639.00</td></tr>\n",
       "\t<tr><td>0114 Upplands Väsby</td><td>Financial costs</td><td>2010</td><td>-24194.25</td></tr>\n",
       "\t<tr><td>0114 Upplands Väsby</td><td>Financial costs</td><td>2014</td><td>-14283.50</td></tr>\n",
       "\t<tr><td>0114 Upplands Väsby</td><td>Financial costs</td><td>2018</td><td>-20137.75</td></tr>\n",
       "</tbody>\n",
       "</table>\n"
      ],
      "text/latex": [
       "A grouped\\_df: 6 × 4\n",
       "\\begin{tabular}{llll}\n",
       " region & Income statement & year & value\\\\\n",
       " <chr> & <chr> & <int> & <dbl>\\\\\n",
       "\\hline\n",
       "\t 0114 Upplands Väsby & Financial costs & 1998 & -24523.00\\\\\n",
       "\t 0114 Upplands Väsby & Financial costs & 2002 &  -2055.75\\\\\n",
       "\t 0114 Upplands Väsby & Financial costs & 2006 &   -639.00\\\\\n",
       "\t 0114 Upplands Väsby & Financial costs & 2010 & -24194.25\\\\\n",
       "\t 0114 Upplands Väsby & Financial costs & 2014 & -14283.50\\\\\n",
       "\t 0114 Upplands Väsby & Financial costs & 2018 & -20137.75\\\\\n",
       "\\end{tabular}\n"
      ],
      "text/markdown": [
       "\n",
       "A grouped_df: 6 × 4\n",
       "\n",
       "| region &lt;chr&gt; | Income statement &lt;chr&gt; | year &lt;int&gt; | value &lt;dbl&gt; |\n",
       "|---|---|---|---|\n",
       "| 0114 Upplands Väsby | Financial costs | 1998 | -24523.00 |\n",
       "| 0114 Upplands Väsby | Financial costs | 2002 |  -2055.75 |\n",
       "| 0114 Upplands Väsby | Financial costs | 2006 |   -639.00 |\n",
       "| 0114 Upplands Väsby | Financial costs | 2010 | -24194.25 |\n",
       "| 0114 Upplands Väsby | Financial costs | 2014 | -14283.50 |\n",
       "| 0114 Upplands Väsby | Financial costs | 2018 | -20137.75 |\n",
       "\n"
      ],
      "text/plain": [
       "  region              Income statement year value    \n",
       "1 0114 Upplands Väsby Financial costs  1998 -24523.00\n",
       "2 0114 Upplands Väsby Financial costs  2002  -2055.75\n",
       "3 0114 Upplands Väsby Financial costs  2006   -639.00\n",
       "4 0114 Upplands Väsby Financial costs  2010 -24194.25\n",
       "5 0114 Upplands Väsby Financial costs  2014 -14283.50\n",
       "6 0114 Upplands Väsby Financial costs  2018 -20137.75"
      ]
     },
     "metadata": {},
     "output_type": "display_data"
    }
   ],
   "source": [
    "head(income)"
   ]
  },
  {
   "cell_type": "code",
   "execution_count": 242,
   "metadata": {
    "vscode": {
     "languageId": "r"
    }
   },
   "outputs": [
    {
     "data": {
      "text/html": [
       "<table class=\"dataframe\">\n",
       "<caption>A grouped_df: 6 × 12</caption>\n",
       "<thead>\n",
       "\t<tr><th scope=col>region</th><th scope=col>year</th><th scope=col>Financial costs</th><th scope=col>Financial income</th><th scope=col>General grants and equalisation grants</th><th scope=col>Net profit/loss after financial items</th><th scope=col>Net profit/loss for operations</th><th scope=col>Net profit/loss for the year</th><th scope=col>Tax revenues</th><th scope=col>Total costs for operations</th><th scope=col>Total income for operations</th><th scope=col>Total net current costs</th></tr>\n",
       "\t<tr><th scope=col>&lt;chr&gt;</th><th scope=col>&lt;int&gt;</th><th scope=col>&lt;dbl&gt;</th><th scope=col>&lt;dbl&gt;</th><th scope=col>&lt;dbl&gt;</th><th scope=col>&lt;dbl&gt;</th><th scope=col>&lt;dbl&gt;</th><th scope=col>&lt;dbl&gt;</th><th scope=col>&lt;dbl&gt;</th><th scope=col>&lt;dbl&gt;</th><th scope=col>&lt;dbl&gt;</th><th scope=col>&lt;dbl&gt;</th></tr>\n",
       "</thead>\n",
       "<tbody>\n",
       "\t<tr><td>0114 Upplands Väsby</td><td>1998</td><td>-24523.00</td><td>  9788.00</td><td> 23877.50</td><td> 27648.75</td><td>     0</td><td>110289.50</td><td> 998055</td><td>-1237170</td><td>326598.5</td><td> -978680.5</td></tr>\n",
       "\t<tr><td>0114 Upplands Väsby</td><td>2002</td><td> -2055.75</td><td>  3965.75</td><td>-49348.25</td><td>  6419.50</td><td>     0</td><td>  3419.50</td><td>1242675</td><td>-1434543</td><td>320725.8</td><td>-1187725.8</td></tr>\n",
       "\t<tr><td>0114 Upplands Väsby</td><td>2006</td><td>  -639.00</td><td>  7109.25</td><td> 79793.00</td><td> 29956.00</td><td>     0</td><td> 29956.00</td><td>1373671</td><td>-1697857</td><td>343533.8</td><td>-1426587.0</td></tr>\n",
       "\t<tr><td>0114 Upplands Väsby</td><td>2010</td><td>-24194.25</td><td>  9167.75</td><td>212560.75</td><td> 35653.25</td><td>     0</td><td> 35653.25</td><td>1506149</td><td>-2057643</td><td>460183.5</td><td>-1667388.0</td></tr>\n",
       "\t<tr><td>0114 Upplands Väsby</td><td>2014</td><td>-14283.50</td><td>196292.50</td><td>265407.00</td><td>207676.50</td><td>     0</td><td>207676.50</td><td>1800166</td><td>-2477643</td><td>550199.2</td><td>-2039905.5</td></tr>\n",
       "\t<tr><td>0114 Upplands Väsby</td><td>2018</td><td>-20137.75</td><td> 13044.25</td><td>465663.50</td><td>116009.25</td><td>120294</td><td>116009.25</td><td>2097598</td><td>-3046138</td><td>731624.2</td><td>-2440158.5</td></tr>\n",
       "</tbody>\n",
       "</table>\n"
      ],
      "text/latex": [
       "A grouped\\_df: 6 × 12\n",
       "\\begin{tabular}{llllllllllll}\n",
       " region & year & Financial costs & Financial income & General grants and equalisation grants & Net profit/loss after financial items & Net profit/loss for operations & Net profit/loss for the year & Tax revenues & Total costs for operations & Total income for operations & Total net current costs\\\\\n",
       " <chr> & <int> & <dbl> & <dbl> & <dbl> & <dbl> & <dbl> & <dbl> & <dbl> & <dbl> & <dbl> & <dbl>\\\\\n",
       "\\hline\n",
       "\t 0114 Upplands Väsby & 1998 & -24523.00 &   9788.00 &  23877.50 &  27648.75 &      0 & 110289.50 &  998055 & -1237170 & 326598.5 &  -978680.5\\\\\n",
       "\t 0114 Upplands Väsby & 2002 &  -2055.75 &   3965.75 & -49348.25 &   6419.50 &      0 &   3419.50 & 1242675 & -1434543 & 320725.8 & -1187725.8\\\\\n",
       "\t 0114 Upplands Väsby & 2006 &   -639.00 &   7109.25 &  79793.00 &  29956.00 &      0 &  29956.00 & 1373671 & -1697857 & 343533.8 & -1426587.0\\\\\n",
       "\t 0114 Upplands Väsby & 2010 & -24194.25 &   9167.75 & 212560.75 &  35653.25 &      0 &  35653.25 & 1506149 & -2057643 & 460183.5 & -1667388.0\\\\\n",
       "\t 0114 Upplands Väsby & 2014 & -14283.50 & 196292.50 & 265407.00 & 207676.50 &      0 & 207676.50 & 1800166 & -2477643 & 550199.2 & -2039905.5\\\\\n",
       "\t 0114 Upplands Väsby & 2018 & -20137.75 &  13044.25 & 465663.50 & 116009.25 & 120294 & 116009.25 & 2097598 & -3046138 & 731624.2 & -2440158.5\\\\\n",
       "\\end{tabular}\n"
      ],
      "text/markdown": [
       "\n",
       "A grouped_df: 6 × 12\n",
       "\n",
       "| region &lt;chr&gt; | year &lt;int&gt; | Financial costs &lt;dbl&gt; | Financial income &lt;dbl&gt; | General grants and equalisation grants &lt;dbl&gt; | Net profit/loss after financial items &lt;dbl&gt; | Net profit/loss for operations &lt;dbl&gt; | Net profit/loss for the year &lt;dbl&gt; | Tax revenues &lt;dbl&gt; | Total costs for operations &lt;dbl&gt; | Total income for operations &lt;dbl&gt; | Total net current costs &lt;dbl&gt; |\n",
       "|---|---|---|---|---|---|---|---|---|---|---|---|\n",
       "| 0114 Upplands Väsby | 1998 | -24523.00 |   9788.00 |  23877.50 |  27648.75 |      0 | 110289.50 |  998055 | -1237170 | 326598.5 |  -978680.5 |\n",
       "| 0114 Upplands Väsby | 2002 |  -2055.75 |   3965.75 | -49348.25 |   6419.50 |      0 |   3419.50 | 1242675 | -1434543 | 320725.8 | -1187725.8 |\n",
       "| 0114 Upplands Väsby | 2006 |   -639.00 |   7109.25 |  79793.00 |  29956.00 |      0 |  29956.00 | 1373671 | -1697857 | 343533.8 | -1426587.0 |\n",
       "| 0114 Upplands Väsby | 2010 | -24194.25 |   9167.75 | 212560.75 |  35653.25 |      0 |  35653.25 | 1506149 | -2057643 | 460183.5 | -1667388.0 |\n",
       "| 0114 Upplands Väsby | 2014 | -14283.50 | 196292.50 | 265407.00 | 207676.50 |      0 | 207676.50 | 1800166 | -2477643 | 550199.2 | -2039905.5 |\n",
       "| 0114 Upplands Väsby | 2018 | -20137.75 |  13044.25 | 465663.50 | 116009.25 | 120294 | 116009.25 | 2097598 | -3046138 | 731624.2 | -2440158.5 |\n",
       "\n"
      ],
      "text/plain": [
       "  region              year Financial costs Financial income\n",
       "1 0114 Upplands Väsby 1998 -24523.00         9788.00       \n",
       "2 0114 Upplands Väsby 2002  -2055.75         3965.75       \n",
       "3 0114 Upplands Väsby 2006   -639.00         7109.25       \n",
       "4 0114 Upplands Väsby 2010 -24194.25         9167.75       \n",
       "5 0114 Upplands Väsby 2014 -14283.50       196292.50       \n",
       "6 0114 Upplands Väsby 2018 -20137.75        13044.25       \n",
       "  General grants and equalisation grants Net profit/loss after financial items\n",
       "1  23877.50                               27648.75                            \n",
       "2 -49348.25                                6419.50                            \n",
       "3  79793.00                               29956.00                            \n",
       "4 212560.75                               35653.25                            \n",
       "5 265407.00                              207676.50                            \n",
       "6 465663.50                              116009.25                            \n",
       "  Net profit/loss for operations Net profit/loss for the year Tax revenues\n",
       "1      0                         110289.50                     998055     \n",
       "2      0                           3419.50                    1242675     \n",
       "3      0                          29956.00                    1373671     \n",
       "4      0                          35653.25                    1506149     \n",
       "5      0                         207676.50                    1800166     \n",
       "6 120294                         116009.25                    2097598     \n",
       "  Total costs for operations Total income for operations\n",
       "1 -1237170                   326598.5                   \n",
       "2 -1434543                   320725.8                   \n",
       "3 -1697857                   343533.8                   \n",
       "4 -2057643                   460183.5                   \n",
       "5 -2477643                   550199.2                   \n",
       "6 -3046138                   731624.2                   \n",
       "  Total net current costs\n",
       "1  -978680.5             \n",
       "2 -1187725.8             \n",
       "3 -1426587.0             \n",
       "4 -1667388.0             \n",
       "5 -2039905.5             \n",
       "6 -2440158.5             "
      ]
     },
     "metadata": {},
     "output_type": "display_data"
    }
   ],
   "source": [
    "income <- income %>% \n",
    "    pivot_wider(\n",
    "        names_from = `Income statement`,\n",
    "        values_from = value\n",
    "    )\n",
    "head(income)"
   ]
  },
  {
   "cell_type": "code",
   "execution_count": 243,
   "metadata": {
    "vscode": {
     "languageId": "r"
    }
   },
   "outputs": [
    {
     "data": {
      "text/html": [
       "<table class=\"dataframe\">\n",
       "<caption>A data.frame: 6 × 21</caption>\n",
       "<thead>\n",
       "\t<tr><th></th><th scope=col>year</th><th scope=col>region</th><th scope=col>The Moderate Party</th><th scope=col>The Centre Party</th><th scope=col>The Liberal Party</th><th scope=col>The Christian Democratic Party</th><th scope=col>The Green Party</th><th scope=col>The Social Democratic Party</th><th scope=col>The Left Party</th><th scope=col>The Sweden Democrats</th><th scope=col>⋯</th><th scope=col>Financial costs</th><th scope=col>Financial income</th><th scope=col>General grants and equalisation grants</th><th scope=col>Net profit/loss after financial items</th><th scope=col>Net profit/loss for operations</th><th scope=col>Net profit/loss for the year</th><th scope=col>Tax revenues</th><th scope=col>Total costs for operations</th><th scope=col>Total income for operations</th><th scope=col>Total net current costs</th></tr>\n",
       "\t<tr><th></th><th scope=col>&lt;chr&gt;</th><th scope=col>&lt;chr&gt;</th><th scope=col>&lt;int&gt;</th><th scope=col>&lt;int&gt;</th><th scope=col>&lt;int&gt;</th><th scope=col>&lt;int&gt;</th><th scope=col>&lt;int&gt;</th><th scope=col>&lt;int&gt;</th><th scope=col>&lt;int&gt;</th><th scope=col>&lt;int&gt;</th><th scope=col>⋯</th><th scope=col>&lt;dbl&gt;</th><th scope=col>&lt;dbl&gt;</th><th scope=col>&lt;dbl&gt;</th><th scope=col>&lt;dbl&gt;</th><th scope=col>&lt;dbl&gt;</th><th scope=col>&lt;dbl&gt;</th><th scope=col>&lt;dbl&gt;</th><th scope=col>&lt;dbl&gt;</th><th scope=col>&lt;dbl&gt;</th><th scope=col>&lt;dbl&gt;</th></tr>\n",
       "</thead>\n",
       "<tbody>\n",
       "\t<tr><th scope=row>1</th><td>1998</td><td>0114 Upplands Väsby</td><td>16</td><td>2</td><td>4</td><td>3</td><td>2</td><td>18</td><td>5</td><td>0</td><td>⋯</td><td>-24523.00</td><td> 9788.00</td><td> 23877.50</td><td> 27648.75</td><td>0</td><td>110289.50</td><td> 998055.0</td><td>-1237170.0</td><td>326598.5</td><td> -978680.5</td></tr>\n",
       "\t<tr><th scope=row>2</th><td>1998</td><td>0115 Vallentuna    </td><td>16</td><td>4</td><td>2</td><td>4</td><td>2</td><td> 9</td><td>3</td><td>0</td><td>⋯</td><td> -3282.00</td><td> 3927.00</td><td> 57182.00</td><td>  -475.75</td><td>0</td><td> 16640.25</td><td> 576253.5</td><td> -755892.5</td><td>169653.8</td><td> -633760.0</td></tr>\n",
       "\t<tr><th scope=row>3</th><td>1998</td><td>0117 Österåker     </td><td>20</td><td>2</td><td>3</td><td>4</td><td>2</td><td>15</td><td>3</td><td>0</td><td>⋯</td><td> -9833.00</td><td> 2517.00</td><td>  5019.25</td><td>-12078.50</td><td>0</td><td>-12078.50</td><td> 905556.0</td><td>-1030488.8</td><td>151653.8</td><td> -913898.8</td></tr>\n",
       "\t<tr><th scope=row>4</th><td>1998</td><td>0120 Värmdö        </td><td>17</td><td>2</td><td>2</td><td>2</td><td>2</td><td>13</td><td>3</td><td>0</td><td>⋯</td><td> -3350.25</td><td>10293.00</td><td> 63439.00</td><td> -8109.50</td><td>0</td><td>-19606.00</td><td> 712872.5</td><td> -988970.0</td><td>233789.2</td><td> -790366.8</td></tr>\n",
       "\t<tr><th scope=row>5</th><td>1998</td><td>0123 Järfälla      </td><td>18</td><td>2</td><td>5</td><td>6</td><td>2</td><td>23</td><td>5</td><td>0</td><td>⋯</td><td>-25041.25</td><td>39573.75</td><td>-19922.50</td><td>  2210.75</td><td>0</td><td>  2210.75</td><td>1635131.8</td><td>-1937833.0</td><td>447106.8</td><td>-1625076.8</td></tr>\n",
       "\t<tr><th scope=row>6</th><td>1998</td><td>0125 Ekerö         </td><td>17</td><td>3</td><td>3</td><td>3</td><td>4</td><td> 9</td><td>2</td><td>0</td><td>⋯</td><td>-15667.25</td><td> 3988.00</td><td>  8512.75</td><td> -6576.50</td><td>0</td><td> 10872.25</td><td> 601955.5</td><td> -719280.5</td><td>147936.8</td><td> -604585.5</td></tr>\n",
       "</tbody>\n",
       "</table>\n"
      ],
      "text/latex": [
       "A data.frame: 6 × 21\n",
       "\\begin{tabular}{r|lllllllllllllllllllll}\n",
       "  & year & region & The Moderate Party & The Centre Party & The Liberal Party & The Christian Democratic Party & The Green Party & The Social Democratic Party & The Left Party & The Sweden Democrats & ⋯ & Financial costs & Financial income & General grants and equalisation grants & Net profit/loss after financial items & Net profit/loss for operations & Net profit/loss for the year & Tax revenues & Total costs for operations & Total income for operations & Total net current costs\\\\\n",
       "  & <chr> & <chr> & <int> & <int> & <int> & <int> & <int> & <int> & <int> & <int> & ⋯ & <dbl> & <dbl> & <dbl> & <dbl> & <dbl> & <dbl> & <dbl> & <dbl> & <dbl> & <dbl>\\\\\n",
       "\\hline\n",
       "\t1 & 1998 & 0114 Upplands Väsby & 16 & 2 & 4 & 3 & 2 & 18 & 5 & 0 & ⋯ & -24523.00 &  9788.00 &  23877.50 &  27648.75 & 0 & 110289.50 &  998055.0 & -1237170.0 & 326598.5 &  -978680.5\\\\\n",
       "\t2 & 1998 & 0115 Vallentuna     & 16 & 4 & 2 & 4 & 2 &  9 & 3 & 0 & ⋯ &  -3282.00 &  3927.00 &  57182.00 &   -475.75 & 0 &  16640.25 &  576253.5 &  -755892.5 & 169653.8 &  -633760.0\\\\\n",
       "\t3 & 1998 & 0117 Österåker      & 20 & 2 & 3 & 4 & 2 & 15 & 3 & 0 & ⋯ &  -9833.00 &  2517.00 &   5019.25 & -12078.50 & 0 & -12078.50 &  905556.0 & -1030488.8 & 151653.8 &  -913898.8\\\\\n",
       "\t4 & 1998 & 0120 Värmdö         & 17 & 2 & 2 & 2 & 2 & 13 & 3 & 0 & ⋯ &  -3350.25 & 10293.00 &  63439.00 &  -8109.50 & 0 & -19606.00 &  712872.5 &  -988970.0 & 233789.2 &  -790366.8\\\\\n",
       "\t5 & 1998 & 0123 Järfälla       & 18 & 2 & 5 & 6 & 2 & 23 & 5 & 0 & ⋯ & -25041.25 & 39573.75 & -19922.50 &   2210.75 & 0 &   2210.75 & 1635131.8 & -1937833.0 & 447106.8 & -1625076.8\\\\\n",
       "\t6 & 1998 & 0125 Ekerö          & 17 & 3 & 3 & 3 & 4 &  9 & 2 & 0 & ⋯ & -15667.25 &  3988.00 &   8512.75 &  -6576.50 & 0 &  10872.25 &  601955.5 &  -719280.5 & 147936.8 &  -604585.5\\\\\n",
       "\\end{tabular}\n"
      ],
      "text/markdown": [
       "\n",
       "A data.frame: 6 × 21\n",
       "\n",
       "| <!--/--> | year &lt;chr&gt; | region &lt;chr&gt; | The Moderate Party &lt;int&gt; | The Centre Party &lt;int&gt; | The Liberal Party &lt;int&gt; | The Christian Democratic Party &lt;int&gt; | The Green Party &lt;int&gt; | The Social Democratic Party &lt;int&gt; | The Left Party &lt;int&gt; | The Sweden Democrats &lt;int&gt; | ⋯ ⋯ | Financial costs &lt;dbl&gt; | Financial income &lt;dbl&gt; | General grants and equalisation grants &lt;dbl&gt; | Net profit/loss after financial items &lt;dbl&gt; | Net profit/loss for operations &lt;dbl&gt; | Net profit/loss for the year &lt;dbl&gt; | Tax revenues &lt;dbl&gt; | Total costs for operations &lt;dbl&gt; | Total income for operations &lt;dbl&gt; | Total net current costs &lt;dbl&gt; |\n",
       "|---|---|---|---|---|---|---|---|---|---|---|---|---|---|---|---|---|---|---|---|---|---|\n",
       "| 1 | 1998 | 0114 Upplands Väsby | 16 | 2 | 4 | 3 | 2 | 18 | 5 | 0 | ⋯ | -24523.00 |  9788.00 |  23877.50 |  27648.75 | 0 | 110289.50 |  998055.0 | -1237170.0 | 326598.5 |  -978680.5 |\n",
       "| 2 | 1998 | 0115 Vallentuna     | 16 | 4 | 2 | 4 | 2 |  9 | 3 | 0 | ⋯ |  -3282.00 |  3927.00 |  57182.00 |   -475.75 | 0 |  16640.25 |  576253.5 |  -755892.5 | 169653.8 |  -633760.0 |\n",
       "| 3 | 1998 | 0117 Österåker      | 20 | 2 | 3 | 4 | 2 | 15 | 3 | 0 | ⋯ |  -9833.00 |  2517.00 |   5019.25 | -12078.50 | 0 | -12078.50 |  905556.0 | -1030488.8 | 151653.8 |  -913898.8 |\n",
       "| 4 | 1998 | 0120 Värmdö         | 17 | 2 | 2 | 2 | 2 | 13 | 3 | 0 | ⋯ |  -3350.25 | 10293.00 |  63439.00 |  -8109.50 | 0 | -19606.00 |  712872.5 |  -988970.0 | 233789.2 |  -790366.8 |\n",
       "| 5 | 1998 | 0123 Järfälla       | 18 | 2 | 5 | 6 | 2 | 23 | 5 | 0 | ⋯ | -25041.25 | 39573.75 | -19922.50 |   2210.75 | 0 |   2210.75 | 1635131.8 | -1937833.0 | 447106.8 | -1625076.8 |\n",
       "| 6 | 1998 | 0125 Ekerö          | 17 | 3 | 3 | 3 | 4 |  9 | 2 | 0 | ⋯ | -15667.25 |  3988.00 |   8512.75 |  -6576.50 | 0 |  10872.25 |  601955.5 |  -719280.5 | 147936.8 |  -604585.5 |\n",
       "\n"
      ],
      "text/plain": [
       "  year region              The Moderate Party The Centre Party\n",
       "1 1998 0114 Upplands Väsby 16                 2               \n",
       "2 1998 0115 Vallentuna     16                 4               \n",
       "3 1998 0117 Österåker      20                 2               \n",
       "4 1998 0120 Värmdö         17                 2               \n",
       "5 1998 0123 Järfälla       18                 2               \n",
       "6 1998 0125 Ekerö          17                 3               \n",
       "  The Liberal Party The Christian Democratic Party The Green Party\n",
       "1 4                 3                              2              \n",
       "2 2                 4                              2              \n",
       "3 3                 4                              2              \n",
       "4 2                 2                              2              \n",
       "5 5                 6                              2              \n",
       "6 3                 3                              4              \n",
       "  The Social Democratic Party The Left Party The Sweden Democrats ⋯\n",
       "1 18                          5              0                    ⋯\n",
       "2  9                          3              0                    ⋯\n",
       "3 15                          3              0                    ⋯\n",
       "4 13                          3              0                    ⋯\n",
       "5 23                          5              0                    ⋯\n",
       "6  9                          2              0                    ⋯\n",
       "  Financial costs Financial income General grants and equalisation grants\n",
       "1 -24523.00        9788.00          23877.50                             \n",
       "2  -3282.00        3927.00          57182.00                             \n",
       "3  -9833.00        2517.00           5019.25                             \n",
       "4  -3350.25       10293.00          63439.00                             \n",
       "5 -25041.25       39573.75         -19922.50                             \n",
       "6 -15667.25        3988.00           8512.75                             \n",
       "  Net profit/loss after financial items Net profit/loss for operations\n",
       "1  27648.75                             0                             \n",
       "2   -475.75                             0                             \n",
       "3 -12078.50                             0                             \n",
       "4  -8109.50                             0                             \n",
       "5   2210.75                             0                             \n",
       "6  -6576.50                             0                             \n",
       "  Net profit/loss for the year Tax revenues Total costs for operations\n",
       "1 110289.50                     998055.0    -1237170.0                \n",
       "2  16640.25                     576253.5     -755892.5                \n",
       "3 -12078.50                     905556.0    -1030488.8                \n",
       "4 -19606.00                     712872.5     -988970.0                \n",
       "5   2210.75                    1635131.8    -1937833.0                \n",
       "6  10872.25                     601955.5     -719280.5                \n",
       "  Total income for operations Total net current costs\n",
       "1 326598.5                     -978680.5             \n",
       "2 169653.8                     -633760.0             \n",
       "3 151653.8                     -913898.8             \n",
       "4 233789.2                     -790366.8             \n",
       "5 447106.8                    -1625076.8             \n",
       "6 147936.8                     -604585.5             "
      ]
     },
     "metadata": {},
     "output_type": "display_data"
    }
   ],
   "source": [
    "df <- merge(political_seats, income, by = c(\"year\", \"region\"))\n",
    "head(df)"
   ]
  },
  {
   "cell_type": "code",
   "execution_count": 247,
   "metadata": {
    "vscode": {
     "languageId": "r"
    }
   },
   "outputs": [],
   "source": [
    "right <- rowSums(df[, c(\"The Christian Democratic Party\", \"The Liberal Party\", \"The Moderate Party\")])\n",
    "centre <- df[[\"The Centre Party\"]]\n",
    "left <- rowSums(df[, c(\"The Green Party\", \"The Left Party\", \"The Social Democratic Party\")])\n",
    "indices <- rownames(df)"
   ]
  },
  {
   "cell_type": "code",
   "execution_count": 248,
   "metadata": {
    "vscode": {
     "languageId": "r"
    }
   },
   "outputs": [],
   "source": [
    "majority <- character(length(right))\n",
    "for (i in 1:length(right)) {\n",
    "  if (indices[i] == \"2018\") {\n",
    "    if (left[i] + centre[i] > right[i]) {\n",
    "      majority[i] <- \"left\"\n",
    "    } else if (left[i] + centre[i] < right[i]) {\n",
    "      majority[i] <- \"right\"\n",
    "    } else {\n",
    "      majority[i] <- \"tie\"\n",
    "    }\n",
    "  } else {\n",
    "    if (left[i] > right[i] + centre[i]) {\n",
    "      majority[i] <- \"left\"\n",
    "    } else if (left[i] < right[i] + centre[i]) {\n",
    "      majority[i] <- \"right\"\n",
    "    } else {\n",
    "      majority[i] <- \"tie\"\n",
    "    }\n",
    "  }\n",
    "}"
   ]
  },
  {
   "cell_type": "code",
   "execution_count": 249,
   "metadata": {
    "vscode": {
     "languageId": "r"
    }
   },
   "outputs": [],
   "source": [
    "df$majority <- majority"
   ]
  },
  {
   "cell_type": "code",
   "execution_count": 251,
   "metadata": {
    "vscode": {
     "languageId": "r"
    }
   },
   "outputs": [
    {
     "data": {
      "text/html": [
       "<table class=\"dataframe\">\n",
       "<caption>A data.frame: 6 × 22</caption>\n",
       "<thead>\n",
       "\t<tr><th></th><th scope=col>year</th><th scope=col>region</th><th scope=col>The Moderate Party</th><th scope=col>The Centre Party</th><th scope=col>The Liberal Party</th><th scope=col>The Christian Democratic Party</th><th scope=col>The Green Party</th><th scope=col>The Social Democratic Party</th><th scope=col>The Left Party</th><th scope=col>The Sweden Democrats</th><th scope=col>⋯</th><th scope=col>Financial income</th><th scope=col>General grants and equalisation grants</th><th scope=col>Net profit/loss after financial items</th><th scope=col>Net profit/loss for operations</th><th scope=col>Net profit/loss for the year</th><th scope=col>Tax revenues</th><th scope=col>Total costs for operations</th><th scope=col>Total income for operations</th><th scope=col>Total net current costs</th><th scope=col>majority</th></tr>\n",
       "\t<tr><th></th><th scope=col>&lt;chr&gt;</th><th scope=col>&lt;chr&gt;</th><th scope=col>&lt;int&gt;</th><th scope=col>&lt;int&gt;</th><th scope=col>&lt;int&gt;</th><th scope=col>&lt;int&gt;</th><th scope=col>&lt;int&gt;</th><th scope=col>&lt;int&gt;</th><th scope=col>&lt;int&gt;</th><th scope=col>&lt;int&gt;</th><th scope=col>⋯</th><th scope=col>&lt;dbl&gt;</th><th scope=col>&lt;dbl&gt;</th><th scope=col>&lt;dbl&gt;</th><th scope=col>&lt;dbl&gt;</th><th scope=col>&lt;dbl&gt;</th><th scope=col>&lt;dbl&gt;</th><th scope=col>&lt;dbl&gt;</th><th scope=col>&lt;dbl&gt;</th><th scope=col>&lt;dbl&gt;</th><th scope=col>&lt;chr&gt;</th></tr>\n",
       "</thead>\n",
       "<tbody>\n",
       "\t<tr><th scope=row>1</th><td>1998</td><td>0114 Upplands Väsby</td><td>16</td><td>2</td><td>4</td><td>3</td><td>2</td><td>18</td><td>5</td><td>0</td><td>⋯</td><td> 9788.00</td><td> 23877.50</td><td> 27648.75</td><td>0</td><td>110289.50</td><td> 998055.0</td><td>-1237170.0</td><td>326598.5</td><td> -978680.5</td><td>tie  </td></tr>\n",
       "\t<tr><th scope=row>2</th><td>1998</td><td>0115 Vallentuna    </td><td>16</td><td>4</td><td>2</td><td>4</td><td>2</td><td> 9</td><td>3</td><td>0</td><td>⋯</td><td> 3927.00</td><td> 57182.00</td><td>  -475.75</td><td>0</td><td> 16640.25</td><td> 576253.5</td><td> -755892.5</td><td>169653.8</td><td> -633760.0</td><td>right</td></tr>\n",
       "\t<tr><th scope=row>3</th><td>1998</td><td>0117 Österåker     </td><td>20</td><td>2</td><td>3</td><td>4</td><td>2</td><td>15</td><td>3</td><td>0</td><td>⋯</td><td> 2517.00</td><td>  5019.25</td><td>-12078.50</td><td>0</td><td>-12078.50</td><td> 905556.0</td><td>-1030488.8</td><td>151653.8</td><td> -913898.8</td><td>right</td></tr>\n",
       "\t<tr><th scope=row>4</th><td>1998</td><td>0120 Värmdö        </td><td>17</td><td>2</td><td>2</td><td>2</td><td>2</td><td>13</td><td>3</td><td>0</td><td>⋯</td><td>10293.00</td><td> 63439.00</td><td> -8109.50</td><td>0</td><td>-19606.00</td><td> 712872.5</td><td> -988970.0</td><td>233789.2</td><td> -790366.8</td><td>right</td></tr>\n",
       "\t<tr><th scope=row>5</th><td>1998</td><td>0123 Järfälla      </td><td>18</td><td>2</td><td>5</td><td>6</td><td>2</td><td>23</td><td>5</td><td>0</td><td>⋯</td><td>39573.75</td><td>-19922.50</td><td>  2210.75</td><td>0</td><td>  2210.75</td><td>1635131.8</td><td>-1937833.0</td><td>447106.8</td><td>-1625076.8</td><td>right</td></tr>\n",
       "\t<tr><th scope=row>6</th><td>1998</td><td>0125 Ekerö         </td><td>17</td><td>3</td><td>3</td><td>3</td><td>4</td><td> 9</td><td>2</td><td>0</td><td>⋯</td><td> 3988.00</td><td>  8512.75</td><td> -6576.50</td><td>0</td><td> 10872.25</td><td> 601955.5</td><td> -719280.5</td><td>147936.8</td><td> -604585.5</td><td>right</td></tr>\n",
       "</tbody>\n",
       "</table>\n"
      ],
      "text/latex": [
       "A data.frame: 6 × 22\n",
       "\\begin{tabular}{r|lllllllllllllllllllll}\n",
       "  & year & region & The Moderate Party & The Centre Party & The Liberal Party & The Christian Democratic Party & The Green Party & The Social Democratic Party & The Left Party & The Sweden Democrats & ⋯ & Financial income & General grants and equalisation grants & Net profit/loss after financial items & Net profit/loss for operations & Net profit/loss for the year & Tax revenues & Total costs for operations & Total income for operations & Total net current costs & majority\\\\\n",
       "  & <chr> & <chr> & <int> & <int> & <int> & <int> & <int> & <int> & <int> & <int> & ⋯ & <dbl> & <dbl> & <dbl> & <dbl> & <dbl> & <dbl> & <dbl> & <dbl> & <dbl> & <chr>\\\\\n",
       "\\hline\n",
       "\t1 & 1998 & 0114 Upplands Väsby & 16 & 2 & 4 & 3 & 2 & 18 & 5 & 0 & ⋯ &  9788.00 &  23877.50 &  27648.75 & 0 & 110289.50 &  998055.0 & -1237170.0 & 326598.5 &  -978680.5 & tie  \\\\\n",
       "\t2 & 1998 & 0115 Vallentuna     & 16 & 4 & 2 & 4 & 2 &  9 & 3 & 0 & ⋯ &  3927.00 &  57182.00 &   -475.75 & 0 &  16640.25 &  576253.5 &  -755892.5 & 169653.8 &  -633760.0 & right\\\\\n",
       "\t3 & 1998 & 0117 Österåker      & 20 & 2 & 3 & 4 & 2 & 15 & 3 & 0 & ⋯ &  2517.00 &   5019.25 & -12078.50 & 0 & -12078.50 &  905556.0 & -1030488.8 & 151653.8 &  -913898.8 & right\\\\\n",
       "\t4 & 1998 & 0120 Värmdö         & 17 & 2 & 2 & 2 & 2 & 13 & 3 & 0 & ⋯ & 10293.00 &  63439.00 &  -8109.50 & 0 & -19606.00 &  712872.5 &  -988970.0 & 233789.2 &  -790366.8 & right\\\\\n",
       "\t5 & 1998 & 0123 Järfälla       & 18 & 2 & 5 & 6 & 2 & 23 & 5 & 0 & ⋯ & 39573.75 & -19922.50 &   2210.75 & 0 &   2210.75 & 1635131.8 & -1937833.0 & 447106.8 & -1625076.8 & right\\\\\n",
       "\t6 & 1998 & 0125 Ekerö          & 17 & 3 & 3 & 3 & 4 &  9 & 2 & 0 & ⋯ &  3988.00 &   8512.75 &  -6576.50 & 0 &  10872.25 &  601955.5 &  -719280.5 & 147936.8 &  -604585.5 & right\\\\\n",
       "\\end{tabular}\n"
      ],
      "text/markdown": [
       "\n",
       "A data.frame: 6 × 22\n",
       "\n",
       "| <!--/--> | year &lt;chr&gt; | region &lt;chr&gt; | The Moderate Party &lt;int&gt; | The Centre Party &lt;int&gt; | The Liberal Party &lt;int&gt; | The Christian Democratic Party &lt;int&gt; | The Green Party &lt;int&gt; | The Social Democratic Party &lt;int&gt; | The Left Party &lt;int&gt; | The Sweden Democrats &lt;int&gt; | ⋯ ⋯ | Financial income &lt;dbl&gt; | General grants and equalisation grants &lt;dbl&gt; | Net profit/loss after financial items &lt;dbl&gt; | Net profit/loss for operations &lt;dbl&gt; | Net profit/loss for the year &lt;dbl&gt; | Tax revenues &lt;dbl&gt; | Total costs for operations &lt;dbl&gt; | Total income for operations &lt;dbl&gt; | Total net current costs &lt;dbl&gt; | majority &lt;chr&gt; |\n",
       "|---|---|---|---|---|---|---|---|---|---|---|---|---|---|---|---|---|---|---|---|---|---|\n",
       "| 1 | 1998 | 0114 Upplands Väsby | 16 | 2 | 4 | 3 | 2 | 18 | 5 | 0 | ⋯ |  9788.00 |  23877.50 |  27648.75 | 0 | 110289.50 |  998055.0 | -1237170.0 | 326598.5 |  -978680.5 | tie   |\n",
       "| 2 | 1998 | 0115 Vallentuna     | 16 | 4 | 2 | 4 | 2 |  9 | 3 | 0 | ⋯ |  3927.00 |  57182.00 |   -475.75 | 0 |  16640.25 |  576253.5 |  -755892.5 | 169653.8 |  -633760.0 | right |\n",
       "| 3 | 1998 | 0117 Österåker      | 20 | 2 | 3 | 4 | 2 | 15 | 3 | 0 | ⋯ |  2517.00 |   5019.25 | -12078.50 | 0 | -12078.50 |  905556.0 | -1030488.8 | 151653.8 |  -913898.8 | right |\n",
       "| 4 | 1998 | 0120 Värmdö         | 17 | 2 | 2 | 2 | 2 | 13 | 3 | 0 | ⋯ | 10293.00 |  63439.00 |  -8109.50 | 0 | -19606.00 |  712872.5 |  -988970.0 | 233789.2 |  -790366.8 | right |\n",
       "| 5 | 1998 | 0123 Järfälla       | 18 | 2 | 5 | 6 | 2 | 23 | 5 | 0 | ⋯ | 39573.75 | -19922.50 |   2210.75 | 0 |   2210.75 | 1635131.8 | -1937833.0 | 447106.8 | -1625076.8 | right |\n",
       "| 6 | 1998 | 0125 Ekerö          | 17 | 3 | 3 | 3 | 4 |  9 | 2 | 0 | ⋯ |  3988.00 |   8512.75 |  -6576.50 | 0 |  10872.25 |  601955.5 |  -719280.5 | 147936.8 |  -604585.5 | right |\n",
       "\n"
      ],
      "text/plain": [
       "  year region              The Moderate Party The Centre Party\n",
       "1 1998 0114 Upplands Väsby 16                 2               \n",
       "2 1998 0115 Vallentuna     16                 4               \n",
       "3 1998 0117 Österåker      20                 2               \n",
       "4 1998 0120 Värmdö         17                 2               \n",
       "5 1998 0123 Järfälla       18                 2               \n",
       "6 1998 0125 Ekerö          17                 3               \n",
       "  The Liberal Party The Christian Democratic Party The Green Party\n",
       "1 4                 3                              2              \n",
       "2 2                 4                              2              \n",
       "3 3                 4                              2              \n",
       "4 2                 2                              2              \n",
       "5 5                 6                              2              \n",
       "6 3                 3                              4              \n",
       "  The Social Democratic Party The Left Party The Sweden Democrats ⋯\n",
       "1 18                          5              0                    ⋯\n",
       "2  9                          3              0                    ⋯\n",
       "3 15                          3              0                    ⋯\n",
       "4 13                          3              0                    ⋯\n",
       "5 23                          5              0                    ⋯\n",
       "6  9                          2              0                    ⋯\n",
       "  Financial income General grants and equalisation grants\n",
       "1  9788.00          23877.50                             \n",
       "2  3927.00          57182.00                             \n",
       "3  2517.00           5019.25                             \n",
       "4 10293.00          63439.00                             \n",
       "5 39573.75         -19922.50                             \n",
       "6  3988.00           8512.75                             \n",
       "  Net profit/loss after financial items Net profit/loss for operations\n",
       "1  27648.75                             0                             \n",
       "2   -475.75                             0                             \n",
       "3 -12078.50                             0                             \n",
       "4  -8109.50                             0                             \n",
       "5   2210.75                             0                             \n",
       "6  -6576.50                             0                             \n",
       "  Net profit/loss for the year Tax revenues Total costs for operations\n",
       "1 110289.50                     998055.0    -1237170.0                \n",
       "2  16640.25                     576253.5     -755892.5                \n",
       "3 -12078.50                     905556.0    -1030488.8                \n",
       "4 -19606.00                     712872.5     -988970.0                \n",
       "5   2210.75                    1635131.8    -1937833.0                \n",
       "6  10872.25                     601955.5     -719280.5                \n",
       "  Total income for operations Total net current costs majority\n",
       "1 326598.5                     -978680.5              tie     \n",
       "2 169653.8                     -633760.0              right   \n",
       "3 151653.8                     -913898.8              right   \n",
       "4 233789.2                     -790366.8              right   \n",
       "5 447106.8                    -1625076.8              right   \n",
       "6 147936.8                     -604585.5              right   "
      ]
     },
     "metadata": {},
     "output_type": "display_data"
    }
   ],
   "source": [
    "head(df)"
   ]
  },
  {
   "attachments": {},
   "cell_type": "markdown",
   "metadata": {},
   "source": [
    "## Task 2"
   ]
  },
  {
   "cell_type": "code",
   "execution_count": 253,
   "metadata": {
    "vscode": {
     "languageId": "r"
    }
   },
   "outputs": [
    {
     "data": {
      "image/png": "[encoded data removed]",
      "text/plain": [
       "plot without title"
      ]
     },
     "metadata": {
      "image/png": {
       "height": 420,
       "width": 420
      }
     },
     "output_type": "display_data"
    }
   ],
   "source": [
    "ggplot(data = df) +\n",
    "  geom_histogram(mapping = aes(x = `Net profit/loss for the year`), bins=30)"
   ]
  },
  {
   "cell_type": "code",
   "execution_count": 256,
   "metadata": {
    "vscode": {
     "languageId": "r"
    }
   },
   "outputs": [
    {
     "data": {
      "image/png": "[encoded data removed]",
      "text/plain": [
       "plot without title"
      ]
     },
     "metadata": {
      "image/png": {
       "height": 420,
       "width": 420
      }
     },
     "output_type": "display_data"
    }
   ],
   "source": [
    "ggplot(data = df) +\n",
    "  geom_histogram(mapping = aes(x = `Net profit/loss for the year`, fill=majority), bins=12, position = \"dodge\")"
   ]
  },
  {
   "cell_type": "code",
   "execution_count": 260,
   "metadata": {
    "vscode": {
     "languageId": "r"
    }
   },
   "outputs": [
    {
     "data": {
      "image/png": "[encoded data removed]",
      "text/plain": [
       "plot without title"
      ]
     },
     "metadata": {
      "image/png": {
       "height": 420,
       "width": 420
      }
     },
     "output_type": "display_data"
    }
   ],
   "source": [
    "ggplot(data = df) +\n",
    "  geom_point(mapping = aes(x = `General grants and equalisation grants`, y = `Tax revenues`, color=majority)) + \n",
    "  facet_wrap(~majority) + \n",
    "  theme(aspect.ratio = 3)"
   ]
  },
  {
   "cell_type": "code",
   "execution_count": 269,
   "metadata": {
    "vscode": {
     "languageId": "r"
    }
   },
   "outputs": [
    {
     "data": {
      "image/png": "[encoded data removed]",
      "text/plain": [
       "plot without title"
      ]
     },
     "metadata": {
      "image/png": {
       "height": 420,
       "width": 420
      }
     },
     "output_type": "display_data"
    }
   ],
   "source": [
    "ggplot(df, aes(x = majority, y = `Tax revenues`, color = majority)) +\n",
    "  geom_point(position = position_jitter(width = 0.2), size = 3)"
   ]
  },
  {
   "cell_type": "code",
   "execution_count": 273,
   "metadata": {
    "vscode": {
     "languageId": "r"
    }
   },
   "outputs": [
    {
     "data": {
      "image/png": "[encoded data removed]",
      "text/plain": [
       "plot without title"
      ]
     },
     "metadata": {
      "image/png": {
       "height": 420,
       "width": 420
      }
     },
     "output_type": "display_data"
    }
   ],
   "source": [
    "ggplot(df, aes(x = `General grants and equalisation grants`, y = `Tax revenues`)) +\n",
    "  geom_line(size = 1.2)"
   ]
  },
  {
   "attachments": {},
   "cell_type": "markdown",
   "metadata": {},
   "source": [
    "## Task 3"
   ]
  },
  {
   "cell_type": "code",
   "execution_count": null,
   "metadata": {
    "vscode": {
     "languageId": "r"
    }
   },
   "outputs": [],
   "source": []
  }
 ],
 "metadata": {
  "kernelspec": {
   "display_name": "R",
   "language": "R",
   "name": "ir"
  },
  "language_info": {
   "codemirror_mode": "r",
   "file_extension": ".r",
   "mimetype": "text/x-r-source",
   "name": "R",
   "pygments_lexer": "r",
   "version": "4.2.2"
  },
  "orig_nbformat": 4
 },
 "nbformat": 4,
 "nbformat_minor": 2
}
