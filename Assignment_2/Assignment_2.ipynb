{
 "cells": [
  {
   "cell_type": "code",
   "execution_count": 288,
   "metadata": {
    "vscode": {
     "languageId": "r"
    }
   },
   "outputs": [
    {
     "name": "stderr",
     "output_type": "stream",
     "text": [
      "Warning message:\n",
      "\"package 'readr' is in use and will not be installed\"\n",
      "Warning message:\n",
      "\"package 'rpart' is in use and will not be installed\"\n",
      "Warning message:\n",
      "\"package 'caret' is in use and will not be installed\"\n",
      "Warning message:\n",
      "\"package 'ranger' is in use and will not be installed\"\n",
      "Warning message:\n",
      "\"package 'tidymodels' is in use and will not be installed\"\n",
      "Installing package into 'C:/Users/isacs/AppData/Local/R/win-library/4.2'\n",
      "(as 'lib' is unspecified)\n",
      "\n"
     ]
    },
    {
     "name": "stdout",
     "output_type": "stream",
     "text": [
      "package 'kernlab' successfully unpacked and MD5 sums checked\n",
      "\n",
      "The downloaded binary packages are in\n",
      "\tC:\\Users\\isacs\\AppData\\Local\\Temp\\RtmpewqnOV\\downloaded_packages\n"
     ]
    }
   ],
   "source": [
    "install.packages(\"readr\")\n",
    "install.packages(\"rpart\")\n",
    "install.packages(\"caret\")\n",
    "install.packages(\"ranger\")\n",
    "install.packages(\"tidymodels\")\n",
    "install.packages(\"kernlab\")"
   ]
  },
  {
   "cell_type": "code",
   "execution_count": 289,
   "metadata": {
    "vscode": {
     "languageId": "r"
    }
   },
   "outputs": [
    {
     "name": "stderr",
     "output_type": "stream",
     "text": [
      "\n",
      "Attaching package: 'kernlab'\n",
      "\n",
      "\n",
      "The following object is masked from 'package:scales':\n",
      "\n",
      "    alpha\n",
      "\n",
      "\n",
      "The following object is masked from 'package:purrr':\n",
      "\n",
      "    cross\n",
      "\n",
      "\n",
      "The following object is masked from 'package:ggplot2':\n",
      "\n",
      "    alpha\n",
      "\n",
      "\n"
     ]
    }
   ],
   "source": [
    "library(tidyverse)\n",
    "library(lubridate)\n",
    "library(hms)\n",
    "library(readr)\n",
    "library(tidyr)\n",
    "library(dplyr)\n",
    "library(caret)\n",
    "library(rpart)\n",
    "library(ranger)\n",
    "library(tidymodels)\n",
    "library(modelr)\n",
    "library(kernlab)"
   ]
  },
  {
   "attachments": {},
   "cell_type": "markdown",
   "metadata": {},
   "source": [
    "## TASK 8"
   ]
  },
  {
   "attachments": {},
   "cell_type": "markdown",
   "metadata": {},
   "source": [
    "### Political Seats"
   ]
  },
  {
   "attachments": {},
   "cell_type": "markdown",
   "metadata": {},
   "source": [
    "Read the political seats dataset"
   ]
  },
  {
   "cell_type": "code",
   "execution_count": 166,
   "metadata": {
    "vscode": {
     "languageId": "r"
    }
   },
   "outputs": [
    {
     "name": "stderr",
     "output_type": "stream",
     "text": [
      "\u001b[1mRows: \u001b[22m\u001b[34m2619\u001b[39m \u001b[1mColumns: \u001b[22m\u001b[34m17\u001b[39m\n",
      "\u001b[36m──\u001b[39m \u001b[1mColumn specification\u001b[22m \u001b[36m────────────────────────────────────────────────────────\u001b[39m\n",
      "\u001b[1mDelimiter:\u001b[22m \",\"\n",
      "\u001b[31mchr\u001b[39m (15): region, party, 1973, 1976, 1979, 1982, 1985, 1988, 1991, 1994, 199...\n",
      "\u001b[32mdbl\u001b[39m  (2): 2018, 2022\n",
      "\n",
      "\u001b[36mℹ\u001b[39m Use `spec()` to retrieve the full column specification for this data.\n",
      "\u001b[36mℹ\u001b[39m Specify the column types or set `show_col_types = FALSE` to quiet this message.\n"
     ]
    },
    {
     "data": {
      "text/html": [
       "<table class=\"dataframe\">\n",
       "<caption>A tibble: 6 × 17</caption>\n",
       "<thead>\n",
       "\t<tr><th scope=col>region</th><th scope=col>party</th><th scope=col>1973</th><th scope=col>1976</th><th scope=col>1979</th><th scope=col>1982</th><th scope=col>1985</th><th scope=col>1988</th><th scope=col>1991</th><th scope=col>1994</th><th scope=col>1998</th><th scope=col>2002</th><th scope=col>2006</th><th scope=col>2010</th><th scope=col>2014</th><th scope=col>2018</th><th scope=col>2022</th></tr>\n",
       "\t<tr><th scope=col>&lt;chr&gt;</th><th scope=col>&lt;chr&gt;</th><th scope=col>&lt;chr&gt;</th><th scope=col>&lt;chr&gt;</th><th scope=col>&lt;chr&gt;</th><th scope=col>&lt;chr&gt;</th><th scope=col>&lt;chr&gt;</th><th scope=col>&lt;chr&gt;</th><th scope=col>&lt;chr&gt;</th><th scope=col>&lt;chr&gt;</th><th scope=col>&lt;chr&gt;</th><th scope=col>&lt;chr&gt;</th><th scope=col>&lt;chr&gt;</th><th scope=col>&lt;chr&gt;</th><th scope=col>&lt;chr&gt;</th><th scope=col>&lt;dbl&gt;</th><th scope=col>&lt;dbl&gt;</th></tr>\n",
       "</thead>\n",
       "<tbody>\n",
       "\t<tr><td>0114 Upplands Väsby</td><td>The Moderate Party            </td><td>6 </td><td>7 </td><td>10</td><td>13</td><td>13</td><td>12</td><td>15</td><td>14</td><td>16</td><td>11</td><td>17</td><td>17</td><td>13</td><td>12</td><td>11</td></tr>\n",
       "\t<tr><td>0114 Upplands Väsby</td><td>The Centre Party              </td><td>9 </td><td>7 </td><td>6 </td><td>4 </td><td>2 </td><td>2 </td><td>2 </td><td>2 </td><td>2 </td><td>2 </td><td>2 </td><td>2 </td><td>2 </td><td> 2</td><td> 2</td></tr>\n",
       "\t<tr><td>0114 Upplands Väsby</td><td>The Liberal Party             </td><td>4 </td><td>5 </td><td>5 </td><td>3 </td><td>6 </td><td>7 </td><td>6 </td><td>4 </td><td>4 </td><td>8 </td><td>6 </td><td>6 </td><td>4 </td><td> 3</td><td> 2</td></tr>\n",
       "\t<tr><td>0114 Upplands Väsby</td><td>The Christian Democratic Party</td><td>0 </td><td>0 </td><td>0 </td><td>1 </td><td>0 </td><td>0 </td><td>2 </td><td>1 </td><td>3 </td><td>3 </td><td>3 </td><td>2 </td><td>2 </td><td> 3</td><td> 2</td></tr>\n",
       "\t<tr><td>0114 Upplands Väsby</td><td>The Green Party               </td><td>..</td><td>..</td><td>..</td><td>1 </td><td>2 </td><td>4 </td><td>2 </td><td>3 </td><td>2 </td><td>2 </td><td>3 </td><td>5 </td><td>5 </td><td> 2</td><td> 2</td></tr>\n",
       "\t<tr><td>0114 Upplands Väsby</td><td>The Social Democratic Party   </td><td>19</td><td>19</td><td>23</td><td>24</td><td>23</td><td>23</td><td>18</td><td>24</td><td>18</td><td>20</td><td>16</td><td>15</td><td>16</td><td>13</td><td>14</td></tr>\n",
       "</tbody>\n",
       "</table>\n"
      ],
      "text/latex": [
       "A tibble: 6 × 17\n",
       "\\begin{tabular}{lllllllllllllllll}\n",
       " region & party & 1973 & 1976 & 1979 & 1982 & 1985 & 1988 & 1991 & 1994 & 1998 & 2002 & 2006 & 2010 & 2014 & 2018 & 2022\\\\\n",
       " <chr> & <chr> & <chr> & <chr> & <chr> & <chr> & <chr> & <chr> & <chr> & <chr> & <chr> & <chr> & <chr> & <chr> & <chr> & <dbl> & <dbl>\\\\\n",
       "\\hline\n",
       "\t 0114 Upplands Väsby & The Moderate Party             & 6  & 7  & 10 & 13 & 13 & 12 & 15 & 14 & 16 & 11 & 17 & 17 & 13 & 12 & 11\\\\\n",
       "\t 0114 Upplands Väsby & The Centre Party               & 9  & 7  & 6  & 4  & 2  & 2  & 2  & 2  & 2  & 2  & 2  & 2  & 2  &  2 &  2\\\\\n",
       "\t 0114 Upplands Väsby & The Liberal Party              & 4  & 5  & 5  & 3  & 6  & 7  & 6  & 4  & 4  & 8  & 6  & 6  & 4  &  3 &  2\\\\\n",
       "\t 0114 Upplands Väsby & The Christian Democratic Party & 0  & 0  & 0  & 1  & 0  & 0  & 2  & 1  & 3  & 3  & 3  & 2  & 2  &  3 &  2\\\\\n",
       "\t 0114 Upplands Väsby & The Green Party                & .. & .. & .. & 1  & 2  & 4  & 2  & 3  & 2  & 2  & 3  & 5  & 5  &  2 &  2\\\\\n",
       "\t 0114 Upplands Väsby & The Social Democratic Party    & 19 & 19 & 23 & 24 & 23 & 23 & 18 & 24 & 18 & 20 & 16 & 15 & 16 & 13 & 14\\\\\n",
       "\\end{tabular}\n"
      ],
      "text/markdown": [
       "\n",
       "A tibble: 6 × 17\n",
       "\n",
       "| region &lt;chr&gt; | party &lt;chr&gt; | 1973 &lt;chr&gt; | 1976 &lt;chr&gt; | 1979 &lt;chr&gt; | 1982 &lt;chr&gt; | 1985 &lt;chr&gt; | 1988 &lt;chr&gt; | 1991 &lt;chr&gt; | 1994 &lt;chr&gt; | 1998 &lt;chr&gt; | 2002 &lt;chr&gt; | 2006 &lt;chr&gt; | 2010 &lt;chr&gt; | 2014 &lt;chr&gt; | 2018 &lt;dbl&gt; | 2022 &lt;dbl&gt; |\n",
       "|---|---|---|---|---|---|---|---|---|---|---|---|---|---|---|---|---|\n",
       "| 0114 Upplands Väsby | The Moderate Party             | 6  | 7  | 10 | 13 | 13 | 12 | 15 | 14 | 16 | 11 | 17 | 17 | 13 | 12 | 11 |\n",
       "| 0114 Upplands Väsby | The Centre Party               | 9  | 7  | 6  | 4  | 2  | 2  | 2  | 2  | 2  | 2  | 2  | 2  | 2  |  2 |  2 |\n",
       "| 0114 Upplands Väsby | The Liberal Party              | 4  | 5  | 5  | 3  | 6  | 7  | 6  | 4  | 4  | 8  | 6  | 6  | 4  |  3 |  2 |\n",
       "| 0114 Upplands Väsby | The Christian Democratic Party | 0  | 0  | 0  | 1  | 0  | 0  | 2  | 1  | 3  | 3  | 3  | 2  | 2  |  3 |  2 |\n",
       "| 0114 Upplands Väsby | The Green Party                | .. | .. | .. | 1  | 2  | 4  | 2  | 3  | 2  | 2  | 3  | 5  | 5  |  2 |  2 |\n",
       "| 0114 Upplands Väsby | The Social Democratic Party    | 19 | 19 | 23 | 24 | 23 | 23 | 18 | 24 | 18 | 20 | 16 | 15 | 16 | 13 | 14 |\n",
       "\n"
      ],
      "text/plain": [
       "  region              party                          1973 1976 1979 1982 1985\n",
       "1 0114 Upplands Väsby The Moderate Party             6    7    10   13   13  \n",
       "2 0114 Upplands Väsby The Centre Party               9    7    6    4    2   \n",
       "3 0114 Upplands Väsby The Liberal Party              4    5    5    3    6   \n",
       "4 0114 Upplands Väsby The Christian Democratic Party 0    0    0    1    0   \n",
       "5 0114 Upplands Väsby The Green Party                ..   ..   ..   1    2   \n",
       "6 0114 Upplands Väsby The Social Democratic Party    19   19   23   24   23  \n",
       "  1988 1991 1994 1998 2002 2006 2010 2014 2018 2022\n",
       "1 12   15   14   16   11   17   17   13   12   11  \n",
       "2 2    2    2    2    2    2    2    2     2    2  \n",
       "3 7    6    4    4    8    6    6    4     3    2  \n",
       "4 0    2    1    3    3    3    2    2     3    2  \n",
       "5 4    2    3    2    2    3    5    5     2    2  \n",
       "6 23   18   24   18   20   16   15   16   13   14  "
      ]
     },
     "metadata": {},
     "output_type": "display_data"
    }
   ],
   "source": [
    "political_seats <- read_delim(\"../datasets/political_seats.csv\", delim = \",\", locale = locale(encoding = \"ISO-8859-1\"), skip = 2)\n",
    "head(political_seats)"
   ]
  },
  {
   "attachments": {},
   "cell_type": "markdown",
   "metadata": {},
   "source": [
    "Replace the null values (\"..\") with zeroes instead"
   ]
  },
  {
   "cell_type": "code",
   "execution_count": 167,
   "metadata": {
    "vscode": {
     "languageId": "r"
    }
   },
   "outputs": [
    {
     "name": "stdout",
     "output_type": "stream",
     "text": [
      "region  party   1973   1976   1979   1982   1985   1988   1991   1994   1998 \n",
      "     0      0    673    680    666    347    347     63     45     27     18 \n",
      "  2002   2006   2010   2014   2018   2022 \n",
      "     9      9      9      9      0      0 \n",
      "region  party   1973   1976   1979   1982   1985   1988   1991   1994   1998 \n",
      "     0      0      0      0      0      0      0      0      0      0      0 \n",
      "  2002   2006   2010   2014   2018   2022 \n",
      "     0      0      0      0      0      0 \n"
     ]
    },
    {
     "data": {
      "text/html": [
       "<table class=\"dataframe\">\n",
       "<caption>A tibble: 6 × 17</caption>\n",
       "<thead>\n",
       "\t<tr><th scope=col>region</th><th scope=col>party</th><th scope=col>1973</th><th scope=col>1976</th><th scope=col>1979</th><th scope=col>1982</th><th scope=col>1985</th><th scope=col>1988</th><th scope=col>1991</th><th scope=col>1994</th><th scope=col>1998</th><th scope=col>2002</th><th scope=col>2006</th><th scope=col>2010</th><th scope=col>2014</th><th scope=col>2018</th><th scope=col>2022</th></tr>\n",
       "\t<tr><th scope=col>&lt;chr&gt;</th><th scope=col>&lt;chr&gt;</th><th scope=col>&lt;chr&gt;</th><th scope=col>&lt;chr&gt;</th><th scope=col>&lt;chr&gt;</th><th scope=col>&lt;chr&gt;</th><th scope=col>&lt;chr&gt;</th><th scope=col>&lt;chr&gt;</th><th scope=col>&lt;chr&gt;</th><th scope=col>&lt;chr&gt;</th><th scope=col>&lt;chr&gt;</th><th scope=col>&lt;chr&gt;</th><th scope=col>&lt;chr&gt;</th><th scope=col>&lt;chr&gt;</th><th scope=col>&lt;chr&gt;</th><th scope=col>&lt;dbl&gt;</th><th scope=col>&lt;dbl&gt;</th></tr>\n",
       "</thead>\n",
       "<tbody>\n",
       "\t<tr><td>0114 Upplands Väsby</td><td>The Moderate Party            </td><td>6 </td><td>7 </td><td>10</td><td>13</td><td>13</td><td>12</td><td>15</td><td>14</td><td>16</td><td>11</td><td>17</td><td>17</td><td>13</td><td>12</td><td>11</td></tr>\n",
       "\t<tr><td>0114 Upplands Väsby</td><td>The Centre Party              </td><td>9 </td><td>7 </td><td>6 </td><td>4 </td><td>2 </td><td>2 </td><td>2 </td><td>2 </td><td>2 </td><td>2 </td><td>2 </td><td>2 </td><td>2 </td><td> 2</td><td> 2</td></tr>\n",
       "\t<tr><td>0114 Upplands Väsby</td><td>The Liberal Party             </td><td>4 </td><td>5 </td><td>5 </td><td>3 </td><td>6 </td><td>7 </td><td>6 </td><td>4 </td><td>4 </td><td>8 </td><td>6 </td><td>6 </td><td>4 </td><td> 3</td><td> 2</td></tr>\n",
       "\t<tr><td>0114 Upplands Väsby</td><td>The Christian Democratic Party</td><td>0 </td><td>0 </td><td>0 </td><td>1 </td><td>0 </td><td>0 </td><td>2 </td><td>1 </td><td>3 </td><td>3 </td><td>3 </td><td>2 </td><td>2 </td><td> 3</td><td> 2</td></tr>\n",
       "\t<tr><td>0114 Upplands Väsby</td><td>The Green Party               </td><td>0 </td><td>0 </td><td>0 </td><td>1 </td><td>2 </td><td>4 </td><td>2 </td><td>3 </td><td>2 </td><td>2 </td><td>3 </td><td>5 </td><td>5 </td><td> 2</td><td> 2</td></tr>\n",
       "\t<tr><td>0114 Upplands Väsby</td><td>The Social Democratic Party   </td><td>19</td><td>19</td><td>23</td><td>24</td><td>23</td><td>23</td><td>18</td><td>24</td><td>18</td><td>20</td><td>16</td><td>15</td><td>16</td><td>13</td><td>14</td></tr>\n",
       "</tbody>\n",
       "</table>\n"
      ],
      "text/latex": [
       "A tibble: 6 × 17\n",
       "\\begin{tabular}{lllllllllllllllll}\n",
       " region & party & 1973 & 1976 & 1979 & 1982 & 1985 & 1988 & 1991 & 1994 & 1998 & 2002 & 2006 & 2010 & 2014 & 2018 & 2022\\\\\n",
       " <chr> & <chr> & <chr> & <chr> & <chr> & <chr> & <chr> & <chr> & <chr> & <chr> & <chr> & <chr> & <chr> & <chr> & <chr> & <dbl> & <dbl>\\\\\n",
       "\\hline\n",
       "\t 0114 Upplands Väsby & The Moderate Party             & 6  & 7  & 10 & 13 & 13 & 12 & 15 & 14 & 16 & 11 & 17 & 17 & 13 & 12 & 11\\\\\n",
       "\t 0114 Upplands Väsby & The Centre Party               & 9  & 7  & 6  & 4  & 2  & 2  & 2  & 2  & 2  & 2  & 2  & 2  & 2  &  2 &  2\\\\\n",
       "\t 0114 Upplands Väsby & The Liberal Party              & 4  & 5  & 5  & 3  & 6  & 7  & 6  & 4  & 4  & 8  & 6  & 6  & 4  &  3 &  2\\\\\n",
       "\t 0114 Upplands Väsby & The Christian Democratic Party & 0  & 0  & 0  & 1  & 0  & 0  & 2  & 1  & 3  & 3  & 3  & 2  & 2  &  3 &  2\\\\\n",
       "\t 0114 Upplands Väsby & The Green Party                & 0  & 0  & 0  & 1  & 2  & 4  & 2  & 3  & 2  & 2  & 3  & 5  & 5  &  2 &  2\\\\\n",
       "\t 0114 Upplands Väsby & The Social Democratic Party    & 19 & 19 & 23 & 24 & 23 & 23 & 18 & 24 & 18 & 20 & 16 & 15 & 16 & 13 & 14\\\\\n",
       "\\end{tabular}\n"
      ],
      "text/markdown": [
       "\n",
       "A tibble: 6 × 17\n",
       "\n",
       "| region &lt;chr&gt; | party &lt;chr&gt; | 1973 &lt;chr&gt; | 1976 &lt;chr&gt; | 1979 &lt;chr&gt; | 1982 &lt;chr&gt; | 1985 &lt;chr&gt; | 1988 &lt;chr&gt; | 1991 &lt;chr&gt; | 1994 &lt;chr&gt; | 1998 &lt;chr&gt; | 2002 &lt;chr&gt; | 2006 &lt;chr&gt; | 2010 &lt;chr&gt; | 2014 &lt;chr&gt; | 2018 &lt;dbl&gt; | 2022 &lt;dbl&gt; |\n",
       "|---|---|---|---|---|---|---|---|---|---|---|---|---|---|---|---|---|\n",
       "| 0114 Upplands Väsby | The Moderate Party             | 6  | 7  | 10 | 13 | 13 | 12 | 15 | 14 | 16 | 11 | 17 | 17 | 13 | 12 | 11 |\n",
       "| 0114 Upplands Väsby | The Centre Party               | 9  | 7  | 6  | 4  | 2  | 2  | 2  | 2  | 2  | 2  | 2  | 2  | 2  |  2 |  2 |\n",
       "| 0114 Upplands Väsby | The Liberal Party              | 4  | 5  | 5  | 3  | 6  | 7  | 6  | 4  | 4  | 8  | 6  | 6  | 4  |  3 |  2 |\n",
       "| 0114 Upplands Väsby | The Christian Democratic Party | 0  | 0  | 0  | 1  | 0  | 0  | 2  | 1  | 3  | 3  | 3  | 2  | 2  |  3 |  2 |\n",
       "| 0114 Upplands Väsby | The Green Party                | 0  | 0  | 0  | 1  | 2  | 4  | 2  | 3  | 2  | 2  | 3  | 5  | 5  |  2 |  2 |\n",
       "| 0114 Upplands Väsby | The Social Democratic Party    | 19 | 19 | 23 | 24 | 23 | 23 | 18 | 24 | 18 | 20 | 16 | 15 | 16 | 13 | 14 |\n",
       "\n"
      ],
      "text/plain": [
       "  region              party                          1973 1976 1979 1982 1985\n",
       "1 0114 Upplands Väsby The Moderate Party             6    7    10   13   13  \n",
       "2 0114 Upplands Väsby The Centre Party               9    7    6    4    2   \n",
       "3 0114 Upplands Väsby The Liberal Party              4    5    5    3    6   \n",
       "4 0114 Upplands Väsby The Christian Democratic Party 0    0    0    1    0   \n",
       "5 0114 Upplands Väsby The Green Party                0    0    0    1    2   \n",
       "6 0114 Upplands Väsby The Social Democratic Party    19   19   23   24   23  \n",
       "  1988 1991 1994 1998 2002 2006 2010 2014 2018 2022\n",
       "1 12   15   14   16   11   17   17   13   12   11  \n",
       "2 2    2    2    2    2    2    2    2     2    2  \n",
       "3 7    6    4    4    8    6    6    4     3    2  \n",
       "4 0    2    1    3    3    3    2    2     3    2  \n",
       "5 4    2    3    2    2    3    5    5     2    2  \n",
       "6 23   18   24   18   20   16   15   16   13   14  "
      ]
     },
     "metadata": {},
     "output_type": "display_data"
    }
   ],
   "source": [
    "print(colSums(political_seats == \"..\"))\n",
    "\n",
    "political_seats[political_seats==\"..\"] <- \"0\"\n",
    "\n",
    "print(colSums(political_seats == \"..\"))\n",
    "head(political_seats)"
   ]
  },
  {
   "attachments": {},
   "cell_type": "markdown",
   "metadata": {},
   "source": [
    "Utilize the type.convert to automatically convert each column to a fitting data-type"
   ]
  },
  {
   "cell_type": "code",
   "execution_count": 168,
   "metadata": {
    "vscode": {
     "languageId": "r"
    }
   },
   "outputs": [],
   "source": [
    "political_seats <- type.convert(political_seats, as.is = T)"
   ]
  },
  {
   "attachments": {},
   "cell_type": "markdown",
   "metadata": {},
   "source": [
    "Pivot each year to a new column with the column names as values instead"
   ]
  },
  {
   "cell_type": "code",
   "execution_count": 169,
   "metadata": {
    "vscode": {
     "languageId": "r"
    }
   },
   "outputs": [
    {
     "data": {
      "text/html": [
       "<table class=\"dataframe\">\n",
       "<caption>A tibble: 6 × 4</caption>\n",
       "<thead>\n",
       "\t<tr><th scope=col>region</th><th scope=col>party</th><th scope=col>year</th><th scope=col>value</th></tr>\n",
       "\t<tr><th scope=col>&lt;chr&gt;</th><th scope=col>&lt;chr&gt;</th><th scope=col>&lt;chr&gt;</th><th scope=col>&lt;int&gt;</th></tr>\n",
       "</thead>\n",
       "<tbody>\n",
       "\t<tr><td>0114 Upplands Väsby</td><td>The Moderate Party</td><td>1973</td><td> 6</td></tr>\n",
       "\t<tr><td>0114 Upplands Väsby</td><td>The Moderate Party</td><td>1976</td><td> 7</td></tr>\n",
       "\t<tr><td>0114 Upplands Väsby</td><td>The Moderate Party</td><td>1979</td><td>10</td></tr>\n",
       "\t<tr><td>0114 Upplands Väsby</td><td>The Moderate Party</td><td>1982</td><td>13</td></tr>\n",
       "\t<tr><td>0114 Upplands Väsby</td><td>The Moderate Party</td><td>1985</td><td>13</td></tr>\n",
       "\t<tr><td>0114 Upplands Väsby</td><td>The Moderate Party</td><td>1988</td><td>12</td></tr>\n",
       "</tbody>\n",
       "</table>\n"
      ],
      "text/latex": [
       "A tibble: 6 × 4\n",
       "\\begin{tabular}{llll}\n",
       " region & party & year & value\\\\\n",
       " <chr> & <chr> & <chr> & <int>\\\\\n",
       "\\hline\n",
       "\t 0114 Upplands Väsby & The Moderate Party & 1973 &  6\\\\\n",
       "\t 0114 Upplands Väsby & The Moderate Party & 1976 &  7\\\\\n",
       "\t 0114 Upplands Väsby & The Moderate Party & 1979 & 10\\\\\n",
       "\t 0114 Upplands Väsby & The Moderate Party & 1982 & 13\\\\\n",
       "\t 0114 Upplands Väsby & The Moderate Party & 1985 & 13\\\\\n",
       "\t 0114 Upplands Väsby & The Moderate Party & 1988 & 12\\\\\n",
       "\\end{tabular}\n"
      ],
      "text/markdown": [
       "\n",
       "A tibble: 6 × 4\n",
       "\n",
       "| region &lt;chr&gt; | party &lt;chr&gt; | year &lt;chr&gt; | value &lt;int&gt; |\n",
       "|---|---|---|---|\n",
       "| 0114 Upplands Väsby | The Moderate Party | 1973 |  6 |\n",
       "| 0114 Upplands Väsby | The Moderate Party | 1976 |  7 |\n",
       "| 0114 Upplands Väsby | The Moderate Party | 1979 | 10 |\n",
       "| 0114 Upplands Väsby | The Moderate Party | 1982 | 13 |\n",
       "| 0114 Upplands Väsby | The Moderate Party | 1985 | 13 |\n",
       "| 0114 Upplands Väsby | The Moderate Party | 1988 | 12 |\n",
       "\n"
      ],
      "text/plain": [
       "  region              party              year value\n",
       "1 0114 Upplands Väsby The Moderate Party 1973  6   \n",
       "2 0114 Upplands Väsby The Moderate Party 1976  7   \n",
       "3 0114 Upplands Väsby The Moderate Party 1979 10   \n",
       "4 0114 Upplands Väsby The Moderate Party 1982 13   \n",
       "5 0114 Upplands Väsby The Moderate Party 1985 13   \n",
       "6 0114 Upplands Väsby The Moderate Party 1988 12   "
      ]
     },
     "metadata": {},
     "output_type": "display_data"
    }
   ],
   "source": [
    "political_seats <- political_seats %>%\n",
    "    pivot_longer(\n",
    "        cols = -c(region, party),\n",
    "        names_to = \"year\",\n",
    "        values_to = \"value\"\n",
    "    )\n",
    "head(political_seats)"
   ]
  },
  {
   "attachments": {},
   "cell_type": "markdown",
   "metadata": {},
   "source": [
    "Convert each political party from the column party to new columns"
   ]
  },
  {
   "cell_type": "code",
   "execution_count": 170,
   "metadata": {
    "vscode": {
     "languageId": "r"
    }
   },
   "outputs": [
    {
     "data": {
      "text/html": [
       "<table class=\"dataframe\">\n",
       "<caption>A tibble: 6 × 11</caption>\n",
       "<thead>\n",
       "\t<tr><th scope=col>region</th><th scope=col>year</th><th scope=col>The Moderate Party</th><th scope=col>The Centre Party</th><th scope=col>The Liberal Party</th><th scope=col>The Christian Democratic Party</th><th scope=col>The Green Party</th><th scope=col>The Social Democratic Party</th><th scope=col>The Left Party</th><th scope=col>The Sweden Democrats</th><th scope=col>Other Parties</th></tr>\n",
       "\t<tr><th scope=col>&lt;chr&gt;</th><th scope=col>&lt;chr&gt;</th><th scope=col>&lt;int&gt;</th><th scope=col>&lt;int&gt;</th><th scope=col>&lt;int&gt;</th><th scope=col>&lt;int&gt;</th><th scope=col>&lt;int&gt;</th><th scope=col>&lt;int&gt;</th><th scope=col>&lt;int&gt;</th><th scope=col>&lt;int&gt;</th><th scope=col>&lt;int&gt;</th></tr>\n",
       "</thead>\n",
       "<tbody>\n",
       "\t<tr><td>0114 Upplands Väsby</td><td>1973</td><td> 6</td><td>9</td><td>4</td><td>0</td><td>0</td><td>19</td><td>3</td><td>0</td><td>0</td></tr>\n",
       "\t<tr><td>0114 Upplands Väsby</td><td>1976</td><td> 7</td><td>7</td><td>5</td><td>0</td><td>0</td><td>19</td><td>3</td><td>0</td><td>0</td></tr>\n",
       "\t<tr><td>0114 Upplands Väsby</td><td>1979</td><td>10</td><td>6</td><td>5</td><td>0</td><td>0</td><td>23</td><td>4</td><td>0</td><td>1</td></tr>\n",
       "\t<tr><td>0114 Upplands Väsby</td><td>1982</td><td>13</td><td>4</td><td>3</td><td>1</td><td>1</td><td>24</td><td>3</td><td>0</td><td>0</td></tr>\n",
       "\t<tr><td>0114 Upplands Väsby</td><td>1985</td><td>13</td><td>2</td><td>6</td><td>0</td><td>2</td><td>23</td><td>3</td><td>0</td><td>0</td></tr>\n",
       "\t<tr><td>0114 Upplands Väsby</td><td>1988</td><td>12</td><td>2</td><td>7</td><td>0</td><td>4</td><td>23</td><td>3</td><td>0</td><td>0</td></tr>\n",
       "</tbody>\n",
       "</table>\n"
      ],
      "text/latex": [
       "A tibble: 6 × 11\n",
       "\\begin{tabular}{lllllllllll}\n",
       " region & year & The Moderate Party & The Centre Party & The Liberal Party & The Christian Democratic Party & The Green Party & The Social Democratic Party & The Left Party & The Sweden Democrats & Other Parties\\\\\n",
       " <chr> & <chr> & <int> & <int> & <int> & <int> & <int> & <int> & <int> & <int> & <int>\\\\\n",
       "\\hline\n",
       "\t 0114 Upplands Väsby & 1973 &  6 & 9 & 4 & 0 & 0 & 19 & 3 & 0 & 0\\\\\n",
       "\t 0114 Upplands Väsby & 1976 &  7 & 7 & 5 & 0 & 0 & 19 & 3 & 0 & 0\\\\\n",
       "\t 0114 Upplands Väsby & 1979 & 10 & 6 & 5 & 0 & 0 & 23 & 4 & 0 & 1\\\\\n",
       "\t 0114 Upplands Väsby & 1982 & 13 & 4 & 3 & 1 & 1 & 24 & 3 & 0 & 0\\\\\n",
       "\t 0114 Upplands Väsby & 1985 & 13 & 2 & 6 & 0 & 2 & 23 & 3 & 0 & 0\\\\\n",
       "\t 0114 Upplands Väsby & 1988 & 12 & 2 & 7 & 0 & 4 & 23 & 3 & 0 & 0\\\\\n",
       "\\end{tabular}\n"
      ],
      "text/markdown": [
       "\n",
       "A tibble: 6 × 11\n",
       "\n",
       "| region &lt;chr&gt; | year &lt;chr&gt; | The Moderate Party &lt;int&gt; | The Centre Party &lt;int&gt; | The Liberal Party &lt;int&gt; | The Christian Democratic Party &lt;int&gt; | The Green Party &lt;int&gt; | The Social Democratic Party &lt;int&gt; | The Left Party &lt;int&gt; | The Sweden Democrats &lt;int&gt; | Other Parties &lt;int&gt; |\n",
       "|---|---|---|---|---|---|---|---|---|---|---|\n",
       "| 0114 Upplands Väsby | 1973 |  6 | 9 | 4 | 0 | 0 | 19 | 3 | 0 | 0 |\n",
       "| 0114 Upplands Väsby | 1976 |  7 | 7 | 5 | 0 | 0 | 19 | 3 | 0 | 0 |\n",
       "| 0114 Upplands Väsby | 1979 | 10 | 6 | 5 | 0 | 0 | 23 | 4 | 0 | 1 |\n",
       "| 0114 Upplands Väsby | 1982 | 13 | 4 | 3 | 1 | 1 | 24 | 3 | 0 | 0 |\n",
       "| 0114 Upplands Väsby | 1985 | 13 | 2 | 6 | 0 | 2 | 23 | 3 | 0 | 0 |\n",
       "| 0114 Upplands Väsby | 1988 | 12 | 2 | 7 | 0 | 4 | 23 | 3 | 0 | 0 |\n",
       "\n"
      ],
      "text/plain": [
       "  region              year The Moderate Party The Centre Party\n",
       "1 0114 Upplands Väsby 1973  6                 9               \n",
       "2 0114 Upplands Väsby 1976  7                 7               \n",
       "3 0114 Upplands Väsby 1979 10                 6               \n",
       "4 0114 Upplands Väsby 1982 13                 4               \n",
       "5 0114 Upplands Väsby 1985 13                 2               \n",
       "6 0114 Upplands Väsby 1988 12                 2               \n",
       "  The Liberal Party The Christian Democratic Party The Green Party\n",
       "1 4                 0                              0              \n",
       "2 5                 0                              0              \n",
       "3 5                 0                              0              \n",
       "4 3                 1                              1              \n",
       "5 6                 0                              2              \n",
       "6 7                 0                              4              \n",
       "  The Social Democratic Party The Left Party The Sweden Democrats Other Parties\n",
       "1 19                          3              0                    0            \n",
       "2 19                          3              0                    0            \n",
       "3 23                          4              0                    1            \n",
       "4 24                          3              0                    0            \n",
       "5 23                          3              0                    0            \n",
       "6 23                          3              0                    0            "
      ]
     },
     "metadata": {},
     "output_type": "display_data"
    }
   ],
   "source": [
    "political_seats <- political_seats %>% \n",
    "    pivot_wider(\n",
    "        names_from = party,\n",
    "        values_from = value\n",
    "    )\n",
    "head(political_seats)"
   ]
  },
  {
   "attachments": {},
   "cell_type": "markdown",
   "metadata": {},
   "source": [
    "### Income Statements"
   ]
  },
  {
   "attachments": {},
   "cell_type": "markdown",
   "metadata": {},
   "source": [
    "Read the income statements dataset.\n",
    "Remove the year 2022 since the data is insufficient for that election period.\n",
    "Replace null values (\"..\") with zeroes.\n",
    "Convert each column automatically to a suitable data-type."
   ]
  },
  {
   "cell_type": "code",
   "execution_count": 171,
   "metadata": {
    "vscode": {
     "languageId": "r"
    }
   },
   "outputs": [
    {
     "name": "stderr",
     "output_type": "stream",
     "text": [
      "Warning message:\n",
      "\"\u001b[1m\u001b[22mOne or more parsing issues, call `problems()` on your data frame for details,\n",
      "e.g.:\n",
      "  dat <- vroom(...)\n",
      "  problems(dat)\"\n",
      "\u001b[1mRows: \u001b[22m\u001b[34m2900\u001b[39m \u001b[1mColumns: \u001b[22m\u001b[34m27\u001b[39m\n",
      "\u001b[36m──\u001b[39m \u001b[1mColumn specification\u001b[22m \u001b[36m────────────────────────────────────────────────────────\u001b[39m\n",
      "\u001b[1mDelimiter:\u001b[22m \",\"\n",
      "\u001b[31mchr\u001b[39m  (7): region, Income statement, 1998, 1999, 2000, 2001, 2002\n",
      "\u001b[32mdbl\u001b[39m (20): 2003, 2004, 2005, 2006, 2007, 2008, 2009, 2010, 2011, 2012, 2013, ...\n",
      "\n",
      "\u001b[36mℹ\u001b[39m Use `spec()` to retrieve the full column specification for this data.\n",
      "\u001b[36mℹ\u001b[39m Specify the column types or set `show_col_types = FALSE` to quiet this message.\n"
     ]
    },
    {
     "data": {
      "text/html": [
       "<table class=\"dataframe\">\n",
       "<caption>A tibble: 6 × 26</caption>\n",
       "<thead>\n",
       "\t<tr><th scope=col>region</th><th scope=col>Income statement</th><th scope=col>1998</th><th scope=col>1999</th><th scope=col>2000</th><th scope=col>2001</th><th scope=col>2002</th><th scope=col>2003</th><th scope=col>2004</th><th scope=col>2005</th><th scope=col>⋯</th><th scope=col>2012</th><th scope=col>2013</th><th scope=col>2014</th><th scope=col>2015</th><th scope=col>2016</th><th scope=col>2017</th><th scope=col>2018</th><th scope=col>2019</th><th scope=col>2020</th><th scope=col>2021</th></tr>\n",
       "\t<tr><th scope=col>&lt;chr&gt;</th><th scope=col>&lt;chr&gt;</th><th scope=col>&lt;int&gt;</th><th scope=col>&lt;int&gt;</th><th scope=col>&lt;int&gt;</th><th scope=col>&lt;int&gt;</th><th scope=col>&lt;int&gt;</th><th scope=col>&lt;int&gt;</th><th scope=col>&lt;int&gt;</th><th scope=col>&lt;int&gt;</th><th scope=col>⋯</th><th scope=col>&lt;int&gt;</th><th scope=col>&lt;int&gt;</th><th scope=col>&lt;int&gt;</th><th scope=col>&lt;int&gt;</th><th scope=col>&lt;int&gt;</th><th scope=col>&lt;int&gt;</th><th scope=col>&lt;int&gt;</th><th scope=col>&lt;int&gt;</th><th scope=col>&lt;int&gt;</th><th scope=col>&lt;int&gt;</th></tr>\n",
       "</thead>\n",
       "<tbody>\n",
       "\t<tr><td>0114 Upplands Väsby</td><td>Total income for operations           </td><td>  313859</td><td>  320220</td><td>  336174</td><td>  336141</td><td>  323270</td><td>  326945</td><td>  338661</td><td>  294027</td><td>⋯</td><td>  471479</td><td>  535209</td><td>  456069</td><td>  481597</td><td>  583319</td><td>  679812</td><td>  647216</td><td>  761770</td><td>  821974</td><td>  695537</td></tr>\n",
       "\t<tr><td>0114 Upplands Väsby</td><td>Total costs for operations            </td><td>-1141598</td><td>-1203938</td><td>-1252714</td><td>-1350430</td><td>-1394331</td><td>-1425350</td><td>-1436221</td><td>-1482268</td><td>⋯</td><td>-2118627</td><td>-2151509</td><td>-2243467</td><td>-2334378</td><td>-2569542</td><td>-2763185</td><td>-2855518</td><td>-2991574</td><td>-3141144</td><td>-3196316</td></tr>\n",
       "\t<tr><td>0114 Upplands Väsby</td><td>Total net current costs               </td><td> -889629</td><td> -952527</td><td> -985316</td><td>-1087250</td><td>-1141651</td><td>-1173078</td><td>-1173210</td><td>-1262964</td><td>⋯</td><td>-1707148</td><td>-1727400</td><td>-1860350</td><td>-2030832</td><td>-2075700</td><td>-2192740</td><td>-2325264</td><td>-2362143</td><td>-2445112</td><td>-2628115</td></tr>\n",
       "\t<tr><td>0114 Upplands Väsby</td><td>Tax revenues                          </td><td>  897383</td><td>  949536</td><td> 1030710</td><td> 1114591</td><td> 1187046</td><td> 1261155</td><td> 1261098</td><td> 1261400</td><td>⋯</td><td> 1527012</td><td> 1591627</td><td> 1647867</td><td> 1754223</td><td> 1853785</td><td> 1944788</td><td> 1994208</td><td> 2076660</td><td> 2084321</td><td> 2235203</td></tr>\n",
       "\t<tr><td>0114 Upplands Väsby</td><td>General grants and equalisation grants</td><td>   45111</td><td>   45305</td><td>   20248</td><td>  -15154</td><td>  -44613</td><td>  -85979</td><td>  -78680</td><td>   11879</td><td>⋯</td><td>  219247</td><td>  234573</td><td>  250406</td><td>  227687</td><td>  256824</td><td>  326711</td><td>  342292</td><td>  378413</td><td>  570439</td><td>  571510</td></tr>\n",
       "\t<tr><td>0114 Upplands Väsby</td><td>Net profit/loss for operations        </td><td>       0</td><td>       0</td><td>       0</td><td>       0</td><td>       0</td><td>       0</td><td>       0</td><td>       0</td><td>⋯</td><td>       0</td><td>       0</td><td>       0</td><td>       0</td><td>       0</td><td>       0</td><td>       0</td><td>   92930</td><td>  209648</td><td>  178598</td></tr>\n",
       "</tbody>\n",
       "</table>\n"
      ],
      "text/latex": [
       "A tibble: 6 × 26\n",
       "\\begin{tabular}{lllllllllllllllllllll}\n",
       " region & Income statement & 1998 & 1999 & 2000 & 2001 & 2002 & 2003 & 2004 & 2005 & ⋯ & 2012 & 2013 & 2014 & 2015 & 2016 & 2017 & 2018 & 2019 & 2020 & 2021\\\\\n",
       " <chr> & <chr> & <int> & <int> & <int> & <int> & <int> & <int> & <int> & <int> & ⋯ & <int> & <int> & <int> & <int> & <int> & <int> & <int> & <int> & <int> & <int>\\\\\n",
       "\\hline\n",
       "\t 0114 Upplands Väsby & Total income for operations            &   313859 &   320220 &   336174 &   336141 &   323270 &   326945 &   338661 &   294027 & ⋯ &   471479 &   535209 &   456069 &   481597 &   583319 &   679812 &   647216 &   761770 &   821974 &   695537\\\\\n",
       "\t 0114 Upplands Väsby & Total costs for operations             & -1141598 & -1203938 & -1252714 & -1350430 & -1394331 & -1425350 & -1436221 & -1482268 & ⋯ & -2118627 & -2151509 & -2243467 & -2334378 & -2569542 & -2763185 & -2855518 & -2991574 & -3141144 & -3196316\\\\\n",
       "\t 0114 Upplands Väsby & Total net current costs                &  -889629 &  -952527 &  -985316 & -1087250 & -1141651 & -1173078 & -1173210 & -1262964 & ⋯ & -1707148 & -1727400 & -1860350 & -2030832 & -2075700 & -2192740 & -2325264 & -2362143 & -2445112 & -2628115\\\\\n",
       "\t 0114 Upplands Väsby & Tax revenues                           &   897383 &   949536 &  1030710 &  1114591 &  1187046 &  1261155 &  1261098 &  1261400 & ⋯ &  1527012 &  1591627 &  1647867 &  1754223 &  1853785 &  1944788 &  1994208 &  2076660 &  2084321 &  2235203\\\\\n",
       "\t 0114 Upplands Väsby & General grants and equalisation grants &    45111 &    45305 &    20248 &   -15154 &   -44613 &   -85979 &   -78680 &    11879 & ⋯ &   219247 &   234573 &   250406 &   227687 &   256824 &   326711 &   342292 &   378413 &   570439 &   571510\\\\\n",
       "\t 0114 Upplands Väsby & Net profit/loss for operations         &        0 &        0 &        0 &        0 &        0 &        0 &        0 &        0 & ⋯ &        0 &        0 &        0 &        0 &        0 &        0 &        0 &    92930 &   209648 &   178598\\\\\n",
       "\\end{tabular}\n"
      ],
      "text/markdown": [
       "\n",
       "A tibble: 6 × 26\n",
       "\n",
       "| region &lt;chr&gt; | Income statement &lt;chr&gt; | 1998 &lt;int&gt; | 1999 &lt;int&gt; | 2000 &lt;int&gt; | 2001 &lt;int&gt; | 2002 &lt;int&gt; | 2003 &lt;int&gt; | 2004 &lt;int&gt; | 2005 &lt;int&gt; | ⋯ ⋯ | 2012 &lt;int&gt; | 2013 &lt;int&gt; | 2014 &lt;int&gt; | 2015 &lt;int&gt; | 2016 &lt;int&gt; | 2017 &lt;int&gt; | 2018 &lt;int&gt; | 2019 &lt;int&gt; | 2020 &lt;int&gt; | 2021 &lt;int&gt; |\n",
       "|---|---|---|---|---|---|---|---|---|---|---|---|---|---|---|---|---|---|---|---|---|\n",
       "| 0114 Upplands Väsby | Total income for operations            |   313859 |   320220 |   336174 |   336141 |   323270 |   326945 |   338661 |   294027 | ⋯ |   471479 |   535209 |   456069 |   481597 |   583319 |   679812 |   647216 |   761770 |   821974 |   695537 |\n",
       "| 0114 Upplands Väsby | Total costs for operations             | -1141598 | -1203938 | -1252714 | -1350430 | -1394331 | -1425350 | -1436221 | -1482268 | ⋯ | -2118627 | -2151509 | -2243467 | -2334378 | -2569542 | -2763185 | -2855518 | -2991574 | -3141144 | -3196316 |\n",
       "| 0114 Upplands Väsby | Total net current costs                |  -889629 |  -952527 |  -985316 | -1087250 | -1141651 | -1173078 | -1173210 | -1262964 | ⋯ | -1707148 | -1727400 | -1860350 | -2030832 | -2075700 | -2192740 | -2325264 | -2362143 | -2445112 | -2628115 |\n",
       "| 0114 Upplands Väsby | Tax revenues                           |   897383 |   949536 |  1030710 |  1114591 |  1187046 |  1261155 |  1261098 |  1261400 | ⋯ |  1527012 |  1591627 |  1647867 |  1754223 |  1853785 |  1944788 |  1994208 |  2076660 |  2084321 |  2235203 |\n",
       "| 0114 Upplands Väsby | General grants and equalisation grants |    45111 |    45305 |    20248 |   -15154 |   -44613 |   -85979 |   -78680 |    11879 | ⋯ |   219247 |   234573 |   250406 |   227687 |   256824 |   326711 |   342292 |   378413 |   570439 |   571510 |\n",
       "| 0114 Upplands Väsby | Net profit/loss for operations         |        0 |        0 |        0 |        0 |        0 |        0 |        0 |        0 | ⋯ |        0 |        0 |        0 |        0 |        0 |        0 |        0 |    92930 |   209648 |   178598 |\n",
       "\n"
      ],
      "text/plain": [
       "  region              Income statement                       1998     1999    \n",
       "1 0114 Upplands Väsby Total income for operations              313859   320220\n",
       "2 0114 Upplands Väsby Total costs for operations             -1141598 -1203938\n",
       "3 0114 Upplands Väsby Total net current costs                 -889629  -952527\n",
       "4 0114 Upplands Väsby Tax revenues                             897383   949536\n",
       "5 0114 Upplands Väsby General grants and equalisation grants    45111    45305\n",
       "6 0114 Upplands Väsby Net profit/loss for operations                0        0\n",
       "  2000     2001     2002     2003     2004     2005     ⋯ 2012     2013    \n",
       "1   336174   336141   323270   326945   338661   294027 ⋯   471479   535209\n",
       "2 -1252714 -1350430 -1394331 -1425350 -1436221 -1482268 ⋯ -2118627 -2151509\n",
       "3  -985316 -1087250 -1141651 -1173078 -1173210 -1262964 ⋯ -1707148 -1727400\n",
       "4  1030710  1114591  1187046  1261155  1261098  1261400 ⋯  1527012  1591627\n",
       "5    20248   -15154   -44613   -85979   -78680    11879 ⋯   219247   234573\n",
       "6        0        0        0        0        0        0 ⋯        0        0\n",
       "  2014     2015     2016     2017     2018     2019     2020     2021    \n",
       "1   456069   481597   583319   679812   647216   761770   821974   695537\n",
       "2 -2243467 -2334378 -2569542 -2763185 -2855518 -2991574 -3141144 -3196316\n",
       "3 -1860350 -2030832 -2075700 -2192740 -2325264 -2362143 -2445112 -2628115\n",
       "4  1647867  1754223  1853785  1944788  1994208  2076660  2084321  2235203\n",
       "5   250406   227687   256824   326711   342292   378413   570439   571510\n",
       "6        0        0        0        0        0    92930   209648   178598"
      ]
     },
     "metadata": {},
     "output_type": "display_data"
    }
   ],
   "source": [
    "income <- read_delim(\"../datasets/income_statements.csv\", delim = \",\", locale = locale(encoding = \"ISO-8859-1\"), skip = 2)\n",
    "income <- income[ , !(names(income) %in% \"2022\")]\n",
    "income[income == \"..\"] <- \"0\"\n",
    "income[is.na(income)] <- 0\n",
    "income <- type.convert(income, as.is = T)\n",
    "head(income, show_col_types = FALSE)"
   ]
  },
  {
   "attachments": {},
   "cell_type": "markdown",
   "metadata": {},
   "source": [
    "Pivot the yearly column names to a new column with the column names as values instead."
   ]
  },
  {
   "cell_type": "code",
   "execution_count": 172,
   "metadata": {
    "vscode": {
     "languageId": "r"
    }
   },
   "outputs": [
    {
     "data": {
      "text/html": [
       "<table class=\"dataframe\">\n",
       "<caption>A tibble: 69600 × 4</caption>\n",
       "<thead>\n",
       "\t<tr><th scope=col>region</th><th scope=col>Income statement</th><th scope=col>year</th><th scope=col>values</th></tr>\n",
       "\t<tr><th scope=col>&lt;chr&gt;</th><th scope=col>&lt;chr&gt;</th><th scope=col>&lt;chr&gt;</th><th scope=col>&lt;int&gt;</th></tr>\n",
       "</thead>\n",
       "<tbody>\n",
       "\t<tr><td>0114 Upplands Väsby</td><td>Total income for operations</td><td>1998</td><td>  313859</td></tr>\n",
       "\t<tr><td>0114 Upplands Väsby</td><td>Total income for operations</td><td>1999</td><td>  320220</td></tr>\n",
       "\t<tr><td>0114 Upplands Väsby</td><td>Total income for operations</td><td>2000</td><td>  336174</td></tr>\n",
       "\t<tr><td>0114 Upplands Väsby</td><td>Total income for operations</td><td>2001</td><td>  336141</td></tr>\n",
       "\t<tr><td>0114 Upplands Väsby</td><td>Total income for operations</td><td>2002</td><td>  323270</td></tr>\n",
       "\t<tr><td>0114 Upplands Väsby</td><td>Total income for operations</td><td>2003</td><td>  326945</td></tr>\n",
       "\t<tr><td>0114 Upplands Väsby</td><td>Total income for operations</td><td>2004</td><td>  338661</td></tr>\n",
       "\t<tr><td>0114 Upplands Väsby</td><td>Total income for operations</td><td>2005</td><td>  294027</td></tr>\n",
       "\t<tr><td>0114 Upplands Väsby</td><td>Total income for operations</td><td>2006</td><td>  316172</td></tr>\n",
       "\t<tr><td>0114 Upplands Väsby</td><td>Total income for operations</td><td>2007</td><td>  306945</td></tr>\n",
       "\t<tr><td>0114 Upplands Väsby</td><td>Total income for operations</td><td>2008</td><td>  361300</td></tr>\n",
       "\t<tr><td>0114 Upplands Väsby</td><td>Total income for operations</td><td>2009</td><td>  389718</td></tr>\n",
       "\t<tr><td>0114 Upplands Väsby</td><td>Total income for operations</td><td>2010</td><td>  416746</td></tr>\n",
       "\t<tr><td>0114 Upplands Väsby</td><td>Total income for operations</td><td>2011</td><td>  417300</td></tr>\n",
       "\t<tr><td>0114 Upplands Väsby</td><td>Total income for operations</td><td>2012</td><td>  471479</td></tr>\n",
       "\t<tr><td>0114 Upplands Väsby</td><td>Total income for operations</td><td>2013</td><td>  535209</td></tr>\n",
       "\t<tr><td>0114 Upplands Väsby</td><td>Total income for operations</td><td>2014</td><td>  456069</td></tr>\n",
       "\t<tr><td>0114 Upplands Väsby</td><td>Total income for operations</td><td>2015</td><td>  481597</td></tr>\n",
       "\t<tr><td>0114 Upplands Väsby</td><td>Total income for operations</td><td>2016</td><td>  583319</td></tr>\n",
       "\t<tr><td>0114 Upplands Väsby</td><td>Total income for operations</td><td>2017</td><td>  679812</td></tr>\n",
       "\t<tr><td>0114 Upplands Väsby</td><td>Total income for operations</td><td>2018</td><td>  647216</td></tr>\n",
       "\t<tr><td>0114 Upplands Väsby</td><td>Total income for operations</td><td>2019</td><td>  761770</td></tr>\n",
       "\t<tr><td>0114 Upplands Väsby</td><td>Total income for operations</td><td>2020</td><td>  821974</td></tr>\n",
       "\t<tr><td>0114 Upplands Väsby</td><td>Total income for operations</td><td>2021</td><td>  695537</td></tr>\n",
       "\t<tr><td>0114 Upplands Väsby</td><td>Total costs for operations </td><td>1998</td><td>-1141598</td></tr>\n",
       "\t<tr><td>0114 Upplands Väsby</td><td>Total costs for operations </td><td>1999</td><td>-1203938</td></tr>\n",
       "\t<tr><td>0114 Upplands Väsby</td><td>Total costs for operations </td><td>2000</td><td>-1252714</td></tr>\n",
       "\t<tr><td>0114 Upplands Väsby</td><td>Total costs for operations </td><td>2001</td><td>-1350430</td></tr>\n",
       "\t<tr><td>0114 Upplands Väsby</td><td>Total costs for operations </td><td>2002</td><td>-1394331</td></tr>\n",
       "\t<tr><td>0114 Upplands Väsby</td><td>Total costs for operations </td><td>2003</td><td>-1425350</td></tr>\n",
       "\t<tr><td>⋮</td><td>⋮</td><td>⋮</td><td>⋮</td></tr>\n",
       "\t<tr><td>2584 Kiruna</td><td>Net profit/loss after financial items</td><td>2016</td><td>    795</td></tr>\n",
       "\t<tr><td>2584 Kiruna</td><td>Net profit/loss after financial items</td><td>2017</td><td>  65444</td></tr>\n",
       "\t<tr><td>2584 Kiruna</td><td>Net profit/loss after financial items</td><td>2018</td><td> 612491</td></tr>\n",
       "\t<tr><td>2584 Kiruna</td><td>Net profit/loss after financial items</td><td>2019</td><td> 127898</td></tr>\n",
       "\t<tr><td>2584 Kiruna</td><td>Net profit/loss after financial items</td><td>2020</td><td> 287593</td></tr>\n",
       "\t<tr><td>2584 Kiruna</td><td>Net profit/loss after financial items</td><td>2021</td><td> 799074</td></tr>\n",
       "\t<tr><td>2584 Kiruna</td><td>Net profit/loss for the year         </td><td>1998</td><td> -16441</td></tr>\n",
       "\t<tr><td>2584 Kiruna</td><td>Net profit/loss for the year         </td><td>1999</td><td> -50404</td></tr>\n",
       "\t<tr><td>2584 Kiruna</td><td>Net profit/loss for the year         </td><td>2000</td><td>   4540</td></tr>\n",
       "\t<tr><td>2584 Kiruna</td><td>Net profit/loss for the year         </td><td>2001</td><td>  -6432</td></tr>\n",
       "\t<tr><td>2584 Kiruna</td><td>Net profit/loss for the year         </td><td>2002</td><td> -27135</td></tr>\n",
       "\t<tr><td>2584 Kiruna</td><td>Net profit/loss for the year         </td><td>2003</td><td> -10105</td></tr>\n",
       "\t<tr><td>2584 Kiruna</td><td>Net profit/loss for the year         </td><td>2004</td><td>  16197</td></tr>\n",
       "\t<tr><td>2584 Kiruna</td><td>Net profit/loss for the year         </td><td>2005</td><td>  36350</td></tr>\n",
       "\t<tr><td>2584 Kiruna</td><td>Net profit/loss for the year         </td><td>2006</td><td>  29137</td></tr>\n",
       "\t<tr><td>2584 Kiruna</td><td>Net profit/loss for the year         </td><td>2007</td><td>  34295</td></tr>\n",
       "\t<tr><td>2584 Kiruna</td><td>Net profit/loss for the year         </td><td>2008</td><td>    394</td></tr>\n",
       "\t<tr><td>2584 Kiruna</td><td>Net profit/loss for the year         </td><td>2009</td><td>  15620</td></tr>\n",
       "\t<tr><td>2584 Kiruna</td><td>Net profit/loss for the year         </td><td>2010</td><td>  24450</td></tr>\n",
       "\t<tr><td>2584 Kiruna</td><td>Net profit/loss for the year         </td><td>2011</td><td>  86760</td></tr>\n",
       "\t<tr><td>2584 Kiruna</td><td>Net profit/loss for the year         </td><td>2012</td><td>  13105</td></tr>\n",
       "\t<tr><td>2584 Kiruna</td><td>Net profit/loss for the year         </td><td>2013</td><td> -57874</td></tr>\n",
       "\t<tr><td>2584 Kiruna</td><td>Net profit/loss for the year         </td><td>2014</td><td> 341559</td></tr>\n",
       "\t<tr><td>2584 Kiruna</td><td>Net profit/loss for the year         </td><td>2015</td><td>2259704</td></tr>\n",
       "\t<tr><td>2584 Kiruna</td><td>Net profit/loss for the year         </td><td>2016</td><td>    795</td></tr>\n",
       "\t<tr><td>2584 Kiruna</td><td>Net profit/loss for the year         </td><td>2017</td><td>  65444</td></tr>\n",
       "\t<tr><td>2584 Kiruna</td><td>Net profit/loss for the year         </td><td>2018</td><td> 612491</td></tr>\n",
       "\t<tr><td>2584 Kiruna</td><td>Net profit/loss for the year         </td><td>2019</td><td> 127898</td></tr>\n",
       "\t<tr><td>2584 Kiruna</td><td>Net profit/loss for the year         </td><td>2020</td><td> 287593</td></tr>\n",
       "\t<tr><td>2584 Kiruna</td><td>Net profit/loss for the year         </td><td>2021</td><td> 799074</td></tr>\n",
       "</tbody>\n",
       "</table>\n"
      ],
      "text/latex": [
       "A tibble: 69600 × 4\n",
       "\\begin{tabular}{llll}\n",
       " region & Income statement & year & values\\\\\n",
       " <chr> & <chr> & <chr> & <int>\\\\\n",
       "\\hline\n",
       "\t 0114 Upplands Väsby & Total income for operations & 1998 &   313859\\\\\n",
       "\t 0114 Upplands Väsby & Total income for operations & 1999 &   320220\\\\\n",
       "\t 0114 Upplands Väsby & Total income for operations & 2000 &   336174\\\\\n",
       "\t 0114 Upplands Väsby & Total income for operations & 2001 &   336141\\\\\n",
       "\t 0114 Upplands Väsby & Total income for operations & 2002 &   323270\\\\\n",
       "\t 0114 Upplands Väsby & Total income for operations & 2003 &   326945\\\\\n",
       "\t 0114 Upplands Väsby & Total income for operations & 2004 &   338661\\\\\n",
       "\t 0114 Upplands Väsby & Total income for operations & 2005 &   294027\\\\\n",
       "\t 0114 Upplands Väsby & Total income for operations & 2006 &   316172\\\\\n",
       "\t 0114 Upplands Väsby & Total income for operations & 2007 &   306945\\\\\n",
       "\t 0114 Upplands Väsby & Total income for operations & 2008 &   361300\\\\\n",
       "\t 0114 Upplands Väsby & Total income for operations & 2009 &   389718\\\\\n",
       "\t 0114 Upplands Väsby & Total income for operations & 2010 &   416746\\\\\n",
       "\t 0114 Upplands Väsby & Total income for operations & 2011 &   417300\\\\\n",
       "\t 0114 Upplands Väsby & Total income for operations & 2012 &   471479\\\\\n",
       "\t 0114 Upplands Väsby & Total income for operations & 2013 &   535209\\\\\n",
       "\t 0114 Upplands Väsby & Total income for operations & 2014 &   456069\\\\\n",
       "\t 0114 Upplands Väsby & Total income for operations & 2015 &   481597\\\\\n",
       "\t 0114 Upplands Väsby & Total income for operations & 2016 &   583319\\\\\n",
       "\t 0114 Upplands Väsby & Total income for operations & 2017 &   679812\\\\\n",
       "\t 0114 Upplands Väsby & Total income for operations & 2018 &   647216\\\\\n",
       "\t 0114 Upplands Väsby & Total income for operations & 2019 &   761770\\\\\n",
       "\t 0114 Upplands Väsby & Total income for operations & 2020 &   821974\\\\\n",
       "\t 0114 Upplands Väsby & Total income for operations & 2021 &   695537\\\\\n",
       "\t 0114 Upplands Väsby & Total costs for operations  & 1998 & -1141598\\\\\n",
       "\t 0114 Upplands Väsby & Total costs for operations  & 1999 & -1203938\\\\\n",
       "\t 0114 Upplands Väsby & Total costs for operations  & 2000 & -1252714\\\\\n",
       "\t 0114 Upplands Väsby & Total costs for operations  & 2001 & -1350430\\\\\n",
       "\t 0114 Upplands Väsby & Total costs for operations  & 2002 & -1394331\\\\\n",
       "\t 0114 Upplands Väsby & Total costs for operations  & 2003 & -1425350\\\\\n",
       "\t ⋮ & ⋮ & ⋮ & ⋮\\\\\n",
       "\t 2584 Kiruna & Net profit/loss after financial items & 2016 &     795\\\\\n",
       "\t 2584 Kiruna & Net profit/loss after financial items & 2017 &   65444\\\\\n",
       "\t 2584 Kiruna & Net profit/loss after financial items & 2018 &  612491\\\\\n",
       "\t 2584 Kiruna & Net profit/loss after financial items & 2019 &  127898\\\\\n",
       "\t 2584 Kiruna & Net profit/loss after financial items & 2020 &  287593\\\\\n",
       "\t 2584 Kiruna & Net profit/loss after financial items & 2021 &  799074\\\\\n",
       "\t 2584 Kiruna & Net profit/loss for the year          & 1998 &  -16441\\\\\n",
       "\t 2584 Kiruna & Net profit/loss for the year          & 1999 &  -50404\\\\\n",
       "\t 2584 Kiruna & Net profit/loss for the year          & 2000 &    4540\\\\\n",
       "\t 2584 Kiruna & Net profit/loss for the year          & 2001 &   -6432\\\\\n",
       "\t 2584 Kiruna & Net profit/loss for the year          & 2002 &  -27135\\\\\n",
       "\t 2584 Kiruna & Net profit/loss for the year          & 2003 &  -10105\\\\\n",
       "\t 2584 Kiruna & Net profit/loss for the year          & 2004 &   16197\\\\\n",
       "\t 2584 Kiruna & Net profit/loss for the year          & 2005 &   36350\\\\\n",
       "\t 2584 Kiruna & Net profit/loss for the year          & 2006 &   29137\\\\\n",
       "\t 2584 Kiruna & Net profit/loss for the year          & 2007 &   34295\\\\\n",
       "\t 2584 Kiruna & Net profit/loss for the year          & 2008 &     394\\\\\n",
       "\t 2584 Kiruna & Net profit/loss for the year          & 2009 &   15620\\\\\n",
       "\t 2584 Kiruna & Net profit/loss for the year          & 2010 &   24450\\\\\n",
       "\t 2584 Kiruna & Net profit/loss for the year          & 2011 &   86760\\\\\n",
       "\t 2584 Kiruna & Net profit/loss for the year          & 2012 &   13105\\\\\n",
       "\t 2584 Kiruna & Net profit/loss for the year          & 2013 &  -57874\\\\\n",
       "\t 2584 Kiruna & Net profit/loss for the year          & 2014 &  341559\\\\\n",
       "\t 2584 Kiruna & Net profit/loss for the year          & 2015 & 2259704\\\\\n",
       "\t 2584 Kiruna & Net profit/loss for the year          & 2016 &     795\\\\\n",
       "\t 2584 Kiruna & Net profit/loss for the year          & 2017 &   65444\\\\\n",
       "\t 2584 Kiruna & Net profit/loss for the year          & 2018 &  612491\\\\\n",
       "\t 2584 Kiruna & Net profit/loss for the year          & 2019 &  127898\\\\\n",
       "\t 2584 Kiruna & Net profit/loss for the year          & 2020 &  287593\\\\\n",
       "\t 2584 Kiruna & Net profit/loss for the year          & 2021 &  799074\\\\\n",
       "\\end{tabular}\n"
      ],
      "text/markdown": [
       "\n",
       "A tibble: 69600 × 4\n",
       "\n",
       "| region &lt;chr&gt; | Income statement &lt;chr&gt; | year &lt;chr&gt; | values &lt;int&gt; |\n",
       "|---|---|---|---|\n",
       "| 0114 Upplands Väsby | Total income for operations | 1998 |   313859 |\n",
       "| 0114 Upplands Väsby | Total income for operations | 1999 |   320220 |\n",
       "| 0114 Upplands Väsby | Total income for operations | 2000 |   336174 |\n",
       "| 0114 Upplands Väsby | Total income for operations | 2001 |   336141 |\n",
       "| 0114 Upplands Väsby | Total income for operations | 2002 |   323270 |\n",
       "| 0114 Upplands Väsby | Total income for operations | 2003 |   326945 |\n",
       "| 0114 Upplands Väsby | Total income for operations | 2004 |   338661 |\n",
       "| 0114 Upplands Väsby | Total income for operations | 2005 |   294027 |\n",
       "| 0114 Upplands Väsby | Total income for operations | 2006 |   316172 |\n",
       "| 0114 Upplands Väsby | Total income for operations | 2007 |   306945 |\n",
       "| 0114 Upplands Väsby | Total income for operations | 2008 |   361300 |\n",
       "| 0114 Upplands Väsby | Total income for operations | 2009 |   389718 |\n",
       "| 0114 Upplands Väsby | Total income for operations | 2010 |   416746 |\n",
       "| 0114 Upplands Väsby | Total income for operations | 2011 |   417300 |\n",
       "| 0114 Upplands Väsby | Total income for operations | 2012 |   471479 |\n",
       "| 0114 Upplands Väsby | Total income for operations | 2013 |   535209 |\n",
       "| 0114 Upplands Väsby | Total income for operations | 2014 |   456069 |\n",
       "| 0114 Upplands Väsby | Total income for operations | 2015 |   481597 |\n",
       "| 0114 Upplands Väsby | Total income for operations | 2016 |   583319 |\n",
       "| 0114 Upplands Väsby | Total income for operations | 2017 |   679812 |\n",
       "| 0114 Upplands Väsby | Total income for operations | 2018 |   647216 |\n",
       "| 0114 Upplands Väsby | Total income for operations | 2019 |   761770 |\n",
       "| 0114 Upplands Väsby | Total income for operations | 2020 |   821974 |\n",
       "| 0114 Upplands Väsby | Total income for operations | 2021 |   695537 |\n",
       "| 0114 Upplands Väsby | Total costs for operations  | 1998 | -1141598 |\n",
       "| 0114 Upplands Väsby | Total costs for operations  | 1999 | -1203938 |\n",
       "| 0114 Upplands Väsby | Total costs for operations  | 2000 | -1252714 |\n",
       "| 0114 Upplands Väsby | Total costs for operations  | 2001 | -1350430 |\n",
       "| 0114 Upplands Väsby | Total costs for operations  | 2002 | -1394331 |\n",
       "| 0114 Upplands Väsby | Total costs for operations  | 2003 | -1425350 |\n",
       "| ⋮ | ⋮ | ⋮ | ⋮ |\n",
       "| 2584 Kiruna | Net profit/loss after financial items | 2016 |     795 |\n",
       "| 2584 Kiruna | Net profit/loss after financial items | 2017 |   65444 |\n",
       "| 2584 Kiruna | Net profit/loss after financial items | 2018 |  612491 |\n",
       "| 2584 Kiruna | Net profit/loss after financial items | 2019 |  127898 |\n",
       "| 2584 Kiruna | Net profit/loss after financial items | 2020 |  287593 |\n",
       "| 2584 Kiruna | Net profit/loss after financial items | 2021 |  799074 |\n",
       "| 2584 Kiruna | Net profit/loss for the year          | 1998 |  -16441 |\n",
       "| 2584 Kiruna | Net profit/loss for the year          | 1999 |  -50404 |\n",
       "| 2584 Kiruna | Net profit/loss for the year          | 2000 |    4540 |\n",
       "| 2584 Kiruna | Net profit/loss for the year          | 2001 |   -6432 |\n",
       "| 2584 Kiruna | Net profit/loss for the year          | 2002 |  -27135 |\n",
       "| 2584 Kiruna | Net profit/loss for the year          | 2003 |  -10105 |\n",
       "| 2584 Kiruna | Net profit/loss for the year          | 2004 |   16197 |\n",
       "| 2584 Kiruna | Net profit/loss for the year          | 2005 |   36350 |\n",
       "| 2584 Kiruna | Net profit/loss for the year          | 2006 |   29137 |\n",
       "| 2584 Kiruna | Net profit/loss for the year          | 2007 |   34295 |\n",
       "| 2584 Kiruna | Net profit/loss for the year          | 2008 |     394 |\n",
       "| 2584 Kiruna | Net profit/loss for the year          | 2009 |   15620 |\n",
       "| 2584 Kiruna | Net profit/loss for the year          | 2010 |   24450 |\n",
       "| 2584 Kiruna | Net profit/loss for the year          | 2011 |   86760 |\n",
       "| 2584 Kiruna | Net profit/loss for the year          | 2012 |   13105 |\n",
       "| 2584 Kiruna | Net profit/loss for the year          | 2013 |  -57874 |\n",
       "| 2584 Kiruna | Net profit/loss for the year          | 2014 |  341559 |\n",
       "| 2584 Kiruna | Net profit/loss for the year          | 2015 | 2259704 |\n",
       "| 2584 Kiruna | Net profit/loss for the year          | 2016 |     795 |\n",
       "| 2584 Kiruna | Net profit/loss for the year          | 2017 |   65444 |\n",
       "| 2584 Kiruna | Net profit/loss for the year          | 2018 |  612491 |\n",
       "| 2584 Kiruna | Net profit/loss for the year          | 2019 |  127898 |\n",
       "| 2584 Kiruna | Net profit/loss for the year          | 2020 |  287593 |\n",
       "| 2584 Kiruna | Net profit/loss for the year          | 2021 |  799074 |\n",
       "\n"
      ],
      "text/plain": [
       "      region              Income statement                      year values  \n",
       "1     0114 Upplands Väsby Total income for operations           1998   313859\n",
       "2     0114 Upplands Väsby Total income for operations           1999   320220\n",
       "3     0114 Upplands Väsby Total income for operations           2000   336174\n",
       "4     0114 Upplands Väsby Total income for operations           2001   336141\n",
       "5     0114 Upplands Väsby Total income for operations           2002   323270\n",
       "6     0114 Upplands Väsby Total income for operations           2003   326945\n",
       "7     0114 Upplands Väsby Total income for operations           2004   338661\n",
       "8     0114 Upplands Väsby Total income for operations           2005   294027\n",
       "9     0114 Upplands Väsby Total income for operations           2006   316172\n",
       "10    0114 Upplands Väsby Total income for operations           2007   306945\n",
       "11    0114 Upplands Väsby Total income for operations           2008   361300\n",
       "12    0114 Upplands Väsby Total income for operations           2009   389718\n",
       "13    0114 Upplands Väsby Total income for operations           2010   416746\n",
       "14    0114 Upplands Väsby Total income for operations           2011   417300\n",
       "15    0114 Upplands Väsby Total income for operations           2012   471479\n",
       "16    0114 Upplands Väsby Total income for operations           2013   535209\n",
       "17    0114 Upplands Väsby Total income for operations           2014   456069\n",
       "18    0114 Upplands Väsby Total income for operations           2015   481597\n",
       "19    0114 Upplands Väsby Total income for operations           2016   583319\n",
       "20    0114 Upplands Väsby Total income for operations           2017   679812\n",
       "21    0114 Upplands Väsby Total income for operations           2018   647216\n",
       "22    0114 Upplands Väsby Total income for operations           2019   761770\n",
       "23    0114 Upplands Väsby Total income for operations           2020   821974\n",
       "24    0114 Upplands Väsby Total income for operations           2021   695537\n",
       "25    0114 Upplands Väsby Total costs for operations            1998 -1141598\n",
       "26    0114 Upplands Väsby Total costs for operations            1999 -1203938\n",
       "27    0114 Upplands Väsby Total costs for operations            2000 -1252714\n",
       "28    0114 Upplands Väsby Total costs for operations            2001 -1350430\n",
       "29    0114 Upplands Väsby Total costs for operations            2002 -1394331\n",
       "30    0114 Upplands Väsby Total costs for operations            2003 -1425350\n",
       "⋮     ⋮                   ⋮                                     ⋮    ⋮       \n",
       "69571 2584 Kiruna         Net profit/loss after financial items 2016     795 \n",
       "69572 2584 Kiruna         Net profit/loss after financial items 2017   65444 \n",
       "69573 2584 Kiruna         Net profit/loss after financial items 2018  612491 \n",
       "69574 2584 Kiruna         Net profit/loss after financial items 2019  127898 \n",
       "69575 2584 Kiruna         Net profit/loss after financial items 2020  287593 \n",
       "69576 2584 Kiruna         Net profit/loss after financial items 2021  799074 \n",
       "69577 2584 Kiruna         Net profit/loss for the year          1998  -16441 \n",
       "69578 2584 Kiruna         Net profit/loss for the year          1999  -50404 \n",
       "69579 2584 Kiruna         Net profit/loss for the year          2000    4540 \n",
       "69580 2584 Kiruna         Net profit/loss for the year          2001   -6432 \n",
       "69581 2584 Kiruna         Net profit/loss for the year          2002  -27135 \n",
       "69582 2584 Kiruna         Net profit/loss for the year          2003  -10105 \n",
       "69583 2584 Kiruna         Net profit/loss for the year          2004   16197 \n",
       "69584 2584 Kiruna         Net profit/loss for the year          2005   36350 \n",
       "69585 2584 Kiruna         Net profit/loss for the year          2006   29137 \n",
       "69586 2584 Kiruna         Net profit/loss for the year          2007   34295 \n",
       "69587 2584 Kiruna         Net profit/loss for the year          2008     394 \n",
       "69588 2584 Kiruna         Net profit/loss for the year          2009   15620 \n",
       "69589 2584 Kiruna         Net profit/loss for the year          2010   24450 \n",
       "69590 2584 Kiruna         Net profit/loss for the year          2011   86760 \n",
       "69591 2584 Kiruna         Net profit/loss for the year          2012   13105 \n",
       "69592 2584 Kiruna         Net profit/loss for the year          2013  -57874 \n",
       "69593 2584 Kiruna         Net profit/loss for the year          2014  341559 \n",
       "69594 2584 Kiruna         Net profit/loss for the year          2015 2259704 \n",
       "69595 2584 Kiruna         Net profit/loss for the year          2016     795 \n",
       "69596 2584 Kiruna         Net profit/loss for the year          2017   65444 \n",
       "69597 2584 Kiruna         Net profit/loss for the year          2018  612491 \n",
       "69598 2584 Kiruna         Net profit/loss for the year          2019  127898 \n",
       "69599 2584 Kiruna         Net profit/loss for the year          2020  287593 \n",
       "69600 2584 Kiruna         Net profit/loss for the year          2021  799074 "
      ]
     },
     "metadata": {},
     "output_type": "display_data"
    }
   ],
   "source": [
    "income <- pivot_longer(income, cols= -c(\"region\", \"Income statement\"), names_to =\"year\", values_to=\"values\")\n",
    "income"
   ]
  },
  {
   "attachments": {},
   "cell_type": "markdown",
   "metadata": {},
   "source": [
    "Convert columns automatically to suitable data-types"
   ]
  },
  {
   "cell_type": "code",
   "execution_count": 173,
   "metadata": {
    "vscode": {
     "languageId": "r"
    }
   },
   "outputs": [
    {
     "data": {
      "text/html": [
       "<table class=\"dataframe\">\n",
       "<caption>A tibble: 6 × 4</caption>\n",
       "<thead>\n",
       "\t<tr><th scope=col>region</th><th scope=col>Income statement</th><th scope=col>year</th><th scope=col>values</th></tr>\n",
       "\t<tr><th scope=col>&lt;chr&gt;</th><th scope=col>&lt;chr&gt;</th><th scope=col>&lt;int&gt;</th><th scope=col>&lt;int&gt;</th></tr>\n",
       "</thead>\n",
       "<tbody>\n",
       "\t<tr><td>0114 Upplands Väsby</td><td>Total income for operations</td><td>1998</td><td>313859</td></tr>\n",
       "\t<tr><td>0114 Upplands Väsby</td><td>Total income for operations</td><td>1999</td><td>320220</td></tr>\n",
       "\t<tr><td>0114 Upplands Väsby</td><td>Total income for operations</td><td>2000</td><td>336174</td></tr>\n",
       "\t<tr><td>0114 Upplands Väsby</td><td>Total income for operations</td><td>2001</td><td>336141</td></tr>\n",
       "\t<tr><td>0114 Upplands Väsby</td><td>Total income for operations</td><td>2002</td><td>323270</td></tr>\n",
       "\t<tr><td>0114 Upplands Väsby</td><td>Total income for operations</td><td>2003</td><td>326945</td></tr>\n",
       "</tbody>\n",
       "</table>\n"
      ],
      "text/latex": [
       "A tibble: 6 × 4\n",
       "\\begin{tabular}{llll}\n",
       " region & Income statement & year & values\\\\\n",
       " <chr> & <chr> & <int> & <int>\\\\\n",
       "\\hline\n",
       "\t 0114 Upplands Väsby & Total income for operations & 1998 & 313859\\\\\n",
       "\t 0114 Upplands Väsby & Total income for operations & 1999 & 320220\\\\\n",
       "\t 0114 Upplands Väsby & Total income for operations & 2000 & 336174\\\\\n",
       "\t 0114 Upplands Väsby & Total income for operations & 2001 & 336141\\\\\n",
       "\t 0114 Upplands Väsby & Total income for operations & 2002 & 323270\\\\\n",
       "\t 0114 Upplands Väsby & Total income for operations & 2003 & 326945\\\\\n",
       "\\end{tabular}\n"
      ],
      "text/markdown": [
       "\n",
       "A tibble: 6 × 4\n",
       "\n",
       "| region &lt;chr&gt; | Income statement &lt;chr&gt; | year &lt;int&gt; | values &lt;int&gt; |\n",
       "|---|---|---|---|\n",
       "| 0114 Upplands Väsby | Total income for operations | 1998 | 313859 |\n",
       "| 0114 Upplands Väsby | Total income for operations | 1999 | 320220 |\n",
       "| 0114 Upplands Väsby | Total income for operations | 2000 | 336174 |\n",
       "| 0114 Upplands Väsby | Total income for operations | 2001 | 336141 |\n",
       "| 0114 Upplands Väsby | Total income for operations | 2002 | 323270 |\n",
       "| 0114 Upplands Väsby | Total income for operations | 2003 | 326945 |\n",
       "\n"
      ],
      "text/plain": [
       "  region              Income statement            year values\n",
       "1 0114 Upplands Väsby Total income for operations 1998 313859\n",
       "2 0114 Upplands Väsby Total income for operations 1999 320220\n",
       "3 0114 Upplands Väsby Total income for operations 2000 336174\n",
       "4 0114 Upplands Väsby Total income for operations 2001 336141\n",
       "5 0114 Upplands Väsby Total income for operations 2002 323270\n",
       "6 0114 Upplands Väsby Total income for operations 2003 326945"
      ]
     },
     "metadata": {},
     "output_type": "display_data"
    }
   ],
   "source": [
    "income <- type.convert(income, as.is = T)\n",
    "head(income)"
   ]
  },
  {
   "attachments": {},
   "cell_type": "markdown",
   "metadata": {},
   "source": [
    "Calculate each income statement as a mean for a 4 year interval to make it possible to merge with the political seats dataset."
   ]
  },
  {
   "cell_type": "code",
   "execution_count": 174,
   "metadata": {
    "vscode": {
     "languageId": "r"
    }
   },
   "outputs": [
    {
     "name": "stderr",
     "output_type": "stream",
     "text": [
      "\u001b[1m\u001b[22m`summarise()` has grouped output by 'region', 'Income statement'. You can\n",
      "override using the `.groups` argument.\n"
     ]
    }
   ],
   "source": [
    "grouped_data <- income %>%\n",
    "  group_by(region, `Income statement`)\n",
    "\n",
    "# Calculate the mean value for each four-year interval within each group\n",
    "reduced_data <- grouped_data %>%\n",
    "  mutate(interval = floor((year - first(year))/4) * 4 + first(year)) %>%\n",
    "  group_by(region, `Income statement`, interval) %>%\n",
    "  summarise(year = first(year), value = mean(values))\n",
    "\n",
    "# Keep only the first year in each four-year interval\n",
    "income <- reduced_data %>%\n",
    "  group_by(region, `Income statement`) %>%\n",
    "  filter(interval == year) %>%\n",
    "  select(region, `Income statement`, year, value)"
   ]
  },
  {
   "cell_type": "code",
   "execution_count": 175,
   "metadata": {
    "vscode": {
     "languageId": "r"
    }
   },
   "outputs": [
    {
     "data": {
      "text/html": [
       "<table class=\"dataframe\">\n",
       "<caption>A grouped_df: 6 × 4</caption>\n",
       "<thead>\n",
       "\t<tr><th scope=col>region</th><th scope=col>Income statement</th><th scope=col>year</th><th scope=col>value</th></tr>\n",
       "\t<tr><th scope=col>&lt;chr&gt;</th><th scope=col>&lt;chr&gt;</th><th scope=col>&lt;int&gt;</th><th scope=col>&lt;dbl&gt;</th></tr>\n",
       "</thead>\n",
       "<tbody>\n",
       "\t<tr><td>0114 Upplands Väsby</td><td>Financial costs</td><td>1998</td><td>-24523.00</td></tr>\n",
       "\t<tr><td>0114 Upplands Väsby</td><td>Financial costs</td><td>2002</td><td> -2055.75</td></tr>\n",
       "\t<tr><td>0114 Upplands Väsby</td><td>Financial costs</td><td>2006</td><td>  -639.00</td></tr>\n",
       "\t<tr><td>0114 Upplands Väsby</td><td>Financial costs</td><td>2010</td><td>-24194.25</td></tr>\n",
       "\t<tr><td>0114 Upplands Väsby</td><td>Financial costs</td><td>2014</td><td>-14283.50</td></tr>\n",
       "\t<tr><td>0114 Upplands Väsby</td><td>Financial costs</td><td>2018</td><td>-20137.75</td></tr>\n",
       "</tbody>\n",
       "</table>\n"
      ],
      "text/latex": [
       "A grouped\\_df: 6 × 4\n",
       "\\begin{tabular}{llll}\n",
       " region & Income statement & year & value\\\\\n",
       " <chr> & <chr> & <int> & <dbl>\\\\\n",
       "\\hline\n",
       "\t 0114 Upplands Väsby & Financial costs & 1998 & -24523.00\\\\\n",
       "\t 0114 Upplands Väsby & Financial costs & 2002 &  -2055.75\\\\\n",
       "\t 0114 Upplands Väsby & Financial costs & 2006 &   -639.00\\\\\n",
       "\t 0114 Upplands Väsby & Financial costs & 2010 & -24194.25\\\\\n",
       "\t 0114 Upplands Väsby & Financial costs & 2014 & -14283.50\\\\\n",
       "\t 0114 Upplands Väsby & Financial costs & 2018 & -20137.75\\\\\n",
       "\\end{tabular}\n"
      ],
      "text/markdown": [
       "\n",
       "A grouped_df: 6 × 4\n",
       "\n",
       "| region &lt;chr&gt; | Income statement &lt;chr&gt; | year &lt;int&gt; | value &lt;dbl&gt; |\n",
       "|---|---|---|---|\n",
       "| 0114 Upplands Väsby | Financial costs | 1998 | -24523.00 |\n",
       "| 0114 Upplands Väsby | Financial costs | 2002 |  -2055.75 |\n",
       "| 0114 Upplands Väsby | Financial costs | 2006 |   -639.00 |\n",
       "| 0114 Upplands Väsby | Financial costs | 2010 | -24194.25 |\n",
       "| 0114 Upplands Väsby | Financial costs | 2014 | -14283.50 |\n",
       "| 0114 Upplands Väsby | Financial costs | 2018 | -20137.75 |\n",
       "\n"
      ],
      "text/plain": [
       "  region              Income statement year value    \n",
       "1 0114 Upplands Väsby Financial costs  1998 -24523.00\n",
       "2 0114 Upplands Väsby Financial costs  2002  -2055.75\n",
       "3 0114 Upplands Väsby Financial costs  2006   -639.00\n",
       "4 0114 Upplands Väsby Financial costs  2010 -24194.25\n",
       "5 0114 Upplands Väsby Financial costs  2014 -14283.50\n",
       "6 0114 Upplands Väsby Financial costs  2018 -20137.75"
      ]
     },
     "metadata": {},
     "output_type": "display_data"
    }
   ],
   "source": [
    "head(income)"
   ]
  },
  {
   "attachments": {},
   "cell_type": "markdown",
   "metadata": {},
   "source": [
    "Make each unique income statement a unique column instead"
   ]
  },
  {
   "cell_type": "code",
   "execution_count": 176,
   "metadata": {
    "vscode": {
     "languageId": "r"
    }
   },
   "outputs": [
    {
     "data": {
      "text/html": [
       "<table class=\"dataframe\">\n",
       "<caption>A grouped_df: 6 × 12</caption>\n",
       "<thead>\n",
       "\t<tr><th scope=col>region</th><th scope=col>year</th><th scope=col>Financial costs</th><th scope=col>Financial income</th><th scope=col>General grants and equalisation grants</th><th scope=col>Net profit/loss after financial items</th><th scope=col>Net profit/loss for operations</th><th scope=col>Net profit/loss for the year</th><th scope=col>Tax revenues</th><th scope=col>Total costs for operations</th><th scope=col>Total income for operations</th><th scope=col>Total net current costs</th></tr>\n",
       "\t<tr><th scope=col>&lt;chr&gt;</th><th scope=col>&lt;int&gt;</th><th scope=col>&lt;dbl&gt;</th><th scope=col>&lt;dbl&gt;</th><th scope=col>&lt;dbl&gt;</th><th scope=col>&lt;dbl&gt;</th><th scope=col>&lt;dbl&gt;</th><th scope=col>&lt;dbl&gt;</th><th scope=col>&lt;dbl&gt;</th><th scope=col>&lt;dbl&gt;</th><th scope=col>&lt;dbl&gt;</th><th scope=col>&lt;dbl&gt;</th></tr>\n",
       "</thead>\n",
       "<tbody>\n",
       "\t<tr><td>0114 Upplands Väsby</td><td>1998</td><td>-24523.00</td><td>  9788.00</td><td> 23877.50</td><td> 27648.75</td><td>     0</td><td>110289.50</td><td> 998055</td><td>-1237170</td><td>326598.5</td><td> -978680.5</td></tr>\n",
       "\t<tr><td>0114 Upplands Väsby</td><td>2002</td><td> -2055.75</td><td>  3965.75</td><td>-49348.25</td><td>  6419.50</td><td>     0</td><td>  3419.50</td><td>1242675</td><td>-1434543</td><td>320725.8</td><td>-1187725.8</td></tr>\n",
       "\t<tr><td>0114 Upplands Väsby</td><td>2006</td><td>  -639.00</td><td>  7109.25</td><td> 79793.00</td><td> 29956.00</td><td>     0</td><td> 29956.00</td><td>1373671</td><td>-1697857</td><td>343533.8</td><td>-1426587.0</td></tr>\n",
       "\t<tr><td>0114 Upplands Väsby</td><td>2010</td><td>-24194.25</td><td>  9167.75</td><td>212560.75</td><td> 35653.25</td><td>     0</td><td> 35653.25</td><td>1506149</td><td>-2057643</td><td>460183.5</td><td>-1667388.0</td></tr>\n",
       "\t<tr><td>0114 Upplands Väsby</td><td>2014</td><td>-14283.50</td><td>196292.50</td><td>265407.00</td><td>207676.50</td><td>     0</td><td>207676.50</td><td>1800166</td><td>-2477643</td><td>550199.2</td><td>-2039905.5</td></tr>\n",
       "\t<tr><td>0114 Upplands Väsby</td><td>2018</td><td>-20137.75</td><td> 13044.25</td><td>465663.50</td><td>116009.25</td><td>120294</td><td>116009.25</td><td>2097598</td><td>-3046138</td><td>731624.2</td><td>-2440158.5</td></tr>\n",
       "</tbody>\n",
       "</table>\n"
      ],
      "text/latex": [
       "A grouped\\_df: 6 × 12\n",
       "\\begin{tabular}{llllllllllll}\n",
       " region & year & Financial costs & Financial income & General grants and equalisation grants & Net profit/loss after financial items & Net profit/loss for operations & Net profit/loss for the year & Tax revenues & Total costs for operations & Total income for operations & Total net current costs\\\\\n",
       " <chr> & <int> & <dbl> & <dbl> & <dbl> & <dbl> & <dbl> & <dbl> & <dbl> & <dbl> & <dbl> & <dbl>\\\\\n",
       "\\hline\n",
       "\t 0114 Upplands Väsby & 1998 & -24523.00 &   9788.00 &  23877.50 &  27648.75 &      0 & 110289.50 &  998055 & -1237170 & 326598.5 &  -978680.5\\\\\n",
       "\t 0114 Upplands Väsby & 2002 &  -2055.75 &   3965.75 & -49348.25 &   6419.50 &      0 &   3419.50 & 1242675 & -1434543 & 320725.8 & -1187725.8\\\\\n",
       "\t 0114 Upplands Väsby & 2006 &   -639.00 &   7109.25 &  79793.00 &  29956.00 &      0 &  29956.00 & 1373671 & -1697857 & 343533.8 & -1426587.0\\\\\n",
       "\t 0114 Upplands Väsby & 2010 & -24194.25 &   9167.75 & 212560.75 &  35653.25 &      0 &  35653.25 & 1506149 & -2057643 & 460183.5 & -1667388.0\\\\\n",
       "\t 0114 Upplands Väsby & 2014 & -14283.50 & 196292.50 & 265407.00 & 207676.50 &      0 & 207676.50 & 1800166 & -2477643 & 550199.2 & -2039905.5\\\\\n",
       "\t 0114 Upplands Väsby & 2018 & -20137.75 &  13044.25 & 465663.50 & 116009.25 & 120294 & 116009.25 & 2097598 & -3046138 & 731624.2 & -2440158.5\\\\\n",
       "\\end{tabular}\n"
      ],
      "text/markdown": [
       "\n",
       "A grouped_df: 6 × 12\n",
       "\n",
       "| region &lt;chr&gt; | year &lt;int&gt; | Financial costs &lt;dbl&gt; | Financial income &lt;dbl&gt; | General grants and equalisation grants &lt;dbl&gt; | Net profit/loss after financial items &lt;dbl&gt; | Net profit/loss for operations &lt;dbl&gt; | Net profit/loss for the year &lt;dbl&gt; | Tax revenues &lt;dbl&gt; | Total costs for operations &lt;dbl&gt; | Total income for operations &lt;dbl&gt; | Total net current costs &lt;dbl&gt; |\n",
       "|---|---|---|---|---|---|---|---|---|---|---|---|\n",
       "| 0114 Upplands Väsby | 1998 | -24523.00 |   9788.00 |  23877.50 |  27648.75 |      0 | 110289.50 |  998055 | -1237170 | 326598.5 |  -978680.5 |\n",
       "| 0114 Upplands Väsby | 2002 |  -2055.75 |   3965.75 | -49348.25 |   6419.50 |      0 |   3419.50 | 1242675 | -1434543 | 320725.8 | -1187725.8 |\n",
       "| 0114 Upplands Väsby | 2006 |   -639.00 |   7109.25 |  79793.00 |  29956.00 |      0 |  29956.00 | 1373671 | -1697857 | 343533.8 | -1426587.0 |\n",
       "| 0114 Upplands Väsby | 2010 | -24194.25 |   9167.75 | 212560.75 |  35653.25 |      0 |  35653.25 | 1506149 | -2057643 | 460183.5 | -1667388.0 |\n",
       "| 0114 Upplands Väsby | 2014 | -14283.50 | 196292.50 | 265407.00 | 207676.50 |      0 | 207676.50 | 1800166 | -2477643 | 550199.2 | -2039905.5 |\n",
       "| 0114 Upplands Väsby | 2018 | -20137.75 |  13044.25 | 465663.50 | 116009.25 | 120294 | 116009.25 | 2097598 | -3046138 | 731624.2 | -2440158.5 |\n",
       "\n"
      ],
      "text/plain": [
       "  region              year Financial costs Financial income\n",
       "1 0114 Upplands Väsby 1998 -24523.00         9788.00       \n",
       "2 0114 Upplands Väsby 2002  -2055.75         3965.75       \n",
       "3 0114 Upplands Väsby 2006   -639.00         7109.25       \n",
       "4 0114 Upplands Väsby 2010 -24194.25         9167.75       \n",
       "5 0114 Upplands Väsby 2014 -14283.50       196292.50       \n",
       "6 0114 Upplands Väsby 2018 -20137.75        13044.25       \n",
       "  General grants and equalisation grants Net profit/loss after financial items\n",
       "1  23877.50                               27648.75                            \n",
       "2 -49348.25                                6419.50                            \n",
       "3  79793.00                               29956.00                            \n",
       "4 212560.75                               35653.25                            \n",
       "5 265407.00                              207676.50                            \n",
       "6 465663.50                              116009.25                            \n",
       "  Net profit/loss for operations Net profit/loss for the year Tax revenues\n",
       "1      0                         110289.50                     998055     \n",
       "2      0                           3419.50                    1242675     \n",
       "3      0                          29956.00                    1373671     \n",
       "4      0                          35653.25                    1506149     \n",
       "5      0                         207676.50                    1800166     \n",
       "6 120294                         116009.25                    2097598     \n",
       "  Total costs for operations Total income for operations\n",
       "1 -1237170                   326598.5                   \n",
       "2 -1434543                   320725.8                   \n",
       "3 -1697857                   343533.8                   \n",
       "4 -2057643                   460183.5                   \n",
       "5 -2477643                   550199.2                   \n",
       "6 -3046138                   731624.2                   \n",
       "  Total net current costs\n",
       "1  -978680.5             \n",
       "2 -1187725.8             \n",
       "3 -1426587.0             \n",
       "4 -1667388.0             \n",
       "5 -2039905.5             \n",
       "6 -2440158.5             "
      ]
     },
     "metadata": {},
     "output_type": "display_data"
    }
   ],
   "source": [
    "income <- income %>% \n",
    "    pivot_wider(\n",
    "        names_from = `Income statement`,\n",
    "        values_from = value\n",
    "    )\n",
    "head(income)"
   ]
  },
  {
   "attachments": {},
   "cell_type": "markdown",
   "metadata": {},
   "source": [
    "Merge the income statement dataset with the political seats dataset."
   ]
  },
  {
   "cell_type": "code",
   "execution_count": 177,
   "metadata": {
    "vscode": {
     "languageId": "r"
    }
   },
   "outputs": [
    {
     "data": {
      "text/html": [
       "<table class=\"dataframe\">\n",
       "<caption>A data.frame: 6 × 21</caption>\n",
       "<thead>\n",
       "\t<tr><th></th><th scope=col>year</th><th scope=col>region</th><th scope=col>The Moderate Party</th><th scope=col>The Centre Party</th><th scope=col>The Liberal Party</th><th scope=col>The Christian Democratic Party</th><th scope=col>The Green Party</th><th scope=col>The Social Democratic Party</th><th scope=col>The Left Party</th><th scope=col>The Sweden Democrats</th><th scope=col>⋯</th><th scope=col>Financial costs</th><th scope=col>Financial income</th><th scope=col>General grants and equalisation grants</th><th scope=col>Net profit/loss after financial items</th><th scope=col>Net profit/loss for operations</th><th scope=col>Net profit/loss for the year</th><th scope=col>Tax revenues</th><th scope=col>Total costs for operations</th><th scope=col>Total income for operations</th><th scope=col>Total net current costs</th></tr>\n",
       "\t<tr><th></th><th scope=col>&lt;chr&gt;</th><th scope=col>&lt;chr&gt;</th><th scope=col>&lt;int&gt;</th><th scope=col>&lt;int&gt;</th><th scope=col>&lt;int&gt;</th><th scope=col>&lt;int&gt;</th><th scope=col>&lt;int&gt;</th><th scope=col>&lt;int&gt;</th><th scope=col>&lt;int&gt;</th><th scope=col>&lt;int&gt;</th><th scope=col>⋯</th><th scope=col>&lt;dbl&gt;</th><th scope=col>&lt;dbl&gt;</th><th scope=col>&lt;dbl&gt;</th><th scope=col>&lt;dbl&gt;</th><th scope=col>&lt;dbl&gt;</th><th scope=col>&lt;dbl&gt;</th><th scope=col>&lt;dbl&gt;</th><th scope=col>&lt;dbl&gt;</th><th scope=col>&lt;dbl&gt;</th><th scope=col>&lt;dbl&gt;</th></tr>\n",
       "</thead>\n",
       "<tbody>\n",
       "\t<tr><th scope=row>1</th><td>1998</td><td>0114 Upplands Väsby</td><td>16</td><td>2</td><td>4</td><td>3</td><td>2</td><td>18</td><td>5</td><td>0</td><td>⋯</td><td>-24523.00</td><td> 9788.00</td><td> 23877.50</td><td> 27648.75</td><td>0</td><td>110289.50</td><td> 998055.0</td><td>-1237170.0</td><td>326598.5</td><td> -978680.5</td></tr>\n",
       "\t<tr><th scope=row>2</th><td>1998</td><td>0115 Vallentuna    </td><td>16</td><td>4</td><td>2</td><td>4</td><td>2</td><td> 9</td><td>3</td><td>0</td><td>⋯</td><td> -3282.00</td><td> 3927.00</td><td> 57182.00</td><td>  -475.75</td><td>0</td><td> 16640.25</td><td> 576253.5</td><td> -755892.5</td><td>169653.8</td><td> -633760.0</td></tr>\n",
       "\t<tr><th scope=row>3</th><td>1998</td><td>0117 Österåker     </td><td>20</td><td>2</td><td>3</td><td>4</td><td>2</td><td>15</td><td>3</td><td>0</td><td>⋯</td><td> -9833.00</td><td> 2517.00</td><td>  5019.25</td><td>-12078.50</td><td>0</td><td>-12078.50</td><td> 905556.0</td><td>-1030488.8</td><td>151653.8</td><td> -913898.8</td></tr>\n",
       "\t<tr><th scope=row>4</th><td>1998</td><td>0120 Värmdö        </td><td>17</td><td>2</td><td>2</td><td>2</td><td>2</td><td>13</td><td>3</td><td>0</td><td>⋯</td><td> -3350.25</td><td>10293.00</td><td> 63439.00</td><td> -8109.50</td><td>0</td><td>-19606.00</td><td> 712872.5</td><td> -988970.0</td><td>233789.2</td><td> -790366.8</td></tr>\n",
       "\t<tr><th scope=row>5</th><td>1998</td><td>0123 Järfälla      </td><td>18</td><td>2</td><td>5</td><td>6</td><td>2</td><td>23</td><td>5</td><td>0</td><td>⋯</td><td>-25041.25</td><td>39573.75</td><td>-19922.50</td><td>  2210.75</td><td>0</td><td>  2210.75</td><td>1635131.8</td><td>-1937833.0</td><td>447106.8</td><td>-1625076.8</td></tr>\n",
       "\t<tr><th scope=row>6</th><td>1998</td><td>0125 Ekerö         </td><td>17</td><td>3</td><td>3</td><td>3</td><td>4</td><td> 9</td><td>2</td><td>0</td><td>⋯</td><td>-15667.25</td><td> 3988.00</td><td>  8512.75</td><td> -6576.50</td><td>0</td><td> 10872.25</td><td> 601955.5</td><td> -719280.5</td><td>147936.8</td><td> -604585.5</td></tr>\n",
       "</tbody>\n",
       "</table>\n"
      ],
      "text/latex": [
       "A data.frame: 6 × 21\n",
       "\\begin{tabular}{r|lllllllllllllllllllll}\n",
       "  & year & region & The Moderate Party & The Centre Party & The Liberal Party & The Christian Democratic Party & The Green Party & The Social Democratic Party & The Left Party & The Sweden Democrats & ⋯ & Financial costs & Financial income & General grants and equalisation grants & Net profit/loss after financial items & Net profit/loss for operations & Net profit/loss for the year & Tax revenues & Total costs for operations & Total income for operations & Total net current costs\\\\\n",
       "  & <chr> & <chr> & <int> & <int> & <int> & <int> & <int> & <int> & <int> & <int> & ⋯ & <dbl> & <dbl> & <dbl> & <dbl> & <dbl> & <dbl> & <dbl> & <dbl> & <dbl> & <dbl>\\\\\n",
       "\\hline\n",
       "\t1 & 1998 & 0114 Upplands Väsby & 16 & 2 & 4 & 3 & 2 & 18 & 5 & 0 & ⋯ & -24523.00 &  9788.00 &  23877.50 &  27648.75 & 0 & 110289.50 &  998055.0 & -1237170.0 & 326598.5 &  -978680.5\\\\\n",
       "\t2 & 1998 & 0115 Vallentuna     & 16 & 4 & 2 & 4 & 2 &  9 & 3 & 0 & ⋯ &  -3282.00 &  3927.00 &  57182.00 &   -475.75 & 0 &  16640.25 &  576253.5 &  -755892.5 & 169653.8 &  -633760.0\\\\\n",
       "\t3 & 1998 & 0117 Österåker      & 20 & 2 & 3 & 4 & 2 & 15 & 3 & 0 & ⋯ &  -9833.00 &  2517.00 &   5019.25 & -12078.50 & 0 & -12078.50 &  905556.0 & -1030488.8 & 151653.8 &  -913898.8\\\\\n",
       "\t4 & 1998 & 0120 Värmdö         & 17 & 2 & 2 & 2 & 2 & 13 & 3 & 0 & ⋯ &  -3350.25 & 10293.00 &  63439.00 &  -8109.50 & 0 & -19606.00 &  712872.5 &  -988970.0 & 233789.2 &  -790366.8\\\\\n",
       "\t5 & 1998 & 0123 Järfälla       & 18 & 2 & 5 & 6 & 2 & 23 & 5 & 0 & ⋯ & -25041.25 & 39573.75 & -19922.50 &   2210.75 & 0 &   2210.75 & 1635131.8 & -1937833.0 & 447106.8 & -1625076.8\\\\\n",
       "\t6 & 1998 & 0125 Ekerö          & 17 & 3 & 3 & 3 & 4 &  9 & 2 & 0 & ⋯ & -15667.25 &  3988.00 &   8512.75 &  -6576.50 & 0 &  10872.25 &  601955.5 &  -719280.5 & 147936.8 &  -604585.5\\\\\n",
       "\\end{tabular}\n"
      ],
      "text/markdown": [
       "\n",
       "A data.frame: 6 × 21\n",
       "\n",
       "| <!--/--> | year &lt;chr&gt; | region &lt;chr&gt; | The Moderate Party &lt;int&gt; | The Centre Party &lt;int&gt; | The Liberal Party &lt;int&gt; | The Christian Democratic Party &lt;int&gt; | The Green Party &lt;int&gt; | The Social Democratic Party &lt;int&gt; | The Left Party &lt;int&gt; | The Sweden Democrats &lt;int&gt; | ⋯ ⋯ | Financial costs &lt;dbl&gt; | Financial income &lt;dbl&gt; | General grants and equalisation grants &lt;dbl&gt; | Net profit/loss after financial items &lt;dbl&gt; | Net profit/loss for operations &lt;dbl&gt; | Net profit/loss for the year &lt;dbl&gt; | Tax revenues &lt;dbl&gt; | Total costs for operations &lt;dbl&gt; | Total income for operations &lt;dbl&gt; | Total net current costs &lt;dbl&gt; |\n",
       "|---|---|---|---|---|---|---|---|---|---|---|---|---|---|---|---|---|---|---|---|---|---|\n",
       "| 1 | 1998 | 0114 Upplands Väsby | 16 | 2 | 4 | 3 | 2 | 18 | 5 | 0 | ⋯ | -24523.00 |  9788.00 |  23877.50 |  27648.75 | 0 | 110289.50 |  998055.0 | -1237170.0 | 326598.5 |  -978680.5 |\n",
       "| 2 | 1998 | 0115 Vallentuna     | 16 | 4 | 2 | 4 | 2 |  9 | 3 | 0 | ⋯ |  -3282.00 |  3927.00 |  57182.00 |   -475.75 | 0 |  16640.25 |  576253.5 |  -755892.5 | 169653.8 |  -633760.0 |\n",
       "| 3 | 1998 | 0117 Österåker      | 20 | 2 | 3 | 4 | 2 | 15 | 3 | 0 | ⋯ |  -9833.00 |  2517.00 |   5019.25 | -12078.50 | 0 | -12078.50 |  905556.0 | -1030488.8 | 151653.8 |  -913898.8 |\n",
       "| 4 | 1998 | 0120 Värmdö         | 17 | 2 | 2 | 2 | 2 | 13 | 3 | 0 | ⋯ |  -3350.25 | 10293.00 |  63439.00 |  -8109.50 | 0 | -19606.00 |  712872.5 |  -988970.0 | 233789.2 |  -790366.8 |\n",
       "| 5 | 1998 | 0123 Järfälla       | 18 | 2 | 5 | 6 | 2 | 23 | 5 | 0 | ⋯ | -25041.25 | 39573.75 | -19922.50 |   2210.75 | 0 |   2210.75 | 1635131.8 | -1937833.0 | 447106.8 | -1625076.8 |\n",
       "| 6 | 1998 | 0125 Ekerö          | 17 | 3 | 3 | 3 | 4 |  9 | 2 | 0 | ⋯ | -15667.25 |  3988.00 |   8512.75 |  -6576.50 | 0 |  10872.25 |  601955.5 |  -719280.5 | 147936.8 |  -604585.5 |\n",
       "\n"
      ],
      "text/plain": [
       "  year region              The Moderate Party The Centre Party\n",
       "1 1998 0114 Upplands Väsby 16                 2               \n",
       "2 1998 0115 Vallentuna     16                 4               \n",
       "3 1998 0117 Österåker      20                 2               \n",
       "4 1998 0120 Värmdö         17                 2               \n",
       "5 1998 0123 Järfälla       18                 2               \n",
       "6 1998 0125 Ekerö          17                 3               \n",
       "  The Liberal Party The Christian Democratic Party The Green Party\n",
       "1 4                 3                              2              \n",
       "2 2                 4                              2              \n",
       "3 3                 4                              2              \n",
       "4 2                 2                              2              \n",
       "5 5                 6                              2              \n",
       "6 3                 3                              4              \n",
       "  The Social Democratic Party The Left Party The Sweden Democrats ⋯\n",
       "1 18                          5              0                    ⋯\n",
       "2  9                          3              0                    ⋯\n",
       "3 15                          3              0                    ⋯\n",
       "4 13                          3              0                    ⋯\n",
       "5 23                          5              0                    ⋯\n",
       "6  9                          2              0                    ⋯\n",
       "  Financial costs Financial income General grants and equalisation grants\n",
       "1 -24523.00        9788.00          23877.50                             \n",
       "2  -3282.00        3927.00          57182.00                             \n",
       "3  -9833.00        2517.00           5019.25                             \n",
       "4  -3350.25       10293.00          63439.00                             \n",
       "5 -25041.25       39573.75         -19922.50                             \n",
       "6 -15667.25        3988.00           8512.75                             \n",
       "  Net profit/loss after financial items Net profit/loss for operations\n",
       "1  27648.75                             0                             \n",
       "2   -475.75                             0                             \n",
       "3 -12078.50                             0                             \n",
       "4  -8109.50                             0                             \n",
       "5   2210.75                             0                             \n",
       "6  -6576.50                             0                             \n",
       "  Net profit/loss for the year Tax revenues Total costs for operations\n",
       "1 110289.50                     998055.0    -1237170.0                \n",
       "2  16640.25                     576253.5     -755892.5                \n",
       "3 -12078.50                     905556.0    -1030488.8                \n",
       "4 -19606.00                     712872.5     -988970.0                \n",
       "5   2210.75                    1635131.8    -1937833.0                \n",
       "6  10872.25                     601955.5     -719280.5                \n",
       "  Total income for operations Total net current costs\n",
       "1 326598.5                     -978680.5             \n",
       "2 169653.8                     -633760.0             \n",
       "3 151653.8                     -913898.8             \n",
       "4 233789.2                     -790366.8             \n",
       "5 447106.8                    -1625076.8             \n",
       "6 147936.8                     -604585.5             "
      ]
     },
     "metadata": {},
     "output_type": "display_data"
    }
   ],
   "source": [
    "df <- merge(political_seats, income, by = c(\"year\", \"region\"))\n",
    "head(df)"
   ]
  },
  {
   "attachments": {},
   "cell_type": "markdown",
   "metadata": {},
   "source": [
    "Summerize each row for the different parties to determine if the municipalties are majorly left or right ruled, or even tied in seatings"
   ]
  },
  {
   "cell_type": "code",
   "execution_count": 178,
   "metadata": {
    "vscode": {
     "languageId": "r"
    }
   },
   "outputs": [],
   "source": [
    "right <- rowSums(df[, c(\"The Christian Democratic Party\", \"The Liberal Party\", \"The Moderate Party\")])\n",
    "centre <- df[[\"The Centre Party\"]]\n",
    "left <- rowSums(df[, c(\"The Green Party\", \"The Left Party\", \"The Social Democratic Party\")])\n",
    "indices <- rownames(df)"
   ]
  },
  {
   "attachments": {},
   "cell_type": "markdown",
   "metadata": {},
   "source": [
    "Calculate the majority ruling"
   ]
  },
  {
   "cell_type": "code",
   "execution_count": 179,
   "metadata": {
    "vscode": {
     "languageId": "r"
    }
   },
   "outputs": [],
   "source": [
    "majority <- character(length(right))\n",
    "for (i in 1:length(right)) {\n",
    "  if (indices[i] == \"2018\") {\n",
    "    if (left[i] + centre[i] > right[i]) {\n",
    "      majority[i] <- \"left\"\n",
    "    } else if (left[i] + centre[i] < right[i]) {\n",
    "      majority[i] <- \"right\"\n",
    "    } else {\n",
    "      majority[i] <- \"tie\"\n",
    "    }\n",
    "  } else {\n",
    "    if (left[i] > right[i] + centre[i]) {\n",
    "      majority[i] <- \"left\"\n",
    "    } else if (left[i] < right[i] + centre[i]) {\n",
    "      majority[i] <- \"right\"\n",
    "    } else {\n",
    "      majority[i] <- \"tie\"\n",
    "    }\n",
    "  }\n",
    "}"
   ]
  },
  {
   "attachments": {},
   "cell_type": "markdown",
   "metadata": {},
   "source": [
    "Set a new column \"majority\" that tells what the majority ruling of the municipality is."
   ]
  },
  {
   "cell_type": "code",
   "execution_count": 180,
   "metadata": {
    "vscode": {
     "languageId": "r"
    }
   },
   "outputs": [],
   "source": [
    "df$majority <- majority"
   ]
  },
  {
   "cell_type": "code",
   "execution_count": 181,
   "metadata": {
    "vscode": {
     "languageId": "r"
    }
   },
   "outputs": [
    {
     "data": {
      "text/html": [
       "<table class=\"dataframe\">\n",
       "<caption>A data.frame: 6 × 22</caption>\n",
       "<thead>\n",
       "\t<tr><th></th><th scope=col>year</th><th scope=col>region</th><th scope=col>The Moderate Party</th><th scope=col>The Centre Party</th><th scope=col>The Liberal Party</th><th scope=col>The Christian Democratic Party</th><th scope=col>The Green Party</th><th scope=col>The Social Democratic Party</th><th scope=col>The Left Party</th><th scope=col>The Sweden Democrats</th><th scope=col>⋯</th><th scope=col>Financial income</th><th scope=col>General grants and equalisation grants</th><th scope=col>Net profit/loss after financial items</th><th scope=col>Net profit/loss for operations</th><th scope=col>Net profit/loss for the year</th><th scope=col>Tax revenues</th><th scope=col>Total costs for operations</th><th scope=col>Total income for operations</th><th scope=col>Total net current costs</th><th scope=col>majority</th></tr>\n",
       "\t<tr><th></th><th scope=col>&lt;chr&gt;</th><th scope=col>&lt;chr&gt;</th><th scope=col>&lt;int&gt;</th><th scope=col>&lt;int&gt;</th><th scope=col>&lt;int&gt;</th><th scope=col>&lt;int&gt;</th><th scope=col>&lt;int&gt;</th><th scope=col>&lt;int&gt;</th><th scope=col>&lt;int&gt;</th><th scope=col>&lt;int&gt;</th><th scope=col>⋯</th><th scope=col>&lt;dbl&gt;</th><th scope=col>&lt;dbl&gt;</th><th scope=col>&lt;dbl&gt;</th><th scope=col>&lt;dbl&gt;</th><th scope=col>&lt;dbl&gt;</th><th scope=col>&lt;dbl&gt;</th><th scope=col>&lt;dbl&gt;</th><th scope=col>&lt;dbl&gt;</th><th scope=col>&lt;dbl&gt;</th><th scope=col>&lt;chr&gt;</th></tr>\n",
       "</thead>\n",
       "<tbody>\n",
       "\t<tr><th scope=row>1</th><td>1998</td><td>0114 Upplands Väsby</td><td>16</td><td>2</td><td>4</td><td>3</td><td>2</td><td>18</td><td>5</td><td>0</td><td>⋯</td><td> 9788.00</td><td> 23877.50</td><td> 27648.75</td><td>0</td><td>110289.50</td><td> 998055.0</td><td>-1237170.0</td><td>326598.5</td><td> -978680.5</td><td>tie  </td></tr>\n",
       "\t<tr><th scope=row>2</th><td>1998</td><td>0115 Vallentuna    </td><td>16</td><td>4</td><td>2</td><td>4</td><td>2</td><td> 9</td><td>3</td><td>0</td><td>⋯</td><td> 3927.00</td><td> 57182.00</td><td>  -475.75</td><td>0</td><td> 16640.25</td><td> 576253.5</td><td> -755892.5</td><td>169653.8</td><td> -633760.0</td><td>right</td></tr>\n",
       "\t<tr><th scope=row>3</th><td>1998</td><td>0117 Österåker     </td><td>20</td><td>2</td><td>3</td><td>4</td><td>2</td><td>15</td><td>3</td><td>0</td><td>⋯</td><td> 2517.00</td><td>  5019.25</td><td>-12078.50</td><td>0</td><td>-12078.50</td><td> 905556.0</td><td>-1030488.8</td><td>151653.8</td><td> -913898.8</td><td>right</td></tr>\n",
       "\t<tr><th scope=row>4</th><td>1998</td><td>0120 Värmdö        </td><td>17</td><td>2</td><td>2</td><td>2</td><td>2</td><td>13</td><td>3</td><td>0</td><td>⋯</td><td>10293.00</td><td> 63439.00</td><td> -8109.50</td><td>0</td><td>-19606.00</td><td> 712872.5</td><td> -988970.0</td><td>233789.2</td><td> -790366.8</td><td>right</td></tr>\n",
       "\t<tr><th scope=row>5</th><td>1998</td><td>0123 Järfälla      </td><td>18</td><td>2</td><td>5</td><td>6</td><td>2</td><td>23</td><td>5</td><td>0</td><td>⋯</td><td>39573.75</td><td>-19922.50</td><td>  2210.75</td><td>0</td><td>  2210.75</td><td>1635131.8</td><td>-1937833.0</td><td>447106.8</td><td>-1625076.8</td><td>right</td></tr>\n",
       "\t<tr><th scope=row>6</th><td>1998</td><td>0125 Ekerö         </td><td>17</td><td>3</td><td>3</td><td>3</td><td>4</td><td> 9</td><td>2</td><td>0</td><td>⋯</td><td> 3988.00</td><td>  8512.75</td><td> -6576.50</td><td>0</td><td> 10872.25</td><td> 601955.5</td><td> -719280.5</td><td>147936.8</td><td> -604585.5</td><td>right</td></tr>\n",
       "</tbody>\n",
       "</table>\n"
      ],
      "text/latex": [
       "A data.frame: 6 × 22\n",
       "\\begin{tabular}{r|lllllllllllllllllllll}\n",
       "  & year & region & The Moderate Party & The Centre Party & The Liberal Party & The Christian Democratic Party & The Green Party & The Social Democratic Party & The Left Party & The Sweden Democrats & ⋯ & Financial income & General grants and equalisation grants & Net profit/loss after financial items & Net profit/loss for operations & Net profit/loss for the year & Tax revenues & Total costs for operations & Total income for operations & Total net current costs & majority\\\\\n",
       "  & <chr> & <chr> & <int> & <int> & <int> & <int> & <int> & <int> & <int> & <int> & ⋯ & <dbl> & <dbl> & <dbl> & <dbl> & <dbl> & <dbl> & <dbl> & <dbl> & <dbl> & <chr>\\\\\n",
       "\\hline\n",
       "\t1 & 1998 & 0114 Upplands Väsby & 16 & 2 & 4 & 3 & 2 & 18 & 5 & 0 & ⋯ &  9788.00 &  23877.50 &  27648.75 & 0 & 110289.50 &  998055.0 & -1237170.0 & 326598.5 &  -978680.5 & tie  \\\\\n",
       "\t2 & 1998 & 0115 Vallentuna     & 16 & 4 & 2 & 4 & 2 &  9 & 3 & 0 & ⋯ &  3927.00 &  57182.00 &   -475.75 & 0 &  16640.25 &  576253.5 &  -755892.5 & 169653.8 &  -633760.0 & right\\\\\n",
       "\t3 & 1998 & 0117 Österåker      & 20 & 2 & 3 & 4 & 2 & 15 & 3 & 0 & ⋯ &  2517.00 &   5019.25 & -12078.50 & 0 & -12078.50 &  905556.0 & -1030488.8 & 151653.8 &  -913898.8 & right\\\\\n",
       "\t4 & 1998 & 0120 Värmdö         & 17 & 2 & 2 & 2 & 2 & 13 & 3 & 0 & ⋯ & 10293.00 &  63439.00 &  -8109.50 & 0 & -19606.00 &  712872.5 &  -988970.0 & 233789.2 &  -790366.8 & right\\\\\n",
       "\t5 & 1998 & 0123 Järfälla       & 18 & 2 & 5 & 6 & 2 & 23 & 5 & 0 & ⋯ & 39573.75 & -19922.50 &   2210.75 & 0 &   2210.75 & 1635131.8 & -1937833.0 & 447106.8 & -1625076.8 & right\\\\\n",
       "\t6 & 1998 & 0125 Ekerö          & 17 & 3 & 3 & 3 & 4 &  9 & 2 & 0 & ⋯ &  3988.00 &   8512.75 &  -6576.50 & 0 &  10872.25 &  601955.5 &  -719280.5 & 147936.8 &  -604585.5 & right\\\\\n",
       "\\end{tabular}\n"
      ],
      "text/markdown": [
       "\n",
       "A data.frame: 6 × 22\n",
       "\n",
       "| <!--/--> | year &lt;chr&gt; | region &lt;chr&gt; | The Moderate Party &lt;int&gt; | The Centre Party &lt;int&gt; | The Liberal Party &lt;int&gt; | The Christian Democratic Party &lt;int&gt; | The Green Party &lt;int&gt; | The Social Democratic Party &lt;int&gt; | The Left Party &lt;int&gt; | The Sweden Democrats &lt;int&gt; | ⋯ ⋯ | Financial income &lt;dbl&gt; | General grants and equalisation grants &lt;dbl&gt; | Net profit/loss after financial items &lt;dbl&gt; | Net profit/loss for operations &lt;dbl&gt; | Net profit/loss for the year &lt;dbl&gt; | Tax revenues &lt;dbl&gt; | Total costs for operations &lt;dbl&gt; | Total income for operations &lt;dbl&gt; | Total net current costs &lt;dbl&gt; | majority &lt;chr&gt; |\n",
       "|---|---|---|---|---|---|---|---|---|---|---|---|---|---|---|---|---|---|---|---|---|---|\n",
       "| 1 | 1998 | 0114 Upplands Väsby | 16 | 2 | 4 | 3 | 2 | 18 | 5 | 0 | ⋯ |  9788.00 |  23877.50 |  27648.75 | 0 | 110289.50 |  998055.0 | -1237170.0 | 326598.5 |  -978680.5 | tie   |\n",
       "| 2 | 1998 | 0115 Vallentuna     | 16 | 4 | 2 | 4 | 2 |  9 | 3 | 0 | ⋯ |  3927.00 |  57182.00 |   -475.75 | 0 |  16640.25 |  576253.5 |  -755892.5 | 169653.8 |  -633760.0 | right |\n",
       "| 3 | 1998 | 0117 Österåker      | 20 | 2 | 3 | 4 | 2 | 15 | 3 | 0 | ⋯ |  2517.00 |   5019.25 | -12078.50 | 0 | -12078.50 |  905556.0 | -1030488.8 | 151653.8 |  -913898.8 | right |\n",
       "| 4 | 1998 | 0120 Värmdö         | 17 | 2 | 2 | 2 | 2 | 13 | 3 | 0 | ⋯ | 10293.00 |  63439.00 |  -8109.50 | 0 | -19606.00 |  712872.5 |  -988970.0 | 233789.2 |  -790366.8 | right |\n",
       "| 5 | 1998 | 0123 Järfälla       | 18 | 2 | 5 | 6 | 2 | 23 | 5 | 0 | ⋯ | 39573.75 | -19922.50 |   2210.75 | 0 |   2210.75 | 1635131.8 | -1937833.0 | 447106.8 | -1625076.8 | right |\n",
       "| 6 | 1998 | 0125 Ekerö          | 17 | 3 | 3 | 3 | 4 |  9 | 2 | 0 | ⋯ |  3988.00 |   8512.75 |  -6576.50 | 0 |  10872.25 |  601955.5 |  -719280.5 | 147936.8 |  -604585.5 | right |\n",
       "\n"
      ],
      "text/plain": [
       "  year region              The Moderate Party The Centre Party\n",
       "1 1998 0114 Upplands Väsby 16                 2               \n",
       "2 1998 0115 Vallentuna     16                 4               \n",
       "3 1998 0117 Österåker      20                 2               \n",
       "4 1998 0120 Värmdö         17                 2               \n",
       "5 1998 0123 Järfälla       18                 2               \n",
       "6 1998 0125 Ekerö          17                 3               \n",
       "  The Liberal Party The Christian Democratic Party The Green Party\n",
       "1 4                 3                              2              \n",
       "2 2                 4                              2              \n",
       "3 3                 4                              2              \n",
       "4 2                 2                              2              \n",
       "5 5                 6                              2              \n",
       "6 3                 3                              4              \n",
       "  The Social Democratic Party The Left Party The Sweden Democrats ⋯\n",
       "1 18                          5              0                    ⋯\n",
       "2  9                          3              0                    ⋯\n",
       "3 15                          3              0                    ⋯\n",
       "4 13                          3              0                    ⋯\n",
       "5 23                          5              0                    ⋯\n",
       "6  9                          2              0                    ⋯\n",
       "  Financial income General grants and equalisation grants\n",
       "1  9788.00          23877.50                             \n",
       "2  3927.00          57182.00                             \n",
       "3  2517.00           5019.25                             \n",
       "4 10293.00          63439.00                             \n",
       "5 39573.75         -19922.50                             \n",
       "6  3988.00           8512.75                             \n",
       "  Net profit/loss after financial items Net profit/loss for operations\n",
       "1  27648.75                             0                             \n",
       "2   -475.75                             0                             \n",
       "3 -12078.50                             0                             \n",
       "4  -8109.50                             0                             \n",
       "5   2210.75                             0                             \n",
       "6  -6576.50                             0                             \n",
       "  Net profit/loss for the year Tax revenues Total costs for operations\n",
       "1 110289.50                     998055.0    -1237170.0                \n",
       "2  16640.25                     576253.5     -755892.5                \n",
       "3 -12078.50                     905556.0    -1030488.8                \n",
       "4 -19606.00                     712872.5     -988970.0                \n",
       "5   2210.75                    1635131.8    -1937833.0                \n",
       "6  10872.25                     601955.5     -719280.5                \n",
       "  Total income for operations Total net current costs majority\n",
       "1 326598.5                     -978680.5              tie     \n",
       "2 169653.8                     -633760.0              right   \n",
       "3 151653.8                     -913898.8              right   \n",
       "4 233789.2                     -790366.8              right   \n",
       "5 447106.8                    -1625076.8              right   \n",
       "6 147936.8                     -604585.5              right   "
      ]
     },
     "metadata": {},
     "output_type": "display_data"
    }
   ],
   "source": [
    "head(df)"
   ]
  },
  {
   "attachments": {},
   "cell_type": "markdown",
   "metadata": {},
   "source": [
    "## Task 6 & 9"
   ]
  },
  {
   "attachments": {},
   "cell_type": "markdown",
   "metadata": {},
   "source": [
    "Visualize the distribution for Net profit/loss for the year"
   ]
  },
  {
   "cell_type": "code",
   "execution_count": 182,
   "metadata": {
    "vscode": {
     "languageId": "r"
    }
   },
   "outputs": [
    {
     "data": {
      "image/png": "[encoded data removed]",
      "text/plain": [
       "plot without title"
      ]
     },
     "metadata": {
      "image/png": {
       "height": 420,
       "width": 420
      }
     },
     "output_type": "display_data"
    }
   ],
   "source": [
    "ggplot(data = df) +\n",
    "  geom_histogram(mapping = aes(x = `Net profit/loss for the year`), bins=30)"
   ]
  },
  {
   "attachments": {},
   "cell_type": "markdown",
   "metadata": {},
   "source": [
    "Visualize the distrubtion of Net profit/loss for the year for each majority ruling"
   ]
  },
  {
   "cell_type": "code",
   "execution_count": 183,
   "metadata": {
    "vscode": {
     "languageId": "r"
    }
   },
   "outputs": [
    {
     "data": {
      "image/png": "[encoded data removed]",
      "text/plain": [
       "plot without title"
      ]
     },
     "metadata": {
      "image/png": {
       "height": 420,
       "width": 420
      }
     },
     "output_type": "display_data"
    }
   ],
   "source": [
    "ggplot(data = df) +\n",
    "  geom_histogram(mapping = aes(x = `Net profit/loss for the year`, fill=majority), bins=12, position = \"dodge\")"
   ]
  },
  {
   "attachments": {},
   "cell_type": "markdown",
   "metadata": {},
   "source": [
    "Visualize the relation between tax revenues and General grants and equalisation grants for the year for each majority ruling"
   ]
  },
  {
   "cell_type": "code",
   "execution_count": 184,
   "metadata": {
    "vscode": {
     "languageId": "r"
    }
   },
   "outputs": [
    {
     "data": {
      "image/png": "[encoded data removed]",
      "text/plain": [
       "plot without title"
      ]
     },
     "metadata": {
      "image/png": {
       "height": 420,
       "width": 420
      }
     },
     "output_type": "display_data"
    }
   ],
   "source": [
    "ggplot(data = df) +\n",
    "  geom_point(mapping = aes(x = `General grants and equalisation grants`, y = `Tax revenues`, color=majority)) + \n",
    "  facet_wrap(~majority) + \n",
    "  theme(aspect.ratio = 3)"
   ]
  },
  {
   "cell_type": "code",
   "execution_count": 185,
   "metadata": {
    "vscode": {
     "languageId": "r"
    }
   },
   "outputs": [
    {
     "data": {
      "image/png": "[encoded data removed]",
      "text/plain": [
       "plot without title"
      ]
     },
     "metadata": {
      "image/png": {
       "height": 420,
       "width": 420
      }
     },
     "output_type": "display_data"
    }
   ],
   "source": [
    "ggplot(df, aes(x = majority, y = `Tax revenues`, color = majority)) +\n",
    "  geom_point(position = position_jitter(width = 0.2), size = 3)"
   ]
  },
  {
   "cell_type": "code",
   "execution_count": 186,
   "metadata": {
    "vscode": {
     "languageId": "r"
    }
   },
   "outputs": [
    {
     "data": {
      "image/png": "[encoded data removed]",
      "text/plain": [
       "plot without title"
      ]
     },
     "metadata": {
      "image/png": {
       "height": 420,
       "width": 420
      }
     },
     "output_type": "display_data"
    }
   ],
   "source": [
    "ggplot(df, aes(x = `General grants and equalisation grants`, y = `Tax revenues`)) +\n",
    "  geom_line(size = 1.2)"
   ]
  },
  {
   "attachments": {},
   "cell_type": "markdown",
   "metadata": {},
   "source": [
    "## Task 3"
   ]
  },
  {
   "cell_type": "code",
   "execution_count": 187,
   "metadata": {
    "vscode": {
     "languageId": "r"
    }
   },
   "outputs": [
    {
     "data": {
      "image/png": "[encoded data removed]",
      "text/plain": [
       "plot without title"
      ]
     },
     "metadata": {
      "image/png": {
       "height": 420,
       "width": 420
      }
     },
     "output_type": "display_data"
    }
   ],
   "source": [
    "ggplot(data = df) +\n",
    "  geom_point(mapping = aes(x = `General grants and equalisation grants`, y = `Tax revenues`, color=majority)) +\n",
    "  facet_grid(majority~year) +\n",
    "  theme(aspect.ratio = 1, axis.text.x = element_blank(), axis.text.y = element_blank())"
   ]
  },
  {
   "cell_type": "code",
   "execution_count": 188,
   "metadata": {
    "vscode": {
     "languageId": "r"
    }
   },
   "outputs": [
    {
     "name": "stderr",
     "output_type": "stream",
     "text": [
      "Warning message:\n",
      "\"\u001b[1m\u001b[22mThere were 18 warnings in `summarise()`.\n",
      "The first warning was:\n",
      "\u001b[1m\u001b[22m\u001b[36mℹ\u001b[39m In argument: `region = (function (x, ...) ...`.\n",
      "\u001b[36mℹ\u001b[39m In group 1: `majority = \"left\"`, `year = \"1998\"`.\n",
      "Caused by warning in `mean.default()`:\n",
      "\u001b[33m!\u001b[39m argument is not numeric or logical: returning NA\n",
      "\u001b[1m\u001b[22m\u001b[36mℹ\u001b[39m Run `dplyr::last_dplyr_warnings()` to see the 17 remaining warnings.\"\n"
     ]
    },
    {
     "data": {
      "text/html": [
       "<table class=\"dataframe\">\n",
       "<caption>A grouped_df: 18 × 22</caption>\n",
       "<thead>\n",
       "\t<tr><th scope=col>majority</th><th scope=col>year</th><th scope=col>region</th><th scope=col>The Moderate Party</th><th scope=col>The Centre Party</th><th scope=col>The Liberal Party</th><th scope=col>The Christian Democratic Party</th><th scope=col>The Green Party</th><th scope=col>The Social Democratic Party</th><th scope=col>The Left Party</th><th scope=col>⋯</th><th scope=col>Financial costs</th><th scope=col>Financial income</th><th scope=col>General grants and equalisation grants</th><th scope=col>Net profit/loss after financial items</th><th scope=col>Net profit/loss for operations</th><th scope=col>Net profit/loss for the year</th><th scope=col>Tax revenues</th><th scope=col>Total costs for operations</th><th scope=col>Total income for operations</th><th scope=col>Total net current costs</th></tr>\n",
       "\t<tr><th scope=col>&lt;chr&gt;</th><th scope=col>&lt;chr&gt;</th><th scope=col>&lt;dbl&gt;</th><th scope=col>&lt;dbl&gt;</th><th scope=col>&lt;dbl&gt;</th><th scope=col>&lt;dbl&gt;</th><th scope=col>&lt;dbl&gt;</th><th scope=col>&lt;dbl&gt;</th><th scope=col>&lt;dbl&gt;</th><th scope=col>&lt;dbl&gt;</th><th scope=col>⋯</th><th scope=col>&lt;dbl&gt;</th><th scope=col>&lt;dbl&gt;</th><th scope=col>&lt;dbl&gt;</th><th scope=col>&lt;dbl&gt;</th><th scope=col>&lt;dbl&gt;</th><th scope=col>&lt;dbl&gt;</th><th scope=col>&lt;dbl&gt;</th><th scope=col>&lt;dbl&gt;</th><th scope=col>&lt;dbl&gt;</th><th scope=col>&lt;dbl&gt;</th></tr>\n",
       "</thead>\n",
       "<tbody>\n",
       "\t<tr><td>left </td><td>1998</td><td>NA</td><td> 7.694611</td><td>4.269461</td><td>2.209581</td><td>3.281437</td><td>2.017964</td><td>19.64671</td><td>5.946108</td><td>⋯</td><td>-29080.732</td><td> 32090.292</td><td>178424.78</td><td>  2972.290</td><td>     0.00</td><td> 24671.365</td><td> 824599.1</td><td>-1235103.7</td><td> 303188.2</td><td>-1001818.5</td></tr>\n",
       "\t<tr><td>left </td><td>2002</td><td>NA</td><td> 6.201183</td><td>4.585799</td><td>4.278107</td><td>3.023669</td><td>1.698225</td><td>20.27811</td><td>4.668639</td><td>⋯</td><td>-38889.053</td><td> 54117.581</td><td>178256.18</td><td> 14268.092</td><td>     0.00</td><td> 20894.845</td><td>1161144.3</td><td>-1656936.2</td><td> 403208.0</td><td>-1338909.8</td></tr>\n",
       "\t<tr><td>left </td><td>2006</td><td>NA</td><td> 7.251908</td><td>4.740458</td><td>2.809160</td><td>2.206107</td><td>1.435115</td><td>19.87023</td><td>3.725191</td><td>⋯</td><td>-37661.273</td><td> 48215.050</td><td>255103.83</td><td> 35625.181</td><td>     0.00</td><td> 52005.653</td><td>1122555.7</td><td>-1650077.4</td><td> 381429.0</td><td>-1350990.0</td></tr>\n",
       "\t<tr><td>left </td><td>2010</td><td>NA</td><td> 8.064286</td><td>4.071429</td><td>2.671429</td><td>1.471429</td><td>2.150000</td><td>18.87143</td><td>3.400000</td><td>⋯</td><td>-40933.023</td><td> 45237.350</td><td>323799.94</td><td> 37457.246</td><td>     0.00</td><td> 52205.866</td><td>1199708.6</td><td>-1837025.8</td><td> 409508.5</td><td>-1490091.8</td></tr>\n",
       "\t<tr><td>left </td><td>2014</td><td>NA</td><td> 7.670270</td><td>4.200000</td><td>2.362162</td><td>1.448649</td><td>2.589189</td><td>17.01081</td><td>3.183784</td><td>⋯</td><td>-27495.818</td><td> 48099.654</td><td>370307.20</td><td> 76303.408</td><td>     0.00</td><td> 76076.001</td><td>1709858.6</td><td>-2563717.1</td><td> 623824.7</td><td>-2024466.3</td></tr>\n",
       "\t<tr><td>left </td><td>2018</td><td>NA</td><td> 6.500000</td><td>4.379630</td><td>1.888889</td><td>1.564815</td><td>1.129630</td><td>15.56481</td><td>3.583333</td><td>⋯</td><td>-27067.065</td><td> 55220.919</td><td>525336.26</td><td> 91755.840</td><td> 57468.89</td><td> 90109.088</td><td>1681467.2</td><td>-2631133.3</td><td> 587806.5</td><td>-2143201.5</td></tr>\n",
       "\t<tr><td>right</td><td>1998</td><td>NA</td><td>10.619469</td><td>7.221239</td><td>2.743363</td><td>4.327434</td><td>1.778761</td><td>13.47788</td><td>2.725664</td><td>⋯</td><td>-24052.210</td><td> 30109.201</td><td>100402.83</td><td>  5113.232</td><td>     0.00</td><td>  9928.949</td><td> 663868.4</td><td> -945331.1</td><td> 228090.0</td><td> -764257.3</td></tr>\n",
       "\t<tr><td>right</td><td>2002</td><td>NA</td><td> 8.370690</td><td>7.663793</td><td>4.396552</td><td>4.163793</td><td>1.318966</td><td>14.07759</td><td>2.103448</td><td>⋯</td><td> -8898.681</td><td> 10356.515</td><td> 88730.98</td><td>  8186.254</td><td>     0.00</td><td> 15837.034</td><td> 614492.4</td><td> -840760.2</td><td> 192700.2</td><td> -695968.0</td></tr>\n",
       "\t<tr><td>right</td><td>2006</td><td>NA</td><td>11.377483</td><td>6.715232</td><td>3.549669</td><td>3.357616</td><td>1.549669</td><td>14.01987</td><td>1.761589</td><td>⋯</td><td>-19112.954</td><td> 37268.969</td><td>140581.01</td><td> 34240.631</td><td>     0.00</td><td> 48584.783</td><td>1104055.6</td><td>-1514394.7</td><td> 357938.6</td><td>-1227094.5</td></tr>\n",
       "\t<tr><td>right</td><td>2010</td><td>NA</td><td>12.686131</td><td>5.525547</td><td>3.642336</td><td>2.649635</td><td>2.642336</td><td>12.86131</td><td>1.510949</td><td>⋯</td><td>-24605.686</td><td> 38662.186</td><td>198903.39</td><td> 54619.500</td><td>     0.00</td><td> 56481.210</td><td>1324856.7</td><td>-1852948.0</td><td> 429309.0</td><td>-1482843.6</td></tr>\n",
       "\t<tr><td>right</td><td>2014</td><td>NA</td><td> 9.854167</td><td>5.989583</td><td>2.697917</td><td>2.375000</td><td>2.468750</td><td>11.36458</td><td>1.479167</td><td>⋯</td><td> -8745.435</td><td> 15773.180</td><td>152081.23</td><td> 36113.859</td><td>     0.00</td><td> 32241.721</td><td>1024648.2</td><td>-1433628.5</td><td> 341490.3</td><td>-1147643.3</td></tr>\n",
       "\t<tr><td>right</td><td>2018</td><td>NA</td><td> 9.301775</td><td>6.230769</td><td>2.662722</td><td>2.810651</td><td>1.449704</td><td>11.14793</td><td>2.207101</td><td>⋯</td><td>-14074.075</td><td> 36119.099</td><td>326441.33</td><td> 83619.146</td><td> 57967.88</td><td> 84095.093</td><td>1383607.5</td><td>-2028006.9</td><td> 462560.9</td><td>-1648474.8</td></tr>\n",
       "\t<tr><td>tie  </td><td>1998</td><td>NA</td><td>10.300000</td><td>3.900000</td><td>2.800000</td><td>3.200000</td><td>2.100000</td><td>14.50000</td><td>3.600000</td><td>⋯</td><td>-13287.975</td><td> 10818.600</td><td>109162.45</td><td>  6451.725</td><td>     0.00</td><td> 24958.200</td><td> 641583.3</td><td> -900700.4</td><td> 211757.5</td><td> -740934.6</td></tr>\n",
       "\t<tr><td>tie  </td><td>2002</td><td>NA</td><td> 8.000000</td><td>5.000000</td><td>5.200000</td><td>3.800000</td><td>0.600000</td><td>19.00000</td><td>2.400000</td><td>⋯</td><td> -6239.550</td><td>  6757.350</td><td>176086.75</td><td>  9053.700</td><td>     0.00</td><td>  8103.700</td><td> 738610.4</td><td>-1120961.1</td><td> 283028.5</td><td> -905594.6</td></tr>\n",
       "\t<tr><td>tie  </td><td>2006</td><td>NA</td><td> 8.375000</td><td>6.375000</td><td>2.375000</td><td>2.125000</td><td>1.750000</td><td>15.12500</td><td>2.375000</td><td>⋯</td><td> -7071.594</td><td> 28619.125</td><td>184742.91</td><td> 50184.812</td><td>     0.00</td><td> 50144.188</td><td> 792199.8</td><td>-1172582.9</td><td> 282427.4</td><td> -947628.8</td></tr>\n",
       "\t<tr><td>tie  </td><td>2010</td><td>NA</td><td> 7.538462</td><td>5.538462</td><td>3.153846</td><td>1.692308</td><td>1.769231</td><td>14.61538</td><td>1.538462</td><td>⋯</td><td> -6833.615</td><td> 17831.173</td><td>210902.35</td><td> 31734.481</td><td>     0.00</td><td> 30667.212</td><td> 765299.9</td><td>-1180045.5</td><td> 272111.0</td><td> -955401.2</td></tr>\n",
       "\t<tr><td>tie  </td><td>2014</td><td>NA</td><td> 7.555556</td><td>6.555556</td><td>1.555556</td><td>2.000000</td><td>1.666667</td><td>13.88889</td><td>2.111111</td><td>⋯</td><td> -4681.083</td><td>  6346.861</td><td>214877.31</td><td> 14330.306</td><td>     0.00</td><td> 14330.306</td><td> 684141.7</td><td>-1143427.0</td><td> 292680.6</td><td> -886354.4</td></tr>\n",
       "\t<tr><td>tie  </td><td>2018</td><td>NA</td><td> 9.230769</td><td>6.000000</td><td>2.615385</td><td>2.538462</td><td>2.153846</td><td>14.38462</td><td>3.846154</td><td>⋯</td><td>-85053.365</td><td>167182.769</td><td>146362.44</td><td>332672.577</td><td>217901.56</td><td>336661.038</td><td>5519202.8</td><td>-6975985.2</td><td>1765220.8</td><td>-5415022.1</td></tr>\n",
       "</tbody>\n",
       "</table>\n"
      ],
      "text/latex": [
       "A grouped\\_df: 18 × 22\n",
       "\\begin{tabular}{lllllllllllllllllllll}\n",
       " majority & year & region & The Moderate Party & The Centre Party & The Liberal Party & The Christian Democratic Party & The Green Party & The Social Democratic Party & The Left Party & ⋯ & Financial costs & Financial income & General grants and equalisation grants & Net profit/loss after financial items & Net profit/loss for operations & Net profit/loss for the year & Tax revenues & Total costs for operations & Total income for operations & Total net current costs\\\\\n",
       " <chr> & <chr> & <dbl> & <dbl> & <dbl> & <dbl> & <dbl> & <dbl> & <dbl> & <dbl> & ⋯ & <dbl> & <dbl> & <dbl> & <dbl> & <dbl> & <dbl> & <dbl> & <dbl> & <dbl> & <dbl>\\\\\n",
       "\\hline\n",
       "\t left  & 1998 & NA &  7.694611 & 4.269461 & 2.209581 & 3.281437 & 2.017964 & 19.64671 & 5.946108 & ⋯ & -29080.732 &  32090.292 & 178424.78 &   2972.290 &      0.00 &  24671.365 &  824599.1 & -1235103.7 &  303188.2 & -1001818.5\\\\\n",
       "\t left  & 2002 & NA &  6.201183 & 4.585799 & 4.278107 & 3.023669 & 1.698225 & 20.27811 & 4.668639 & ⋯ & -38889.053 &  54117.581 & 178256.18 &  14268.092 &      0.00 &  20894.845 & 1161144.3 & -1656936.2 &  403208.0 & -1338909.8\\\\\n",
       "\t left  & 2006 & NA &  7.251908 & 4.740458 & 2.809160 & 2.206107 & 1.435115 & 19.87023 & 3.725191 & ⋯ & -37661.273 &  48215.050 & 255103.83 &  35625.181 &      0.00 &  52005.653 & 1122555.7 & -1650077.4 &  381429.0 & -1350990.0\\\\\n",
       "\t left  & 2010 & NA &  8.064286 & 4.071429 & 2.671429 & 1.471429 & 2.150000 & 18.87143 & 3.400000 & ⋯ & -40933.023 &  45237.350 & 323799.94 &  37457.246 &      0.00 &  52205.866 & 1199708.6 & -1837025.8 &  409508.5 & -1490091.8\\\\\n",
       "\t left  & 2014 & NA &  7.670270 & 4.200000 & 2.362162 & 1.448649 & 2.589189 & 17.01081 & 3.183784 & ⋯ & -27495.818 &  48099.654 & 370307.20 &  76303.408 &      0.00 &  76076.001 & 1709858.6 & -2563717.1 &  623824.7 & -2024466.3\\\\\n",
       "\t left  & 2018 & NA &  6.500000 & 4.379630 & 1.888889 & 1.564815 & 1.129630 & 15.56481 & 3.583333 & ⋯ & -27067.065 &  55220.919 & 525336.26 &  91755.840 &  57468.89 &  90109.088 & 1681467.2 & -2631133.3 &  587806.5 & -2143201.5\\\\\n",
       "\t right & 1998 & NA & 10.619469 & 7.221239 & 2.743363 & 4.327434 & 1.778761 & 13.47788 & 2.725664 & ⋯ & -24052.210 &  30109.201 & 100402.83 &   5113.232 &      0.00 &   9928.949 &  663868.4 &  -945331.1 &  228090.0 &  -764257.3\\\\\n",
       "\t right & 2002 & NA &  8.370690 & 7.663793 & 4.396552 & 4.163793 & 1.318966 & 14.07759 & 2.103448 & ⋯ &  -8898.681 &  10356.515 &  88730.98 &   8186.254 &      0.00 &  15837.034 &  614492.4 &  -840760.2 &  192700.2 &  -695968.0\\\\\n",
       "\t right & 2006 & NA & 11.377483 & 6.715232 & 3.549669 & 3.357616 & 1.549669 & 14.01987 & 1.761589 & ⋯ & -19112.954 &  37268.969 & 140581.01 &  34240.631 &      0.00 &  48584.783 & 1104055.6 & -1514394.7 &  357938.6 & -1227094.5\\\\\n",
       "\t right & 2010 & NA & 12.686131 & 5.525547 & 3.642336 & 2.649635 & 2.642336 & 12.86131 & 1.510949 & ⋯ & -24605.686 &  38662.186 & 198903.39 &  54619.500 &      0.00 &  56481.210 & 1324856.7 & -1852948.0 &  429309.0 & -1482843.6\\\\\n",
       "\t right & 2014 & NA &  9.854167 & 5.989583 & 2.697917 & 2.375000 & 2.468750 & 11.36458 & 1.479167 & ⋯ &  -8745.435 &  15773.180 & 152081.23 &  36113.859 &      0.00 &  32241.721 & 1024648.2 & -1433628.5 &  341490.3 & -1147643.3\\\\\n",
       "\t right & 2018 & NA &  9.301775 & 6.230769 & 2.662722 & 2.810651 & 1.449704 & 11.14793 & 2.207101 & ⋯ & -14074.075 &  36119.099 & 326441.33 &  83619.146 &  57967.88 &  84095.093 & 1383607.5 & -2028006.9 &  462560.9 & -1648474.8\\\\\n",
       "\t tie   & 1998 & NA & 10.300000 & 3.900000 & 2.800000 & 3.200000 & 2.100000 & 14.50000 & 3.600000 & ⋯ & -13287.975 &  10818.600 & 109162.45 &   6451.725 &      0.00 &  24958.200 &  641583.3 &  -900700.4 &  211757.5 &  -740934.6\\\\\n",
       "\t tie   & 2002 & NA &  8.000000 & 5.000000 & 5.200000 & 3.800000 & 0.600000 & 19.00000 & 2.400000 & ⋯ &  -6239.550 &   6757.350 & 176086.75 &   9053.700 &      0.00 &   8103.700 &  738610.4 & -1120961.1 &  283028.5 &  -905594.6\\\\\n",
       "\t tie   & 2006 & NA &  8.375000 & 6.375000 & 2.375000 & 2.125000 & 1.750000 & 15.12500 & 2.375000 & ⋯ &  -7071.594 &  28619.125 & 184742.91 &  50184.812 &      0.00 &  50144.188 &  792199.8 & -1172582.9 &  282427.4 &  -947628.8\\\\\n",
       "\t tie   & 2010 & NA &  7.538462 & 5.538462 & 3.153846 & 1.692308 & 1.769231 & 14.61538 & 1.538462 & ⋯ &  -6833.615 &  17831.173 & 210902.35 &  31734.481 &      0.00 &  30667.212 &  765299.9 & -1180045.5 &  272111.0 &  -955401.2\\\\\n",
       "\t tie   & 2014 & NA &  7.555556 & 6.555556 & 1.555556 & 2.000000 & 1.666667 & 13.88889 & 2.111111 & ⋯ &  -4681.083 &   6346.861 & 214877.31 &  14330.306 &      0.00 &  14330.306 &  684141.7 & -1143427.0 &  292680.6 &  -886354.4\\\\\n",
       "\t tie   & 2018 & NA &  9.230769 & 6.000000 & 2.615385 & 2.538462 & 2.153846 & 14.38462 & 3.846154 & ⋯ & -85053.365 & 167182.769 & 146362.44 & 332672.577 & 217901.56 & 336661.038 & 5519202.8 & -6975985.2 & 1765220.8 & -5415022.1\\\\\n",
       "\\end{tabular}\n"
      ],
      "text/markdown": [
       "\n",
       "A grouped_df: 18 × 22\n",
       "\n",
       "| majority &lt;chr&gt; | year &lt;chr&gt; | region &lt;dbl&gt; | The Moderate Party &lt;dbl&gt; | The Centre Party &lt;dbl&gt; | The Liberal Party &lt;dbl&gt; | The Christian Democratic Party &lt;dbl&gt; | The Green Party &lt;dbl&gt; | The Social Democratic Party &lt;dbl&gt; | The Left Party &lt;dbl&gt; | ⋯ ⋯ | Financial costs &lt;dbl&gt; | Financial income &lt;dbl&gt; | General grants and equalisation grants &lt;dbl&gt; | Net profit/loss after financial items &lt;dbl&gt; | Net profit/loss for operations &lt;dbl&gt; | Net profit/loss for the year &lt;dbl&gt; | Tax revenues &lt;dbl&gt; | Total costs for operations &lt;dbl&gt; | Total income for operations &lt;dbl&gt; | Total net current costs &lt;dbl&gt; |\n",
       "|---|---|---|---|---|---|---|---|---|---|---|---|---|---|---|---|---|---|---|---|---|\n",
       "| left  | 1998 | NA |  7.694611 | 4.269461 | 2.209581 | 3.281437 | 2.017964 | 19.64671 | 5.946108 | ⋯ | -29080.732 |  32090.292 | 178424.78 |   2972.290 |      0.00 |  24671.365 |  824599.1 | -1235103.7 |  303188.2 | -1001818.5 |\n",
       "| left  | 2002 | NA |  6.201183 | 4.585799 | 4.278107 | 3.023669 | 1.698225 | 20.27811 | 4.668639 | ⋯ | -38889.053 |  54117.581 | 178256.18 |  14268.092 |      0.00 |  20894.845 | 1161144.3 | -1656936.2 |  403208.0 | -1338909.8 |\n",
       "| left  | 2006 | NA |  7.251908 | 4.740458 | 2.809160 | 2.206107 | 1.435115 | 19.87023 | 3.725191 | ⋯ | -37661.273 |  48215.050 | 255103.83 |  35625.181 |      0.00 |  52005.653 | 1122555.7 | -1650077.4 |  381429.0 | -1350990.0 |\n",
       "| left  | 2010 | NA |  8.064286 | 4.071429 | 2.671429 | 1.471429 | 2.150000 | 18.87143 | 3.400000 | ⋯ | -40933.023 |  45237.350 | 323799.94 |  37457.246 |      0.00 |  52205.866 | 1199708.6 | -1837025.8 |  409508.5 | -1490091.8 |\n",
       "| left  | 2014 | NA |  7.670270 | 4.200000 | 2.362162 | 1.448649 | 2.589189 | 17.01081 | 3.183784 | ⋯ | -27495.818 |  48099.654 | 370307.20 |  76303.408 |      0.00 |  76076.001 | 1709858.6 | -2563717.1 |  623824.7 | -2024466.3 |\n",
       "| left  | 2018 | NA |  6.500000 | 4.379630 | 1.888889 | 1.564815 | 1.129630 | 15.56481 | 3.583333 | ⋯ | -27067.065 |  55220.919 | 525336.26 |  91755.840 |  57468.89 |  90109.088 | 1681467.2 | -2631133.3 |  587806.5 | -2143201.5 |\n",
       "| right | 1998 | NA | 10.619469 | 7.221239 | 2.743363 | 4.327434 | 1.778761 | 13.47788 | 2.725664 | ⋯ | -24052.210 |  30109.201 | 100402.83 |   5113.232 |      0.00 |   9928.949 |  663868.4 |  -945331.1 |  228090.0 |  -764257.3 |\n",
       "| right | 2002 | NA |  8.370690 | 7.663793 | 4.396552 | 4.163793 | 1.318966 | 14.07759 | 2.103448 | ⋯ |  -8898.681 |  10356.515 |  88730.98 |   8186.254 |      0.00 |  15837.034 |  614492.4 |  -840760.2 |  192700.2 |  -695968.0 |\n",
       "| right | 2006 | NA | 11.377483 | 6.715232 | 3.549669 | 3.357616 | 1.549669 | 14.01987 | 1.761589 | ⋯ | -19112.954 |  37268.969 | 140581.01 |  34240.631 |      0.00 |  48584.783 | 1104055.6 | -1514394.7 |  357938.6 | -1227094.5 |\n",
       "| right | 2010 | NA | 12.686131 | 5.525547 | 3.642336 | 2.649635 | 2.642336 | 12.86131 | 1.510949 | ⋯ | -24605.686 |  38662.186 | 198903.39 |  54619.500 |      0.00 |  56481.210 | 1324856.7 | -1852948.0 |  429309.0 | -1482843.6 |\n",
       "| right | 2014 | NA |  9.854167 | 5.989583 | 2.697917 | 2.375000 | 2.468750 | 11.36458 | 1.479167 | ⋯ |  -8745.435 |  15773.180 | 152081.23 |  36113.859 |      0.00 |  32241.721 | 1024648.2 | -1433628.5 |  341490.3 | -1147643.3 |\n",
       "| right | 2018 | NA |  9.301775 | 6.230769 | 2.662722 | 2.810651 | 1.449704 | 11.14793 | 2.207101 | ⋯ | -14074.075 |  36119.099 | 326441.33 |  83619.146 |  57967.88 |  84095.093 | 1383607.5 | -2028006.9 |  462560.9 | -1648474.8 |\n",
       "| tie   | 1998 | NA | 10.300000 | 3.900000 | 2.800000 | 3.200000 | 2.100000 | 14.50000 | 3.600000 | ⋯ | -13287.975 |  10818.600 | 109162.45 |   6451.725 |      0.00 |  24958.200 |  641583.3 |  -900700.4 |  211757.5 |  -740934.6 |\n",
       "| tie   | 2002 | NA |  8.000000 | 5.000000 | 5.200000 | 3.800000 | 0.600000 | 19.00000 | 2.400000 | ⋯ |  -6239.550 |   6757.350 | 176086.75 |   9053.700 |      0.00 |   8103.700 |  738610.4 | -1120961.1 |  283028.5 |  -905594.6 |\n",
       "| tie   | 2006 | NA |  8.375000 | 6.375000 | 2.375000 | 2.125000 | 1.750000 | 15.12500 | 2.375000 | ⋯ |  -7071.594 |  28619.125 | 184742.91 |  50184.812 |      0.00 |  50144.188 |  792199.8 | -1172582.9 |  282427.4 |  -947628.8 |\n",
       "| tie   | 2010 | NA |  7.538462 | 5.538462 | 3.153846 | 1.692308 | 1.769231 | 14.61538 | 1.538462 | ⋯ |  -6833.615 |  17831.173 | 210902.35 |  31734.481 |      0.00 |  30667.212 |  765299.9 | -1180045.5 |  272111.0 |  -955401.2 |\n",
       "| tie   | 2014 | NA |  7.555556 | 6.555556 | 1.555556 | 2.000000 | 1.666667 | 13.88889 | 2.111111 | ⋯ |  -4681.083 |   6346.861 | 214877.31 |  14330.306 |      0.00 |  14330.306 |  684141.7 | -1143427.0 |  292680.6 |  -886354.4 |\n",
       "| tie   | 2018 | NA |  9.230769 | 6.000000 | 2.615385 | 2.538462 | 2.153846 | 14.38462 | 3.846154 | ⋯ | -85053.365 | 167182.769 | 146362.44 | 332672.577 | 217901.56 | 336661.038 | 5519202.8 | -6975985.2 | 1765220.8 | -5415022.1 |\n",
       "\n"
      ],
      "text/plain": [
       "   majority year region The Moderate Party The Centre Party The Liberal Party\n",
       "1  left     1998 NA      7.694611          4.269461         2.209581         \n",
       "2  left     2002 NA      6.201183          4.585799         4.278107         \n",
       "3  left     2006 NA      7.251908          4.740458         2.809160         \n",
       "4  left     2010 NA      8.064286          4.071429         2.671429         \n",
       "5  left     2014 NA      7.670270          4.200000         2.362162         \n",
       "6  left     2018 NA      6.500000          4.379630         1.888889         \n",
       "7  right    1998 NA     10.619469          7.221239         2.743363         \n",
       "8  right    2002 NA      8.370690          7.663793         4.396552         \n",
       "9  right    2006 NA     11.377483          6.715232         3.549669         \n",
       "10 right    2010 NA     12.686131          5.525547         3.642336         \n",
       "11 right    2014 NA      9.854167          5.989583         2.697917         \n",
       "12 right    2018 NA      9.301775          6.230769         2.662722         \n",
       "13 tie      1998 NA     10.300000          3.900000         2.800000         \n",
       "14 tie      2002 NA      8.000000          5.000000         5.200000         \n",
       "15 tie      2006 NA      8.375000          6.375000         2.375000         \n",
       "16 tie      2010 NA      7.538462          5.538462         3.153846         \n",
       "17 tie      2014 NA      7.555556          6.555556         1.555556         \n",
       "18 tie      2018 NA      9.230769          6.000000         2.615385         \n",
       "   The Christian Democratic Party The Green Party The Social Democratic Party\n",
       "1  3.281437                       2.017964        19.64671                   \n",
       "2  3.023669                       1.698225        20.27811                   \n",
       "3  2.206107                       1.435115        19.87023                   \n",
       "4  1.471429                       2.150000        18.87143                   \n",
       "5  1.448649                       2.589189        17.01081                   \n",
       "6  1.564815                       1.129630        15.56481                   \n",
       "7  4.327434                       1.778761        13.47788                   \n",
       "8  4.163793                       1.318966        14.07759                   \n",
       "9  3.357616                       1.549669        14.01987                   \n",
       "10 2.649635                       2.642336        12.86131                   \n",
       "11 2.375000                       2.468750        11.36458                   \n",
       "12 2.810651                       1.449704        11.14793                   \n",
       "13 3.200000                       2.100000        14.50000                   \n",
       "14 3.800000                       0.600000        19.00000                   \n",
       "15 2.125000                       1.750000        15.12500                   \n",
       "16 1.692308                       1.769231        14.61538                   \n",
       "17 2.000000                       1.666667        13.88889                   \n",
       "18 2.538462                       2.153846        14.38462                   \n",
       "   The Left Party ⋯ Financial costs Financial income\n",
       "1  5.946108       ⋯ -29080.732       32090.292      \n",
       "2  4.668639       ⋯ -38889.053       54117.581      \n",
       "3  3.725191       ⋯ -37661.273       48215.050      \n",
       "4  3.400000       ⋯ -40933.023       45237.350      \n",
       "5  3.183784       ⋯ -27495.818       48099.654      \n",
       "6  3.583333       ⋯ -27067.065       55220.919      \n",
       "7  2.725664       ⋯ -24052.210       30109.201      \n",
       "8  2.103448       ⋯  -8898.681       10356.515      \n",
       "9  1.761589       ⋯ -19112.954       37268.969      \n",
       "10 1.510949       ⋯ -24605.686       38662.186      \n",
       "11 1.479167       ⋯  -8745.435       15773.180      \n",
       "12 2.207101       ⋯ -14074.075       36119.099      \n",
       "13 3.600000       ⋯ -13287.975       10818.600      \n",
       "14 2.400000       ⋯  -6239.550        6757.350      \n",
       "15 2.375000       ⋯  -7071.594       28619.125      \n",
       "16 1.538462       ⋯  -6833.615       17831.173      \n",
       "17 2.111111       ⋯  -4681.083        6346.861      \n",
       "18 3.846154       ⋯ -85053.365      167182.769      \n",
       "   General grants and equalisation grants Net profit/loss after financial items\n",
       "1  178424.78                                2972.290                           \n",
       "2  178256.18                               14268.092                           \n",
       "3  255103.83                               35625.181                           \n",
       "4  323799.94                               37457.246                           \n",
       "5  370307.20                               76303.408                           \n",
       "6  525336.26                               91755.840                           \n",
       "7  100402.83                                5113.232                           \n",
       "8   88730.98                                8186.254                           \n",
       "9  140581.01                               34240.631                           \n",
       "10 198903.39                               54619.500                           \n",
       "11 152081.23                               36113.859                           \n",
       "12 326441.33                               83619.146                           \n",
       "13 109162.45                                6451.725                           \n",
       "14 176086.75                                9053.700                           \n",
       "15 184742.91                               50184.812                           \n",
       "16 210902.35                               31734.481                           \n",
       "17 214877.31                               14330.306                           \n",
       "18 146362.44                              332672.577                           \n",
       "   Net profit/loss for operations Net profit/loss for the year Tax revenues\n",
       "1       0.00                       24671.365                    824599.1   \n",
       "2       0.00                       20894.845                   1161144.3   \n",
       "3       0.00                       52005.653                   1122555.7   \n",
       "4       0.00                       52205.866                   1199708.6   \n",
       "5       0.00                       76076.001                   1709858.6   \n",
       "6   57468.89                       90109.088                   1681467.2   \n",
       "7       0.00                        9928.949                    663868.4   \n",
       "8       0.00                       15837.034                    614492.4   \n",
       "9       0.00                       48584.783                   1104055.6   \n",
       "10      0.00                       56481.210                   1324856.7   \n",
       "11      0.00                       32241.721                   1024648.2   \n",
       "12  57967.88                       84095.093                   1383607.5   \n",
       "13      0.00                       24958.200                    641583.3   \n",
       "14      0.00                        8103.700                    738610.4   \n",
       "15      0.00                       50144.188                    792199.8   \n",
       "16      0.00                       30667.212                    765299.9   \n",
       "17      0.00                       14330.306                    684141.7   \n",
       "18 217901.56                      336661.038                   5519202.8   \n",
       "   Total costs for operations Total income for operations\n",
       "1  -1235103.7                  303188.2                  \n",
       "2  -1656936.2                  403208.0                  \n",
       "3  -1650077.4                  381429.0                  \n",
       "4  -1837025.8                  409508.5                  \n",
       "5  -2563717.1                  623824.7                  \n",
       "6  -2631133.3                  587806.5                  \n",
       "7   -945331.1                  228090.0                  \n",
       "8   -840760.2                  192700.2                  \n",
       "9  -1514394.7                  357938.6                  \n",
       "10 -1852948.0                  429309.0                  \n",
       "11 -1433628.5                  341490.3                  \n",
       "12 -2028006.9                  462560.9                  \n",
       "13  -900700.4                  211757.5                  \n",
       "14 -1120961.1                  283028.5                  \n",
       "15 -1172582.9                  282427.4                  \n",
       "16 -1180045.5                  272111.0                  \n",
       "17 -1143427.0                  292680.6                  \n",
       "18 -6975985.2                 1765220.8                  \n",
       "   Total net current costs\n",
       "1  -1001818.5             \n",
       "2  -1338909.8             \n",
       "3  -1350990.0             \n",
       "4  -1490091.8             \n",
       "5  -2024466.3             \n",
       "6  -2143201.5             \n",
       "7   -764257.3             \n",
       "8   -695968.0             \n",
       "9  -1227094.5             \n",
       "10 -1482843.6             \n",
       "11 -1147643.3             \n",
       "12 -1648474.8             \n",
       "13  -740934.6             \n",
       "14  -905594.6             \n",
       "15  -947628.8             \n",
       "16  -955401.2             \n",
       "17  -886354.4             \n",
       "18 -5415022.1             "
      ]
     },
     "metadata": {},
     "output_type": "display_data"
    }
   ],
   "source": [
    "df_cop <- df %>%\n",
    "    group_by(majority, year) %>%\n",
    "    summarize_all(mean)\n",
    "df_cop"
   ]
  },
  {
   "cell_type": "code",
   "execution_count": 189,
   "metadata": {
    "vscode": {
     "languageId": "r"
    }
   },
   "outputs": [
    {
     "data": {
      "image/png": "[encoded data removed]",
      "text/plain": [
       "plot without title"
      ]
     },
     "metadata": {
      "image/png": {
       "height": 420,
       "width": 420
      }
     },
     "output_type": "display_data"
    }
   ],
   "source": [
    "ggplot(data = df_cop) +\n",
    "  geom_boxplot(mapping = aes(x = majority, y = `General grants and equalisation grants`, color = majority))"
   ]
  },
  {
   "cell_type": "code",
   "execution_count": 190,
   "metadata": {
    "vscode": {
     "languageId": "r"
    }
   },
   "outputs": [
    {
     "data": {
      "image/png": "[encoded data removed]",
      "text/plain": [
       "plot without title"
      ]
     },
     "metadata": {
      "image/png": {
       "height": 420,
       "width": 420
      }
     },
     "output_type": "display_data"
    }
   ],
   "source": [
    "ggplot(data = df_cop) +\n",
    "  geom_boxplot(mapping = aes(x = majority, y = `Tax revenues`, color = majority))"
   ]
  },
  {
   "cell_type": "code",
   "execution_count": 191,
   "metadata": {
    "vscode": {
     "languageId": "r"
    }
   },
   "outputs": [
    {
     "data": {
      "image/png": "[encoded data removed]",
      "text/plain": [
       "plot without title"
      ]
     },
     "metadata": {
      "image/png": {
       "height": 420,
       "width": 420
      }
     },
     "output_type": "display_data"
    }
   ],
   "source": [
    "ggplot(df_cop, aes(x = `General grants and equalisation grants`, y = `Tax revenues`)) +\n",
    "  geom_point()"
   ]
  },
  {
   "attachments": {},
   "cell_type": "markdown",
   "metadata": {},
   "source": [
    "## Task 10"
   ]
  },
  {
   "cell_type": "code",
   "execution_count": 275,
   "metadata": {
    "vscode": {
     "languageId": "r"
    }
   },
   "outputs": [
    {
     "data": {
      "text/html": [
       "<table class=\"dataframe\">\n",
       "<caption>A matrix: 10 × 10 of type dbl</caption>\n",
       "<thead>\n",
       "\t<tr><th></th><th scope=col>Financial costs</th><th scope=col>Financial income</th><th scope=col>General grants and equalisation grants</th><th scope=col>Net profit/loss after financial items</th><th scope=col>Net profit/loss for operations</th><th scope=col>Net profit/loss for the year</th><th scope=col>Tax revenues</th><th scope=col>Total costs for operations</th><th scope=col>Total income for operations</th><th scope=col>Total net current costs</th></tr>\n",
       "</thead>\n",
       "<tbody>\n",
       "\t<tr><th scope=row>Financial costs</th><td> 1.0000000</td><td>-0.9274457</td><td>-0.3217211</td><td>-0.5308828</td><td>-0.2320388</td><td>-0.5496541</td><td>-0.7781482</td><td> 0.7869547</td><td>-0.7829998</td><td> 0.7844291</td></tr>\n",
       "\t<tr><th scope=row>Financial income</th><td>-0.9274457</td><td> 1.0000000</td><td> 0.2435830</td><td> 0.6308933</td><td> 0.2758362</td><td> 0.6104530</td><td> 0.8442995</td><td>-0.8429043</td><td> 0.8385715</td><td>-0.8380998</td></tr>\n",
       "\t<tr><th scope=row>General grants and equalisation grants</th><td>-0.3217211</td><td> 0.2435830</td><td> 1.0000000</td><td> 0.2942088</td><td> 0.1965459</td><td> 0.3161086</td><td> 0.3733531</td><td>-0.4668412</td><td> 0.4022613</td><td>-0.4929477</td></tr>\n",
       "\t<tr><th scope=row>Net profit/loss after financial items</th><td>-0.5308828</td><td> 0.6308933</td><td> 0.2942088</td><td> 1.0000000</td><td> 0.6763555</td><td> 0.8875184</td><td> 0.8733429</td><td>-0.8569037</td><td> 0.8714190</td><td>-0.8466035</td></tr>\n",
       "\t<tr><th scope=row>Net profit/loss for operations</th><td>-0.2320388</td><td> 0.2758362</td><td> 0.1965459</td><td> 0.6763555</td><td> 1.0000000</td><td> 0.5645758</td><td> 0.5362132</td><td>-0.5154078</td><td> 0.5156508</td><td>-0.5158069</td></tr>\n",
       "\t<tr><th scope=row>Net profit/loss for the year</th><td>-0.5496541</td><td> 0.6104530</td><td> 0.3161086</td><td> 0.8875184</td><td> 0.5645758</td><td> 1.0000000</td><td> 0.8136883</td><td>-0.8035314</td><td> 0.8099405</td><td>-0.7966793</td></tr>\n",
       "\t<tr><th scope=row>Tax revenues</th><td>-0.7781482</td><td> 0.8442995</td><td> 0.3733531</td><td> 0.8733429</td><td> 0.5362132</td><td> 0.8136883</td><td> 1.0000000</td><td>-0.9938088</td><td> 0.9904528</td><td>-0.9905858</td></tr>\n",
       "\t<tr><th scope=row>Total costs for operations</th><td> 0.7869547</td><td>-0.8429043</td><td>-0.4668412</td><td>-0.8569037</td><td>-0.5154078</td><td>-0.8035314</td><td>-0.9938088</td><td> 1.0000000</td><td>-0.9919322</td><td> 0.9988723</td></tr>\n",
       "\t<tr><th scope=row>Total income for operations</th><td>-0.7829998</td><td> 0.8385715</td><td> 0.4022613</td><td> 0.8714190</td><td> 0.5156508</td><td> 0.8099405</td><td> 0.9904528</td><td>-0.9919322</td><td> 1.0000000</td><td>-0.9852021</td></tr>\n",
       "\t<tr><th scope=row>Total net current costs</th><td> 0.7844291</td><td>-0.8380998</td><td>-0.4929477</td><td>-0.8466035</td><td>-0.5158069</td><td>-0.7966793</td><td>-0.9905858</td><td> 0.9988723</td><td>-0.9852021</td><td> 1.0000000</td></tr>\n",
       "</tbody>\n",
       "</table>\n"
      ],
      "text/latex": [
       "A matrix: 10 × 10 of type dbl\n",
       "\\begin{tabular}{r|llllllllll}\n",
       "  & Financial costs & Financial income & General grants and equalisation grants & Net profit/loss after financial items & Net profit/loss for operations & Net profit/loss for the year & Tax revenues & Total costs for operations & Total income for operations & Total net current costs\\\\\n",
       "\\hline\n",
       "\tFinancial costs &  1.0000000 & -0.9274457 & -0.3217211 & -0.5308828 & -0.2320388 & -0.5496541 & -0.7781482 &  0.7869547 & -0.7829998 &  0.7844291\\\\\n",
       "\tFinancial income & -0.9274457 &  1.0000000 &  0.2435830 &  0.6308933 &  0.2758362 &  0.6104530 &  0.8442995 & -0.8429043 &  0.8385715 & -0.8380998\\\\\n",
       "\tGeneral grants and equalisation grants & -0.3217211 &  0.2435830 &  1.0000000 &  0.2942088 &  0.1965459 &  0.3161086 &  0.3733531 & -0.4668412 &  0.4022613 & -0.4929477\\\\\n",
       "\tNet profit/loss after financial items & -0.5308828 &  0.6308933 &  0.2942088 &  1.0000000 &  0.6763555 &  0.8875184 &  0.8733429 & -0.8569037 &  0.8714190 & -0.8466035\\\\\n",
       "\tNet profit/loss for operations & -0.2320388 &  0.2758362 &  0.1965459 &  0.6763555 &  1.0000000 &  0.5645758 &  0.5362132 & -0.5154078 &  0.5156508 & -0.5158069\\\\\n",
       "\tNet profit/loss for the year & -0.5496541 &  0.6104530 &  0.3161086 &  0.8875184 &  0.5645758 &  1.0000000 &  0.8136883 & -0.8035314 &  0.8099405 & -0.7966793\\\\\n",
       "\tTax revenues & -0.7781482 &  0.8442995 &  0.3733531 &  0.8733429 &  0.5362132 &  0.8136883 &  1.0000000 & -0.9938088 &  0.9904528 & -0.9905858\\\\\n",
       "\tTotal costs for operations &  0.7869547 & -0.8429043 & -0.4668412 & -0.8569037 & -0.5154078 & -0.8035314 & -0.9938088 &  1.0000000 & -0.9919322 &  0.9988723\\\\\n",
       "\tTotal income for operations & -0.7829998 &  0.8385715 &  0.4022613 &  0.8714190 &  0.5156508 &  0.8099405 &  0.9904528 & -0.9919322 &  1.0000000 & -0.9852021\\\\\n",
       "\tTotal net current costs &  0.7844291 & -0.8380998 & -0.4929477 & -0.8466035 & -0.5158069 & -0.7966793 & -0.9905858 &  0.9988723 & -0.9852021 &  1.0000000\\\\\n",
       "\\end{tabular}\n"
      ],
      "text/markdown": [
       "\n",
       "A matrix: 10 × 10 of type dbl\n",
       "\n",
       "| <!--/--> | Financial costs | Financial income | General grants and equalisation grants | Net profit/loss after financial items | Net profit/loss for operations | Net profit/loss for the year | Tax revenues | Total costs for operations | Total income for operations | Total net current costs |\n",
       "|---|---|---|---|---|---|---|---|---|---|---|\n",
       "| Financial costs |  1.0000000 | -0.9274457 | -0.3217211 | -0.5308828 | -0.2320388 | -0.5496541 | -0.7781482 |  0.7869547 | -0.7829998 |  0.7844291 |\n",
       "| Financial income | -0.9274457 |  1.0000000 |  0.2435830 |  0.6308933 |  0.2758362 |  0.6104530 |  0.8442995 | -0.8429043 |  0.8385715 | -0.8380998 |\n",
       "| General grants and equalisation grants | -0.3217211 |  0.2435830 |  1.0000000 |  0.2942088 |  0.1965459 |  0.3161086 |  0.3733531 | -0.4668412 |  0.4022613 | -0.4929477 |\n",
       "| Net profit/loss after financial items | -0.5308828 |  0.6308933 |  0.2942088 |  1.0000000 |  0.6763555 |  0.8875184 |  0.8733429 | -0.8569037 |  0.8714190 | -0.8466035 |\n",
       "| Net profit/loss for operations | -0.2320388 |  0.2758362 |  0.1965459 |  0.6763555 |  1.0000000 |  0.5645758 |  0.5362132 | -0.5154078 |  0.5156508 | -0.5158069 |\n",
       "| Net profit/loss for the year | -0.5496541 |  0.6104530 |  0.3161086 |  0.8875184 |  0.5645758 |  1.0000000 |  0.8136883 | -0.8035314 |  0.8099405 | -0.7966793 |\n",
       "| Tax revenues | -0.7781482 |  0.8442995 |  0.3733531 |  0.8733429 |  0.5362132 |  0.8136883 |  1.0000000 | -0.9938088 |  0.9904528 | -0.9905858 |\n",
       "| Total costs for operations |  0.7869547 | -0.8429043 | -0.4668412 | -0.8569037 | -0.5154078 | -0.8035314 | -0.9938088 |  1.0000000 | -0.9919322 |  0.9988723 |\n",
       "| Total income for operations | -0.7829998 |  0.8385715 |  0.4022613 |  0.8714190 |  0.5156508 |  0.8099405 |  0.9904528 | -0.9919322 |  1.0000000 | -0.9852021 |\n",
       "| Total net current costs |  0.7844291 | -0.8380998 | -0.4929477 | -0.8466035 | -0.5158069 | -0.7966793 | -0.9905858 |  0.9988723 | -0.9852021 |  1.0000000 |\n",
       "\n"
      ],
      "text/plain": [
       "                                       Financial costs Financial income\n",
       "Financial costs                         1.0000000      -0.9274457      \n",
       "Financial income                       -0.9274457       1.0000000      \n",
       "General grants and equalisation grants -0.3217211       0.2435830      \n",
       "Net profit/loss after financial items  -0.5308828       0.6308933      \n",
       "Net profit/loss for operations         -0.2320388       0.2758362      \n",
       "Net profit/loss for the year           -0.5496541       0.6104530      \n",
       "Tax revenues                           -0.7781482       0.8442995      \n",
       "Total costs for operations              0.7869547      -0.8429043      \n",
       "Total income for operations            -0.7829998       0.8385715      \n",
       "Total net current costs                 0.7844291      -0.8380998      \n",
       "                                       General grants and equalisation grants\n",
       "Financial costs                        -0.3217211                            \n",
       "Financial income                        0.2435830                            \n",
       "General grants and equalisation grants  1.0000000                            \n",
       "Net profit/loss after financial items   0.2942088                            \n",
       "Net profit/loss for operations          0.1965459                            \n",
       "Net profit/loss for the year            0.3161086                            \n",
       "Tax revenues                            0.3733531                            \n",
       "Total costs for operations             -0.4668412                            \n",
       "Total income for operations             0.4022613                            \n",
       "Total net current costs                -0.4929477                            \n",
       "                                       Net profit/loss after financial items\n",
       "Financial costs                        -0.5308828                           \n",
       "Financial income                        0.6308933                           \n",
       "General grants and equalisation grants  0.2942088                           \n",
       "Net profit/loss after financial items   1.0000000                           \n",
       "Net profit/loss for operations          0.6763555                           \n",
       "Net profit/loss for the year            0.8875184                           \n",
       "Tax revenues                            0.8733429                           \n",
       "Total costs for operations             -0.8569037                           \n",
       "Total income for operations             0.8714190                           \n",
       "Total net current costs                -0.8466035                           \n",
       "                                       Net profit/loss for operations\n",
       "Financial costs                        -0.2320388                    \n",
       "Financial income                        0.2758362                    \n",
       "General grants and equalisation grants  0.1965459                    \n",
       "Net profit/loss after financial items   0.6763555                    \n",
       "Net profit/loss for operations          1.0000000                    \n",
       "Net profit/loss for the year            0.5645758                    \n",
       "Tax revenues                            0.5362132                    \n",
       "Total costs for operations             -0.5154078                    \n",
       "Total income for operations             0.5156508                    \n",
       "Total net current costs                -0.5158069                    \n",
       "                                       Net profit/loss for the year\n",
       "Financial costs                        -0.5496541                  \n",
       "Financial income                        0.6104530                  \n",
       "General grants and equalisation grants  0.3161086                  \n",
       "Net profit/loss after financial items   0.8875184                  \n",
       "Net profit/loss for operations          0.5645758                  \n",
       "Net profit/loss for the year            1.0000000                  \n",
       "Tax revenues                            0.8136883                  \n",
       "Total costs for operations             -0.8035314                  \n",
       "Total income for operations             0.8099405                  \n",
       "Total net current costs                -0.7966793                  \n",
       "                                       Tax revenues Total costs for operations\n",
       "Financial costs                        -0.7781482    0.7869547                \n",
       "Financial income                        0.8442995   -0.8429043                \n",
       "General grants and equalisation grants  0.3733531   -0.4668412                \n",
       "Net profit/loss after financial items   0.8733429   -0.8569037                \n",
       "Net profit/loss for operations          0.5362132   -0.5154078                \n",
       "Net profit/loss for the year            0.8136883   -0.8035314                \n",
       "Tax revenues                            1.0000000   -0.9938088                \n",
       "Total costs for operations             -0.9938088    1.0000000                \n",
       "Total income for operations             0.9904528   -0.9919322                \n",
       "Total net current costs                -0.9905858    0.9988723                \n",
       "                                       Total income for operations\n",
       "Financial costs                        -0.7829998                 \n",
       "Financial income                        0.8385715                 \n",
       "General grants and equalisation grants  0.4022613                 \n",
       "Net profit/loss after financial items   0.8714190                 \n",
       "Net profit/loss for operations          0.5156508                 \n",
       "Net profit/loss for the year            0.8099405                 \n",
       "Tax revenues                            0.9904528                 \n",
       "Total costs for operations             -0.9919322                 \n",
       "Total income for operations             1.0000000                 \n",
       "Total net current costs                -0.9852021                 \n",
       "                                       Total net current costs\n",
       "Financial costs                         0.7844291             \n",
       "Financial income                       -0.8380998             \n",
       "General grants and equalisation grants -0.4929477             \n",
       "Net profit/loss after financial items  -0.8466035             \n",
       "Net profit/loss for operations         -0.5158069             \n",
       "Net profit/loss for the year           -0.7966793             \n",
       "Tax revenues                           -0.9905858             \n",
       "Total costs for operations              0.9988723             \n",
       "Total income for operations            -0.9852021             \n",
       "Total net current costs                 1.0000000             "
      ]
     },
     "metadata": {},
     "output_type": "display_data"
    }
   ],
   "source": [
    "# Calling cor() on all \n",
    "(cormatrix <- df %>% select(`Financial costs`: `Total net current costs`) %>% cor)"
   ]
  },
  {
   "cell_type": "code",
   "execution_count": 276,
   "metadata": {
    "vscode": {
     "languageId": "r"
    }
   },
   "outputs": [
    {
     "data": {
      "text/html": [
       "<table class=\"dataframe\">\n",
       "<caption>A tibble: 100 × 3</caption>\n",
       "<thead>\n",
       "\t<tr><th scope=col>X</th><th scope=col>Y</th><th scope=col>cor</th></tr>\n",
       "\t<tr><th scope=col>&lt;chr&gt;</th><th scope=col>&lt;chr&gt;</th><th scope=col>&lt;dbl&gt;</th></tr>\n",
       "</thead>\n",
       "<tbody>\n",
       "\t<tr><td>Financial costs                       </td><td>Financial costs                       </td><td> 1.0000000</td></tr>\n",
       "\t<tr><td>Financial costs                       </td><td>Financial income                      </td><td>-0.9274457</td></tr>\n",
       "\t<tr><td>Financial costs                       </td><td>General grants and equalisation grants</td><td>-0.3217211</td></tr>\n",
       "\t<tr><td>Financial costs                       </td><td>Net profit/loss after financial items </td><td>-0.5308828</td></tr>\n",
       "\t<tr><td>Financial costs                       </td><td>Net profit/loss for operations        </td><td>-0.2320388</td></tr>\n",
       "\t<tr><td>Financial costs                       </td><td>Net profit/loss for the year          </td><td>-0.5496541</td></tr>\n",
       "\t<tr><td>Financial costs                       </td><td>Tax revenues                          </td><td>-0.7781482</td></tr>\n",
       "\t<tr><td>Financial costs                       </td><td>Total costs for operations            </td><td> 0.7869547</td></tr>\n",
       "\t<tr><td>Financial costs                       </td><td>Total income for operations           </td><td>-0.7829998</td></tr>\n",
       "\t<tr><td>Financial costs                       </td><td>Total net current costs               </td><td> 0.7844291</td></tr>\n",
       "\t<tr><td>Financial income                      </td><td>Financial costs                       </td><td>-0.9274457</td></tr>\n",
       "\t<tr><td>Financial income                      </td><td>Financial income                      </td><td> 1.0000000</td></tr>\n",
       "\t<tr><td>Financial income                      </td><td>General grants and equalisation grants</td><td> 0.2435830</td></tr>\n",
       "\t<tr><td>Financial income                      </td><td>Net profit/loss after financial items </td><td> 0.6308933</td></tr>\n",
       "\t<tr><td>Financial income                      </td><td>Net profit/loss for operations        </td><td> 0.2758362</td></tr>\n",
       "\t<tr><td>Financial income                      </td><td>Net profit/loss for the year          </td><td> 0.6104530</td></tr>\n",
       "\t<tr><td>Financial income                      </td><td>Tax revenues                          </td><td> 0.8442995</td></tr>\n",
       "\t<tr><td>Financial income                      </td><td>Total costs for operations            </td><td>-0.8429043</td></tr>\n",
       "\t<tr><td>Financial income                      </td><td>Total income for operations           </td><td> 0.8385715</td></tr>\n",
       "\t<tr><td>Financial income                      </td><td>Total net current costs               </td><td>-0.8380998</td></tr>\n",
       "\t<tr><td>General grants and equalisation grants</td><td>Financial costs                       </td><td>-0.3217211</td></tr>\n",
       "\t<tr><td>General grants and equalisation grants</td><td>Financial income                      </td><td> 0.2435830</td></tr>\n",
       "\t<tr><td>General grants and equalisation grants</td><td>General grants and equalisation grants</td><td> 1.0000000</td></tr>\n",
       "\t<tr><td>General grants and equalisation grants</td><td>Net profit/loss after financial items </td><td> 0.2942088</td></tr>\n",
       "\t<tr><td>General grants and equalisation grants</td><td>Net profit/loss for operations        </td><td> 0.1965459</td></tr>\n",
       "\t<tr><td>General grants and equalisation grants</td><td>Net profit/loss for the year          </td><td> 0.3161086</td></tr>\n",
       "\t<tr><td>General grants and equalisation grants</td><td>Tax revenues                          </td><td> 0.3733531</td></tr>\n",
       "\t<tr><td>General grants and equalisation grants</td><td>Total costs for operations            </td><td>-0.4668412</td></tr>\n",
       "\t<tr><td>General grants and equalisation grants</td><td>Total income for operations           </td><td> 0.4022613</td></tr>\n",
       "\t<tr><td>General grants and equalisation grants</td><td>Total net current costs               </td><td>-0.4929477</td></tr>\n",
       "\t<tr><td>⋮</td><td>⋮</td><td>⋮</td></tr>\n",
       "\t<tr><td>Total costs for operations </td><td>Financial costs                       </td><td> 0.7869547</td></tr>\n",
       "\t<tr><td>Total costs for operations </td><td>Financial income                      </td><td>-0.8429043</td></tr>\n",
       "\t<tr><td>Total costs for operations </td><td>General grants and equalisation grants</td><td>-0.4668412</td></tr>\n",
       "\t<tr><td>Total costs for operations </td><td>Net profit/loss after financial items </td><td>-0.8569037</td></tr>\n",
       "\t<tr><td>Total costs for operations </td><td>Net profit/loss for operations        </td><td>-0.5154078</td></tr>\n",
       "\t<tr><td>Total costs for operations </td><td>Net profit/loss for the year          </td><td>-0.8035314</td></tr>\n",
       "\t<tr><td>Total costs for operations </td><td>Tax revenues                          </td><td>-0.9938088</td></tr>\n",
       "\t<tr><td>Total costs for operations </td><td>Total costs for operations            </td><td> 1.0000000</td></tr>\n",
       "\t<tr><td>Total costs for operations </td><td>Total income for operations           </td><td>-0.9919322</td></tr>\n",
       "\t<tr><td>Total costs for operations </td><td>Total net current costs               </td><td> 0.9988723</td></tr>\n",
       "\t<tr><td>Total income for operations</td><td>Financial costs                       </td><td>-0.7829998</td></tr>\n",
       "\t<tr><td>Total income for operations</td><td>Financial income                      </td><td> 0.8385715</td></tr>\n",
       "\t<tr><td>Total income for operations</td><td>General grants and equalisation grants</td><td> 0.4022613</td></tr>\n",
       "\t<tr><td>Total income for operations</td><td>Net profit/loss after financial items </td><td> 0.8714190</td></tr>\n",
       "\t<tr><td>Total income for operations</td><td>Net profit/loss for operations        </td><td> 0.5156508</td></tr>\n",
       "\t<tr><td>Total income for operations</td><td>Net profit/loss for the year          </td><td> 0.8099405</td></tr>\n",
       "\t<tr><td>Total income for operations</td><td>Tax revenues                          </td><td> 0.9904528</td></tr>\n",
       "\t<tr><td>Total income for operations</td><td>Total costs for operations            </td><td>-0.9919322</td></tr>\n",
       "\t<tr><td>Total income for operations</td><td>Total income for operations           </td><td> 1.0000000</td></tr>\n",
       "\t<tr><td>Total income for operations</td><td>Total net current costs               </td><td>-0.9852021</td></tr>\n",
       "\t<tr><td>Total net current costs    </td><td>Financial costs                       </td><td> 0.7844291</td></tr>\n",
       "\t<tr><td>Total net current costs    </td><td>Financial income                      </td><td>-0.8380998</td></tr>\n",
       "\t<tr><td>Total net current costs    </td><td>General grants and equalisation grants</td><td>-0.4929477</td></tr>\n",
       "\t<tr><td>Total net current costs    </td><td>Net profit/loss after financial items </td><td>-0.8466035</td></tr>\n",
       "\t<tr><td>Total net current costs    </td><td>Net profit/loss for operations        </td><td>-0.5158069</td></tr>\n",
       "\t<tr><td>Total net current costs    </td><td>Net profit/loss for the year          </td><td>-0.7966793</td></tr>\n",
       "\t<tr><td>Total net current costs    </td><td>Tax revenues                          </td><td>-0.9905858</td></tr>\n",
       "\t<tr><td>Total net current costs    </td><td>Total costs for operations            </td><td> 0.9988723</td></tr>\n",
       "\t<tr><td>Total net current costs    </td><td>Total income for operations           </td><td>-0.9852021</td></tr>\n",
       "\t<tr><td>Total net current costs    </td><td>Total net current costs               </td><td> 1.0000000</td></tr>\n",
       "</tbody>\n",
       "</table>\n"
      ],
      "text/latex": [
       "A tibble: 100 × 3\n",
       "\\begin{tabular}{lll}\n",
       " X & Y & cor\\\\\n",
       " <chr> & <chr> & <dbl>\\\\\n",
       "\\hline\n",
       "\t Financial costs                        & Financial costs                        &  1.0000000\\\\\n",
       "\t Financial costs                        & Financial income                       & -0.9274457\\\\\n",
       "\t Financial costs                        & General grants and equalisation grants & -0.3217211\\\\\n",
       "\t Financial costs                        & Net profit/loss after financial items  & -0.5308828\\\\\n",
       "\t Financial costs                        & Net profit/loss for operations         & -0.2320388\\\\\n",
       "\t Financial costs                        & Net profit/loss for the year           & -0.5496541\\\\\n",
       "\t Financial costs                        & Tax revenues                           & -0.7781482\\\\\n",
       "\t Financial costs                        & Total costs for operations             &  0.7869547\\\\\n",
       "\t Financial costs                        & Total income for operations            & -0.7829998\\\\\n",
       "\t Financial costs                        & Total net current costs                &  0.7844291\\\\\n",
       "\t Financial income                       & Financial costs                        & -0.9274457\\\\\n",
       "\t Financial income                       & Financial income                       &  1.0000000\\\\\n",
       "\t Financial income                       & General grants and equalisation grants &  0.2435830\\\\\n",
       "\t Financial income                       & Net profit/loss after financial items  &  0.6308933\\\\\n",
       "\t Financial income                       & Net profit/loss for operations         &  0.2758362\\\\\n",
       "\t Financial income                       & Net profit/loss for the year           &  0.6104530\\\\\n",
       "\t Financial income                       & Tax revenues                           &  0.8442995\\\\\n",
       "\t Financial income                       & Total costs for operations             & -0.8429043\\\\\n",
       "\t Financial income                       & Total income for operations            &  0.8385715\\\\\n",
       "\t Financial income                       & Total net current costs                & -0.8380998\\\\\n",
       "\t General grants and equalisation grants & Financial costs                        & -0.3217211\\\\\n",
       "\t General grants and equalisation grants & Financial income                       &  0.2435830\\\\\n",
       "\t General grants and equalisation grants & General grants and equalisation grants &  1.0000000\\\\\n",
       "\t General grants and equalisation grants & Net profit/loss after financial items  &  0.2942088\\\\\n",
       "\t General grants and equalisation grants & Net profit/loss for operations         &  0.1965459\\\\\n",
       "\t General grants and equalisation grants & Net profit/loss for the year           &  0.3161086\\\\\n",
       "\t General grants and equalisation grants & Tax revenues                           &  0.3733531\\\\\n",
       "\t General grants and equalisation grants & Total costs for operations             & -0.4668412\\\\\n",
       "\t General grants and equalisation grants & Total income for operations            &  0.4022613\\\\\n",
       "\t General grants and equalisation grants & Total net current costs                & -0.4929477\\\\\n",
       "\t ⋮ & ⋮ & ⋮\\\\\n",
       "\t Total costs for operations  & Financial costs                        &  0.7869547\\\\\n",
       "\t Total costs for operations  & Financial income                       & -0.8429043\\\\\n",
       "\t Total costs for operations  & General grants and equalisation grants & -0.4668412\\\\\n",
       "\t Total costs for operations  & Net profit/loss after financial items  & -0.8569037\\\\\n",
       "\t Total costs for operations  & Net profit/loss for operations         & -0.5154078\\\\\n",
       "\t Total costs for operations  & Net profit/loss for the year           & -0.8035314\\\\\n",
       "\t Total costs for operations  & Tax revenues                           & -0.9938088\\\\\n",
       "\t Total costs for operations  & Total costs for operations             &  1.0000000\\\\\n",
       "\t Total costs for operations  & Total income for operations            & -0.9919322\\\\\n",
       "\t Total costs for operations  & Total net current costs                &  0.9988723\\\\\n",
       "\t Total income for operations & Financial costs                        & -0.7829998\\\\\n",
       "\t Total income for operations & Financial income                       &  0.8385715\\\\\n",
       "\t Total income for operations & General grants and equalisation grants &  0.4022613\\\\\n",
       "\t Total income for operations & Net profit/loss after financial items  &  0.8714190\\\\\n",
       "\t Total income for operations & Net profit/loss for operations         &  0.5156508\\\\\n",
       "\t Total income for operations & Net profit/loss for the year           &  0.8099405\\\\\n",
       "\t Total income for operations & Tax revenues                           &  0.9904528\\\\\n",
       "\t Total income for operations & Total costs for operations             & -0.9919322\\\\\n",
       "\t Total income for operations & Total income for operations            &  1.0000000\\\\\n",
       "\t Total income for operations & Total net current costs                & -0.9852021\\\\\n",
       "\t Total net current costs     & Financial costs                        &  0.7844291\\\\\n",
       "\t Total net current costs     & Financial income                       & -0.8380998\\\\\n",
       "\t Total net current costs     & General grants and equalisation grants & -0.4929477\\\\\n",
       "\t Total net current costs     & Net profit/loss after financial items  & -0.8466035\\\\\n",
       "\t Total net current costs     & Net profit/loss for operations         & -0.5158069\\\\\n",
       "\t Total net current costs     & Net profit/loss for the year           & -0.7966793\\\\\n",
       "\t Total net current costs     & Tax revenues                           & -0.9905858\\\\\n",
       "\t Total net current costs     & Total costs for operations             &  0.9988723\\\\\n",
       "\t Total net current costs     & Total income for operations            & -0.9852021\\\\\n",
       "\t Total net current costs     & Total net current costs                &  1.0000000\\\\\n",
       "\\end{tabular}\n"
      ],
      "text/markdown": [
       "\n",
       "A tibble: 100 × 3\n",
       "\n",
       "| X &lt;chr&gt; | Y &lt;chr&gt; | cor &lt;dbl&gt; |\n",
       "|---|---|---|\n",
       "| Financial costs                        | Financial costs                        |  1.0000000 |\n",
       "| Financial costs                        | Financial income                       | -0.9274457 |\n",
       "| Financial costs                        | General grants and equalisation grants | -0.3217211 |\n",
       "| Financial costs                        | Net profit/loss after financial items  | -0.5308828 |\n",
       "| Financial costs                        | Net profit/loss for operations         | -0.2320388 |\n",
       "| Financial costs                        | Net profit/loss for the year           | -0.5496541 |\n",
       "| Financial costs                        | Tax revenues                           | -0.7781482 |\n",
       "| Financial costs                        | Total costs for operations             |  0.7869547 |\n",
       "| Financial costs                        | Total income for operations            | -0.7829998 |\n",
       "| Financial costs                        | Total net current costs                |  0.7844291 |\n",
       "| Financial income                       | Financial costs                        | -0.9274457 |\n",
       "| Financial income                       | Financial income                       |  1.0000000 |\n",
       "| Financial income                       | General grants and equalisation grants |  0.2435830 |\n",
       "| Financial income                       | Net profit/loss after financial items  |  0.6308933 |\n",
       "| Financial income                       | Net profit/loss for operations         |  0.2758362 |\n",
       "| Financial income                       | Net profit/loss for the year           |  0.6104530 |\n",
       "| Financial income                       | Tax revenues                           |  0.8442995 |\n",
       "| Financial income                       | Total costs for operations             | -0.8429043 |\n",
       "| Financial income                       | Total income for operations            |  0.8385715 |\n",
       "| Financial income                       | Total net current costs                | -0.8380998 |\n",
       "| General grants and equalisation grants | Financial costs                        | -0.3217211 |\n",
       "| General grants and equalisation grants | Financial income                       |  0.2435830 |\n",
       "| General grants and equalisation grants | General grants and equalisation grants |  1.0000000 |\n",
       "| General grants and equalisation grants | Net profit/loss after financial items  |  0.2942088 |\n",
       "| General grants and equalisation grants | Net profit/loss for operations         |  0.1965459 |\n",
       "| General grants and equalisation grants | Net profit/loss for the year           |  0.3161086 |\n",
       "| General grants and equalisation grants | Tax revenues                           |  0.3733531 |\n",
       "| General grants and equalisation grants | Total costs for operations             | -0.4668412 |\n",
       "| General grants and equalisation grants | Total income for operations            |  0.4022613 |\n",
       "| General grants and equalisation grants | Total net current costs                | -0.4929477 |\n",
       "| ⋮ | ⋮ | ⋮ |\n",
       "| Total costs for operations  | Financial costs                        |  0.7869547 |\n",
       "| Total costs for operations  | Financial income                       | -0.8429043 |\n",
       "| Total costs for operations  | General grants and equalisation grants | -0.4668412 |\n",
       "| Total costs for operations  | Net profit/loss after financial items  | -0.8569037 |\n",
       "| Total costs for operations  | Net profit/loss for operations         | -0.5154078 |\n",
       "| Total costs for operations  | Net profit/loss for the year           | -0.8035314 |\n",
       "| Total costs for operations  | Tax revenues                           | -0.9938088 |\n",
       "| Total costs for operations  | Total costs for operations             |  1.0000000 |\n",
       "| Total costs for operations  | Total income for operations            | -0.9919322 |\n",
       "| Total costs for operations  | Total net current costs                |  0.9988723 |\n",
       "| Total income for operations | Financial costs                        | -0.7829998 |\n",
       "| Total income for operations | Financial income                       |  0.8385715 |\n",
       "| Total income for operations | General grants and equalisation grants |  0.4022613 |\n",
       "| Total income for operations | Net profit/loss after financial items  |  0.8714190 |\n",
       "| Total income for operations | Net profit/loss for operations         |  0.5156508 |\n",
       "| Total income for operations | Net profit/loss for the year           |  0.8099405 |\n",
       "| Total income for operations | Tax revenues                           |  0.9904528 |\n",
       "| Total income for operations | Total costs for operations             | -0.9919322 |\n",
       "| Total income for operations | Total income for operations            |  1.0000000 |\n",
       "| Total income for operations | Total net current costs                | -0.9852021 |\n",
       "| Total net current costs     | Financial costs                        |  0.7844291 |\n",
       "| Total net current costs     | Financial income                       | -0.8380998 |\n",
       "| Total net current costs     | General grants and equalisation grants | -0.4929477 |\n",
       "| Total net current costs     | Net profit/loss after financial items  | -0.8466035 |\n",
       "| Total net current costs     | Net profit/loss for operations         | -0.5158069 |\n",
       "| Total net current costs     | Net profit/loss for the year           | -0.7966793 |\n",
       "| Total net current costs     | Tax revenues                           | -0.9905858 |\n",
       "| Total net current costs     | Total costs for operations             |  0.9988723 |\n",
       "| Total net current costs     | Total income for operations            | -0.9852021 |\n",
       "| Total net current costs     | Total net current costs                |  1.0000000 |\n",
       "\n"
      ],
      "text/plain": [
       "    X                                     \n",
       "1   Financial costs                       \n",
       "2   Financial costs                       \n",
       "3   Financial costs                       \n",
       "4   Financial costs                       \n",
       "5   Financial costs                       \n",
       "6   Financial costs                       \n",
       "7   Financial costs                       \n",
       "8   Financial costs                       \n",
       "9   Financial costs                       \n",
       "10  Financial costs                       \n",
       "11  Financial income                      \n",
       "12  Financial income                      \n",
       "13  Financial income                      \n",
       "14  Financial income                      \n",
       "15  Financial income                      \n",
       "16  Financial income                      \n",
       "17  Financial income                      \n",
       "18  Financial income                      \n",
       "19  Financial income                      \n",
       "20  Financial income                      \n",
       "21  General grants and equalisation grants\n",
       "22  General grants and equalisation grants\n",
       "23  General grants and equalisation grants\n",
       "24  General grants and equalisation grants\n",
       "25  General grants and equalisation grants\n",
       "26  General grants and equalisation grants\n",
       "27  General grants and equalisation grants\n",
       "28  General grants and equalisation grants\n",
       "29  General grants and equalisation grants\n",
       "30  General grants and equalisation grants\n",
       "⋮   ⋮                                     \n",
       "71  Total costs for operations            \n",
       "72  Total costs for operations            \n",
       "73  Total costs for operations            \n",
       "74  Total costs for operations            \n",
       "75  Total costs for operations            \n",
       "76  Total costs for operations            \n",
       "77  Total costs for operations            \n",
       "78  Total costs for operations            \n",
       "79  Total costs for operations            \n",
       "80  Total costs for operations            \n",
       "81  Total income for operations           \n",
       "82  Total income for operations           \n",
       "83  Total income for operations           \n",
       "84  Total income for operations           \n",
       "85  Total income for operations           \n",
       "86  Total income for operations           \n",
       "87  Total income for operations           \n",
       "88  Total income for operations           \n",
       "89  Total income for operations           \n",
       "90  Total income for operations           \n",
       "91  Total net current costs               \n",
       "92  Total net current costs               \n",
       "93  Total net current costs               \n",
       "94  Total net current costs               \n",
       "95  Total net current costs               \n",
       "96  Total net current costs               \n",
       "97  Total net current costs               \n",
       "98  Total net current costs               \n",
       "99  Total net current costs               \n",
       "100 Total net current costs               \n",
       "    Y                                      cor       \n",
       "1   Financial costs                         1.0000000\n",
       "2   Financial income                       -0.9274457\n",
       "3   General grants and equalisation grants -0.3217211\n",
       "4   Net profit/loss after financial items  -0.5308828\n",
       "5   Net profit/loss for operations         -0.2320388\n",
       "6   Net profit/loss for the year           -0.5496541\n",
       "7   Tax revenues                           -0.7781482\n",
       "8   Total costs for operations              0.7869547\n",
       "9   Total income for operations            -0.7829998\n",
       "10  Total net current costs                 0.7844291\n",
       "11  Financial costs                        -0.9274457\n",
       "12  Financial income                        1.0000000\n",
       "13  General grants and equalisation grants  0.2435830\n",
       "14  Net profit/loss after financial items   0.6308933\n",
       "15  Net profit/loss for operations          0.2758362\n",
       "16  Net profit/loss for the year            0.6104530\n",
       "17  Tax revenues                            0.8442995\n",
       "18  Total costs for operations             -0.8429043\n",
       "19  Total income for operations             0.8385715\n",
       "20  Total net current costs                -0.8380998\n",
       "21  Financial costs                        -0.3217211\n",
       "22  Financial income                        0.2435830\n",
       "23  General grants and equalisation grants  1.0000000\n",
       "24  Net profit/loss after financial items   0.2942088\n",
       "25  Net profit/loss for operations          0.1965459\n",
       "26  Net profit/loss for the year            0.3161086\n",
       "27  Tax revenues                            0.3733531\n",
       "28  Total costs for operations             -0.4668412\n",
       "29  Total income for operations             0.4022613\n",
       "30  Total net current costs                -0.4929477\n",
       "⋮   ⋮                                      ⋮         \n",
       "71  Financial costs                         0.7869547\n",
       "72  Financial income                       -0.8429043\n",
       "73  General grants and equalisation grants -0.4668412\n",
       "74  Net profit/loss after financial items  -0.8569037\n",
       "75  Net profit/loss for operations         -0.5154078\n",
       "76  Net profit/loss for the year           -0.8035314\n",
       "77  Tax revenues                           -0.9938088\n",
       "78  Total costs for operations              1.0000000\n",
       "79  Total income for operations            -0.9919322\n",
       "80  Total net current costs                 0.9988723\n",
       "81  Financial costs                        -0.7829998\n",
       "82  Financial income                        0.8385715\n",
       "83  General grants and equalisation grants  0.4022613\n",
       "84  Net profit/loss after financial items   0.8714190\n",
       "85  Net profit/loss for operations          0.5156508\n",
       "86  Net profit/loss for the year            0.8099405\n",
       "87  Tax revenues                            0.9904528\n",
       "88  Total costs for operations             -0.9919322\n",
       "89  Total income for operations             1.0000000\n",
       "90  Total net current costs                -0.9852021\n",
       "91  Financial costs                         0.7844291\n",
       "92  Financial income                       -0.8380998\n",
       "93  General grants and equalisation grants -0.4929477\n",
       "94  Net profit/loss after financial items  -0.8466035\n",
       "95  Net profit/loss for operations         -0.5158069\n",
       "96  Net profit/loss for the year           -0.7966793\n",
       "97  Tax revenues                           -0.9905858\n",
       "98  Total costs for operations              0.9988723\n",
       "99  Total income for operations            -0.9852021\n",
       "100 Total net current costs                 1.0000000"
      ]
     },
     "metadata": {},
     "output_type": "display_data"
    }
   ],
   "source": [
    "(cortibble <- as_tibble(cormatrix, rownames = \"X\") %>%\n",
    "    pivot_longer(\n",
    "        -X,\n",
    "        names_to = \"Y\",\n",
    "        values_to = \"cor\"\n",
    "    ))"
   ]
  },
  {
   "cell_type": "code",
   "execution_count": 277,
   "metadata": {
    "vscode": {
     "languageId": "r"
    }
   },
   "outputs": [
    {
     "data": {
      "image/png": "[encoded data removed]",
      "text/plain": [
       "plot without title"
      ]
     },
     "metadata": {
      "image/png": {
       "height": 420,
       "width": 420
      }
     },
     "output_type": "display_data"
    }
   ],
   "source": [
    "ggplot(cortibble, aes(X, Y)) +\n",
    "  geom_raster(aes(X, Y, fill = cor)) +\n",
    "  geom_text(aes(label = round(cor, 2)))+ \n",
    "  scale_fill_distiller(palette = \"RdYlGn\", limits=c(-1, 1))+\n",
    "  theme(axis.text.x = element_text(angle=90, hjust=1)) "
   ]
  },
  {
   "cell_type": "code",
   "execution_count": 278,
   "metadata": {
    "vscode": {
     "languageId": "r"
    }
   },
   "outputs": [
    {
     "data": {
      "text/html": [
       "<table class=\"dataframe\">\n",
       "<caption>A matrix: 3 × 2 of type dbl</caption>\n",
       "<thead>\n",
       "\t<tr><th></th><th scope=col>freq</th><th scope=col>percentage</th></tr>\n",
       "</thead>\n",
       "<tbody>\n",
       "\t<tr><th scope=row>left</th><td>900</td><td>51.724138</td></tr>\n",
       "\t<tr><th scope=row>right</th><td>782</td><td>44.942529</td></tr>\n",
       "\t<tr><th scope=row>tie</th><td> 58</td><td> 3.333333</td></tr>\n",
       "</tbody>\n",
       "</table>\n"
      ],
      "text/latex": [
       "A matrix: 3 × 2 of type dbl\n",
       "\\begin{tabular}{r|ll}\n",
       "  & freq & percentage\\\\\n",
       "\\hline\n",
       "\tleft & 900 & 51.724138\\\\\n",
       "\tright & 782 & 44.942529\\\\\n",
       "\ttie &  58 &  3.333333\\\\\n",
       "\\end{tabular}\n"
      ],
      "text/markdown": [
       "\n",
       "A matrix: 3 × 2 of type dbl\n",
       "\n",
       "| <!--/--> | freq | percentage |\n",
       "|---|---|---|\n",
       "| left | 900 | 51.724138 |\n",
       "| right | 782 | 44.942529 |\n",
       "| tie |  58 |  3.333333 |\n",
       "\n"
      ],
      "text/plain": [
       "      freq percentage\n",
       "left  900  51.724138 \n",
       "right 782  44.942529 \n",
       "tie    58   3.333333 "
      ]
     },
     "metadata": {},
     "output_type": "display_data"
    }
   ],
   "source": [
    "# Class distribution\n",
    "percentage <- prop.table(table(df$majority)) * 100\n",
    "cbind(freq=table(df$majority), percentage=percentage)"
   ]
  },
  {
   "cell_type": "code",
   "execution_count": 279,
   "metadata": {
    "vscode": {
     "languageId": "r"
    }
   },
   "outputs": [
    {
     "name": "stdout",
     "output_type": "stream",
     "text": [
      "[1] TRUE\n"
     ]
    }
   ],
   "source": [
    "possitive_features <- c(\"region\", \"General grants and equalisation grants\", \"year\", \"Total net current costs\", \"Total income for operations\", \"Total costs for operations\", \"Tax revenues\", \"Net profit/loss for operations\", \"Net profit/loss after financial items\", \"Financial costs\", \"majority\")\n",
    "\n",
    "df_clean <- select(df, all_of(possitive_features))\n",
    "df_clean$majority <- as.factor(df_clean$majority)\n",
    "df_clean$region <- as.factor(df_clean$region)\n",
    "print(is.factor(df_clean$majority))"
   ]
  },
  {
   "cell_type": "code",
   "execution_count": 280,
   "metadata": {
    "vscode": {
     "languageId": "r"
    }
   },
   "outputs": [],
   "source": [
    "# create a list of 80% of the rows in the original dataset we can use for training\n",
    "test_index <- createDataPartition(df_clean$majority, p=0.80, list=FALSE)\n",
    "# select 20% of the data for validation\n",
    "test <- df_clean[-test_index,]\n",
    "# use the remaining 80% of data to training and testing the models\n",
    "df_clean <- df_clean[test_index,]"
   ]
  },
  {
   "cell_type": "code",
   "execution_count": 281,
   "metadata": {
    "vscode": {
     "languageId": "r"
    }
   },
   "outputs": [
    {
     "data": {
      "text/plain": [
       "Random Forest Model Specification (classification)\n",
       "\n",
       "Main Arguments:\n",
       "  mtry = 2\n",
       "  trees = 100\n",
       "\n",
       "Engine-Specific Arguments:\n",
       "  importance = impurity\n",
       "\n",
       "Computational engine: ranger \n"
      ]
     },
     "metadata": {},
     "output_type": "display_data"
    }
   ],
   "source": [
    "(rf_mod <-\n",
    "     rand_forest(mtry = 2, trees = 100) %>%\n",
    "     set_engine(\"ranger\", importance = \"impurity\") %>%\n",
    "     set_mode(\"classification\"))"
   ]
  },
  {
   "cell_type": "code",
   "execution_count": 282,
   "metadata": {
    "vscode": {
     "languageId": "r"
    }
   },
   "outputs": [
    {
     "data": {
      "text/plain": [
       "parsnip model object\n",
       "\n",
       "Ranger result\n",
       "\n",
       "Call:\n",
       " ranger::ranger(x = maybe_data_frame(x), y = y, mtry = min_cols(~2,      x), num.trees = ~100, importance = ~\"impurity\", num.threads = 1,      verbose = FALSE, seed = sample.int(10^5, 1), probability = TRUE) \n",
       "\n",
       "Type:                             Probability estimation \n",
       "Number of trees:                  100 \n",
       "Sample size:                      1393 \n",
       "Number of independent variables:  10 \n",
       "Mtry:                             2 \n",
       "Target node size:                 10 \n",
       "Variable importance mode:         impurity \n",
       "Splitrule:                        gini \n",
       "OOB prediction error (Brier s.):  0.2136807 "
      ]
     },
     "metadata": {},
     "output_type": "display_data"
    }
   ],
   "source": [
    "(rf_fit <- rf_mod %>% fit(majority~., data = df_clean))"
   ]
  },
  {
   "cell_type": "code",
   "execution_count": 283,
   "metadata": {
    "vscode": {
     "languageId": "r"
    }
   },
   "outputs": [
    {
     "data": {
      "text/plain": [
       "Confusion Matrix and Statistics\n",
       "\n",
       "          Reference\n",
       "Prediction left right tie\n",
       "     left   131    43   4\n",
       "     right   49   113   7\n",
       "     tie      0     0   0\n",
       "\n",
       "Overall Statistics\n",
       "                                          \n",
       "               Accuracy : 0.7032          \n",
       "                 95% CI : (0.6521, 0.7508)\n",
       "    No Information Rate : 0.5187          \n",
       "    P-Value [Acc > NIR] : 2.04e-12        \n",
       "                                          \n",
       "                  Kappa : 0.4236          \n",
       "                                          \n",
       " Mcnemar's Test P-Value : 0.009788        \n",
       "\n",
       "Statistics by Class:\n",
       "\n",
       "                     Class: left Class: right Class: tie\n",
       "Sensitivity               0.7278       0.7244     0.0000\n",
       "Specificity               0.7186       0.7068     1.0000\n",
       "Pos Pred Value            0.7360       0.6686        NaN\n",
       "Neg Pred Value            0.7101       0.7584     0.9683\n",
       "Prevalence                0.5187       0.4496     0.0317\n",
       "Detection Rate            0.3775       0.3256     0.0000\n",
       "Detection Prevalence      0.5130       0.4870     0.0000\n",
       "Balanced Accuracy         0.7232       0.7156     0.5000"
      ]
     },
     "metadata": {},
     "output_type": "display_data"
    }
   ],
   "source": [
    "pred <- predict(rf_fit, new_data = test)\n",
    "pred$.pred_class <- as.factor(pred$.pred_class)\n",
    "\n",
    "(confmat <- confusionMatrix(pred$.pred_class, test$majority))"
   ]
  },
  {
   "cell_type": "code",
   "execution_count": 284,
   "metadata": {
    "vscode": {
     "languageId": "r"
    }
   },
   "outputs": [
    {
     "name": "stderr",
     "output_type": "stream",
     "text": [
      "Warning message in geom_histogram(data = pred, mapping = aes(x = .pred_class, fill = .pred_class), :\n",
      "\"\u001b[1m\u001b[22mIgnoring unknown parameters: `binwidth`, `bins`, and `pad`\"\n"
     ]
    },
    {
     "data": {
      "image/png": "[encoded data removed]",
      "text/plain": [
       "plot without title"
      ]
     },
     "metadata": {
      "image/png": {
       "height": 420,
       "width": 420
      }
     },
     "output_type": "display_data"
    }
   ],
   "source": [
    "ggplot() +\n",
    "  geom_histogram(data = pred, mapping = aes(x = .pred_class, fill=.pred_class), stat=\"count\")\n"
   ]
  },
  {
   "cell_type": "code",
   "execution_count": 285,
   "metadata": {
    "vscode": {
     "languageId": "r"
    }
   },
   "outputs": [
    {
     "name": "stderr",
     "output_type": "stream",
     "text": [
      "Warning message in geom_histogram(data = test, mapping = aes(x = majority, fill = majority), :\n",
      "\"\u001b[1m\u001b[22mIgnoring unknown parameters: `binwidth`, `bins`, and `pad`\"\n"
     ]
    },
    {
     "data": {
      "image/png": "[encoded data removed]",
      "text/plain": [
       "plot without title"
      ]
     },
     "metadata": {
      "image/png": {
       "height": 420,
       "width": 420
      }
     },
     "output_type": "display_data"
    }
   ],
   "source": [
    "ggplot() +\n",
    "  geom_histogram(data = test, mapping = aes(x = majority, fill=majority), stat=\"count\")\n"
   ]
  },
  {
   "cell_type": "code",
   "execution_count": 286,
   "metadata": {
    "vscode": {
     "languageId": "r"
    }
   },
   "outputs": [
    {
     "data": {
      "text/plain": [
       "Linear Support Vector Machine Model Specification (classification)\n",
       "\n",
       "Main Arguments:\n",
       "  cost = 4\n",
       "\n",
       "Computational engine: kernlab \n"
      ]
     },
     "metadata": {},
     "output_type": "display_data"
    }
   ],
   "source": [
    "(svm_mod <-\n",
    "     svm_linear(cost=4) %>%\n",
    "     set_engine(\"kernlab\") %>%\n",
    "     set_mode(\"classification\"))"
   ]
  },
  {
   "cell_type": "code",
   "execution_count": 290,
   "metadata": {
    "vscode": {
     "languageId": "r"
    }
   },
   "outputs": [
    {
     "name": "stdout",
     "output_type": "stream",
     "text": [
      " Setting default kernel parameters  \n"
     ]
    },
    {
     "data": {
      "text/plain": [
       "parsnip model object\n",
       "\n",
       "Support Vector Machine object of class \"ksvm\" \n",
       "\n",
       "SV type: C-svc  (classification) \n",
       " parameter : cost C = 4 \n",
       "\n",
       "Linear (vanilla) kernel function. \n",
       "\n",
       "Number of Support Vectors : 644 \n",
       "\n",
       "Objective Function Value : -1141.813 -297.2699 -278.5496 \n",
       "Training error : 0.10122 \n",
       "Probability model included. "
      ]
     },
     "metadata": {},
     "output_type": "display_data"
    }
   ],
   "source": [
    "(svm_fit <- svm_mod %>% fit(majority~., data = df_clean))"
   ]
  },
  {
   "cell_type": "code",
   "execution_count": 291,
   "metadata": {
    "vscode": {
     "languageId": "r"
    }
   },
   "outputs": [
    {
     "data": {
      "text/html": [
       "<table class=\"dataframe\">\n",
       "<caption>A data.frame: 347 × 11</caption>\n",
       "<thead>\n",
       "\t<tr><th></th><th scope=col>region</th><th scope=col>General grants and equalisation grants</th><th scope=col>year</th><th scope=col>Total net current costs</th><th scope=col>Total income for operations</th><th scope=col>Total costs for operations</th><th scope=col>Tax revenues</th><th scope=col>Net profit/loss for operations</th><th scope=col>Net profit/loss after financial items</th><th scope=col>Financial costs</th><th scope=col>majority</th></tr>\n",
       "\t<tr><th></th><th scope=col>&lt;fct&gt;</th><th scope=col>&lt;dbl&gt;</th><th scope=col>&lt;chr&gt;</th><th scope=col>&lt;dbl&gt;</th><th scope=col>&lt;dbl&gt;</th><th scope=col>&lt;dbl&gt;</th><th scope=col>&lt;dbl&gt;</th><th scope=col>&lt;dbl&gt;</th><th scope=col>&lt;dbl&gt;</th><th scope=col>&lt;dbl&gt;</th><th scope=col>&lt;fct&gt;</th></tr>\n",
       "</thead>\n",
       "<tbody>\n",
       "\t<tr><th scope=row>3</th><td>0117 Österåker </td><td>   5019.25</td><td>1998</td><td>  -913898.8</td><td> 151653.75</td><td> -1030488.8</td><td>  905556.0</td><td>0</td><td>-12078.50</td><td>   -9833.00</td><td>right</td></tr>\n",
       "\t<tr><th scope=row>7</th><td>0126 Huddinge  </td><td> 219690.25</td><td>1998</td><td> -2370328.8</td><td> 470717.00</td><td> -2774899.0</td><td> 2060344.5</td><td>0</td><td>-35642.25</td><td>   -2324.50</td><td>left </td></tr>\n",
       "\t<tr><th scope=row>10</th><td>0136 Haninge   </td><td> 214116.50</td><td>1998</td><td> -1734778.8</td><td> 438896.50</td><td> -2071675.0</td><td> 1677310.0</td><td>0</td><td>112015.50</td><td>  -49511.00</td><td>left </td></tr>\n",
       "\t<tr><th scope=row>14</th><td>0160 Täby      </td><td>-297724.75</td><td>1998</td><td> -1486445.5</td><td> 415801.50</td><td> -1800674.8</td><td> 1721068.2</td><td>0</td><td>-65168.75</td><td>  -33907.00</td><td>right</td></tr>\n",
       "\t<tr><th scope=row>16</th><td>0163 Sollentuna</td><td> -51398.50</td><td>1998</td><td> -1509328.8</td><td> 405828.00</td><td> -1844079.2</td><td> 1543294.0</td><td>0</td><td> 37958.00</td><td>  -18134.50</td><td>right</td></tr>\n",
       "\t<tr><th scope=row>17</th><td>0180 Stockholm </td><td>1968362.75</td><td>1998</td><td>-21259525.0</td><td>7753527.50</td><td>-28237365.0</td><td>19220569.5</td><td>0</td><td>475924.25</td><td>-1755105.25</td><td>right</td></tr>\n",
       "\t<tr><th scope=row>25</th><td>0191 Sigtuna   </td><td>  74672.75</td><td>1998</td><td>  -927455.2</td><td> 271956.25</td><td> -1136967.0</td><td>  856708.5</td><td>0</td><td> -8522.75</td><td>  -16069.00</td><td>right</td></tr>\n",
       "\t<tr><th scope=row>26</th><td>0192 Nynäshamn </td><td>  68656.25</td><td>1998</td><td>  -647236.8</td><td> 177579.00</td><td>  -774989.0</td><td>  587015.8</td><td>0</td><td>  1856.75</td><td>  -17435.00</td><td>left </td></tr>\n",
       "\t<tr><th scope=row>27</th><td>0305 Håbo      </td><td> -20261.75</td><td>1998</td><td>  -427822.0</td><td>  79197.75</td><td>  -476042.5</td><td>  446078.2</td><td>0</td><td>-21835.00</td><td>  -20362.75</td><td>right</td></tr>\n",
       "\t<tr><th scope=row>29</th><td>0330 Knivsta   </td><td>      0.00</td><td>1998</td><td>        0.0</td><td>      0.00</td><td>        0.0</td><td>       0.0</td><td>0</td><td>     0.00</td><td>       0.00</td><td>tie  </td></tr>\n",
       "\t<tr><th scope=row>32</th><td>0380 Uppsala   </td><td> 683060.50</td><td>1998</td><td> -5382506.8</td><td>1337828.50</td><td> -6342737.2</td><td> 4675246.2</td><td>0</td><td> -6162.75</td><td> -145795.00</td><td>left </td></tr>\n",
       "\t<tr><th scope=row>33</th><td>0381 Enköping  </td><td> 165757.25</td><td>1998</td><td> -1025346.8</td><td> 248801.25</td><td> -1201324.5</td><td>  873829.0</td><td>0</td><td> 11810.75</td><td>  -15172.25</td><td>right</td></tr>\n",
       "\t<tr><th scope=row>37</th><td>0480 Nyköping  </td><td> 183666.50</td><td>1998</td><td> -1409716.5</td><td> 419865.75</td><td> -1721299.0</td><td> 1194090.5</td><td>0</td><td>-20391.75</td><td>   -6049.50</td><td>left </td></tr>\n",
       "\t<tr><th scope=row>55</th><td>0584 Vadstena  </td><td>  38852.50</td><td>1998</td><td>  -216733.8</td><td>  72242.25</td><td>  -271119.8</td><td>  183273.0</td><td>0</td><td>   822.50</td><td>   -6977.75</td><td>left </td></tr>\n",
       "\t<tr><th scope=row>60</th><td>0643 Habo      </td><td>  48455.75</td><td>1998</td><td>  -244190.8</td><td>  49449.50</td><td>  -278899.5</td><td>  192945.5</td><td>0</td><td> -3373.00</td><td>   -2740.00</td><td>right</td></tr>\n",
       "\t<tr><th scope=row>61</th><td>0662 Gislaved  </td><td> 151833.75</td><td>1998</td><td>  -855578.8</td><td> 215091.75</td><td> -1005889.8</td><td>  713105.2</td><td>0</td><td> 21082.50</td><td>   -1965.00</td><td>right</td></tr>\n",
       "\t<tr><th scope=row>70</th><td>0760 Uppvidinge</td><td>  93641.75</td><td>1998</td><td>  -329167.0</td><td>  77410.50</td><td>  -380194.5</td><td>  227708.8</td><td>0</td><td> -8774.75</td><td>   -3843.75</td><td>left </td></tr>\n",
       "\t<tr><th scope=row>74</th><td>0765 Älmhult   </td><td>  77918.25</td><td>1998</td><td>  -409883.0</td><td> 132863.50</td><td>  -506131.5</td><td>  321629.0</td><td>0</td><td> -5966.50</td><td>   -3891.25</td><td>right</td></tr>\n",
       "\t<tr><th scope=row>75</th><td>0767 Markaryd  </td><td>  74526.50</td><td>1998</td><td>  -297441.8</td><td>  67874.75</td><td>  -341305.0</td><td>  217089.5</td><td>0</td><td>  5694.25</td><td>   -6388.50</td><td>tie  </td></tr>\n",
       "\t<tr><th scope=row>77</th><td>0781 Ljungby   </td><td> 142208.50</td><td>1998</td><td>  -760593.0</td><td> 191254.75</td><td>  -901444.0</td><td>  612971.0</td><td>0</td><td>  8999.50</td><td>   -1722.75</td><td>tie  </td></tr>\n",
       "\t<tr><th scope=row>78</th><td>0821 Högsby    </td><td>  80415.25</td><td>1998</td><td>  -220170.0</td><td>  72243.50</td><td>  -280148.2</td><td>  138278.2</td><td>0</td><td> -3305.25</td><td>   -4498.50</td><td>left </td></tr>\n",
       "\t<tr><th scope=row>81</th><td>0860 Hultsfred </td><td> 131913.00</td><td>1998</td><td>  -486597.0</td><td> 143998.25</td><td>  -603454.2</td><td>  360367.0</td><td>0</td><td>  1006.25</td><td>   -9407.25</td><td>left </td></tr>\n",
       "\t<tr><th scope=row>88</th><td>0884 Vimmerby  </td><td> 105339.00</td><td>1998</td><td>  -451306.2</td><td> 126428.25</td><td>  -546471.8</td><td>  347117.2</td><td>0</td><td>  6765.25</td><td>   -3228.00</td><td>right</td></tr>\n",
       "\t<tr><th scope=row>92</th><td>1080 Karlskrona</td><td> 271126.25</td><td>1998</td><td> -1642354.5</td><td> 531221.00</td><td> -2005885.2</td><td> 1427573.5</td><td>0</td><td> 20491.50</td><td>  -87924.00</td><td>left </td></tr>\n",
       "\t<tr><th scope=row>103</th><td>1261 Kävlinge  </td><td>  36617.50</td><td>1998</td><td>  -590950.8</td><td> 164712.00</td><td>  -717424.0</td><td>  548448.8</td><td>0</td><td>  6021.75</td><td>   -1939.25</td><td>left </td></tr>\n",
       "\t<tr><th scope=row>105</th><td>1263 Svedala   </td><td>  50505.00</td><td>1998</td><td>  -474037.8</td><td>  99371.00</td><td>  -541874.2</td><td>  424372.5</td><td>0</td><td>  1171.00</td><td>  -10122.75</td><td>left </td></tr>\n",
       "\t<tr><th scope=row>109</th><td>1267 Höör      </td><td>  94764.75</td><td>1998</td><td>  -388971.2</td><td>  91316.25</td><td>  -456737.2</td><td>  296575.0</td><td>0</td><td>  5223.25</td><td>    -229.75</td><td>right</td></tr>\n",
       "\t<tr><th scope=row>122</th><td>1285 Eslöv     </td><td> 179276.50</td><td>1998</td><td>  -806528.8</td><td> 260410.25</td><td> -1020513.2</td><td>  642533.8</td><td>0</td><td> 20426.00</td><td>   -2611.50</td><td>left </td></tr>\n",
       "\t<tr><th scope=row>126</th><td>1291 Simrishamn</td><td> 154732.25</td><td>1998</td><td>  -587897.8</td><td> 141096.00</td><td>  -686745.5</td><td>  424893.5</td><td>0</td><td>-13438.50</td><td>  -10251.00</td><td>right</td></tr>\n",
       "\t<tr><th scope=row>130</th><td>1380 Halmstad  </td><td> 415635.25</td><td>1998</td><td> -2300740.8</td><td> 670316.50</td><td> -2790407.0</td><td> 1832455.5</td><td>0</td><td> 44016.25</td><td>   -9932.25</td><td>left </td></tr>\n",
       "\t<tr><th scope=row>⋮</th><td>⋮</td><td>⋮</td><td>⋮</td><td>⋮</td><td>⋮</td><td>⋮</td><td>⋮</td><td>⋮</td><td>⋮</td><td>⋮</td><td>⋮</td></tr>\n",
       "\t<tr><th scope=row>1584</th><td>1384 Kungsbacka  </td><td> 379121.2</td><td>2018</td><td> -4830935.2</td><td> 1191396.25</td><td> -5691005.5</td><td> 4729888.5</td><td> 252959.50</td><td> 274600.25</td><td> -18639.75</td><td>right</td></tr>\n",
       "\t<tr><th scope=row>1586</th><td>1402 Partille    </td><td> 271548.5</td><td>2018</td><td> -2159189.8</td><td>  522987.25</td><td> -2600512.8</td><td> 1955033.0</td><td>  66285.50</td><td> 113781.75</td><td>  -5617.75</td><td>right</td></tr>\n",
       "\t<tr><th scope=row>1587</th><td>1407 Öckerö      </td><td>  93430.5</td><td>2018</td><td>  -769443.8</td><td>  251168.00</td><td>  -995864.5</td><td>  694720.5</td><td>  20423.75</td><td>  21073.00</td><td>  -2260.50</td><td>right</td></tr>\n",
       "\t<tr><th scope=row>1595</th><td>1439 Färgelanda  </td><td> 128747.5</td><td>2018</td><td>  -419082.0</td><td>   80220.00</td><td>  -483442.2</td><td>  281382.5</td><td>  -9907.25</td><td>  -8490.75</td><td>   -406.75</td><td>right</td></tr>\n",
       "\t<tr><th scope=row>1597</th><td>1441 Lerum       </td><td> 340401.2</td><td>2018</td><td> -2401216.5</td><td>  579093.00</td><td> -2867427.5</td><td> 2168035.5</td><td>  99484.25</td><td> 125171.25</td><td> -14068.50</td><td>right</td></tr>\n",
       "\t<tr><th scope=row>1603</th><td>1447 Gullspång   </td><td> 110966.0</td><td>2018</td><td>  -331177.0</td><td>  121817.25</td><td>  -441627.2</td><td>  223040.8</td><td>   4156.50</td><td>   3342.75</td><td>  -1036.00</td><td>right</td></tr>\n",
       "\t<tr><th scope=row>1604</th><td>1452 Tranemo     </td><td> 196430.5</td><td>2018</td><td>  -717557.0</td><td>  199960.25</td><td>  -870875.5</td><td>  536975.8</td><td>  14807.75</td><td>  15167.25</td><td>  -2789.00</td><td>tie  </td></tr>\n",
       "\t<tr><th scope=row>1615</th><td>1480 Göteborg    </td><td>4107451.2</td><td>2018</td><td>-31536256.0</td><td>10796376.00</td><td>-40618033.0</td><td>29220962.2</td><td>1522396.25</td><td>2074081.25</td><td>-492186.50</td><td>left </td></tr>\n",
       "\t<tr><th scope=row>1619</th><td>1485 Uddevalla   </td><td> 900938.8</td><td>2018</td><td> -3534378.0</td><td>  915985.25</td><td> -4329253.5</td><td> 2679538.2</td><td>  41168.25</td><td>  59000.75</td><td> -49514.50</td><td>left </td></tr>\n",
       "\t<tr><th scope=row>1622</th><td>1488 Trollhättan </td><td> 874684.5</td><td>2018</td><td> -3561011.5</td><td>  770622.75</td><td> -4257002.2</td><td> 2760941.5</td><td>  96048.00</td><td> 144714.50</td><td> -15338.75</td><td>left </td></tr>\n",
       "\t<tr><th scope=row>1634</th><td>1715 Kil         </td><td> 199706.2</td><td>2018</td><td>  -721442.8</td><td>  182725.00</td><td>  -877818.0</td><td>  543159.0</td><td>  18524.00</td><td>  20874.25</td><td>  -6800.75</td><td>left </td></tr>\n",
       "\t<tr><th scope=row>1642</th><td>1765 Årjäng      </td><td> 250398.5</td><td>2018</td><td>  -604000.8</td><td>  169545.25</td><td>  -735319.2</td><td>  377057.2</td><td>  20443.75</td><td>  33788.25</td><td>  -3018.75</td><td>right</td></tr>\n",
       "\t<tr><th scope=row>1643</th><td>1766 Sunne       </td><td> 241630.5</td><td>2018</td><td>  -811079.0</td><td>  321257.25</td><td> -1091618.8</td><td>  583483.2</td><td>  10659.25</td><td>  15101.75</td><td>  -1218.75</td><td>right</td></tr>\n",
       "\t<tr><th scope=row>1650</th><td>1814 Lekeberg    </td><td> 152957.5</td><td>2018</td><td>  -491972.5</td><td>  125801.25</td><td>  -601320.5</td><td>  373350.0</td><td>  28790.75</td><td>  35049.00</td><td>   -819.25</td><td>right</td></tr>\n",
       "\t<tr><th scope=row>1652</th><td>1861 Hallsberg   </td><td> 244216.2</td><td>2018</td><td>  -892989.0</td><td>  282468.75</td><td> -1144287.0</td><td>  702903.5</td><td>  45796.25</td><td>  51108.75</td><td>  -6241.00</td><td>left </td></tr>\n",
       "\t<tr><th scope=row>1666</th><td>1962 Norberg     </td><td>  91886.5</td><td>2018</td><td>  -349312.2</td><td>  119855.50</td><td>  -452364.0</td><td>  272915.8</td><td>  18514.75</td><td>  13986.25</td><td>  -1901.00</td><td>left </td></tr>\n",
       "\t<tr><th scope=row>1669</th><td>1982 Fagersta    </td><td> 238412.5</td><td>2018</td><td>  -858935.0</td><td>  230634.50</td><td> -1062059.5</td><td>  616535.2</td><td>   -196.00</td><td>  41608.25</td><td>  -9792.00</td><td>left </td></tr>\n",
       "\t<tr><th scope=row>1678</th><td>2039 Älvdalen    </td><td> 176804.8</td><td>2018</td><td>  -480432.8</td><td>  114925.25</td><td>  -581388.5</td><td>  313499.2</td><td>   9647.75</td><td>  11772.25</td><td>  -1079.25</td><td>right</td></tr>\n",
       "\t<tr><th scope=row>1679</th><td>2061 Smedjebacken</td><td> 120767.0</td><td>2018</td><td>  -624436.8</td><td>  114713.25</td><td>  -718804.5</td><td>  530188.2</td><td>  21444.00</td><td>  25536.00</td><td>  -3832.75</td><td>left </td></tr>\n",
       "\t<tr><th scope=row>1685</th><td>2084 Avesta      </td><td> 369327.2</td><td>2018</td><td> -1368676.2</td><td>  373435.25</td><td> -1706886.5</td><td> 1061334.8</td><td>  58064.00</td><td>  63118.25</td><td> -24122.00</td><td>left </td></tr>\n",
       "\t<tr><th scope=row>1692</th><td>2180 Gävle       </td><td>1139041.8</td><td>2018</td><td> -6161318.2</td><td> 1425506.25</td><td> -7464735.2</td><td> 5047194.0</td><td>  20639.00</td><td> 157244.50</td><td> -87870.25</td><td>left </td></tr>\n",
       "\t<tr><th scope=row>1694</th><td>2182 Söderhamn   </td><td> 502177.2</td><td>2018</td><td> -1622917.2</td><td>  380834.75</td><td> -1950091.2</td><td> 1128282.5</td><td>  10084.75</td><td>  17365.00</td><td> -17652.00</td><td>right</td></tr>\n",
       "\t<tr><th scope=row>1699</th><td>2280 Härnösand   </td><td> 522739.0</td><td>2018</td><td> -1702823.2</td><td>  374974.25</td><td> -2031078.8</td><td> 1192648.0</td><td>  15235.75</td><td>  16103.50</td><td>  -3977.00</td><td>left </td></tr>\n",
       "\t<tr><th scope=row>1703</th><td>2284 Örnsköldsvik</td><td> 846534.5</td><td>2018</td><td> -3565624.5</td><td>  703709.25</td><td> -4130053.2</td><td> 2795382.2</td><td>  74310.25</td><td>  93423.00</td><td> -49769.75</td><td>left </td></tr>\n",
       "\t<tr><th scope=row>1706</th><td>2309 Krokom      </td><td> 358954.8</td><td>2018</td><td> -1025046.8</td><td>  221346.50</td><td> -1201968.5</td><td>  677084.2</td><td>  10588.50</td><td>  10062.00</td><td>  -4318.00</td><td>right</td></tr>\n",
       "\t<tr><th scope=row>1707</th><td>2313 Strömsund   </td><td> 334899.2</td><td>2018</td><td>  -839878.2</td><td>  247041.00</td><td> -1061678.8</td><td>  515203.8</td><td>  12180.75</td><td>  14379.25</td><td>  -2313.00</td><td>left </td></tr>\n",
       "\t<tr><th scope=row>1712</th><td>2401 Nordmaling  </td><td> 163880.0</td><td>2018</td><td>  -493819.0</td><td>  114791.50</td><td>  -586483.0</td><td>  331606.2</td><td>   4170.50</td><td>   1128.75</td><td>  -1063.25</td><td>right</td></tr>\n",
       "\t<tr><th scope=row>1716</th><td>2417 Norsjö      </td><td> 112899.2</td><td>2018</td><td>  -314135.2</td><td>   87398.25</td><td>  -390616.5</td><td>  188258.5</td><td> -13184.00</td><td> -15443.25</td><td>  -3491.75</td><td>left </td></tr>\n",
       "\t<tr><th scope=row>1724</th><td>2480 Umeå        </td><td>1010495.5</td><td>2018</td><td> -7280367.2</td><td> 1794635.25</td><td> -8644540.5</td><td> 6515102.2</td><td> 246016.25</td><td> 266010.50</td><td>-149430.50</td><td>left </td></tr>\n",
       "\t<tr><th scope=row>1736</th><td>2580 Luleå       </td><td> 633685.8</td><td>2018</td><td> -4601045.0</td><td> 1211377.50</td><td> -5460671.2</td><td> 4148595.8</td><td> 189190.50</td><td> 243807.50</td><td> -10524.00</td><td>left </td></tr>\n",
       "</tbody>\n",
       "</table>\n"
      ],
      "text/latex": [
       "A data.frame: 347 × 11\n",
       "\\begin{tabular}{r|lllllllllll}\n",
       "  & region & General grants and equalisation grants & year & Total net current costs & Total income for operations & Total costs for operations & Tax revenues & Net profit/loss for operations & Net profit/loss after financial items & Financial costs & majority\\\\\n",
       "  & <fct> & <dbl> & <chr> & <dbl> & <dbl> & <dbl> & <dbl> & <dbl> & <dbl> & <dbl> & <fct>\\\\\n",
       "\\hline\n",
       "\t3 & 0117 Österåker  &    5019.25 & 1998 &   -913898.8 &  151653.75 &  -1030488.8 &   905556.0 & 0 & -12078.50 &    -9833.00 & right\\\\\n",
       "\t7 & 0126 Huddinge   &  219690.25 & 1998 &  -2370328.8 &  470717.00 &  -2774899.0 &  2060344.5 & 0 & -35642.25 &    -2324.50 & left \\\\\n",
       "\t10 & 0136 Haninge    &  214116.50 & 1998 &  -1734778.8 &  438896.50 &  -2071675.0 &  1677310.0 & 0 & 112015.50 &   -49511.00 & left \\\\\n",
       "\t14 & 0160 Täby       & -297724.75 & 1998 &  -1486445.5 &  415801.50 &  -1800674.8 &  1721068.2 & 0 & -65168.75 &   -33907.00 & right\\\\\n",
       "\t16 & 0163 Sollentuna &  -51398.50 & 1998 &  -1509328.8 &  405828.00 &  -1844079.2 &  1543294.0 & 0 &  37958.00 &   -18134.50 & right\\\\\n",
       "\t17 & 0180 Stockholm  & 1968362.75 & 1998 & -21259525.0 & 7753527.50 & -28237365.0 & 19220569.5 & 0 & 475924.25 & -1755105.25 & right\\\\\n",
       "\t25 & 0191 Sigtuna    &   74672.75 & 1998 &   -927455.2 &  271956.25 &  -1136967.0 &   856708.5 & 0 &  -8522.75 &   -16069.00 & right\\\\\n",
       "\t26 & 0192 Nynäshamn  &   68656.25 & 1998 &   -647236.8 &  177579.00 &   -774989.0 &   587015.8 & 0 &   1856.75 &   -17435.00 & left \\\\\n",
       "\t27 & 0305 Håbo       &  -20261.75 & 1998 &   -427822.0 &   79197.75 &   -476042.5 &   446078.2 & 0 & -21835.00 &   -20362.75 & right\\\\\n",
       "\t29 & 0330 Knivsta    &       0.00 & 1998 &         0.0 &       0.00 &         0.0 &        0.0 & 0 &      0.00 &        0.00 & tie  \\\\\n",
       "\t32 & 0380 Uppsala    &  683060.50 & 1998 &  -5382506.8 & 1337828.50 &  -6342737.2 &  4675246.2 & 0 &  -6162.75 &  -145795.00 & left \\\\\n",
       "\t33 & 0381 Enköping   &  165757.25 & 1998 &  -1025346.8 &  248801.25 &  -1201324.5 &   873829.0 & 0 &  11810.75 &   -15172.25 & right\\\\\n",
       "\t37 & 0480 Nyköping   &  183666.50 & 1998 &  -1409716.5 &  419865.75 &  -1721299.0 &  1194090.5 & 0 & -20391.75 &    -6049.50 & left \\\\\n",
       "\t55 & 0584 Vadstena   &   38852.50 & 1998 &   -216733.8 &   72242.25 &   -271119.8 &   183273.0 & 0 &    822.50 &    -6977.75 & left \\\\\n",
       "\t60 & 0643 Habo       &   48455.75 & 1998 &   -244190.8 &   49449.50 &   -278899.5 &   192945.5 & 0 &  -3373.00 &    -2740.00 & right\\\\\n",
       "\t61 & 0662 Gislaved   &  151833.75 & 1998 &   -855578.8 &  215091.75 &  -1005889.8 &   713105.2 & 0 &  21082.50 &    -1965.00 & right\\\\\n",
       "\t70 & 0760 Uppvidinge &   93641.75 & 1998 &   -329167.0 &   77410.50 &   -380194.5 &   227708.8 & 0 &  -8774.75 &    -3843.75 & left \\\\\n",
       "\t74 & 0765 Älmhult    &   77918.25 & 1998 &   -409883.0 &  132863.50 &   -506131.5 &   321629.0 & 0 &  -5966.50 &    -3891.25 & right\\\\\n",
       "\t75 & 0767 Markaryd   &   74526.50 & 1998 &   -297441.8 &   67874.75 &   -341305.0 &   217089.5 & 0 &   5694.25 &    -6388.50 & tie  \\\\\n",
       "\t77 & 0781 Ljungby    &  142208.50 & 1998 &   -760593.0 &  191254.75 &   -901444.0 &   612971.0 & 0 &   8999.50 &    -1722.75 & tie  \\\\\n",
       "\t78 & 0821 Högsby     &   80415.25 & 1998 &   -220170.0 &   72243.50 &   -280148.2 &   138278.2 & 0 &  -3305.25 &    -4498.50 & left \\\\\n",
       "\t81 & 0860 Hultsfred  &  131913.00 & 1998 &   -486597.0 &  143998.25 &   -603454.2 &   360367.0 & 0 &   1006.25 &    -9407.25 & left \\\\\n",
       "\t88 & 0884 Vimmerby   &  105339.00 & 1998 &   -451306.2 &  126428.25 &   -546471.8 &   347117.2 & 0 &   6765.25 &    -3228.00 & right\\\\\n",
       "\t92 & 1080 Karlskrona &  271126.25 & 1998 &  -1642354.5 &  531221.00 &  -2005885.2 &  1427573.5 & 0 &  20491.50 &   -87924.00 & left \\\\\n",
       "\t103 & 1261 Kävlinge   &   36617.50 & 1998 &   -590950.8 &  164712.00 &   -717424.0 &   548448.8 & 0 &   6021.75 &    -1939.25 & left \\\\\n",
       "\t105 & 1263 Svedala    &   50505.00 & 1998 &   -474037.8 &   99371.00 &   -541874.2 &   424372.5 & 0 &   1171.00 &   -10122.75 & left \\\\\n",
       "\t109 & 1267 Höör       &   94764.75 & 1998 &   -388971.2 &   91316.25 &   -456737.2 &   296575.0 & 0 &   5223.25 &     -229.75 & right\\\\\n",
       "\t122 & 1285 Eslöv      &  179276.50 & 1998 &   -806528.8 &  260410.25 &  -1020513.2 &   642533.8 & 0 &  20426.00 &    -2611.50 & left \\\\\n",
       "\t126 & 1291 Simrishamn &  154732.25 & 1998 &   -587897.8 &  141096.00 &   -686745.5 &   424893.5 & 0 & -13438.50 &   -10251.00 & right\\\\\n",
       "\t130 & 1380 Halmstad   &  415635.25 & 1998 &  -2300740.8 &  670316.50 &  -2790407.0 &  1832455.5 & 0 &  44016.25 &    -9932.25 & left \\\\\n",
       "\t⋮ & ⋮ & ⋮ & ⋮ & ⋮ & ⋮ & ⋮ & ⋮ & ⋮ & ⋮ & ⋮ & ⋮\\\\\n",
       "\t1584 & 1384 Kungsbacka   &  379121.2 & 2018 &  -4830935.2 &  1191396.25 &  -5691005.5 &  4729888.5 &  252959.50 &  274600.25 &  -18639.75 & right\\\\\n",
       "\t1586 & 1402 Partille     &  271548.5 & 2018 &  -2159189.8 &   522987.25 &  -2600512.8 &  1955033.0 &   66285.50 &  113781.75 &   -5617.75 & right\\\\\n",
       "\t1587 & 1407 Öckerö       &   93430.5 & 2018 &   -769443.8 &   251168.00 &   -995864.5 &   694720.5 &   20423.75 &   21073.00 &   -2260.50 & right\\\\\n",
       "\t1595 & 1439 Färgelanda   &  128747.5 & 2018 &   -419082.0 &    80220.00 &   -483442.2 &   281382.5 &   -9907.25 &   -8490.75 &    -406.75 & right\\\\\n",
       "\t1597 & 1441 Lerum        &  340401.2 & 2018 &  -2401216.5 &   579093.00 &  -2867427.5 &  2168035.5 &   99484.25 &  125171.25 &  -14068.50 & right\\\\\n",
       "\t1603 & 1447 Gullspång    &  110966.0 & 2018 &   -331177.0 &   121817.25 &   -441627.2 &   223040.8 &    4156.50 &    3342.75 &   -1036.00 & right\\\\\n",
       "\t1604 & 1452 Tranemo      &  196430.5 & 2018 &   -717557.0 &   199960.25 &   -870875.5 &   536975.8 &   14807.75 &   15167.25 &   -2789.00 & tie  \\\\\n",
       "\t1615 & 1480 Göteborg     & 4107451.2 & 2018 & -31536256.0 & 10796376.00 & -40618033.0 & 29220962.2 & 1522396.25 & 2074081.25 & -492186.50 & left \\\\\n",
       "\t1619 & 1485 Uddevalla    &  900938.8 & 2018 &  -3534378.0 &   915985.25 &  -4329253.5 &  2679538.2 &   41168.25 &   59000.75 &  -49514.50 & left \\\\\n",
       "\t1622 & 1488 Trollhättan  &  874684.5 & 2018 &  -3561011.5 &   770622.75 &  -4257002.2 &  2760941.5 &   96048.00 &  144714.50 &  -15338.75 & left \\\\\n",
       "\t1634 & 1715 Kil          &  199706.2 & 2018 &   -721442.8 &   182725.00 &   -877818.0 &   543159.0 &   18524.00 &   20874.25 &   -6800.75 & left \\\\\n",
       "\t1642 & 1765 Årjäng       &  250398.5 & 2018 &   -604000.8 &   169545.25 &   -735319.2 &   377057.2 &   20443.75 &   33788.25 &   -3018.75 & right\\\\\n",
       "\t1643 & 1766 Sunne        &  241630.5 & 2018 &   -811079.0 &   321257.25 &  -1091618.8 &   583483.2 &   10659.25 &   15101.75 &   -1218.75 & right\\\\\n",
       "\t1650 & 1814 Lekeberg     &  152957.5 & 2018 &   -491972.5 &   125801.25 &   -601320.5 &   373350.0 &   28790.75 &   35049.00 &    -819.25 & right\\\\\n",
       "\t1652 & 1861 Hallsberg    &  244216.2 & 2018 &   -892989.0 &   282468.75 &  -1144287.0 &   702903.5 &   45796.25 &   51108.75 &   -6241.00 & left \\\\\n",
       "\t1666 & 1962 Norberg      &   91886.5 & 2018 &   -349312.2 &   119855.50 &   -452364.0 &   272915.8 &   18514.75 &   13986.25 &   -1901.00 & left \\\\\n",
       "\t1669 & 1982 Fagersta     &  238412.5 & 2018 &   -858935.0 &   230634.50 &  -1062059.5 &   616535.2 &    -196.00 &   41608.25 &   -9792.00 & left \\\\\n",
       "\t1678 & 2039 Älvdalen     &  176804.8 & 2018 &   -480432.8 &   114925.25 &   -581388.5 &   313499.2 &    9647.75 &   11772.25 &   -1079.25 & right\\\\\n",
       "\t1679 & 2061 Smedjebacken &  120767.0 & 2018 &   -624436.8 &   114713.25 &   -718804.5 &   530188.2 &   21444.00 &   25536.00 &   -3832.75 & left \\\\\n",
       "\t1685 & 2084 Avesta       &  369327.2 & 2018 &  -1368676.2 &   373435.25 &  -1706886.5 &  1061334.8 &   58064.00 &   63118.25 &  -24122.00 & left \\\\\n",
       "\t1692 & 2180 Gävle        & 1139041.8 & 2018 &  -6161318.2 &  1425506.25 &  -7464735.2 &  5047194.0 &   20639.00 &  157244.50 &  -87870.25 & left \\\\\n",
       "\t1694 & 2182 Söderhamn    &  502177.2 & 2018 &  -1622917.2 &   380834.75 &  -1950091.2 &  1128282.5 &   10084.75 &   17365.00 &  -17652.00 & right\\\\\n",
       "\t1699 & 2280 Härnösand    &  522739.0 & 2018 &  -1702823.2 &   374974.25 &  -2031078.8 &  1192648.0 &   15235.75 &   16103.50 &   -3977.00 & left \\\\\n",
       "\t1703 & 2284 Örnsköldsvik &  846534.5 & 2018 &  -3565624.5 &   703709.25 &  -4130053.2 &  2795382.2 &   74310.25 &   93423.00 &  -49769.75 & left \\\\\n",
       "\t1706 & 2309 Krokom       &  358954.8 & 2018 &  -1025046.8 &   221346.50 &  -1201968.5 &   677084.2 &   10588.50 &   10062.00 &   -4318.00 & right\\\\\n",
       "\t1707 & 2313 Strömsund    &  334899.2 & 2018 &   -839878.2 &   247041.00 &  -1061678.8 &   515203.8 &   12180.75 &   14379.25 &   -2313.00 & left \\\\\n",
       "\t1712 & 2401 Nordmaling   &  163880.0 & 2018 &   -493819.0 &   114791.50 &   -586483.0 &   331606.2 &    4170.50 &    1128.75 &   -1063.25 & right\\\\\n",
       "\t1716 & 2417 Norsjö       &  112899.2 & 2018 &   -314135.2 &    87398.25 &   -390616.5 &   188258.5 &  -13184.00 &  -15443.25 &   -3491.75 & left \\\\\n",
       "\t1724 & 2480 Umeå         & 1010495.5 & 2018 &  -7280367.2 &  1794635.25 &  -8644540.5 &  6515102.2 &  246016.25 &  266010.50 & -149430.50 & left \\\\\n",
       "\t1736 & 2580 Luleå        &  633685.8 & 2018 &  -4601045.0 &  1211377.50 &  -5460671.2 &  4148595.8 &  189190.50 &  243807.50 &  -10524.00 & left \\\\\n",
       "\\end{tabular}\n"
      ],
      "text/markdown": [
       "\n",
       "A data.frame: 347 × 11\n",
       "\n",
       "| <!--/--> | region &lt;fct&gt; | General grants and equalisation grants &lt;dbl&gt; | year &lt;chr&gt; | Total net current costs &lt;dbl&gt; | Total income for operations &lt;dbl&gt; | Total costs for operations &lt;dbl&gt; | Tax revenues &lt;dbl&gt; | Net profit/loss for operations &lt;dbl&gt; | Net profit/loss after financial items &lt;dbl&gt; | Financial costs &lt;dbl&gt; | majority &lt;fct&gt; |\n",
       "|---|---|---|---|---|---|---|---|---|---|---|---|\n",
       "| 3 | 0117 Österåker  |    5019.25 | 1998 |   -913898.8 |  151653.75 |  -1030488.8 |   905556.0 | 0 | -12078.50 |    -9833.00 | right |\n",
       "| 7 | 0126 Huddinge   |  219690.25 | 1998 |  -2370328.8 |  470717.00 |  -2774899.0 |  2060344.5 | 0 | -35642.25 |    -2324.50 | left  |\n",
       "| 10 | 0136 Haninge    |  214116.50 | 1998 |  -1734778.8 |  438896.50 |  -2071675.0 |  1677310.0 | 0 | 112015.50 |   -49511.00 | left  |\n",
       "| 14 | 0160 Täby       | -297724.75 | 1998 |  -1486445.5 |  415801.50 |  -1800674.8 |  1721068.2 | 0 | -65168.75 |   -33907.00 | right |\n",
       "| 16 | 0163 Sollentuna |  -51398.50 | 1998 |  -1509328.8 |  405828.00 |  -1844079.2 |  1543294.0 | 0 |  37958.00 |   -18134.50 | right |\n",
       "| 17 | 0180 Stockholm  | 1968362.75 | 1998 | -21259525.0 | 7753527.50 | -28237365.0 | 19220569.5 | 0 | 475924.25 | -1755105.25 | right |\n",
       "| 25 | 0191 Sigtuna    |   74672.75 | 1998 |   -927455.2 |  271956.25 |  -1136967.0 |   856708.5 | 0 |  -8522.75 |   -16069.00 | right |\n",
       "| 26 | 0192 Nynäshamn  |   68656.25 | 1998 |   -647236.8 |  177579.00 |   -774989.0 |   587015.8 | 0 |   1856.75 |   -17435.00 | left  |\n",
       "| 27 | 0305 Håbo       |  -20261.75 | 1998 |   -427822.0 |   79197.75 |   -476042.5 |   446078.2 | 0 | -21835.00 |   -20362.75 | right |\n",
       "| 29 | 0330 Knivsta    |       0.00 | 1998 |         0.0 |       0.00 |         0.0 |        0.0 | 0 |      0.00 |        0.00 | tie   |\n",
       "| 32 | 0380 Uppsala    |  683060.50 | 1998 |  -5382506.8 | 1337828.50 |  -6342737.2 |  4675246.2 | 0 |  -6162.75 |  -145795.00 | left  |\n",
       "| 33 | 0381 Enköping   |  165757.25 | 1998 |  -1025346.8 |  248801.25 |  -1201324.5 |   873829.0 | 0 |  11810.75 |   -15172.25 | right |\n",
       "| 37 | 0480 Nyköping   |  183666.50 | 1998 |  -1409716.5 |  419865.75 |  -1721299.0 |  1194090.5 | 0 | -20391.75 |    -6049.50 | left  |\n",
       "| 55 | 0584 Vadstena   |   38852.50 | 1998 |   -216733.8 |   72242.25 |   -271119.8 |   183273.0 | 0 |    822.50 |    -6977.75 | left  |\n",
       "| 60 | 0643 Habo       |   48455.75 | 1998 |   -244190.8 |   49449.50 |   -278899.5 |   192945.5 | 0 |  -3373.00 |    -2740.00 | right |\n",
       "| 61 | 0662 Gislaved   |  151833.75 | 1998 |   -855578.8 |  215091.75 |  -1005889.8 |   713105.2 | 0 |  21082.50 |    -1965.00 | right |\n",
       "| 70 | 0760 Uppvidinge |   93641.75 | 1998 |   -329167.0 |   77410.50 |   -380194.5 |   227708.8 | 0 |  -8774.75 |    -3843.75 | left  |\n",
       "| 74 | 0765 Älmhult    |   77918.25 | 1998 |   -409883.0 |  132863.50 |   -506131.5 |   321629.0 | 0 |  -5966.50 |    -3891.25 | right |\n",
       "| 75 | 0767 Markaryd   |   74526.50 | 1998 |   -297441.8 |   67874.75 |   -341305.0 |   217089.5 | 0 |   5694.25 |    -6388.50 | tie   |\n",
       "| 77 | 0781 Ljungby    |  142208.50 | 1998 |   -760593.0 |  191254.75 |   -901444.0 |   612971.0 | 0 |   8999.50 |    -1722.75 | tie   |\n",
       "| 78 | 0821 Högsby     |   80415.25 | 1998 |   -220170.0 |   72243.50 |   -280148.2 |   138278.2 | 0 |  -3305.25 |    -4498.50 | left  |\n",
       "| 81 | 0860 Hultsfred  |  131913.00 | 1998 |   -486597.0 |  143998.25 |   -603454.2 |   360367.0 | 0 |   1006.25 |    -9407.25 | left  |\n",
       "| 88 | 0884 Vimmerby   |  105339.00 | 1998 |   -451306.2 |  126428.25 |   -546471.8 |   347117.2 | 0 |   6765.25 |    -3228.00 | right |\n",
       "| 92 | 1080 Karlskrona |  271126.25 | 1998 |  -1642354.5 |  531221.00 |  -2005885.2 |  1427573.5 | 0 |  20491.50 |   -87924.00 | left  |\n",
       "| 103 | 1261 Kävlinge   |   36617.50 | 1998 |   -590950.8 |  164712.00 |   -717424.0 |   548448.8 | 0 |   6021.75 |    -1939.25 | left  |\n",
       "| 105 | 1263 Svedala    |   50505.00 | 1998 |   -474037.8 |   99371.00 |   -541874.2 |   424372.5 | 0 |   1171.00 |   -10122.75 | left  |\n",
       "| 109 | 1267 Höör       |   94764.75 | 1998 |   -388971.2 |   91316.25 |   -456737.2 |   296575.0 | 0 |   5223.25 |     -229.75 | right |\n",
       "| 122 | 1285 Eslöv      |  179276.50 | 1998 |   -806528.8 |  260410.25 |  -1020513.2 |   642533.8 | 0 |  20426.00 |    -2611.50 | left  |\n",
       "| 126 | 1291 Simrishamn |  154732.25 | 1998 |   -587897.8 |  141096.00 |   -686745.5 |   424893.5 | 0 | -13438.50 |   -10251.00 | right |\n",
       "| 130 | 1380 Halmstad   |  415635.25 | 1998 |  -2300740.8 |  670316.50 |  -2790407.0 |  1832455.5 | 0 |  44016.25 |    -9932.25 | left  |\n",
       "| ⋮ | ⋮ | ⋮ | ⋮ | ⋮ | ⋮ | ⋮ | ⋮ | ⋮ | ⋮ | ⋮ | ⋮ |\n",
       "| 1584 | 1384 Kungsbacka   |  379121.2 | 2018 |  -4830935.2 |  1191396.25 |  -5691005.5 |  4729888.5 |  252959.50 |  274600.25 |  -18639.75 | right |\n",
       "| 1586 | 1402 Partille     |  271548.5 | 2018 |  -2159189.8 |   522987.25 |  -2600512.8 |  1955033.0 |   66285.50 |  113781.75 |   -5617.75 | right |\n",
       "| 1587 | 1407 Öckerö       |   93430.5 | 2018 |   -769443.8 |   251168.00 |   -995864.5 |   694720.5 |   20423.75 |   21073.00 |   -2260.50 | right |\n",
       "| 1595 | 1439 Färgelanda   |  128747.5 | 2018 |   -419082.0 |    80220.00 |   -483442.2 |   281382.5 |   -9907.25 |   -8490.75 |    -406.75 | right |\n",
       "| 1597 | 1441 Lerum        |  340401.2 | 2018 |  -2401216.5 |   579093.00 |  -2867427.5 |  2168035.5 |   99484.25 |  125171.25 |  -14068.50 | right |\n",
       "| 1603 | 1447 Gullspång    |  110966.0 | 2018 |   -331177.0 |   121817.25 |   -441627.2 |   223040.8 |    4156.50 |    3342.75 |   -1036.00 | right |\n",
       "| 1604 | 1452 Tranemo      |  196430.5 | 2018 |   -717557.0 |   199960.25 |   -870875.5 |   536975.8 |   14807.75 |   15167.25 |   -2789.00 | tie   |\n",
       "| 1615 | 1480 Göteborg     | 4107451.2 | 2018 | -31536256.0 | 10796376.00 | -40618033.0 | 29220962.2 | 1522396.25 | 2074081.25 | -492186.50 | left  |\n",
       "| 1619 | 1485 Uddevalla    |  900938.8 | 2018 |  -3534378.0 |   915985.25 |  -4329253.5 |  2679538.2 |   41168.25 |   59000.75 |  -49514.50 | left  |\n",
       "| 1622 | 1488 Trollhättan  |  874684.5 | 2018 |  -3561011.5 |   770622.75 |  -4257002.2 |  2760941.5 |   96048.00 |  144714.50 |  -15338.75 | left  |\n",
       "| 1634 | 1715 Kil          |  199706.2 | 2018 |   -721442.8 |   182725.00 |   -877818.0 |   543159.0 |   18524.00 |   20874.25 |   -6800.75 | left  |\n",
       "| 1642 | 1765 Årjäng       |  250398.5 | 2018 |   -604000.8 |   169545.25 |   -735319.2 |   377057.2 |   20443.75 |   33788.25 |   -3018.75 | right |\n",
       "| 1643 | 1766 Sunne        |  241630.5 | 2018 |   -811079.0 |   321257.25 |  -1091618.8 |   583483.2 |   10659.25 |   15101.75 |   -1218.75 | right |\n",
       "| 1650 | 1814 Lekeberg     |  152957.5 | 2018 |   -491972.5 |   125801.25 |   -601320.5 |   373350.0 |   28790.75 |   35049.00 |    -819.25 | right |\n",
       "| 1652 | 1861 Hallsberg    |  244216.2 | 2018 |   -892989.0 |   282468.75 |  -1144287.0 |   702903.5 |   45796.25 |   51108.75 |   -6241.00 | left  |\n",
       "| 1666 | 1962 Norberg      |   91886.5 | 2018 |   -349312.2 |   119855.50 |   -452364.0 |   272915.8 |   18514.75 |   13986.25 |   -1901.00 | left  |\n",
       "| 1669 | 1982 Fagersta     |  238412.5 | 2018 |   -858935.0 |   230634.50 |  -1062059.5 |   616535.2 |    -196.00 |   41608.25 |   -9792.00 | left  |\n",
       "| 1678 | 2039 Älvdalen     |  176804.8 | 2018 |   -480432.8 |   114925.25 |   -581388.5 |   313499.2 |    9647.75 |   11772.25 |   -1079.25 | right |\n",
       "| 1679 | 2061 Smedjebacken |  120767.0 | 2018 |   -624436.8 |   114713.25 |   -718804.5 |   530188.2 |   21444.00 |   25536.00 |   -3832.75 | left  |\n",
       "| 1685 | 2084 Avesta       |  369327.2 | 2018 |  -1368676.2 |   373435.25 |  -1706886.5 |  1061334.8 |   58064.00 |   63118.25 |  -24122.00 | left  |\n",
       "| 1692 | 2180 Gävle        | 1139041.8 | 2018 |  -6161318.2 |  1425506.25 |  -7464735.2 |  5047194.0 |   20639.00 |  157244.50 |  -87870.25 | left  |\n",
       "| 1694 | 2182 Söderhamn    |  502177.2 | 2018 |  -1622917.2 |   380834.75 |  -1950091.2 |  1128282.5 |   10084.75 |   17365.00 |  -17652.00 | right |\n",
       "| 1699 | 2280 Härnösand    |  522739.0 | 2018 |  -1702823.2 |   374974.25 |  -2031078.8 |  1192648.0 |   15235.75 |   16103.50 |   -3977.00 | left  |\n",
       "| 1703 | 2284 Örnsköldsvik |  846534.5 | 2018 |  -3565624.5 |   703709.25 |  -4130053.2 |  2795382.2 |   74310.25 |   93423.00 |  -49769.75 | left  |\n",
       "| 1706 | 2309 Krokom       |  358954.8 | 2018 |  -1025046.8 |   221346.50 |  -1201968.5 |   677084.2 |   10588.50 |   10062.00 |   -4318.00 | right |\n",
       "| 1707 | 2313 Strömsund    |  334899.2 | 2018 |   -839878.2 |   247041.00 |  -1061678.8 |   515203.8 |   12180.75 |   14379.25 |   -2313.00 | left  |\n",
       "| 1712 | 2401 Nordmaling   |  163880.0 | 2018 |   -493819.0 |   114791.50 |   -586483.0 |   331606.2 |    4170.50 |    1128.75 |   -1063.25 | right |\n",
       "| 1716 | 2417 Norsjö       |  112899.2 | 2018 |   -314135.2 |    87398.25 |   -390616.5 |   188258.5 |  -13184.00 |  -15443.25 |   -3491.75 | left  |\n",
       "| 1724 | 2480 Umeå         | 1010495.5 | 2018 |  -7280367.2 |  1794635.25 |  -8644540.5 |  6515102.2 |  246016.25 |  266010.50 | -149430.50 | left  |\n",
       "| 1736 | 2580 Luleå        |  633685.8 | 2018 |  -4601045.0 |  1211377.50 |  -5460671.2 |  4148595.8 |  189190.50 |  243807.50 |  -10524.00 | left  |\n",
       "\n"
      ],
      "text/plain": [
       "     region            General grants and equalisation grants year\n",
       "3    0117 Österåker       5019.25                             1998\n",
       "7    0126 Huddinge      219690.25                             1998\n",
       "10   0136 Haninge       214116.50                             1998\n",
       "14   0160 Täby         -297724.75                             1998\n",
       "16   0163 Sollentuna    -51398.50                             1998\n",
       "17   0180 Stockholm    1968362.75                             1998\n",
       "25   0191 Sigtuna        74672.75                             1998\n",
       "26   0192 Nynäshamn      68656.25                             1998\n",
       "27   0305 Håbo          -20261.75                             1998\n",
       "29   0330 Knivsta            0.00                             1998\n",
       "32   0380 Uppsala       683060.50                             1998\n",
       "33   0381 Enköping      165757.25                             1998\n",
       "37   0480 Nyköping      183666.50                             1998\n",
       "55   0584 Vadstena       38852.50                             1998\n",
       "60   0643 Habo           48455.75                             1998\n",
       "61   0662 Gislaved      151833.75                             1998\n",
       "70   0760 Uppvidinge     93641.75                             1998\n",
       "74   0765 Älmhult        77918.25                             1998\n",
       "75   0767 Markaryd       74526.50                             1998\n",
       "77   0781 Ljungby       142208.50                             1998\n",
       "78   0821 Högsby         80415.25                             1998\n",
       "81   0860 Hultsfred     131913.00                             1998\n",
       "88   0884 Vimmerby      105339.00                             1998\n",
       "92   1080 Karlskrona    271126.25                             1998\n",
       "103  1261 Kävlinge       36617.50                             1998\n",
       "105  1263 Svedala        50505.00                             1998\n",
       "109  1267 Höör           94764.75                             1998\n",
       "122  1285 Eslöv         179276.50                             1998\n",
       "126  1291 Simrishamn    154732.25                             1998\n",
       "130  1380 Halmstad      415635.25                             1998\n",
       "⋮    ⋮                 ⋮                                      ⋮   \n",
       "1584 1384 Kungsbacka    379121.2                              2018\n",
       "1586 1402 Partille      271548.5                              2018\n",
       "1587 1407 Öckerö         93430.5                              2018\n",
       "1595 1439 Färgelanda    128747.5                              2018\n",
       "1597 1441 Lerum         340401.2                              2018\n",
       "1603 1447 Gullspång     110966.0                              2018\n",
       "1604 1452 Tranemo       196430.5                              2018\n",
       "1615 1480 Göteborg     4107451.2                              2018\n",
       "1619 1485 Uddevalla     900938.8                              2018\n",
       "1622 1488 Trollhättan   874684.5                              2018\n",
       "1634 1715 Kil           199706.2                              2018\n",
       "1642 1765 Årjäng        250398.5                              2018\n",
       "1643 1766 Sunne         241630.5                              2018\n",
       "1650 1814 Lekeberg      152957.5                              2018\n",
       "1652 1861 Hallsberg     244216.2                              2018\n",
       "1666 1962 Norberg        91886.5                              2018\n",
       "1669 1982 Fagersta      238412.5                              2018\n",
       "1678 2039 Älvdalen      176804.8                              2018\n",
       "1679 2061 Smedjebacken  120767.0                              2018\n",
       "1685 2084 Avesta        369327.2                              2018\n",
       "1692 2180 Gävle        1139041.8                              2018\n",
       "1694 2182 Söderhamn     502177.2                              2018\n",
       "1699 2280 Härnösand     522739.0                              2018\n",
       "1703 2284 Örnsköldsvik  846534.5                              2018\n",
       "1706 2309 Krokom        358954.8                              2018\n",
       "1707 2313 Strömsund     334899.2                              2018\n",
       "1712 2401 Nordmaling    163880.0                              2018\n",
       "1716 2417 Norsjö        112899.2                              2018\n",
       "1724 2480 Umeå         1010495.5                              2018\n",
       "1736 2580 Luleå         633685.8                              2018\n",
       "     Total net current costs Total income for operations\n",
       "3      -913898.8              151653.75                 \n",
       "7     -2370328.8              470717.00                 \n",
       "10    -1734778.8              438896.50                 \n",
       "14    -1486445.5              415801.50                 \n",
       "16    -1509328.8              405828.00                 \n",
       "17   -21259525.0             7753527.50                 \n",
       "25     -927455.2              271956.25                 \n",
       "26     -647236.8              177579.00                 \n",
       "27     -427822.0               79197.75                 \n",
       "29           0.0                   0.00                 \n",
       "32    -5382506.8             1337828.50                 \n",
       "33    -1025346.8              248801.25                 \n",
       "37    -1409716.5              419865.75                 \n",
       "55     -216733.8               72242.25                 \n",
       "60     -244190.8               49449.50                 \n",
       "61     -855578.8              215091.75                 \n",
       "70     -329167.0               77410.50                 \n",
       "74     -409883.0              132863.50                 \n",
       "75     -297441.8               67874.75                 \n",
       "77     -760593.0              191254.75                 \n",
       "78     -220170.0               72243.50                 \n",
       "81     -486597.0              143998.25                 \n",
       "88     -451306.2              126428.25                 \n",
       "92    -1642354.5              531221.00                 \n",
       "103    -590950.8              164712.00                 \n",
       "105    -474037.8               99371.00                 \n",
       "109    -388971.2               91316.25                 \n",
       "122    -806528.8              260410.25                 \n",
       "126    -587897.8              141096.00                 \n",
       "130   -2300740.8              670316.50                 \n",
       "⋮    ⋮                       ⋮                          \n",
       "1584  -4830935.2              1191396.25                \n",
       "1586  -2159189.8               522987.25                \n",
       "1587   -769443.8               251168.00                \n",
       "1595   -419082.0                80220.00                \n",
       "1597  -2401216.5               579093.00                \n",
       "1603   -331177.0               121817.25                \n",
       "1604   -717557.0               199960.25                \n",
       "1615 -31536256.0             10796376.00                \n",
       "1619  -3534378.0               915985.25                \n",
       "1622  -3561011.5               770622.75                \n",
       "1634   -721442.8               182725.00                \n",
       "1642   -604000.8               169545.25                \n",
       "1643   -811079.0               321257.25                \n",
       "1650   -491972.5               125801.25                \n",
       "1652   -892989.0               282468.75                \n",
       "1666   -349312.2               119855.50                \n",
       "1669   -858935.0               230634.50                \n",
       "1678   -480432.8               114925.25                \n",
       "1679   -624436.8               114713.25                \n",
       "1685  -1368676.2               373435.25                \n",
       "1692  -6161318.2              1425506.25                \n",
       "1694  -1622917.2               380834.75                \n",
       "1699  -1702823.2               374974.25                \n",
       "1703  -3565624.5               703709.25                \n",
       "1706  -1025046.8               221346.50                \n",
       "1707   -839878.2               247041.00                \n",
       "1712   -493819.0               114791.50                \n",
       "1716   -314135.2                87398.25                \n",
       "1724  -7280367.2              1794635.25                \n",
       "1736  -4601045.0              1211377.50                \n",
       "     Total costs for operations Tax revenues Net profit/loss for operations\n",
       "3     -1030488.8                  905556.0   0                             \n",
       "7     -2774899.0                 2060344.5   0                             \n",
       "10    -2071675.0                 1677310.0   0                             \n",
       "14    -1800674.8                 1721068.2   0                             \n",
       "16    -1844079.2                 1543294.0   0                             \n",
       "17   -28237365.0                19220569.5   0                             \n",
       "25    -1136967.0                  856708.5   0                             \n",
       "26     -774989.0                  587015.8   0                             \n",
       "27     -476042.5                  446078.2   0                             \n",
       "29           0.0                       0.0   0                             \n",
       "32    -6342737.2                 4675246.2   0                             \n",
       "33    -1201324.5                  873829.0   0                             \n",
       "37    -1721299.0                 1194090.5   0                             \n",
       "55     -271119.8                  183273.0   0                             \n",
       "60     -278899.5                  192945.5   0                             \n",
       "61    -1005889.8                  713105.2   0                             \n",
       "70     -380194.5                  227708.8   0                             \n",
       "74     -506131.5                  321629.0   0                             \n",
       "75     -341305.0                  217089.5   0                             \n",
       "77     -901444.0                  612971.0   0                             \n",
       "78     -280148.2                  138278.2   0                             \n",
       "81     -603454.2                  360367.0   0                             \n",
       "88     -546471.8                  347117.2   0                             \n",
       "92    -2005885.2                 1427573.5   0                             \n",
       "103    -717424.0                  548448.8   0                             \n",
       "105    -541874.2                  424372.5   0                             \n",
       "109    -456737.2                  296575.0   0                             \n",
       "122   -1020513.2                  642533.8   0                             \n",
       "126    -686745.5                  424893.5   0                             \n",
       "130   -2790407.0                 1832455.5   0                             \n",
       "⋮    ⋮                          ⋮            ⋮                             \n",
       "1584  -5691005.5                 4729888.5    252959.50                    \n",
       "1586  -2600512.8                 1955033.0     66285.50                    \n",
       "1587   -995864.5                  694720.5     20423.75                    \n",
       "1595   -483442.2                  281382.5     -9907.25                    \n",
       "1597  -2867427.5                 2168035.5     99484.25                    \n",
       "1603   -441627.2                  223040.8      4156.50                    \n",
       "1604   -870875.5                  536975.8     14807.75                    \n",
       "1615 -40618033.0                29220962.2   1522396.25                    \n",
       "1619  -4329253.5                 2679538.2     41168.25                    \n",
       "1622  -4257002.2                 2760941.5     96048.00                    \n",
       "1634   -877818.0                  543159.0     18524.00                    \n",
       "1642   -735319.2                  377057.2     20443.75                    \n",
       "1643  -1091618.8                  583483.2     10659.25                    \n",
       "1650   -601320.5                  373350.0     28790.75                    \n",
       "1652  -1144287.0                  702903.5     45796.25                    \n",
       "1666   -452364.0                  272915.8     18514.75                    \n",
       "1669  -1062059.5                  616535.2      -196.00                    \n",
       "1678   -581388.5                  313499.2      9647.75                    \n",
       "1679   -718804.5                  530188.2     21444.00                    \n",
       "1685  -1706886.5                 1061334.8     58064.00                    \n",
       "1692  -7464735.2                 5047194.0     20639.00                    \n",
       "1694  -1950091.2                 1128282.5     10084.75                    \n",
       "1699  -2031078.8                 1192648.0     15235.75                    \n",
       "1703  -4130053.2                 2795382.2     74310.25                    \n",
       "1706  -1201968.5                  677084.2     10588.50                    \n",
       "1707  -1061678.8                  515203.8     12180.75                    \n",
       "1712   -586483.0                  331606.2      4170.50                    \n",
       "1716   -390616.5                  188258.5    -13184.00                    \n",
       "1724  -8644540.5                 6515102.2    246016.25                    \n",
       "1736  -5460671.2                 4148595.8    189190.50                    \n",
       "     Net profit/loss after financial items Financial costs majority\n",
       "3    -12078.50                                -9833.00     right   \n",
       "7    -35642.25                                -2324.50     left    \n",
       "10   112015.50                               -49511.00     left    \n",
       "14   -65168.75                               -33907.00     right   \n",
       "16    37958.00                               -18134.50     right   \n",
       "17   475924.25                             -1755105.25     right   \n",
       "25    -8522.75                               -16069.00     right   \n",
       "26     1856.75                               -17435.00     left    \n",
       "27   -21835.00                               -20362.75     right   \n",
       "29        0.00                                    0.00     tie     \n",
       "32    -6162.75                              -145795.00     left    \n",
       "33    11810.75                               -15172.25     right   \n",
       "37   -20391.75                                -6049.50     left    \n",
       "55      822.50                                -6977.75     left    \n",
       "60    -3373.00                                -2740.00     right   \n",
       "61    21082.50                                -1965.00     right   \n",
       "70    -8774.75                                -3843.75     left    \n",
       "74    -5966.50                                -3891.25     right   \n",
       "75     5694.25                                -6388.50     tie     \n",
       "77     8999.50                                -1722.75     tie     \n",
       "78    -3305.25                                -4498.50     left    \n",
       "81     1006.25                                -9407.25     left    \n",
       "88     6765.25                                -3228.00     right   \n",
       "92    20491.50                               -87924.00     left    \n",
       "103    6021.75                                -1939.25     left    \n",
       "105    1171.00                               -10122.75     left    \n",
       "109    5223.25                                 -229.75     right   \n",
       "122   20426.00                                -2611.50     left    \n",
       "126  -13438.50                               -10251.00     right   \n",
       "130   44016.25                                -9932.25     left    \n",
       "⋮    ⋮                                     ⋮               ⋮       \n",
       "1584  274600.25                             -18639.75      right   \n",
       "1586  113781.75                              -5617.75      right   \n",
       "1587   21073.00                              -2260.50      right   \n",
       "1595   -8490.75                               -406.75      right   \n",
       "1597  125171.25                             -14068.50      right   \n",
       "1603    3342.75                              -1036.00      right   \n",
       "1604   15167.25                              -2789.00      tie     \n",
       "1615 2074081.25                            -492186.50      left    \n",
       "1619   59000.75                             -49514.50      left    \n",
       "1622  144714.50                             -15338.75      left    \n",
       "1634   20874.25                              -6800.75      left    \n",
       "1642   33788.25                              -3018.75      right   \n",
       "1643   15101.75                              -1218.75      right   \n",
       "1650   35049.00                               -819.25      right   \n",
       "1652   51108.75                              -6241.00      left    \n",
       "1666   13986.25                              -1901.00      left    \n",
       "1669   41608.25                              -9792.00      left    \n",
       "1678   11772.25                              -1079.25      right   \n",
       "1679   25536.00                              -3832.75      left    \n",
       "1685   63118.25                             -24122.00      left    \n",
       "1692  157244.50                             -87870.25      left    \n",
       "1694   17365.00                             -17652.00      right   \n",
       "1699   16103.50                              -3977.00      left    \n",
       "1703   93423.00                             -49769.75      left    \n",
       "1706   10062.00                              -4318.00      right   \n",
       "1707   14379.25                              -2313.00      left    \n",
       "1712    1128.75                              -1063.25      right   \n",
       "1716  -15443.25                              -3491.75      left    \n",
       "1724  266010.50                            -149430.50      left    \n",
       "1736  243807.50                             -10524.00      left    "
      ]
     },
     "metadata": {},
     "output_type": "display_data"
    }
   ],
   "source": [
    "test[,0:11]"
   ]
  },
  {
   "cell_type": "code",
   "execution_count": 292,
   "metadata": {
    "vscode": {
     "languageId": "r"
    }
   },
   "outputs": [
    {
     "data": {
      "text/plain": [
       "Confusion Matrix and Statistics\n",
       "\n",
       "          Reference\n",
       "Prediction left right tie\n",
       "     left   154    22   4\n",
       "     right   23   134   7\n",
       "     tie      3     0   0\n",
       "\n",
       "Overall Statistics\n",
       "                                         \n",
       "               Accuracy : 0.83           \n",
       "                 95% CI : (0.7862, 0.868)\n",
       "    No Information Rate : 0.5187         \n",
       "    P-Value [Acc > NIR] : < 2e-16        \n",
       "                                         \n",
       "                  Kappa : 0.6719         \n",
       "                                         \n",
       " Mcnemar's Test P-Value : 0.06682        \n",
       "\n",
       "Statistics by Class:\n",
       "\n",
       "                     Class: left Class: right Class: tie\n",
       "Sensitivity               0.8556       0.8590   0.000000\n",
       "Specificity               0.8443       0.8429   0.991071\n",
       "Pos Pred Value            0.8556       0.8171   0.000000\n",
       "Neg Pred Value            0.8443       0.8798   0.968023\n",
       "Prevalence                0.5187       0.4496   0.031700\n",
       "Detection Rate            0.4438       0.3862   0.000000\n",
       "Detection Prevalence      0.5187       0.4726   0.008646\n",
       "Balanced Accuracy         0.8499       0.8510   0.495536"
      ]
     },
     "metadata": {},
     "output_type": "display_data"
    }
   ],
   "source": [
    "pred <- predict(svm_fit, new_data = test)\n",
    "pred$.pred_class <- as.factor(pred$.pred_class)\n",
    "\n",
    "(confmat <- confusionMatrix(pred$.pred_class, test$majority))"
   ]
  },
  {
   "cell_type": "code",
   "execution_count": 293,
   "metadata": {
    "vscode": {
     "languageId": "r"
    }
   },
   "outputs": [
    {
     "name": "stderr",
     "output_type": "stream",
     "text": [
      "Warning message in geom_histogram(data = pred, mapping = aes(x = .pred_class, fill = .pred_class), :\n",
      "\"\u001b[1m\u001b[22mIgnoring unknown parameters: `binwidth`, `bins`, and `pad`\"\n"
     ]
    },
    {
     "data": {
      "image/png": "[encoded data removed]",
      "text/plain": [
       "plot without title"
      ]
     },
     "metadata": {
      "image/png": {
       "height": 420,
       "width": 420
      }
     },
     "output_type": "display_data"
    }
   ],
   "source": [
    "ggplot() +\n",
    "  geom_histogram(data = pred, mapping = aes(x = .pred_class, fill=.pred_class), stat=\"count\")\n"
   ]
  },
  {
   "cell_type": "code",
   "execution_count": 294,
   "metadata": {
    "vscode": {
     "languageId": "r"
    }
   },
   "outputs": [
    {
     "name": "stderr",
     "output_type": "stream",
     "text": [
      "Warning message in geom_histogram(data = test, mapping = aes(x = majority, fill = majority), :\n",
      "\"\u001b[1m\u001b[22mIgnoring unknown parameters: `binwidth`, `bins`, and `pad`\"\n"
     ]
    },
    {
     "data": {
      "image/png": "[encoded data removed]",
      "text/plain": [
       "plot without title"
      ]
     },
     "metadata": {
      "image/png": {
       "height": 420,
       "width": 420
      }
     },
     "output_type": "display_data"
    }
   ],
   "source": [
    "ggplot() +\n",
    "  geom_histogram(data = test, mapping = aes(x = majority, fill=majority), stat=\"count\")\n"
   ]
  }
 ],
 "metadata": {
  "kernelspec": {
   "display_name": "R",
   "language": "R",
   "name": "ir"
  },
  "language_info": {
   "codemirror_mode": "r",
   "file_extension": ".r",
   "mimetype": "text/x-r-source",
   "name": "R",
   "pygments_lexer": "r",
   "version": "4.2.2"
  },
  "orig_nbformat": 4
 },
 "nbformat": 4,
 "nbformat_minor": 2
}
